{
 "cells": [
  {
   "cell_type": "markdown",
   "id": "eca7ef9f-327b-41aa-a1cb-c751e40f42d8",
   "metadata": {},
   "source": [
    "# Week 2 Lecture\n",
    "We will review Chapter 3, 4 and 5 in this lecture series.  Last week, we talked about basic Python code.  We will continue in this lecture to add to <br>\n",
    "what we know. Let's first run the code cell below."
   ]
  },
  {
   "cell_type": "code",
   "execution_count": null,
   "id": "d1e6479c-b0fa-4cd1-be3e-823d318ad4a5",
   "metadata": {},
   "outputs": [],
   "source": [
    "from datascience import *\n",
    "import numpy as np\n",
    "%matplotlib inline\n",
    "import matplotlib.pyplot as plots\n",
    "plots.style.use('fivethirtyeight')\n",
    "import warnings\n",
    "warnings.simplefilter(action=\"ignore\", category=FutureWarning)\n",
    "\n",
    "from urllib.request import urlopen \n",
    "import re\n",
    "def read_url(url): \n",
    "    return re.sub('\\\\s+', ' ', urlopen(url).read().decode())"
   ]
  },
  {
   "cell_type": "markdown",
   "id": "abc78164-7b5d-4f15-aceb-0398787b7f16",
   "metadata": {},
   "source": [
    "# Expression\n",
    "We will review expressions from Chapter 3.1\n",
    "\n",
    "| Expression Type | Operator | Example  | Value   |\n",
    "|-----------------|----------|----------|---------|\n",
    "| Addition        | +        | 2 + 3    | 5       |\n",
    "| Subtraction     | -        | 2 - 3    | -1      |\n",
    "| Multiplication  | *        | 2 * 3    | 6       |\n",
    "| Division        | /        | 7/3      | 2.66667 |\n",
    "| Remainder       | %        | 7 % 3    | 1       |\n",
    "| Exponentiation  | **       | 2 ** 0.5 | 1.41421 |\n",
    "\n",
    "## PEMDAS - Order of Operations\n",
    "- Paretheses\n",
    "- Exponents\n",
    "- Multiplication and Division left to right\n",
    "- Addition and Subtraction left to right\n",
    "\n",
    "```\n",
    "1 + 2 * 3 * 4 * 5 / 6 ** 3 + 7 + 8 - 9 + 10\n",
    "1 + 2 * 3 * 4 * 5 / 216 + 7 + 8 - 9 + 10\n",
    "1 + 6 * 4 * 5 / 216 + 7 + 8 - 9 + 10\n",
    "1 + 24 * 5 / 216 + 7 + 8 - 9 + 10\n",
    "1 + 120 / 216 + 7 + 8 - 9 + 10\n",
    "1 + 0.555555555555557 + 7 + 8 - 9 + 10\n",
    "1.555555555555557 + 7 + 8 - 9 + 10\n",
    "8.555555555555557 + 8 - 9 + 10\n",
    "16.555555555555557 - 9 + 10\n",
    "7.555555555555557 + 10\n",
    "17.555555555555557\n",
    "```"
   ]
  },
  {
   "cell_type": "code",
   "execution_count": null,
   "id": "1c6d6b68-3718-4595-a3ad-0cfe6eefb1a0",
   "metadata": {},
   "outputs": [],
   "source": [
    "1 + 2 * 3 * 4 * 5 / 6 ** 3 + 7 + 8 - 9 + 10"
   ]
  },
  {
   "cell_type": "markdown",
   "id": "705677f5-94bd-4fa0-a6da-8f0370e30b4a",
   "metadata": {},
   "source": [
    "# Names\n",
    "Names that hold numeric or text values.  Names must begin with a letter or _ (underscore).  However, in this course, names will start with a letter.  You assign a value or string to a name using the = symbol\n",
    "\n",
    "- quarter = 1/4\n",
    "- half = 2 * quarter\n",
    "- firstName = 'JoEllen'  \n",
    "\n",
    "firstName variable name is called camel because the Name is capitolized.  Using first_name can be another way to write a name.  Each name firstname, firstName, and first_Name are all different variable names.\n",
    "\n",
    "```\n",
    "firstname = 'JoEllen'\n",
    "firstName = 'Amy'\n",
    "first_Name = 'Will'\n",
    "print(firstname)\n",
    "print(firstName)\n",
    "print(first_Name)\n",
    "```\n"
   ]
  },
  {
   "cell_type": "code",
   "execution_count": null,
   "id": "02c6f9df-9359-4047-bcc0-177795715b4e",
   "metadata": {},
   "outputs": [],
   "source": []
  },
  {
   "cell_type": "code",
   "execution_count": null,
   "id": "651a7534-e147-4216-be8f-67b2a04d598c",
   "metadata": {},
   "outputs": [],
   "source": []
  },
  {
   "cell_type": "markdown",
   "id": "85fa72cc-c625-42ed-be40-c6e0f9419d36",
   "metadata": {},
   "source": [
    "# Using variables to do calculations\n",
    "\n",
    "```\n",
    "hours = 40\n",
    "rates = 25.5\n",
    "weeks = hours * rates\n",
    "print(\"She earned $', weeks,\"this week.\")\n",
    "```"
   ]
  },
  {
   "cell_type": "code",
   "execution_count": null,
   "id": "05859a5c-f380-43a7-ae70-2e0b888f36eb",
   "metadata": {},
   "outputs": [],
   "source": []
  },
  {
   "cell_type": "markdown",
   "id": "da2da852-d659-4cbf-90c5-43f9cfc68dd7",
   "metadata": {},
   "source": [
    "# Growth Rates\n",
    "Growth_rate = (changed - initial)/initial another way to define the growth rate<br>\n",
    "Growth_rate = (changed/initial) - 1\n",
    "\n"
   ]
  },
  {
   "cell_type": "code",
   "execution_count": null,
   "id": "df100797-8c62-4426-8714-45a34db5f6a7",
   "metadata": {},
   "outputs": [],
   "source": [
    "changed = 130312\n",
    "initial = 80000\n",
    "Growth_rate = (changed - initial)/initial\n"
   ]
  },
  {
   "cell_type": "code",
   "execution_count": null,
   "id": "a6a667cf-18fd-440e-bdf3-a5ab69f32e29",
   "metadata": {},
   "outputs": [],
   "source": []
  },
  {
   "cell_type": "code",
   "execution_count": null,
   "id": "34a0e0c3-6ce9-4140-b254-aabefa78519c",
   "metadata": {},
   "outputs": [],
   "source": []
  },
  {
   "cell_type": "markdown",
   "id": "71211fd2-7916-4011-9b92-11de6c81f7d2",
   "metadata": {},
   "source": [
    "# Growth Rate give constant growth rate\n",
    "```\n",
    "annual_growth_rate = 0.05\n",
    "ten_year_growth_rate = (1 + annual_growth_rate)**10 - 1\n",
    "print(\"Ten year rate = \", ten_year_growth_rate)\n",
    "print(\"Ten year growth rate\", GrowthRate)\n",
    "```\n",
    "Like wise if I look at an initial amount and then the changed amount you can figure out the annual growth rate by knowing the number of years in between.\n",
    "```\n",
    "initial = 80000\n",
    "changed = 130312\n",
    "n = 10\n",
    "annual_Growth_Rate = (changed/initial)**(1/n) - 1\n",
    "annual_Growth_rate\n",
    "```"
   ]
  },
  {
   "cell_type": "code",
   "execution_count": null,
   "id": "d49dca8d-aa8a-4feb-8cff-9737dfa4f77d",
   "metadata": {},
   "outputs": [],
   "source": []
  },
  {
   "cell_type": "markdown",
   "id": "f08c5181-e12b-40da-9138-3fc093f88120",
   "metadata": {},
   "source": [
    "# Call Expressions\n",
    "Call expressions invoke functions<br>\n",
    "[List of Python functions](https://docs.python.org/3/library/functions.html)\n",
    "There are functions that are not defaults but belong to other libraries.  To access those functions use the code below.\n",
    "```\n",
    "import math\n",
    "import operator\n",
    "math.sqrt(operator.add(4, 5))\n",
    "```"
   ]
  },
  {
   "cell_type": "code",
   "execution_count": null,
   "id": "5b9453a5-e78b-4662-b91c-768e5442bae6",
   "metadata": {},
   "outputs": [],
   "source": []
  },
  {
   "cell_type": "markdown",
   "id": "fdfd5517-1af6-4087-a072-21a91f088d08",
   "metadata": {},
   "source": [
    "# Help function\n",
    "To get information on a function.\n",
    "```\n",
    "math.log?\n",
    "\n",
    "max?\n",
    "```\n"
   ]
  },
  {
   "cell_type": "code",
   "execution_count": null,
   "id": "457e00be-f4df-4d3e-aaa8-c79bfa906660",
   "metadata": {},
   "outputs": [],
   "source": []
  },
  {
   "cell_type": "code",
   "execution_count": null,
   "id": "8df2e9ef-b956-4381-9e84-80038cd026ff",
   "metadata": {},
   "outputs": [],
   "source": []
  },
  {
   "cell_type": "markdown",
   "id": "c9f68310-ea0e-4046-895b-5131fe3a8597",
   "metadata": {},
   "source": [
    "# Tables\n",
    "Tables is like a spreadsheet of data with each column having a name and data in each column.  The data can be numeric or string (Text).<br>\n",
    "Below I am creating a table with three columns Flavor, Color, and Price.  You will learn the code later in the course."
   ]
  },
  {
   "cell_type": "code",
   "execution_count": null,
   "id": "3a2896dc-8819-41e0-a243-9c587353f8d1",
   "metadata": {},
   "outputs": [],
   "source": [
    "# Introduction to Tables\n",
    "cones = Table().with_columns(\n",
    "                       'Flavor', make_array('strawberry', 'chocolate', 'chocolate', 'strawberry', 'chocolate', 'bubblegum'),\n",
    "                        'Color', make_array('pink', 'light brown', 'dark brown', 'pink', 'dark brown', 'pink'),\n",
    "                        'Price', make_array(3.55, 4.75, 5.25, 5.25, 5.25, 4.75)\n",
    ")\n"
   ]
  },
  {
   "cell_type": "code",
   "execution_count": null,
   "id": "42d65e6b-6106-4794-a6b3-74a2a03a062d",
   "metadata": {},
   "outputs": [],
   "source": [
    "# Display the table by entering the table name\n"
   ]
  },
  {
   "cell_type": "markdown",
   "id": "778851d5-1905-45b7-8791-78352d4ce90d",
   "metadata": {},
   "source": [
    "# Methods\n",
    "\n",
    "table_name.method(arguments)<br>\n",
    "\n",
    "the show method will show the first n rows of the table\n",
    "```\n",
    "table_name.show(n)\n",
    "```\n",
    "In the cell below show 2 records of the cones table.<br>\n",
    "[Table methods](https://www.data8.org/datascience/reference-nb/datascience-reference.html)"
   ]
  },
  {
   "cell_type": "code",
   "execution_count": null,
   "id": "0f574534-5637-4ad8-a804-192516a2959c",
   "metadata": {},
   "outputs": [],
   "source": []
  },
  {
   "cell_type": "code",
   "execution_count": null,
   "id": "70ac5849-02bb-45a7-be08-2d99618f8730",
   "metadata": {},
   "outputs": [],
   "source": []
  },
  {
   "cell_type": "code",
   "execution_count": null,
   "id": "7188b16b-b496-46c6-b927-4d60a2e09f42",
   "metadata": {},
   "outputs": [],
   "source": []
  },
  {
   "cell_type": "markdown",
   "id": "22f8c961-b4c9-4ab8-895d-ca3ad2febbc7",
   "metadata": {},
   "source": [
    "# Selecting columns in Table\n",
    "When you use the select method with the table name you create a subset of the table with the columns you selected.  The original table is not affected.<br><br>\n",
    "\n",
    "table_name.select('column name')<br>\n",
    "table_name.select('column_name_1', 'column_name_2')"
   ]
  },
  {
   "cell_type": "code",
   "execution_count": null,
   "id": "725bd70e-3f60-4493-bacc-969c2fc32880",
   "metadata": {},
   "outputs": [],
   "source": []
  },
  {
   "cell_type": "code",
   "execution_count": null,
   "id": "21bfef0a-f7fd-47a4-8149-293eaa95e9f8",
   "metadata": {},
   "outputs": [],
   "source": []
  },
  {
   "cell_type": "code",
   "execution_count": null,
   "id": "e4fb1728-9376-469d-bc3b-b7bd1c0d7ee2",
   "metadata": {},
   "outputs": [],
   "source": []
  },
  {
   "cell_type": "code",
   "execution_count": null,
   "id": "e5ab0e01-392a-41f1-9172-8e18437eb46d",
   "metadata": {},
   "outputs": [],
   "source": []
  },
  {
   "cell_type": "markdown",
   "id": "67b295a1-09ec-4b6b-b58c-96980782bebd",
   "metadata": {},
   "source": [
    "# Drop a column\n",
    "Sometimes you may want to a table without one of the columns.  In that case, you would use the drop method.  The original table is not affected.<br>\n",
    "```\n",
    "tablename.drop('column_name')\n",
    "```\n",
    "The resulting table does not change the original table."
   ]
  },
  {
   "cell_type": "code",
   "execution_count": null,
   "id": "c9f41173-8159-4697-9902-4f99b03055c4",
   "metadata": {},
   "outputs": [],
   "source": []
  },
  {
   "cell_type": "code",
   "execution_count": null,
   "id": "b9be6a99-5e18-48b1-9634-fff9117f4d50",
   "metadata": {},
   "outputs": [],
   "source": []
  },
  {
   "cell_type": "code",
   "execution_count": null,
   "id": "c4009bb7-a8e3-40a5-84eb-543e442d37f6",
   "metadata": {},
   "outputs": [],
   "source": [
    "\n"
   ]
  },
  {
   "cell_type": "code",
   "execution_count": null,
   "id": "8a740ab3-ed3a-4fdf-ad5c-fd995dc7f52a",
   "metadata": {},
   "outputs": [],
   "source": []
  },
  {
   "cell_type": "code",
   "execution_count": null,
   "id": "a8aa8e55-ee92-4808-bb38-d3b63dba3d09",
   "metadata": {},
   "outputs": [],
   "source": []
  },
  {
   "cell_type": "code",
   "execution_count": null,
   "id": "6942c870-48d3-4636-ae0b-934423f2e099",
   "metadata": {},
   "outputs": [],
   "source": []
  },
  {
   "cell_type": "markdown",
   "id": "79f7d841-8363-4166-b333-3de60c610df9",
   "metadata": {},
   "source": [
    "# Sorting Rows\n",
    "Sorts the table based on the rows in a column.\n",
    "```\n",
    "table_name.sort('column_name')  # smallest to largest\n",
    "table_name.sort('column_name', descending = True)\n",
    "```\n",
    "Sort the cones table by Price"
   ]
  },
  {
   "cell_type": "code",
   "execution_count": null,
   "id": "ef10fe57-5dc6-4086-bb7b-1986e086ce4a",
   "metadata": {},
   "outputs": [],
   "source": []
  },
  {
   "cell_type": "code",
   "execution_count": null,
   "id": "01e9c3a3-493f-43e7-8228-72833fccd5b3",
   "metadata": {},
   "outputs": [],
   "source": []
  },
  {
   "cell_type": "markdown",
   "id": "a02479d5-b403-4c6e-b0d1-3615bfbf98b4",
   "metadata": {},
   "source": [
    "# Selecting Rows that satisfy Conditions\n",
    "```\n",
    "table_name.where('columnName', 'value')\n",
    "```\n",
    "Select chocolate records for the table cones.  Make sure the value is listed in the table.  Otherwise, it will not show anything.\n"
   ]
  },
  {
   "cell_type": "code",
   "execution_count": null,
   "id": "5164614f-1a9a-4005-8cc2-a3e8abf67bdc",
   "metadata": {},
   "outputs": [],
   "source": []
  },
  {
   "cell_type": "code",
   "execution_count": null,
   "id": "a02ffb91-e7b2-44b5-9c0a-73839aff2f13",
   "metadata": {},
   "outputs": [],
   "source": []
  },
  {
   "cell_type": "code",
   "execution_count": null,
   "id": "026ad9a7-9535-42e4-a26e-3b6ecaabde0c",
   "metadata": {},
   "outputs": [],
   "source": []
  },
  {
   "cell_type": "code",
   "execution_count": null,
   "id": "ba57182b-e124-4553-ad77-c2576cf24ec6",
   "metadata": {},
   "outputs": [],
   "source": []
  },
  {
   "cell_type": "code",
   "execution_count": null,
   "id": "bb671bf4-1d41-4ae8-9678-3a169f5287a8",
   "metadata": {},
   "outputs": [],
   "source": []
  },
  {
   "cell_type": "code",
   "execution_count": null,
   "id": "ade99a85-fae3-4482-b382-03acfd960200",
   "metadata": {},
   "outputs": [],
   "source": []
  },
  {
   "cell_type": "markdown",
   "id": "530f2edb-6e6c-48cb-b26d-729f5079b0a8",
   "metadata": {},
   "source": [
    "# Relabel a column\n",
    "Sometimes we need to relabel a column we can use the following code to relabel the column\n",
    "```\n",
    "table_name.relabel('old column name', 'new column name')\n",
    "```"
   ]
  },
  {
   "cell_type": "markdown",
   "id": "0c6371b8-0cc2-4eeb-b5b0-94b200785fdf",
   "metadata": {},
   "source": [
    "# Sorting dolumns\n",
    "\n",
    "```\n",
    "table_name.sort('column name', descending = True)\n",
    "```"
   ]
  },
  {
   "cell_type": "code",
   "execution_count": null,
   "id": "6cc1c004-90e5-4220-bc4e-c7f296e92603",
   "metadata": {},
   "outputs": [],
   "source": [
    "warriors.sort('SALARY', descending=True)"
   ]
  },
  {
   "cell_type": "code",
   "execution_count": null,
   "id": "4d53527e-5f0e-43e6-8819-20759664735e",
   "metadata": {},
   "outputs": [],
   "source": []
  },
  {
   "cell_type": "code",
   "execution_count": null,
   "id": "2e5a113b-fc15-43b5-ad43-c3f862fd3003",
   "metadata": {},
   "outputs": [],
   "source": []
  },
  {
   "cell_type": "markdown",
   "id": "15e38c96-8c09-411b-9afa-125e6b8c407b",
   "metadata": {},
   "source": [
    "# Data Types\n",
    "There are a number of different data types when storing data.  For example, string, numbers(float and integer), and DateTime.<br>\n",
    "To find the data type, you can use the function type(abs).<br>\n",
    "\n",
    "## Integers - int - negative and positive whole numbers.\n",
    "\n",
    "h = 2<br>\n",
    "t = -1<br>\n",
    "3 ** 2034  <br>\n",
    "\n",
    "## Real- float - All numbers, integers, and values between two integers.\n",
    "\n",
    "y = 2.5<br>\n",
    "w = 1.33333333333333333<br>\n",
    "z = 10/6\n",
    "\n",
    "## String - Text\n",
    "name = \"JoEllen Green\"\n",
    "statement = \"My class's name is Introduction to Data Science\"\n",
    "\n",
    "\n",
    "## Data Type function\n",
    "\n",
    "type(h)<br>\n",
    "type(t)<br>\n",
    "type(y)<br>\n",
    "type(w)<br>\n",
    "type(z)<br>\n",
    "type(name)<br>\n",
    "type(statement)<br>\n",
    "\n",
    "In the code cell below, create the variable names above.  Then, create five code cells and enter the type functions above to determine each variable's data type.\n"
   ]
  },
  {
   "cell_type": "code",
   "execution_count": null,
   "id": "98a76fbe-d56f-4b11-be87-be54ab1191fc",
   "metadata": {},
   "outputs": [],
   "source": []
  },
  {
   "cell_type": "code",
   "execution_count": null,
   "id": "24f1ce16-9ff8-4262-a95b-5e9926190f51",
   "metadata": {},
   "outputs": [],
   "source": []
  },
  {
   "cell_type": "code",
   "execution_count": null,
   "id": "86659499-e712-4c12-a373-b10cdbebe22d",
   "metadata": {},
   "outputs": [],
   "source": []
  },
  {
   "cell_type": "code",
   "execution_count": null,
   "id": "6ef3b983-b410-4d5a-887e-1a8e4e04f8ae",
   "metadata": {},
   "outputs": [],
   "source": []
  },
  {
   "cell_type": "markdown",
   "id": "b09a7777-f4b7-48c0-8288-54c3823b2d72",
   "metadata": {},
   "source": [
    "# Float Values\n",
    "- Extremely Large or Extremely small numbers.\n",
    "- 15 or 16 significant digits.\n",
    "- When performing arithmetic the last few digits may be incorrect."
   ]
  },
  {
   "cell_type": "code",
   "execution_count": null,
   "id": "1153dc25-53e0-4104-bf6c-6150311fb716",
   "metadata": {},
   "outputs": [],
   "source": []
  },
  {
   "cell_type": "code",
   "execution_count": null,
   "id": "8b34303a-077e-4f11-b38f-5f660c25eec2",
   "metadata": {},
   "outputs": [],
   "source": []
  },
  {
   "cell_type": "code",
   "execution_count": null,
   "id": "307b6e9b-85fb-4645-8326-34ac728d1051",
   "metadata": {},
   "outputs": [],
   "source": []
  },
  {
   "cell_type": "code",
   "execution_count": null,
   "id": "6acff9f6-e85a-40a3-862b-8c1c7f66ecef",
   "metadata": {},
   "outputs": [],
   "source": [
    "1/23456789012345"
   ]
  },
  {
   "cell_type": "code",
   "execution_count": null,
   "id": "c637f4bb-99f3-44b2-933c-2acd9c4dc841",
   "metadata": {},
   "outputs": [],
   "source": []
  },
  {
   "cell_type": "code",
   "execution_count": null,
   "id": "68740897-8eb0-4716-b8b2-cb2229f48524",
   "metadata": {},
   "outputs": [],
   "source": []
  },
  {
   "cell_type": "code",
   "execution_count": null,
   "id": "b403c7fe-3d27-46c6-9076-6b76eeef1c3a",
   "metadata": {},
   "outputs": [],
   "source": []
  },
  {
   "cell_type": "code",
   "execution_count": null,
   "id": "58b4424f-ba32-466f-90da-af6a9f2f45f4",
   "metadata": {},
   "outputs": [],
   "source": []
  },
  {
   "cell_type": "code",
   "execution_count": null,
   "id": "2ea37196-9af1-49a0-b6a3-aff0b9ba7ed8",
   "metadata": {},
   "outputs": [],
   "source": []
  },
  {
   "cell_type": "markdown",
   "id": "eeefb38e-c36c-47b3-b05f-0f5d1ab3d6e6",
   "metadata": {},
   "source": [
    "# Strings variables \n",
    "String variables are alphanumeric and special characteristic values.<br>\n",
    "You can use the + symbol to combine string values or variables.<br>\n",
    "\n",
    "\"data\" + \"science\"<br>\n",
    "Answer: 'datascience'<br><br>\n",
    "'data' + \" \" + 'science'<br>\n",
    "Answer: 'data science'<br>\n",
    "\n",
    "## Changing number to string\n",
    "\"That's \"+ str(1 + 1) +\" ' + str(True)<br>\n",
    "Answer: \"That's 2 True\"<br><br>\n",
    "\n",
    "In the code cells below, enter the string statement above and verify the answers.\n"
   ]
  },
  {
   "cell_type": "code",
   "execution_count": null,
   "id": "0425e737-2a93-4393-ad30-b45a13fb978b",
   "metadata": {},
   "outputs": [],
   "source": [
    "\"data\" + \"science\""
   ]
  },
  {
   "cell_type": "code",
   "execution_count": null,
   "id": "6d4e024c-7386-4a62-a583-2dffbfef7987",
   "metadata": {},
   "outputs": [],
   "source": [
    "'data' + \" \" + \"science\""
   ]
  },
  {
   "cell_type": "markdown",
   "id": "6a8d917a-7dea-493e-b942-90d759a19acd",
   "metadata": {},
   "source": [
    "# String Methods\n",
    "There are methods that strings can use to make changes to it.  For example, uppercase, lowercase, and replace<br>\n",
    "__[String Methods](https://www.w3schools.com/python/python_ref_string.asp)__\n",
    "<br><br>\n",
    "\"load\".upper()  # makes the string uppercase<br>\n",
    "\"hitchhiker\".replace(\"hi\", \"ma\") # replace hi with ma so the result will be matchhiker<br>\n",
    "s = 'train'<br>\n",
    "t = s.replace('t', 'ing')<br>\n",
    "u = t.replace('in', 'de')<br>\n",
    "u<br>\n",
    "Answer: 'degrade'<br>\n",
    "<br>\n",
    "In the code cell, s = 'train', then replace 'ain' with 'ought'.  Display the answer.<br>"
   ]
  },
  {
   "cell_type": "code",
   "execution_count": null,
   "id": "84742910-bd29-4f9b-9ea7-f66ec216ac61",
   "metadata": {},
   "outputs": [],
   "source": []
  },
  {
   "cell_type": "code",
   "execution_count": null,
   "id": "d2b69fcf-64ee-40ad-8d94-4d20e04badf6",
   "metadata": {},
   "outputs": [],
   "source": []
  },
  {
   "cell_type": "code",
   "execution_count": null,
   "id": "27ffb72c-fd62-4d81-a898-780712e78ef4",
   "metadata": {},
   "outputs": [],
   "source": []
  },
  {
   "cell_type": "code",
   "execution_count": null,
   "id": "d4fbde69-af8f-4754-a37a-d3f46a858086",
   "metadata": {},
   "outputs": [],
   "source": []
  },
  {
   "cell_type": "markdown",
   "id": "cb35938c-331c-43d8-a4f6-a446f62d5adb",
   "metadata": {},
   "source": [
    "# Comparisons\n",
    "Logical comparison results are either True or False.\n",
    "\n",
    "| **Comparison**     | **Operator** | **True Example** | **False Example** |\n",
    "|--------------------|--------------|------------------|-------------------|\n",
    "| Less than           | <            | 2 < 3            | 2 < 2             |\n",
    "| Greater than       | >            | 3 > 2            | 3 > 3             |\n",
    "| Less than or equal | <=           | 2 <= 2           | 3 <= 2            |\n",
    "| Greater or equal   | >=           | 3 >= 3           | 2 >= 3            |\n",
    "| Equal              | ==           | 3 == 3           | 3 == 2            |\n",
    "| Not equal          | !=           | 3 != 2           | 2 != 2            |"
   ]
  },
  {
   "cell_type": "code",
   "execution_count": null,
   "id": "fda5613b-97ee-47cb-aee0-fd8cd0e8aaed",
   "metadata": {},
   "outputs": [],
   "source": []
  },
  {
   "cell_type": "markdown",
   "id": "93fbb9bb-19ea-41b9-b405-9157638f54bb",
   "metadata": {},
   "source": [
    "# Multiple comparisons\n",
    "\n",
    "1 < 1 + 1 < 3"
   ]
  },
  {
   "cell_type": "code",
   "execution_count": null,
   "id": "e3662df0-cc0f-473b-b843-42e50255dc48",
   "metadata": {},
   "outputs": [],
   "source": []
  },
  {
   "cell_type": "code",
   "execution_count": null,
   "id": "2cf702f9-7830-4ead-b7e7-224adba86220",
   "metadata": {},
   "outputs": [],
   "source": [
    "x = 12\n",
    "y = 5 \n",
    "min(x, y) <= (x + y)/2 <= max(x, y)"
   ]
  },
  {
   "cell_type": "code",
   "execution_count": null,
   "id": "6716fa34-64bc-476b-9269-2a5806a90696",
   "metadata": {},
   "outputs": [],
   "source": []
  },
  {
   "cell_type": "code",
   "execution_count": null,
   "id": "e0ef58df-6260-49b6-b0de-baa19c9a8c3f",
   "metadata": {},
   "outputs": [],
   "source": []
  },
  {
   "cell_type": "markdown",
   "id": "bc367a52-96e7-416b-bca6-9089483f145c",
   "metadata": {},
   "source": [
    "# you can compare strings\n",
    "\"Dog\" > \"Catashtrope\" > \"Cat\""
   ]
  },
  {
   "cell_type": "code",
   "execution_count": null,
   "id": "95dfc3da-4f02-4919-aea0-0966a863418a",
   "metadata": {},
   "outputs": [],
   "source": []
  },
  {
   "cell_type": "code",
   "execution_count": null,
   "id": "c4eb1e62-300a-449c-ae0e-cdd5231433d6",
   "metadata": {},
   "outputs": [],
   "source": []
  },
  {
   "cell_type": "code",
   "execution_count": null,
   "id": "58f858a7-4e88-4cb9-8423-0b2f104137f0",
   "metadata": {},
   "outputs": [],
   "source": []
  },
  {
   "cell_type": "code",
   "execution_count": null,
   "id": "621b2e16-9c11-44d2-81df-4f9e21b240db",
   "metadata": {},
   "outputs": [],
   "source": []
  },
  {
   "cell_type": "code",
   "execution_count": null,
   "id": "bca20ce9-771f-48e7-91a7-26819bddda7d",
   "metadata": {},
   "outputs": [],
   "source": []
  }
 ],
 "metadata": {
  "kernelspec": {
   "display_name": "Python 3 (ipykernel)",
   "language": "python",
   "name": "python3"
  },
  "language_info": {
   "codemirror_mode": {
    "name": "ipython",
    "version": 3
   },
   "file_extension": ".py",
   "mimetype": "text/x-python",
   "name": "python",
   "nbconvert_exporter": "python",
   "pygments_lexer": "ipython3",
   "version": "3.11.13"
  }
 },
 "nbformat": 4,
 "nbformat_minor": 5
}
