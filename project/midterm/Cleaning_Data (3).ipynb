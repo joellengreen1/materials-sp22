{
 "cells": [
  {
   "cell_type": "markdown",
   "id": "8723fb62",
   "metadata": {},
   "source": [
    "# Cleaning Data - Midterm\n",
    "## The Midterm is due by midnight on 10/16/2023.  The python skills you learned you can use to clean a dataset.  If you get a job in Data science you will need to clean the data.  If you have any questions, please email me through Canvas or joellen.green@fresnocitycollege.edu. "
   ]
  },
  {
   "cell_type": "markdown",
   "id": "ce1914dd",
   "metadata": {},
   "source": [
    "### One the basic data science tasks is cleaning data.  In this assignment you will learn to clean a data set.  This is the midterm for the DS 10 Introduction to Data Science course.\n"
   ]
  },
  {
   "cell_type": "markdown",
   "id": "0fb2fe28",
   "metadata": {},
   "source": [
    "You will use the chronic kidney disease dataset from the University of California, Irvine data science repositary. You will run the code cell below to use the Table functions to help you out."
   ]
  },
  {
   "cell_type": "code",
   "execution_count": null,
   "id": "b40a84b1",
   "metadata": {},
   "outputs": [],
   "source": [
    "import numpy as np\n",
    "from datascience import *\n",
    "\n",
    "# These lines set up graphing capabilities.\n",
    "import matplotlib\n",
    "%matplotlib inline\n",
    "import matplotlib.pyplot as plt\n",
    "plt.style.use('fivethirtyeight')\n",
    "import pandas as pd"
   ]
  },
  {
   "cell_type": "markdown",
   "id": "d8e598d9",
   "metadata": {},
   "source": [
    "## In this assignment you will clean a dataset using the Python tools learn thus far.\n",
    "<br>\n",
    "Attribute Information:<br>\n",
    "We use the following representation to collect the dataset<br>\n",
    "- age - age in years (numerical)<br>\n",
    "- bp - blood pressure in mm/Hg (numerical)<br>\n",
    "- sg - specific gravity sg (1.005, 1.010, 1.020, 1.025) (nominal)<br>\n",
    "- al - albumin (0, 1, 2, 3, 4, 5) (ordinal)<br>\n",
    "- su - sugar (0, 1, 2, 3, 4, 5) (ordinal)<br>\n",
    "- rbc - red blood cells (normal, abnormal)(nominal)<br>\n",
    "- pc - pus cell (normal, abnormal) (nominal)<br>\n",
    "- pcc - pus cell clumps (present, notpresent) (nominal)<br>\n",
    "- ba - bacteria (present, notpresent) (nominal)<br>\n",
    "- bgr - blood glucose random mgs/dl (numerical)<br>\n",
    "- bu - blood urea mgs/dl (numerical)<br>\n",
    "- sc - serum creatinine mgs/dl (numerical)<br>\n",
    "- sod - sodium mEq/L (numerical)<br>\n",
    "- pot - potassium mEq/L (numerical)<br>\n",
    "- hemo - hemoglobin gms (numerical)<br>\n",
    "- pcv - packed cell volume (numerical)<br>\n",
    "- wc - white blood cell count (cells/cumm) (numerical)<br>\n",
    "- rc - red blood cell count millions/cmm (numerical)<br>\n",
    "- htn - hypertension (yes, no) (nominal)<br>\n",
    "- dm - diabetes mellitus (yes, no) (nominal)<br>\n",
    "- cad - coronary artery disease (yes, no) (nominal)<br>\n",
    "- appet - appetite (good, poor) (nominal)<br>\n",
    "- pe - pedal edema (yes, no) (nominal)<br>\n",
    "- ane - anemia (yes, no) (nominal)<br>\n",
    "- classification - class (ckd, notckd) (nominal)<br>\n",
    "<br>\n",
    "**Knowing the data types is very important**<br>\n",
    "- (nominal) - label with no numerical order<br>\n",
    "- (ordinal) - label with numberical order<br>\n",
    "- (interval) - numerical with no real 0 (0 means nothing)<br>\n",
    "- (ratio) - numerical with a real 0 (0 means nothing)<br>"
   ]
  },
  {
   "cell_type": "code",
   "execution_count": null,
   "id": "a79ab2a8",
   "metadata": {},
   "outputs": [],
   "source": [
    "filename = 'kidney_disease.csv'\n",
    "kidney_disease = Table.read_table(filename)\n",
    "kidney_disease"
   ]
  },
  {
   "cell_type": "markdown",
   "id": "41743e8b",
   "metadata": {},
   "source": [
    "# Change the labels to the full name<br>"
   ]
  },
  {
   "cell_type": "code",
   "execution_count": null,
   "id": "0df5629e",
   "metadata": {},
   "outputs": [],
   "source": [
    "kidney_diseae = kidney_disease.relabel(make_array(\"'age'\", \"'bp'\", \"'sg'\", \"'class'\"),\n",
    "  make_array(\"age\", \"blood pressure\", \"specific gravity\", \"class\"))\n",
    "kidney_disease"
   ]
  },
  {
   "cell_type": "markdown",
   "id": "9d0e12aa",
   "metadata": {},
   "source": [
    "# Question 1: Create an array called old_names of variables names\n",
    "from al to ane.  Then created an array called new_names.  Finally use the relabel \n",
    "method to change the variable names.\n",
    "\n"
   ]
  },
  {
   "cell_type": "code",
   "execution_count": null,
   "id": "09063e18",
   "metadata": {},
   "outputs": [],
   "source": [
    "old_names =...\n",
    "new_names = ....\n",
    "kidney_disease = ....\n",
    "kidney_disease"
   ]
  },
  {
   "cell_type": "markdown",
   "id": "12578203",
   "metadata": {},
   "source": [
    "### To get additional information about the data we will convert the data to a Pandas dataframe show the first 50 records"
   ]
  },
  {
   "cell_type": "code",
   "execution_count": null,
   "id": "cef5a484",
   "metadata": {},
   "outputs": [],
   "source": [
    "chronic_kidney_disease = kidney_disease.to_df()  # pandas dataframe\n",
    "chronic_kidney_disease[0:50]                     # show 50 lines of data"
   ]
  },
  {
   "cell_type": "markdown",
   "id": "5b77271a",
   "metadata": {},
   "source": [
    "# Question 2: Create an array of ordinal and nominal field\n",
    "see the list above"
   ]
  },
  {
   "cell_type": "code",
   "execution_count": null,
   "id": "729d5f0d",
   "metadata": {},
   "outputs": [],
   "source": [
    "string_names = ...."
   ]
  },
  {
   "cell_type": "markdown",
   "id": "40a0eaa5",
   "metadata": {},
   "source": [
    "# Question 3: Create an array of numeric values that are integers\n",
    "see the list above"
   ]
  },
  {
   "cell_type": "code",
   "execution_count": null,
   "id": "e6e24eef",
   "metadata": {},
   "outputs": [],
   "source": [
    "integer_names = ...."
   ]
  },
  {
   "cell_type": "markdown",
   "id": "7b36e15a",
   "metadata": {},
   "source": [
    "# Question 4: Create an array of numeric values that are decimal\n",
    "see the list above"
   ]
  },
  {
   "cell_type": "code",
   "execution_count": null,
   "id": "2f7b7f08",
   "metadata": {},
   "outputs": [],
   "source": [
    "float_names = ..."
   ]
  },
  {
   "cell_type": "markdown",
   "id": "d9a7b410",
   "metadata": {},
   "source": [
    "# Make sure your arrays do not overlap \n",
    "## meaning the field name is in more than one array"
   ]
  },
  {
   "cell_type": "markdown",
   "id": "add18188",
   "metadata": {},
   "source": [
    "# Note the data types are not as indicated in the table above\n",
    "*Knowing the data types is very important**\n",
    "- (nominal) - label with no numerical order\n",
    "- (ordinal) - label with numberical order\n",
    "- (interval) - numerical with no real 0 (0 means nothing)\n",
    "- (ratio) - numerical with a real 0 (0 means nothing)\n",
    "\n",
    "We need to make sure the datatype is string, integer, or float\n",
    "\n",
    "\n"
   ]
  },
  {
   "cell_type": "code",
   "execution_count": null,
   "id": "a33f4c01",
   "metadata": {},
   "outputs": [],
   "source": [
    "def changen_tofloat(array_data, df):\n",
    "    for x in array_data:\n",
    "        y = df[x]    \n",
    "        u = []\n",
    "        for i in range(0, len(y)):\n",
    "            z = y[i]    \n",
    "            if z != '?':\n",
    "                w = float(z)\n",
    "                u.append(w)\n",
    "            else:\n",
    "                u.append(np.nan)\n",
    "        df[x] = u\n",
    "        \n",
    "\n",
    "        "
   ]
  },
  {
   "cell_type": "markdown",
   "id": "80ff2c74",
   "metadata": {},
   "source": [
    "# Question 5: Call the changen_tofloat function for the float_names\n",
    "display the first 40 values"
   ]
  },
  {
   "cell_type": "code",
   "execution_count": null,
   "id": "c02dd807",
   "metadata": {},
   "outputs": [],
   "source": []
  },
  {
   "cell_type": "markdown",
   "id": "c576cea9",
   "metadata": {},
   "source": [
    "# Changen_toint function to change string to integer"
   ]
  },
  {
   "cell_type": "code",
   "execution_count": null,
   "id": "fe38eb95",
   "metadata": {},
   "outputs": [],
   "source": [
    "# Make sure you run this function only once otherwise; an error will occur\n",
    "def changen_toint(array_data, df):\n",
    "    for x in array_data:\n",
    "        y = df[x]    \n",
    "        u = []        \n",
    "        for i in range(0, len(y)):\n",
    "            z = y[i] \n",
    "            \n",
    "            if z != '?':\n",
    "                if z.find('.') == -1:\n",
    "                    w = int(z)              \n",
    "                    u.append(w)\n",
    "                else:\n",
    "                    u.append(pd.NA)\n",
    "            else:\n",
    "                    u.append(pd.NA)\n",
    "                \n",
    "           \n",
    "        df[x] = u"
   ]
  },
  {
   "cell_type": "markdown",
   "id": "e9035295",
   "metadata": {},
   "source": [
    "## Question 6: Call the changen_toint function to change string to integers and \n",
    "display first 40 values"
   ]
  },
  {
   "cell_type": "code",
   "execution_count": null,
   "id": "eb5daa37",
   "metadata": {},
   "outputs": [],
   "source": []
  },
  {
   "cell_type": "markdown",
   "id": "aa31bb42",
   "metadata": {},
   "source": [
    "# Function to change object to strings and put np.nan for missing values"
   ]
  },
  {
   "cell_type": "code",
   "execution_count": null,
   "id": "9eb2766a",
   "metadata": {},
   "outputs": [],
   "source": [
    "def changen_tostring(array_data, df):\n",
    "    for x in array_data:\n",
    "        y = df[x] \n",
    "        \n",
    "        u = []\n",
    "        for i in range(0, len(y)):\n",
    "            z = y[i] \n",
    "            \n",
    "            if z != '?':\n",
    "                w = str(z)\n",
    "                u.append(z)\n",
    "            else:\n",
    "                u.append(np.nan)\n",
    "        df[x] = u"
   ]
  },
  {
   "cell_type": "markdown",
   "id": "d4ce168a",
   "metadata": {},
   "source": [
    "# Question 7: Call the changen_tostring function and \n",
    "display the first 40 values"
   ]
  },
  {
   "cell_type": "code",
   "execution_count": null,
   "id": "460ed350",
   "metadata": {},
   "outputs": [],
   "source": []
  },
  {
   "cell_type": "markdown",
   "id": "89c6e592",
   "metadata": {},
   "source": [
    "## the info method gives you information about the dataset\n",
    "- There are missing values nan indicates a missing value\n",
    "- Also notice the type of data that python has set each variables\n",
    "- Age has 400 - 391 = 9 missing values\n",
    "- blood_pressure has 400 - 388 = 12 missing values\n",
    "- specific_gravity has 400 - 353 = 47 missing values\n"
   ]
  },
  {
   "cell_type": "code",
   "execution_count": null,
   "id": "06a42b34",
   "metadata": {},
   "outputs": [],
   "source": [
    "chronic_kidney_disease.info()"
   ]
  },
  {
   "cell_type": "markdown",
   "id": "72afe812",
   "metadata": {},
   "source": [
    "# Question 8: Determine the missing values for each variable based on the values above. Create an array called no_of_missing_values and list the number of missing values starting from variable age to anemia."
   ]
  },
  {
   "cell_type": "code",
   "execution_count": null,
   "id": "e7500311",
   "metadata": {},
   "outputs": [],
   "source": [
    "no_of_missing_values = ...."
   ]
  },
  {
   "cell_type": "markdown",
   "id": "f9fa907e",
   "metadata": {},
   "source": [
    "# Extra Credit write a function to compute the missing values using the kidney_disease table\n",
    "Print out the table at the end of the function computation"
   ]
  },
  {
   "cell_type": "code",
   "execution_count": null,
   "id": "4ccd1072",
   "metadata": {},
   "outputs": [],
   "source": [
    "all_names = make_array(\"age\", \"blood pressure\", \"specific gravity\",\"albumin\", \"sugar\", \"red blood cells\", \"pus cell\", \"pus cell clumps\", \"bacteria\", \n",
    "                       \"blood glucose random\", \"blood urea\", \"serum creatinine\", \"sodium\", \"potassium\", \"hemoglobin\",\n",
    "                      \"packed cell volume\", \"white blood cell count\", \"red blood cell count\", \"hypertension\",\n",
    "                      \"diabetes mellitus\", \"coronary artery disease\", \"appetite\", \"pedal edema\", \"anemia\", \"class\")\n",
    "\n",
    "missing_v = Table().with_column(\"Field\", all_names)\n",
    "missing_v\n",
    "\n",
    "def missing_values(kidney_disease, all_names, missing_v):\n",
    "    u =[]\n",
    "    for x in all_names:\n",
    "       ......\n",
    "    missing_v.show()\n",
    "        \n",
    "        \n",
    "        \n",
    "missing_values(kidney_disease, all_names, missing_v)\n",
    "  \n"
   ]
  },
  {
   "cell_type": "markdown",
   "id": "1bc3facd",
   "metadata": {},
   "source": []
  }
 ],
 "metadata": {
  "kernelspec": {
   "display_name": "Python 3 (ipykernel)",
   "language": "python",
   "name": "python3"
  },
  "language_info": {
   "codemirror_mode": {
    "name": "ipython",
    "version": 3
   },
   "file_extension": ".py",
   "mimetype": "text/x-python",
   "name": "python",
   "nbconvert_exporter": "python",
   "pygments_lexer": "ipython3",
   "version": "3.10.11"
  }
 },
 "nbformat": 4,
 "nbformat_minor": 5
}
