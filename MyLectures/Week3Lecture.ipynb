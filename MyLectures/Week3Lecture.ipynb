{
 "cells": [
  {
   "cell_type": "markdown",
   "id": "2a7cf363-7b8c-4539-acd6-3ce51add926d",
   "metadata": {},
   "source": [
    "# Week 3 Lecture Chapter 6 - Tables\n",
    "\n",
    "[datascience reference website](https://www.data8.org/datascience/reference-nb/datascience-reference.html)\n",
    "\n",
    "Run the code cell below"
   ]
  },
  {
   "cell_type": "code",
   "execution_count": null,
   "id": "3fb844b1-c272-4950-bf9e-1bf67f5484fc",
   "metadata": {},
   "outputs": [],
   "source": [
    "from datascience import *\n",
    "import numpy as np\n",
    "%matplotlib inline\n",
    "import matplotlib.pyplot as plots\n",
    "plots.style.use('fivethirtyeight')\n",
    "import warnings\n",
    "warnings.simplefilter(action=\"ignore\", category=FutureWarning)\n",
    "\n",
    "from urllib.request import urlopen \n",
    "import re\n",
    "def read_url(url): \n",
    "    return re.sub('\\\\s+', ' ', urlopen(url).read().decode())"
   ]
  },
  {
   "cell_type": "markdown",
   "id": "fcd4291c-a875-4298-bcf3-751be6340a7d",
   "metadata": {},
   "source": [
    "# Table\n",
    "```\n",
    "Table()  # Empty Table\n",
    "```\n",
    "Add columns to Table\n",
    "```\n",
    "Table().with_columns('Column_name1', make_array(value1, value2, value3....),\n",
    "                    )\n",
    "# Adding columns to Table\n",
    "```"
   ]
  },
  {
   "cell_type": "code",
   "execution_count": null,
   "id": "24af8763-b114-4771-84ee-e6cc5a56fb6f",
   "metadata": {},
   "outputs": [],
   "source": [
    "# Create a Table with column Number of petals with values 8, 34, 5\n"
   ]
  },
  {
   "cell_type": "code",
   "execution_count": null,
   "id": "20076ab3-1d20-459e-bbed-3b6922099a82",
   "metadata": {},
   "outputs": [],
   "source": [
    "# Add two new columns use the table command above and add Name \n",
    "# make_array('lotus', 'Sunflower', 'Rose')\n"
   ]
  },
  {
   "cell_type": "code",
   "execution_count": null,
   "id": "0419d6d9-e376-451e-a3ef-bb5d03701eb3",
   "metadata": {},
   "outputs": [],
   "source": [
    "# Assign the table to a variable\n"
   ]
  },
  {
   "cell_type": "code",
   "execution_count": null,
   "id": "0fb6a9f4-9020-48bb-91be-06b754a99959",
   "metadata": {},
   "outputs": [],
   "source": [
    "# Add a new column to the table\n"
   ]
  },
  {
   "cell_type": "code",
   "execution_count": null,
   "id": "7af564f5-c8c0-4e56-965d-f0a85427e788",
   "metadata": {},
   "outputs": [],
   "source": [
    "# it did not add a column to the flowers table\n"
   ]
  },
  {
   "cell_type": "markdown",
   "id": "6578b684-b291-4b6d-a186-95742ffca0ce",
   "metadata": {},
   "source": [
    "# Reading a Comma Separated Table\n",
    "```\n",
    "table_name = Table().read_table(path+'filename.csv')\n",
    "```\n",
    "In your case the file will be in the same folder as your Week 3 Lecture Jupter Notebook.\n",
    "\n",
    "|Column \t|Data Type\t| Description  |\n",
    "Longitude\tNumeric\t    The longitude of the army's position.<br>\n",
    "Latitude\tNumeric\t    The latitude of the army's position.<br>\n",
    "Survivors\tNumeric\t    The estimated number of surviving troops at that  <br>                                location.<br>\n",
    "Direction\tCategorical\tIndicates the direction of the army's travel, with <br>levels like \"Advance\" and \"Retreat\".<br>\n",
    "City\tCategorical\tThe name of the nearest city. This column might sometimes<br> be found in a separate cities.csv file.<br>"
   ]
  },
  {
   "cell_type": "code",
   "execution_count": null,
   "id": "a0f31251-1cf0-4955-b2d3-5d355cf00d4f",
   "metadata": {},
   "outputs": [],
   "source": [
    "# read minard.csv file into minard variable and display it\n",
    "# minard is a data set that shows the number of survivors Napoleon's disastrous Russian\n",
    "# campaign of 1812–1813\n"
   ]
  },
  {
   "cell_type": "markdown",
   "id": "b595fece-e6b7-4820-9f06-d333ebace581",
   "metadata": {},
   "source": [
    "# Size of the Table \n",
    "Sometimes we want to know the number of rows, the number of columns, and the size of a table.\n",
    "```\n",
    "table_name.num_columns\n",
    "table_name.num_rows\n",
    "```"
   ]
  },
  {
   "cell_type": "code",
   "execution_count": null,
   "id": "484b298a-fda7-43e5-9b9a-a484a1434ba7",
   "metadata": {},
   "outputs": [],
   "source": []
  },
  {
   "cell_type": "code",
   "execution_count": null,
   "id": "e796b8b0-4dc5-49f5-83aa-3dcf2da4118b",
   "metadata": {},
   "outputs": [],
   "source": []
  },
  {
   "cell_type": "markdown",
   "id": "4ccf2288-ba44-44bb-8b89-6064b482487b",
   "metadata": {},
   "source": [
    "# Column Labels\n",
    "When we want to know the column names in a table we can use the labels method.  It will create an array of the column names.\n",
    "```\n",
    "table_name.labels\n",
    "```\n",
    "    "
   ]
  },
  {
   "cell_type": "code",
   "execution_count": null,
   "id": "5b6c0af8-194d-48d2-9810-adfd18738320",
   "metadata": {},
   "outputs": [],
   "source": [
    "# List the column in the minard table\n"
   ]
  },
  {
   "cell_type": "markdown",
   "id": "2b7d0838-bcda-4ec1-815c-b29ba1eaaafa",
   "metadata": {},
   "source": [
    "# Change the column name\n",
    "```\n",
    "table_name.relabeled('old_name', 'new_name')\n",
    "```\n",
    "If you do not assign minard relabeled state to minard it will not change the table."
   ]
  },
  {
   "cell_type": "code",
   "execution_count": null,
   "id": "c3f8a4c4-4ab4-491c-be68-a65c3da792ea",
   "metadata": {},
   "outputs": [],
   "source": [
    "# rename the City to City Name\n"
   ]
  },
  {
   "cell_type": "code",
   "execution_count": null,
   "id": "6504c381-5562-44f3-924a-9e19fb2fade7",
   "metadata": {},
   "outputs": [],
   "source": [
    "# display table\n"
   ]
  },
  {
   "cell_type": "code",
   "execution_count": null,
   "id": "3d5fdb1a-ee54-4359-9157-794737aec563",
   "metadata": {},
   "outputs": [],
   "source": [
    "# assign new column name to minard table\n"
   ]
  },
  {
   "cell_type": "code",
   "execution_count": null,
   "id": "128e9246-885a-44c1-b672-db2493a4aa96",
   "metadata": {},
   "outputs": [],
   "source": [
    "# display minard\n"
   ]
  },
  {
   "cell_type": "markdown",
   "id": "0f8f3281-a5c1-46f8-ada3-4bab560da361",
   "metadata": {},
   "source": [
    "# Accessing the data in a column\n",
    "To change the data in a column to an array we use the column method.\n",
    "```\n",
    "table_name.column('column_name')\n",
    "```"
   ]
  },
  {
   "cell_type": "code",
   "execution_count": null,
   "id": "77eaeeb1-143d-4bdd-8f2d-451e63263275",
   "metadata": {},
   "outputs": [],
   "source": [
    "# Access the Survivors using the column method\n"
   ]
  },
  {
   "cell_type": "code",
   "execution_count": null,
   "id": "6d75291d-3439-44fc-b712-1eb6a63fb6a7",
   "metadata": {},
   "outputs": [],
   "source": [
    "# columns in the table are index starting with 0 so the 4 column is the Survivors column.\n"
   ]
  },
  {
   "cell_type": "code",
   "execution_count": null,
   "id": "3e76a42f-07e3-4f16-81ef-0fc5d17ab3e9",
   "metadata": {},
   "outputs": [],
   "source": [
    "# item will access a specific value in the array - index starts at 0\n",
    "# display the first item\n"
   ]
  },
  {
   "cell_type": "code",
   "execution_count": null,
   "id": "a515d9b6-fb58-422e-af32-8ecddb4ffce0",
   "metadata": {},
   "outputs": [],
   "source": [
    "# display the last item\n"
   ]
  },
  {
   "cell_type": "markdown",
   "id": "0c93d407-e658-4818-a508-46063ec63d09",
   "metadata": {},
   "source": [
    "# Calculation with arrays\n",
    "Working with data in a column.  Last week we showed how to do calculations with arrays.\n"
   ]
  },
  {
   "cell_type": "code",
   "execution_count": null,
   "id": "9d08530d-639a-491f-aff7-734fdae168f2",
   "metadata": {},
   "outputs": [],
   "source": [
    "# create a variable with the first element of the Survivor array\n",
    "# Calculate the percent survivors\n"
   ]
  },
  {
   "cell_type": "markdown",
   "id": "9a69730e-ac12-4a20-bf6b-9fc41ec6b3d1",
   "metadata": {},
   "source": [
    "# Formatting the columns\n",
    "we talked about formatting columns last week.  We will continue talking about formatting columns.\n",
    "\n",
    "**Types of Column Formatter**\n",
    "- PercentFormatter\n",
    "- DateFormatter\n",
    "- CurrencyFormatter\n",
    "\n",
    "```\n",
    "table_name.set_format('column name', type of Column Formatter)\n",
    "```"
   ]
  },
  {
   "cell_type": "code",
   "execution_count": null,
   "id": "0d238c55-c781-43a8-a416-f5bfc99144ac",
   "metadata": {},
   "outputs": [],
   "source": []
  },
  {
   "cell_type": "markdown",
   "id": "6d1e7a99-1a7c-4d4b-92d8-a49bd4caf429",
   "metadata": {},
   "source": [
    "# Selecting columns \n",
    "We talked about selecting columns using the select method.\n",
    "```\n",
    "table_name.select('column_name1', 'column_name2', etc.)\n",
    "table_name.select(index_column1, index_column2, etc.)\n",
    "```"
   ]
  },
  {
   "cell_type": "code",
   "execution_count": null,
   "id": "6627061f-fe5e-4c4c-b456-c5edd128b580",
   "metadata": {},
   "outputs": [],
   "source": [
    "# display columns Longitude and Latitude\n"
   ]
  },
  {
   "cell_type": "code",
   "execution_count": null,
   "id": "703d4658-7e51-4182-9858-987e5884d8e4",
   "metadata": {},
   "outputs": [],
   "source": [
    "# display columns Longitude and Latitude using indes\n"
   ]
  },
  {
   "cell_type": "code",
   "execution_count": null,
   "id": "a22e377a-5ecb-4c37-8a32-2502c5a17c7e",
   "metadata": {},
   "outputs": [],
   "source": [
    "# display Survivors columns\n"
   ]
  },
  {
   "cell_type": "code",
   "execution_count": null,
   "id": "aba3249c-f55f-4444-af85-0f01bf282c39",
   "metadata": {},
   "outputs": [],
   "source": [
    "# put the column Survivors in an array using the column method\n"
   ]
  },
  {
   "cell_type": "markdown",
   "id": "5276b5c6-7aec-4b04-965f-c1e122406da9",
   "metadata": {},
   "source": [
    "# Drop Method\n",
    "To drop columns you don't want use the drop method.  It does not change the table unless you assign it to the original table.\n",
    "```\n",
    "table_name.drop('colun_name1', 'column_name2')\n",
    "```\n"
   ]
  },
  {
   "cell_type": "code",
   "execution_count": null,
   "id": "c90438e1-0f49-42e2-8782-6166ba65a92b",
   "metadata": {},
   "outputs": [],
   "source": [
    "# Drop Longitude, Latitude, and Direction\n",
    "\n"
   ]
  },
  {
   "cell_type": "code",
   "execution_count": null,
   "id": "b0569b90-8780-4bba-8f86-e450de825201",
   "metadata": {},
   "outputs": [],
   "source": [
    "# display minard\n"
   ]
  },
  {
   "cell_type": "code",
   "execution_count": null,
   "id": "5dd15a06-5954-497e-842a-832bc0d192fe",
   "metadata": {},
   "outputs": [],
   "source": [
    "# 2015-2016 NBA \n"
   ]
  },
  {
   "cell_type": "markdown",
   "id": "c9894561-cc30-4029-9d8e-f348f1fffef2",
   "metadata": {},
   "source": [
    "# Relabel columns\n",
    "```\n",
    "table_name.relabeled('old_name', 'new_name')\n",
    "```"
   ]
  },
  {
   "cell_type": "code",
   "execution_count": null,
   "id": "075b5244-9103-4a81-92cb-99d035bf772d",
   "metadata": {},
   "outputs": [],
   "source": [
    "# change 'SALARY ($M)' TO 'SALARY'\n"
   ]
  },
  {
   "cell_type": "markdown",
   "id": "5c2fb5cc-2532-417b-8858-10cd6de1380e",
   "metadata": {},
   "source": [
    "# Sorting Rows\n",
    "Sorting rows\n",
    "```\n",
    "table_name.sort('column_name')  # ascending\n",
    "table_name.sort('column_name', descending = True) # descending\n",
    "```"
   ]
  },
  {
   "cell_type": "code",
   "execution_count": null,
   "id": "abe7b081-63ea-44fe-b367-a6821f2b4e85",
   "metadata": {},
   "outputs": [],
   "source": [
    "# Sort by SALARY column\n"
   ]
  },
  {
   "cell_type": "code",
   "execution_count": null,
   "id": "fc281ee3-42ef-4f1d-a761-5e8f3658585e",
   "metadata": {},
   "outputs": [],
   "source": [
    "# sort descending\n"
   ]
  },
  {
   "cell_type": "markdown",
   "id": "394623ff-2ef3-4339-ba28-1a2fb9a5d2c1",
   "metadata": {},
   "source": [
    "# Help on functions\n",
    "\n",
    "```\n",
    "help(table_name.method)\n",
    "```\n"
   ]
  },
  {
   "cell_type": "code",
   "execution_count": null,
   "id": "1c578bb0-c410-4cb6-986d-b85178fadab3",
   "metadata": {},
   "outputs": [],
   "source": [
    "# use the help command to find out about sorting\n"
   ]
  },
  {
   "cell_type": "code",
   "execution_count": null,
   "id": "eeceff66-013f-4d3f-a066-292a24d0854f",
   "metadata": {},
   "outputs": [],
   "source": [
    "# sort nba by salary using distinct option\n"
   ]
  },
  {
   "cell_type": "code",
   "execution_count": null,
   "id": "2b566728-59f1-4087-8f0e-e9eede8a211a",
   "metadata": {},
   "outputs": [],
   "source": [
    "# compare table above to nba\n"
   ]
  },
  {
   "cell_type": "markdown",
   "id": "cb0339ab-3bf9-46f2-b38d-23b1b859d968",
   "metadata": {},
   "source": [
    "# Using the take to select a row\n",
    "```\n",
    "table_name.take(index_number1, index_number2, etc.)  # index start at 0\n",
    "```\n",
    "This is a new table with subset of records based on the indexes listed."
   ]
  },
  {
   "cell_type": "code",
   "execution_count": null,
   "id": "e1e971af-91f3-4b55-94c5-f84870bc22e5",
   "metadata": {},
   "outputs": [],
   "source": [
    "# display the first row\n"
   ]
  },
  {
   "cell_type": "code",
   "execution_count": null,
   "id": "4635fc00-d89a-459b-b450-e61e8b5ffb43",
   "metadata": {},
   "outputs": [],
   "source": [
    "# display 3rd, 4th and 5th record\n"
   ]
  },
  {
   "cell_type": "markdown",
   "id": "acaf6835-032b-42cb-ad73-5ba5a9acdf94",
   "metadata": {},
   "source": [
    "# Combining methods\n",
    "```\n",
    "table_name.sort('column_name').take(np.arange(n))\n",
    "```\n"
   ]
  },
  {
   "cell_type": "code",
   "execution_count": null,
   "id": "fda316d6-8375-4a42-bb2b-b6bda28f89b3",
   "metadata": {},
   "outputs": [],
   "source": [
    "# display top 5 highest paid players\n"
   ]
  },
  {
   "cell_type": "markdown",
   "id": "13847974-0149-476e-a78d-52c1dcc3e50d",
   "metadata": {},
   "source": [
    "So far we've only been using `where` with the predicate that requires finding the values in a column to be *exactly* equal to a certain value. However, there are many other predicates. Here are a few:\n",
    "\n",
    "|Predicate|Example|Result|\n",
    "|-|-|-|\n",
    "|`are.equal_to`|`are.equal_to(50)`|Find rows with values equal to 50|\n",
    "|`are.not_equal_to`|`are.not_equal_to(50)`|Find rows with values not equal to 50|\n",
    "|`are.above`|`are.above(50)`|Find rows with values above (and not equal to) 50|\n",
    "|`are.above_or_equal_to`|`are.above_or_equal_to(50)`|Find rows with values above 50 or equal to 50|\n",
    "|`are.below`|`are.below(50)`|Find rows with values below 50|\n",
    "|`are.between`|`are.between(2, 10)`|Find rows with values above or equal to 2 and below 10|\n",
    "|`are.between_or_equal_to`|`are.between_or_equal_to(2, 10)`|Find rows with values above or equal to 2 and below or equal to 10|"
   ]
  },
  {
   "cell_type": "code",
   "execution_count": null,
   "id": "55adf6c2-bdff-4556-9a37-721197a1f126",
   "metadata": {},
   "outputs": [],
   "source": [
    "# records with SALARY above 10 million\n"
   ]
  },
  {
   "cell_type": "code",
   "execution_count": null,
   "id": "b76c2917-3d01-488a-a1a0-2309de270e78",
   "metadata": {},
   "outputs": [],
   "source": [
    "# salary above 10 million then sorted in ascending order\n"
   ]
  },
  {
   "cell_type": "code",
   "execution_count": null,
   "id": "08490422-a1a4-4b7c-950f-f72d5488915f",
   "metadata": {},
   "outputs": [],
   "source": [
    "# records with PLAYER 'Stephen Curry'\n"
   ]
  },
  {
   "cell_type": "code",
   "execution_count": null,
   "id": "11fa7d8b-b109-41dd-a2d0-01baadd3e9b6",
   "metadata": {},
   "outputs": [],
   "source": [
    "# records with Golden State Warriors\n"
   ]
  },
  {
   "cell_type": "code",
   "execution_count": null,
   "id": "1c81df9c-19dd-45c4-8a7c-55f725bf7e81",
   "metadata": {},
   "outputs": [],
   "source": [
    "# records with Team Denver Nuggets\n"
   ]
  },
  {
   "cell_type": "code",
   "execution_count": null,
   "id": "e564a50e-f1ff-4215-a0e0-2c7e2c45595e",
   "metadata": {},
   "outputs": [],
   "source": [
    "# Point Guard with salary above 15 million\n"
   ]
  },
  {
   "cell_type": "code",
   "execution_count": null,
   "id": "8dea1b42-75b8-4d98-a512-1cc342b73f2c",
   "metadata": {},
   "outputs": [],
   "source": [
    "# salary between 10 and less than 10.3\n"
   ]
  },
  {
   "cell_type": "code",
   "execution_count": null,
   "id": "d8626bdc-6fbe-416b-a99a-10e120661dd4",
   "metadata": {},
   "outputs": [],
   "source": [
    "# Player Barack Obama\n"
   ]
  },
  {
   "cell_type": "code",
   "execution_count": null,
   "id": "c35674b8-f217-4666-ae7b-adfa99f3e80b",
   "metadata": {},
   "outputs": [],
   "source": [
    "# records containing Warriors\n",
    "    "
   ]
  },
  {
   "cell_type": "code",
   "execution_count": null,
   "id": "c37db69b-2b53-4e86-af18-bfabd72a2c76",
   "metadata": {},
   "outputs": [],
   "source": [
    "# records position contains G\n"
   ]
  },
  {
   "cell_type": "code",
   "execution_count": null,
   "id": "21176352-5f12-4258-beb5-10b0a9fff1b3",
   "metadata": {},
   "outputs": [],
   "source": [
    "# not Clevland Cavaliers  with salary no less than 20 million"
   ]
  },
  {
   "cell_type": "code",
   "execution_count": null,
   "id": "41668155-5f3b-4ae5-ad9a-d5b77298e2b7",
   "metadata": {},
   "outputs": [],
   "source": []
  },
  {
   "cell_type": "code",
   "execution_count": null,
   "id": "cbde6658-08ff-47d2-a8cf-ee62b0a4b1e1",
   "metadata": {},
   "outputs": [],
   "source": []
  },
  {
   "cell_type": "code",
   "execution_count": null,
   "id": "5b389262-2f89-4612-8040-a71896b41089",
   "metadata": {},
   "outputs": [],
   "source": []
  }
 ],
 "metadata": {
  "kernelspec": {
   "display_name": "Python 3 (ipykernel)",
   "language": "python",
   "name": "python3"
  },
  "language_info": {
   "codemirror_mode": {
    "name": "ipython",
    "version": 3
   },
   "file_extension": ".py",
   "mimetype": "text/x-python",
   "name": "python",
   "nbconvert_exporter": "python",
   "pygments_lexer": "ipython3",
   "version": "3.11.13"
  }
 },
 "nbformat": 4,
 "nbformat_minor": 5
}
