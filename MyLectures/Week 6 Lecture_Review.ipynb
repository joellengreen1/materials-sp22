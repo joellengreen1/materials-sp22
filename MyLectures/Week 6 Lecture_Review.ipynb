{
 "cells": [
  {
   "cell_type": "markdown",
   "id": "a6899710-dc5b-4aa6-9fb0-63f35f72fddf",
   "metadata": {},
   "source": [
    "# Project Review\n",
    "Looking back on what was learned in the last 5 weeks\n",
    "- *PEMDAS*<br>\n",
    "- **Calculations using Growth Rate**<br>\n",
    "- *Make an array using make_array method*<br>\n",
    "- **Creating a table with_columns method**<br>\n",
    "- *Reading data into a table*<br>\n",
    "- **Selecting columns form the table**<br>\n",
    "- *Relabelling a column of a table*<br>\n",
    "- **sorting a column**<br>\n",
    "- *dropping a columm*<br>\n",
    "- **Formatting a column** <br>\n",
    "- *Selecting rows from a table using where*<br>\n",
    "- **Creating an array from a table**<br>\n",
    "- *Accessing elements of an array*<br>\n",
    "- **Performing calculations using an array**<br>\n",
    "- *Creating a scatterplot*<br>\n",
    "- **Creating a lineplot**<br>\n",
    "- *Creating a histogram*<br>\n",
    "- **np.arange(start, end, step)**  # end not included<br>\n",
    "- *Creating a histogram with specific bins*<br>\n",
    "- **selecting row using take**<br>\n",
    "- *selecting a row using row method*<br>\n",
    "\n",
    "First, run the code cell below\n"
   ]
  },
  {
   "cell_type": "code",
   "execution_count": 1,
   "id": "88e27843-1bcb-43d5-9941-c54bfaf4c15d",
   "metadata": {},
   "outputs": [],
   "source": [
    "from datascience import *\n",
    "import numpy as np\n",
    "%matplotlib inline\n",
    "import matplotlib.pyplot as plots\n",
    "plots.style.use('fivethirtyeight')\n",
    "import warnings\n",
    "warnings.simplefilter(action=\"ignore\", category=FutureWarning)\n",
    "\n",
    "from urllib.request import urlopen \n",
    "import re\n",
    "def read_url(url): \n",
    "    return re.sub('\\\\s+', ' ', urlopen(url).read().decode())"
   ]
  },
  {
   "cell_type": "markdown",
   "id": "dbf24e2a-b6db-4870-85ee-4b0a369aa218",
   "metadata": {},
   "source": [
    "# Expression\n",
    "We will review expressions from Chapter 3.1\n",
    "\n",
    "| Expression Type | Operator | Example  | Value   |\n",
    "|-----------------|----------|----------|---------|\n",
    "| Addition        | +        | 2 + 3    | 5       |\n",
    "| Subtraction     | -        | 2 - 3    | -1      |\n",
    "| Multiplication  | *        | 2 * 3    | 6       |\n",
    "| Division        | /        | 7/3      | 2.66667 |\n",
    "| Remainder       | %        | 7 % 3    | 1       |\n",
    "| Exponentiation  | **       | 2 ** 0.5 | 1.41421 |\n",
    "\n",
    "## PEMDAS - Order of Operations\n",
    "- Paretheses\n",
    "- Exponents\n",
    "- Multiplication and Division left to right\n",
    "- Addition and Subtraction left to right\n",
    "\n",
    "```\n",
    "1 + 2 * 3 * 4 * 5 / 6 ** 3 + 7 + 8 - 9 + 10\n",
    "1 + 2 * 3 * 4 * 5 / 216 + 7 + 8 - 9 + 10\n",
    "1 + 6 * 4 * 5 / 216 + 7 + 8 - 9 + 10\n",
    "1 + 24 * 5 / 216 + 7 + 8 - 9 + 10\n",
    "1 + 120 / 216 + 7 + 8 - 9 + 10\n",
    "1 + 0.555555555555557 + 7 + 8 - 9 + 10\n",
    "1.555555555555557 + 7 + 8 - 9 + 10\n",
    "8.555555555555557 + 8 - 9 + 10\n",
    "16.555555555555557 - 9 + 10\n",
    "7.555555555555557 + 10\n",
    "17.555555555555557\n",
    "```"
   ]
  },
  {
   "cell_type": "code",
   "execution_count": 3,
   "id": "ef0e5855-5b4c-474b-a149-cd3bc7698193",
   "metadata": {},
   "outputs": [
    {
     "data": {
      "text/plain": [
       "17.555555555555557"
      ]
     },
     "execution_count": 3,
     "metadata": {},
     "output_type": "execute_result"
    }
   ],
   "source": [
    "1 + 2 * 3 * 4 * 5 / 6 ** 3 + 7 + 8 - 9 + 10"
   ]
  },
  {
   "cell_type": "code",
   "execution_count": 4,
   "id": "8662f6d8-9861-41ec-872c-5cc90de12130",
   "metadata": {},
   "outputs": [
    {
     "data": {
      "text/plain": [
       "58"
      ]
     },
     "execution_count": 4,
     "metadata": {},
     "output_type": "execute_result"
    }
   ],
   "source": [
    "# run 4+6*(9-6)**2\n",
    "4+6*(9-6)**2"
   ]
  },
  {
   "cell_type": "markdown",
   "id": "2efa715e-446a-405f-963e-92dca1983262",
   "metadata": {},
   "source": [
    "# Growth Rate give constant growth rate\n",
    "```\n",
    "annual_growth_rate = 0.05\n",
    "ten_year_growth_rate = (1 + annual_growth_rate)**10 - 1\n",
    "print(\"Ten year rate = \", ten_year_growth_rate)\n",
    "print(\"Ten year growth rate\", GrowthRate)\n",
    "```\n",
    "Like wise if I look at an initial amount and then the changed amount you can figure out the annual growth rate by knowing the number of years in between.\n",
    "```\n",
    "initial = 80000\n",
    "changed = 130312\n",
    "n = 10\n",
    "annual_Growth_Rate = (changed/initial)**(1/n) - 1\n",
    "annual_Growth_rate\n",
    "```"
   ]
  },
  {
   "cell_type": "code",
   "execution_count": 9,
   "id": "a8f1d8ab-45ce-4283-a85c-6c1646de7d03",
   "metadata": {},
   "outputs": [
    {
     "name": "stdout",
     "output_type": "stream",
     "text": [
      "Ten year rate =  0.628894626777442\n",
      "Ten year growth rate 62.89 %\n"
     ]
    }
   ],
   "source": [
    "annual_growth_rate = 0.05\n",
    "ten_year_growth_rate = (1 + annual_growth_rate)**10 - 1\n",
    "print(\"Ten year rate = \", ten_year_growth_rate)\n",
    "GrowthRate = np.round(ten_year_growth_rate * 100, 2)\n",
    "print(\"Ten year growth rate\", GrowthRate,\"%\")"
   ]
  },
  {
   "cell_type": "raw",
   "id": "9ea59d53-0fec-4450-a178-bfd0a0485558",
   "metadata": {},
   "source": []
  },
  {
   "cell_type": "markdown",
   "id": "b3e9fe21-9214-486c-801f-87d6359f8eaf",
   "metadata": {},
   "source": [
    "# Creating an array\n",
    "You can create an array by using the make_array.\n",
    "    \n",
    "```\n",
    "array_name = make_array(value1, value2, value3,...)\n",
    "array_name = make_array('string1', 'string2', 'string3', ...)\n",
    "```"
   ]
  },
  {
   "cell_type": "code",
   "execution_count": 14,
   "id": "aa80c0c1-c897-460c-9c59-606f28a12ac5",
   "metadata": {},
   "outputs": [
    {
     "name": "stdout",
     "output_type": "stream",
     "text": [
      "Ten year rate from 2015 to 2025 =  [ 0.05000035  0.02718947  0.06599432]\n",
      "Ten year growth rate from 2015 to 2025 [ 5.    2.72  6.6 ] %\n"
     ]
    }
   ],
   "source": [
    "# create an array with the following values 80000, 65000, and 19000.\n",
    "# Store the array in initial.\n",
    "# create an array with the following value 938551, 562619, and 407488.\n",
    "# Store the array in change.\n",
    "# determine the change percentage (change/initial) - 1\n",
    "# determine the percentage change if the values are 5 years apart.\n"
   ]
  },
  {
   "cell_type": "markdown",
   "id": "8e505dd9-5fcd-4c78-b2c3-a182b95e40a7",
   "metadata": {},
   "source": [
    "# Tables\n",
    "Tables is like a spreadsheet of data with each column having a name and data in each column.  The data can be numeric or string (Text).<br>\n",
    "Below I am creating a table with three columns Flavor, Color, and Price. \n",
    "```\n",
    "cones = Table().with_columns(\n",
    "                       'Flavor', make_array('strawberry', 'chocolate', 'chocolate', 'strawberry', 'chocolate', 'bubblegum'),\n",
    "                        'Color_all', make_array('pink', 'light brown', 'dark brown', 'pink', 'dark brown', 'pink'),\n",
    "                        'Price', make_array(3.55, 4.75, 5.25, 5.25, 5.25, 4.75)\n",
    ")\n",
    "\n",
    "```"
   ]
  },
  {
   "cell_type": "code",
   "execution_count": 16,
   "id": "510319c0-1398-46eb-9609-f6cc9a921e36",
   "metadata": {},
   "outputs": [
    {
     "data": {
      "text/html": [
       "<table border=\"1\" class=\"dataframe\">\n",
       "    <thead>\n",
       "        <tr>\n",
       "            <th>Flavor</th> <th>Color_all</th> <th>Price</th>\n",
       "        </tr>\n",
       "    </thead>\n",
       "    <tbody>\n",
       "        <tr>\n",
       "            <td>strawberry</td> <td>pink       </td> <td>3.55 </td>\n",
       "        </tr>\n",
       "        <tr>\n",
       "            <td>chocolate </td> <td>light brown</td> <td>4.75 </td>\n",
       "        </tr>\n",
       "        <tr>\n",
       "            <td>chocolate </td> <td>dark brown </td> <td>5.25 </td>\n",
       "        </tr>\n",
       "        <tr>\n",
       "            <td>strawberry</td> <td>pink       </td> <td>5.25 </td>\n",
       "        </tr>\n",
       "        <tr>\n",
       "            <td>chocolate </td> <td>dark brown </td> <td>5.25 </td>\n",
       "        </tr>\n",
       "        <tr>\n",
       "            <td>bubblegum </td> <td>pink       </td> <td>4.75 </td>\n",
       "        </tr>\n",
       "    </tbody>\n",
       "</table>"
      ],
      "text/plain": [
       "Flavor     | Color_all   | Price\n",
       "strawberry | pink        | 3.55\n",
       "chocolate  | light brown | 4.75\n",
       "chocolate  | dark brown  | 5.25\n",
       "strawberry | pink        | 5.25\n",
       "chocolate  | dark brown  | 5.25\n",
       "bubblegum  | pink        | 4.75"
      ]
     },
     "execution_count": 16,
     "metadata": {},
     "output_type": "execute_result"
    }
   ],
   "source": [
    "cones = Table().with_columns(\n",
    "                       'Flavor', make_array('strawberry', 'chocolate', 'chocolate', 'strawberry', 'chocolate', 'bubblegum'),\n",
    "                        'Color_all', make_array('pink', 'light brown', 'dark brown', 'pink', 'dark brown', 'pink'),\n",
    "                        'Price', make_array(3.55, 4.75, 5.25, 5.25, 5.25, 4.75)\n",
    ")\n",
    "cones"
   ]
  },
  {
   "cell_type": "markdown",
   "id": "e80a88d9-9728-482b-aab9-9144d6cadf6e",
   "metadata": {},
   "source": [
    "# Reading Data into a Table from CSV file\n",
    "\n",
    "```\n",
    "nba = Table().read_table('nba.csv')\n",
    "nba\n",
    "```"
   ]
  },
  {
   "cell_type": "code",
   "execution_count": 17,
   "id": "d1a2ca23-e392-47f2-9d37-882aa5231432",
   "metadata": {},
   "outputs": [
    {
     "data": {
      "text/html": [
       "<table border=\"1\" class=\"dataframe\">\n",
       "    <thead>\n",
       "        <tr>\n",
       "            <th>rank</th> <th>name</th> <th>position</th> <th>team</th> <th>salary</th> <th>season</th>\n",
       "        </tr>\n",
       "    </thead>\n",
       "    <tbody>\n",
       "        <tr>\n",
       "            <td>1   </td> <td>Shaquille O'Neal</td> <td>C       </td> <td>Los Angeles Lakers    </td> <td>17142000</td> <td>2000  </td>\n",
       "        </tr>\n",
       "        <tr>\n",
       "            <td>2   </td> <td>Kevin Garnett   </td> <td>PF      </td> <td>Minnesota Timberwolves</td> <td>16806000</td> <td>2000  </td>\n",
       "        </tr>\n",
       "        <tr>\n",
       "            <td>3   </td> <td>Alonzo Mourning </td> <td>C       </td> <td>Miami Heat            </td> <td>15004000</td> <td>2000  </td>\n",
       "        </tr>\n",
       "        <tr>\n",
       "            <td>4   </td> <td>Juwan Howard    </td> <td>PF      </td> <td>Washington Wizards    </td> <td>15000000</td> <td>2000  </td>\n",
       "        </tr>\n",
       "        <tr>\n",
       "            <td>5   </td> <td>Scottie Pippen  </td> <td>SF      </td> <td>Portland Trail Blazers</td> <td>14795000</td> <td>2000  </td>\n",
       "        </tr>\n",
       "        <tr>\n",
       "            <td>6   </td> <td>Karl Malone     </td> <td>PF      </td> <td>Utah Jazz             </td> <td>14000000</td> <td>2000  </td>\n",
       "        </tr>\n",
       "        <tr>\n",
       "            <td>7   </td> <td>Larry Johnson   </td> <td>F       </td> <td>New York Knicks       </td> <td>11910000</td> <td>2000  </td>\n",
       "        </tr>\n",
       "        <tr>\n",
       "            <td>8   </td> <td>Gary Payton     </td> <td>PG      </td> <td>Seattle SuperSonics   </td> <td>11020000</td> <td>2000  </td>\n",
       "        </tr>\n",
       "        <tr>\n",
       "            <td>9   </td> <td>Rasheed Wallace </td> <td>PF      </td> <td>Portland Trail Blazers</td> <td>10800000</td> <td>2000  </td>\n",
       "        </tr>\n",
       "        <tr>\n",
       "            <td>10  </td> <td>Shawn Kemp      </td> <td>C       </td> <td>Cleveland Cavaliers   </td> <td>10780000</td> <td>2000  </td>\n",
       "        </tr>\n",
       "    </tbody>\n",
       "</table>\n",
       "<p>... (9446 rows omitted)</p>"
      ],
      "text/plain": [
       "rank | name             | position | team                   | salary   | season\n",
       "1    | Shaquille O'Neal | C        | Los Angeles Lakers     | 17142000 | 2000\n",
       "2    | Kevin Garnett    | PF       | Minnesota Timberwolves | 16806000 | 2000\n",
       "3    | Alonzo Mourning  | C        | Miami Heat             | 15004000 | 2000\n",
       "4    | Juwan Howard     | PF       | Washington Wizards     | 15000000 | 2000\n",
       "5    | Scottie Pippen   | SF       | Portland Trail Blazers | 14795000 | 2000\n",
       "6    | Karl Malone      | PF       | Utah Jazz              | 14000000 | 2000\n",
       "7    | Larry Johnson    | F        | New York Knicks        | 11910000 | 2000\n",
       "8    | Gary Payton      | PG       | Seattle SuperSonics    | 11020000 | 2000\n",
       "9    | Rasheed Wallace  | PF       | Portland Trail Blazers | 10800000 | 2000\n",
       "10   | Shawn Kemp       | C        | Cleveland Cavaliers    | 10780000 | 2000\n",
       "... (9446 rows omitted)"
      ]
     },
     "execution_count": 17,
     "metadata": {},
     "output_type": "execute_result"
    }
   ],
   "source": [
    "# read data into table called nba from nba.csv.  Display the nba\n"
   ]
  },
  {
   "cell_type": "code",
   "execution_count": null,
   "id": "3bac574c-e64a-49bb-bbf1-cd044438c8bc",
   "metadata": {},
   "outputs": [],
   "source": []
  },
  {
   "cell_type": "markdown",
   "id": "d593476d-36ea-446e-823b-4a4a9a9b68aa",
   "metadata": {},
   "source": [
    "# Select columns in a table\n",
    "\n",
    "```\n",
    "table_name.select('column1', 'column2')\n",
    "```"
   ]
  },
  {
   "cell_type": "code",
   "execution_count": 20,
   "id": "e72e7acb-4a12-4a62-9d01-eb0612dacb35",
   "metadata": {},
   "outputs": [],
   "source": [
    "# select columns 'name' and 'salary'\n"
   ]
  },
  {
   "cell_type": "code",
   "execution_count": 22,
   "id": "e479b8c8-86e6-4cbe-8491-831a61736078",
   "metadata": {},
   "outputs": [
    {
     "data": {
      "text/html": [
       "<table border=\"1\" class=\"dataframe\">\n",
       "    <thead>\n",
       "        <tr>\n",
       "            <th>rank</th> <th>name</th> <th>position</th> <th>team</th> <th>salary</th> <th>season</th>\n",
       "        </tr>\n",
       "    </thead>\n",
       "    <tbody>\n",
       "        <tr>\n",
       "            <td>1   </td> <td>Shaquille O'Neal</td> <td>C       </td> <td>Los Angeles Lakers    </td> <td>17142000</td> <td>2000  </td>\n",
       "        </tr>\n",
       "        <tr>\n",
       "            <td>2   </td> <td>Kevin Garnett   </td> <td>PF      </td> <td>Minnesota Timberwolves</td> <td>16806000</td> <td>2000  </td>\n",
       "        </tr>\n",
       "        <tr>\n",
       "            <td>3   </td> <td>Alonzo Mourning </td> <td>C       </td> <td>Miami Heat            </td> <td>15004000</td> <td>2000  </td>\n",
       "        </tr>\n",
       "        <tr>\n",
       "            <td>4   </td> <td>Juwan Howard    </td> <td>PF      </td> <td>Washington Wizards    </td> <td>15000000</td> <td>2000  </td>\n",
       "        </tr>\n",
       "        <tr>\n",
       "            <td>5   </td> <td>Scottie Pippen  </td> <td>SF      </td> <td>Portland Trail Blazers</td> <td>14795000</td> <td>2000  </td>\n",
       "        </tr>\n",
       "        <tr>\n",
       "            <td>6   </td> <td>Karl Malone     </td> <td>PF      </td> <td>Utah Jazz             </td> <td>14000000</td> <td>2000  </td>\n",
       "        </tr>\n",
       "        <tr>\n",
       "            <td>7   </td> <td>Larry Johnson   </td> <td>F       </td> <td>New York Knicks       </td> <td>11910000</td> <td>2000  </td>\n",
       "        </tr>\n",
       "        <tr>\n",
       "            <td>8   </td> <td>Gary Payton     </td> <td>PG      </td> <td>Seattle SuperSonics   </td> <td>11020000</td> <td>2000  </td>\n",
       "        </tr>\n",
       "        <tr>\n",
       "            <td>9   </td> <td>Rasheed Wallace </td> <td>PF      </td> <td>Portland Trail Blazers</td> <td>10800000</td> <td>2000  </td>\n",
       "        </tr>\n",
       "        <tr>\n",
       "            <td>10  </td> <td>Shawn Kemp      </td> <td>C       </td> <td>Cleveland Cavaliers   </td> <td>10780000</td> <td>2000  </td>\n",
       "        </tr>\n",
       "    </tbody>\n",
       "</table>\n",
       "<p>... (9446 rows omitted)</p>"
      ],
      "text/plain": [
       "rank | name             | position | team                   | salary   | season\n",
       "1    | Shaquille O'Neal | C        | Los Angeles Lakers     | 17142000 | 2000\n",
       "2    | Kevin Garnett    | PF       | Minnesota Timberwolves | 16806000 | 2000\n",
       "3    | Alonzo Mourning  | C        | Miami Heat             | 15004000 | 2000\n",
       "4    | Juwan Howard     | PF       | Washington Wizards     | 15000000 | 2000\n",
       "5    | Scottie Pippen   | SF       | Portland Trail Blazers | 14795000 | 2000\n",
       "6    | Karl Malone      | PF       | Utah Jazz              | 14000000 | 2000\n",
       "7    | Larry Johnson    | F        | New York Knicks        | 11910000 | 2000\n",
       "8    | Gary Payton      | PG       | Seattle SuperSonics    | 11020000 | 2000\n",
       "9    | Rasheed Wallace  | PF       | Portland Trail Blazers | 10800000 | 2000\n",
       "10   | Shawn Kemp       | C        | Cleveland Cavaliers    | 10780000 | 2000\n",
       "... (9446 rows omitted)"
      ]
     },
     "execution_count": 22,
     "metadata": {},
     "output_type": "execute_result"
    }
   ],
   "source": [
    "# display nba table\n"
   ]
  },
  {
   "cell_type": "markdown",
   "id": "f7a625a7-e0bd-40a8-9562-245ab07bac95",
   "metadata": {},
   "source": [
    "# Relabeling a Column of a Table\n",
    "```\n",
    "table_name.relabeled('New column name', 'old column name')\n",
    "```"
   ]
  },
  {
   "cell_type": "code",
   "execution_count": 25,
   "id": "5f38a410-df53-4121-a9b2-e9dfe26de99e",
   "metadata": {},
   "outputs": [],
   "source": [
    "# Relabel colum name Color_all to Color in cones table\n",
    "\n"
   ]
  },
  {
   "cell_type": "code",
   "execution_count": 26,
   "id": "dfab61a4-4ad4-44d5-a259-653f4adf302f",
   "metadata": {},
   "outputs": [
    {
     "data": {
      "text/html": [
       "<table border=\"1\" class=\"dataframe\">\n",
       "    <thead>\n",
       "        <tr>\n",
       "            <th>Flavor</th> <th>Color</th> <th>Price</th>\n",
       "        </tr>\n",
       "    </thead>\n",
       "    <tbody>\n",
       "        <tr>\n",
       "            <td>strawberry</td> <td>pink       </td> <td>3.55 </td>\n",
       "        </tr>\n",
       "        <tr>\n",
       "            <td>chocolate </td> <td>light brown</td> <td>4.75 </td>\n",
       "        </tr>\n",
       "        <tr>\n",
       "            <td>chocolate </td> <td>dark brown </td> <td>5.25 </td>\n",
       "        </tr>\n",
       "        <tr>\n",
       "            <td>strawberry</td> <td>pink       </td> <td>5.25 </td>\n",
       "        </tr>\n",
       "        <tr>\n",
       "            <td>chocolate </td> <td>dark brown </td> <td>5.25 </td>\n",
       "        </tr>\n",
       "        <tr>\n",
       "            <td>bubblegum </td> <td>pink       </td> <td>4.75 </td>\n",
       "        </tr>\n",
       "    </tbody>\n",
       "</table>"
      ],
      "text/plain": [
       "Flavor     | Color       | Price\n",
       "strawberry | pink        | 3.55\n",
       "chocolate  | light brown | 4.75\n",
       "chocolate  | dark brown  | 5.25\n",
       "strawberry | pink        | 5.25\n",
       "chocolate  | dark brown  | 5.25\n",
       "bubblegum  | pink        | 4.75"
      ]
     },
     "execution_count": 26,
     "metadata": {},
     "output_type": "execute_result"
    }
   ],
   "source": [
    "cones"
   ]
  },
  {
   "cell_type": "markdown",
   "id": "ce7e1515-a5d3-404a-9102-78a2874665d4",
   "metadata": {},
   "source": [
    "# Sort by data column in Table\n",
    "```\n",
    "Table.sort('column') # ascending smallest to largest\n",
    "Table.sort('column', descending=True) # largest to smallest\n",
    "```"
   ]
  },
  {
   "cell_type": "code",
   "execution_count": 27,
   "id": "8ee18649-0e84-4bcc-862a-becf1aba363f",
   "metadata": {},
   "outputs": [
    {
     "data": {
      "text/html": [
       "<table border=\"1\" class=\"dataframe\">\n",
       "    <thead>\n",
       "        <tr>\n",
       "            <th>Flavor</th> <th>Color</th> <th>Price</th>\n",
       "        </tr>\n",
       "    </thead>\n",
       "    <tbody>\n",
       "        <tr>\n",
       "            <td>strawberry</td> <td>pink       </td> <td>3.55 </td>\n",
       "        </tr>\n",
       "        <tr>\n",
       "            <td>chocolate </td> <td>light brown</td> <td>4.75 </td>\n",
       "        </tr>\n",
       "        <tr>\n",
       "            <td>bubblegum </td> <td>pink       </td> <td>4.75 </td>\n",
       "        </tr>\n",
       "        <tr>\n",
       "            <td>chocolate </td> <td>dark brown </td> <td>5.25 </td>\n",
       "        </tr>\n",
       "        <tr>\n",
       "            <td>strawberry</td> <td>pink       </td> <td>5.25 </td>\n",
       "        </tr>\n",
       "        <tr>\n",
       "            <td>chocolate </td> <td>dark brown </td> <td>5.25 </td>\n",
       "        </tr>\n",
       "    </tbody>\n",
       "</table>"
      ],
      "text/plain": [
       "Flavor     | Color       | Price\n",
       "strawberry | pink        | 3.55\n",
       "chocolate  | light brown | 4.75\n",
       "bubblegum  | pink        | 4.75\n",
       "chocolate  | dark brown  | 5.25\n",
       "strawberry | pink        | 5.25\n",
       "chocolate  | dark brown  | 5.25"
      ]
     },
     "execution_count": 27,
     "metadata": {},
     "output_type": "execute_result"
    }
   ],
   "source": [
    "# Sort cones table by price small to large\n"
   ]
  },
  {
   "cell_type": "code",
   "execution_count": 29,
   "id": "388931af-fd1c-4ef7-9e15-2af3cd1ff3d8",
   "metadata": {},
   "outputs": [
    {
     "data": {
      "text/html": [
       "<table border=\"1\" class=\"dataframe\">\n",
       "    <thead>\n",
       "        <tr>\n",
       "            <th>Flavor</th> <th>Color</th> <th>Price</th>\n",
       "        </tr>\n",
       "    </thead>\n",
       "    <tbody>\n",
       "        <tr>\n",
       "            <td>chocolate </td> <td>dark brown </td> <td>5.25 </td>\n",
       "        </tr>\n",
       "        <tr>\n",
       "            <td>strawberry</td> <td>pink       </td> <td>5.25 </td>\n",
       "        </tr>\n",
       "        <tr>\n",
       "            <td>chocolate </td> <td>dark brown </td> <td>5.25 </td>\n",
       "        </tr>\n",
       "        <tr>\n",
       "            <td>chocolate </td> <td>light brown</td> <td>4.75 </td>\n",
       "        </tr>\n",
       "        <tr>\n",
       "            <td>bubblegum </td> <td>pink       </td> <td>4.75 </td>\n",
       "        </tr>\n",
       "        <tr>\n",
       "            <td>strawberry</td> <td>pink       </td> <td>3.55 </td>\n",
       "        </tr>\n",
       "    </tbody>\n",
       "</table>"
      ],
      "text/plain": [
       "Flavor     | Color       | Price\n",
       "chocolate  | dark brown  | 5.25\n",
       "strawberry | pink        | 5.25\n",
       "chocolate  | dark brown  | 5.25\n",
       "chocolate  | light brown | 4.75\n",
       "bubblegum  | pink        | 4.75\n",
       "strawberry | pink        | 3.55"
      ]
     },
     "execution_count": 29,
     "metadata": {},
     "output_type": "execute_result"
    }
   ],
   "source": [
    "# Sort in descending order \n",
    "cones.sort('Price', descending=True)"
   ]
  },
  {
   "cell_type": "code",
   "execution_count": 30,
   "id": "9f8b2dba-7dee-49d1-a925-79839ea67766",
   "metadata": {},
   "outputs": [
    {
     "data": {
      "text/html": [
       "<table border=\"1\" class=\"dataframe\">\n",
       "    <thead>\n",
       "        <tr>\n",
       "            <th>Flavor</th> <th>Price</th>\n",
       "        </tr>\n",
       "    </thead>\n",
       "    <tbody>\n",
       "        <tr>\n",
       "            <td>strawberry</td> <td>3.55 </td>\n",
       "        </tr>\n",
       "        <tr>\n",
       "            <td>chocolate </td> <td>4.75 </td>\n",
       "        </tr>\n",
       "        <tr>\n",
       "            <td>chocolate </td> <td>5.25 </td>\n",
       "        </tr>\n",
       "        <tr>\n",
       "            <td>strawberry</td> <td>5.25 </td>\n",
       "        </tr>\n",
       "        <tr>\n",
       "            <td>chocolate </td> <td>5.25 </td>\n",
       "        </tr>\n",
       "        <tr>\n",
       "            <td>bubblegum </td> <td>4.75 </td>\n",
       "        </tr>\n",
       "    </tbody>\n",
       "</table>"
      ],
      "text/plain": [
       "Flavor     | Price\n",
       "strawberry | 3.55\n",
       "chocolate  | 4.75\n",
       "chocolate  | 5.25\n",
       "strawberry | 5.25\n",
       "chocolate  | 5.25\n",
       "bubblegum  | 4.75"
      ]
     },
     "execution_count": 30,
     "metadata": {},
     "output_type": "execute_result"
    }
   ],
   "source": [
    "cones.drop('Color')"
   ]
  },
  {
   "cell_type": "code",
   "execution_count": 31,
   "id": "e4498274-197f-4a4e-8446-6e2ecc59282c",
   "metadata": {},
   "outputs": [
    {
     "data": {
      "text/html": [
       "<table border=\"1\" class=\"dataframe\">\n",
       "    <thead>\n",
       "        <tr>\n",
       "            <th>Flavor</th> <th>Color</th> <th>Price</th>\n",
       "        </tr>\n",
       "    </thead>\n",
       "    <tbody>\n",
       "        <tr>\n",
       "            <td>strawberry</td> <td>pink       </td> <td>3.55 </td>\n",
       "        </tr>\n",
       "        <tr>\n",
       "            <td>chocolate </td> <td>light brown</td> <td>4.75 </td>\n",
       "        </tr>\n",
       "        <tr>\n",
       "            <td>chocolate </td> <td>dark brown </td> <td>5.25 </td>\n",
       "        </tr>\n",
       "        <tr>\n",
       "            <td>strawberry</td> <td>pink       </td> <td>5.25 </td>\n",
       "        </tr>\n",
       "        <tr>\n",
       "            <td>chocolate </td> <td>dark brown </td> <td>5.25 </td>\n",
       "        </tr>\n",
       "        <tr>\n",
       "            <td>bubblegum </td> <td>pink       </td> <td>4.75 </td>\n",
       "        </tr>\n",
       "    </tbody>\n",
       "</table>"
      ],
      "text/plain": [
       "Flavor     | Color       | Price\n",
       "strawberry | pink        | 3.55\n",
       "chocolate  | light brown | 4.75\n",
       "chocolate  | dark brown  | 5.25\n",
       "strawberry | pink        | 5.25\n",
       "chocolate  | dark brown  | 5.25\n",
       "bubblegum  | pink        | 4.75"
      ]
     },
     "execution_count": 31,
     "metadata": {},
     "output_type": "execute_result"
    }
   ],
   "source": [
    "cones"
   ]
  },
  {
   "cell_type": "markdown",
   "id": "2dae17bf-cf54-441d-bab0-2adcc48032d6",
   "metadata": {},
   "source": [
    "# **Types of Column Formatter**\n",
    "- PercentFormatter\n",
    "- DateFormatter\n",
    "- CurrencyFormatter\n",
    "- NumberFormatter\n",
    "\n",
    "```\n",
    "table_name.set_format('column name', type of Column Formatter)\n",
    "```"
   ]
  },
  {
   "cell_type": "code",
   "execution_count": 32,
   "id": "c5f4e440-0908-47e2-ad01-2fdbaea3e579",
   "metadata": {},
   "outputs": [
    {
     "data": {
      "text/html": [
       "<table border=\"1\" class=\"dataframe\">\n",
       "    <thead>\n",
       "        <tr>\n",
       "            <th>Flavor</th> <th>Color</th> <th>Price</th>\n",
       "        </tr>\n",
       "    </thead>\n",
       "    <tbody>\n",
       "        <tr>\n",
       "            <td>strawberry</td> <td>pink       </td> <td>$3.55</td>\n",
       "        </tr>\n",
       "        <tr>\n",
       "            <td>chocolate </td> <td>light brown</td> <td>$4.75</td>\n",
       "        </tr>\n",
       "        <tr>\n",
       "            <td>chocolate </td> <td>dark brown </td> <td>$5.25</td>\n",
       "        </tr>\n",
       "        <tr>\n",
       "            <td>strawberry</td> <td>pink       </td> <td>$5.25</td>\n",
       "        </tr>\n",
       "        <tr>\n",
       "            <td>chocolate </td> <td>dark brown </td> <td>$5.25</td>\n",
       "        </tr>\n",
       "        <tr>\n",
       "            <td>bubblegum </td> <td>pink       </td> <td>$4.75</td>\n",
       "        </tr>\n",
       "    </tbody>\n",
       "</table>"
      ],
      "text/plain": [
       "Flavor     | Color       | Price\n",
       "strawberry | pink        | $3.55\n",
       "chocolate  | light brown | $4.75\n",
       "chocolate  | dark brown  | $5.25\n",
       "strawberry | pink        | $5.25\n",
       "chocolate  | dark brown  | $5.25\n",
       "bubblegum  | pink        | $4.75"
      ]
     },
     "execution_count": 32,
     "metadata": {},
     "output_type": "execute_result"
    }
   ],
   "source": [
    "cones.set_format('Price', CurrencyFormatter)"
   ]
  },
  {
   "cell_type": "code",
   "execution_count": 34,
   "id": "f224534f-f50f-4360-a721-ce00d474949b",
   "metadata": {},
   "outputs": [
    {
     "data": {
      "text/html": [
       "<table border=\"1\" class=\"dataframe\">\n",
       "    <thead>\n",
       "        <tr>\n",
       "            <th>rank</th> <th>name</th> <th>position</th> <th>team</th> <th>salary</th> <th>season</th>\n",
       "        </tr>\n",
       "    </thead>\n",
       "    <tbody>\n",
       "        <tr>\n",
       "            <td>1   </td> <td>Shaquille O'Neal</td> <td>C       </td> <td>Los Angeles Lakers    </td> <td>$17,142,000</td> <td>2000  </td>\n",
       "        </tr>\n",
       "        <tr>\n",
       "            <td>2   </td> <td>Kevin Garnett   </td> <td>PF      </td> <td>Minnesota Timberwolves</td> <td>$16,806,000</td> <td>2000  </td>\n",
       "        </tr>\n",
       "        <tr>\n",
       "            <td>3   </td> <td>Alonzo Mourning </td> <td>C       </td> <td>Miami Heat            </td> <td>$15,004,000</td> <td>2000  </td>\n",
       "        </tr>\n",
       "        <tr>\n",
       "            <td>4   </td> <td>Juwan Howard    </td> <td>PF      </td> <td>Washington Wizards    </td> <td>$15,000,000</td> <td>2000  </td>\n",
       "        </tr>\n",
       "        <tr>\n",
       "            <td>5   </td> <td>Scottie Pippen  </td> <td>SF      </td> <td>Portland Trail Blazers</td> <td>$14,795,000</td> <td>2000  </td>\n",
       "        </tr>\n",
       "        <tr>\n",
       "            <td>6   </td> <td>Karl Malone     </td> <td>PF      </td> <td>Utah Jazz             </td> <td>$14,000,000</td> <td>2000  </td>\n",
       "        </tr>\n",
       "        <tr>\n",
       "            <td>7   </td> <td>Larry Johnson   </td> <td>F       </td> <td>New York Knicks       </td> <td>$11,910,000</td> <td>2000  </td>\n",
       "        </tr>\n",
       "        <tr>\n",
       "            <td>8   </td> <td>Gary Payton     </td> <td>PG      </td> <td>Seattle SuperSonics   </td> <td>$11,020,000</td> <td>2000  </td>\n",
       "        </tr>\n",
       "        <tr>\n",
       "            <td>9   </td> <td>Rasheed Wallace </td> <td>PF      </td> <td>Portland Trail Blazers</td> <td>$10,800,000</td> <td>2000  </td>\n",
       "        </tr>\n",
       "        <tr>\n",
       "            <td>10  </td> <td>Shawn Kemp      </td> <td>C       </td> <td>Cleveland Cavaliers   </td> <td>$10,780,000</td> <td>2000  </td>\n",
       "        </tr>\n",
       "    </tbody>\n",
       "</table>\n",
       "<p>... (9446 rows omitted)</p>"
      ],
      "text/plain": [
       "rank | name             | position | team                   | salary      | season\n",
       "1    | Shaquille O'Neal | C        | Los Angeles Lakers     | $17,142,000 | 2000\n",
       "2    | Kevin Garnett    | PF       | Minnesota Timberwolves | $16,806,000 | 2000\n",
       "3    | Alonzo Mourning  | C        | Miami Heat             | $15,004,000 | 2000\n",
       "4    | Juwan Howard     | PF       | Washington Wizards     | $15,000,000 | 2000\n",
       "5    | Scottie Pippen   | SF       | Portland Trail Blazers | $14,795,000 | 2000\n",
       "6    | Karl Malone      | PF       | Utah Jazz              | $14,000,000 | 2000\n",
       "7    | Larry Johnson    | F        | New York Knicks        | $11,910,000 | 2000\n",
       "8    | Gary Payton      | PG       | Seattle SuperSonics    | $11,020,000 | 2000\n",
       "9    | Rasheed Wallace  | PF       | Portland Trail Blazers | $10,800,000 | 2000\n",
       "10   | Shawn Kemp       | C        | Cleveland Cavaliers    | $10,780,000 | 2000\n",
       "... (9446 rows omitted)"
      ]
     },
     "execution_count": 34,
     "metadata": {},
     "output_type": "execute_result"
    }
   ],
   "source": [
    "nba.set_format('salary', CurrencyFormatter)"
   ]
  },
  {
   "cell_type": "code",
   "execution_count": 35,
   "id": "cdfecf24-d9ab-4e44-8f25-d953011b9655",
   "metadata": {},
   "outputs": [
    {
     "data": {
      "text/html": [
       "<table border=\"1\" class=\"dataframe\">\n",
       "    <thead>\n",
       "        <tr>\n",
       "            <th>Longitude</th> <th>Latitude</th> <th>City</th> <th>Direction</th> <th>Survivors</th>\n",
       "        </tr>\n",
       "    </thead>\n",
       "    <tbody>\n",
       "        <tr>\n",
       "            <td>32       </td> <td>54.8    </td> <td>Smolensk   </td> <td>Advance  </td> <td>145000   </td>\n",
       "        </tr>\n",
       "        <tr>\n",
       "            <td>33.2     </td> <td>54.9    </td> <td>Dorogobouge</td> <td>Advance  </td> <td>140000   </td>\n",
       "        </tr>\n",
       "        <tr>\n",
       "            <td>34.4     </td> <td>55.5    </td> <td>Chjat      </td> <td>Advance  </td> <td>127100   </td>\n",
       "        </tr>\n",
       "        <tr>\n",
       "            <td>37.6     </td> <td>55.8    </td> <td>Moscou     </td> <td>Advance  </td> <td>100000   </td>\n",
       "        </tr>\n",
       "        <tr>\n",
       "            <td>34.3     </td> <td>55.2    </td> <td>Wixma      </td> <td>Retreat  </td> <td>55000    </td>\n",
       "        </tr>\n",
       "        <tr>\n",
       "            <td>32       </td> <td>54.6    </td> <td>Smolensk   </td> <td>Retreat  </td> <td>24000    </td>\n",
       "        </tr>\n",
       "        <tr>\n",
       "            <td>30.4     </td> <td>54.4    </td> <td>Orscha     </td> <td>Retreat  </td> <td>20000    </td>\n",
       "        </tr>\n",
       "        <tr>\n",
       "            <td>26.8     </td> <td>54.3    </td> <td>Moiodexno  </td> <td>Retreat  </td> <td>12000    </td>\n",
       "        </tr>\n",
       "    </tbody>\n",
       "</table>"
      ],
      "text/plain": [
       "Longitude | Latitude | City        | Direction | Survivors\n",
       "32        | 54.8     | Smolensk    | Advance   | 145000\n",
       "33.2      | 54.9     | Dorogobouge | Advance   | 140000\n",
       "34.4      | 55.5     | Chjat       | Advance   | 127100\n",
       "37.6      | 55.8     | Moscou      | Advance   | 100000\n",
       "34.3      | 55.2     | Wixma       | Retreat   | 55000\n",
       "32        | 54.6     | Smolensk    | Retreat   | 24000\n",
       "30.4      | 54.4     | Orscha      | Retreat   | 20000\n",
       "26.8      | 54.3     | Moiodexno   | Retreat   | 12000"
      ]
     },
     "execution_count": 35,
     "metadata": {},
     "output_type": "execute_result"
    }
   ],
   "source": [
    "minard = Table().read_table('minard.csv')\n",
    "minard"
   ]
  },
  {
   "cell_type": "code",
   "execution_count": 36,
   "id": "70ebe073-02fc-41bb-b736-6bcf97c3e6cc",
   "metadata": {},
   "outputs": [
    {
     "data": {
      "text/plain": [
       "array([145000, 140000, 127100, 100000,  55000,  24000,  20000,  12000])"
      ]
     },
     "execution_count": 36,
     "metadata": {},
     "output_type": "execute_result"
    }
   ],
   "source": [
    "minard.column('Survivors')"
   ]
  },
  {
   "cell_type": "code",
   "execution_count": 41,
   "id": "586b5670-7fb0-4ebc-b41b-f512a439c578",
   "metadata": {},
   "outputs": [
    {
     "data": {
      "text/html": [
       "<table border=\"1\" class=\"dataframe\">\n",
       "    <thead>\n",
       "        <tr>\n",
       "            <th>Longitude</th> <th>Latitude</th> <th>City</th> <th>Direction</th> <th>Survivors</th> <th>Pcnt Survived</th>\n",
       "        </tr>\n",
       "    </thead>\n",
       "    <tbody>\n",
       "        <tr>\n",
       "            <td>32       </td> <td>54.8    </td> <td>Smolensk   </td> <td>Advance  </td> <td>145,000  </td> <td>100.00%      </td>\n",
       "        </tr>\n",
       "        <tr>\n",
       "            <td>33.2     </td> <td>54.9    </td> <td>Dorogobouge</td> <td>Advance  </td> <td>140,000  </td> <td>96.55%       </td>\n",
       "        </tr>\n",
       "        <tr>\n",
       "            <td>34.4     </td> <td>55.5    </td> <td>Chjat      </td> <td>Advance  </td> <td>127,100  </td> <td>87.66%       </td>\n",
       "        </tr>\n",
       "        <tr>\n",
       "            <td>37.6     </td> <td>55.8    </td> <td>Moscou     </td> <td>Advance  </td> <td>100,000  </td> <td>68.97%       </td>\n",
       "        </tr>\n",
       "        <tr>\n",
       "            <td>34.3     </td> <td>55.2    </td> <td>Wixma      </td> <td>Retreat  </td> <td>55,000   </td> <td>37.93%       </td>\n",
       "        </tr>\n",
       "        <tr>\n",
       "            <td>32       </td> <td>54.6    </td> <td>Smolensk   </td> <td>Retreat  </td> <td>24,000   </td> <td>16.55%       </td>\n",
       "        </tr>\n",
       "        <tr>\n",
       "            <td>30.4     </td> <td>54.4    </td> <td>Orscha     </td> <td>Retreat  </td> <td>20,000   </td> <td>13.79%       </td>\n",
       "        </tr>\n",
       "        <tr>\n",
       "            <td>26.8     </td> <td>54.3    </td> <td>Moiodexno  </td> <td>Retreat  </td> <td>12,000   </td> <td>8.28%        </td>\n",
       "        </tr>\n",
       "    </tbody>\n",
       "</table>"
      ],
      "text/plain": [
       "Longitude | Latitude | City        | Direction | Survivors | Pcnt Survived\n",
       "32        | 54.8     | Smolensk    | Advance   | 145,000   | 100.00%\n",
       "33.2      | 54.9     | Dorogobouge | Advance   | 140,000   | 96.55%\n",
       "34.4      | 55.5     | Chjat       | Advance   | 127,100   | 87.66%\n",
       "37.6      | 55.8     | Moscou      | Advance   | 100,000   | 68.97%\n",
       "34.3      | 55.2     | Wixma       | Retreat   | 55,000    | 37.93%\n",
       "32        | 54.6     | Smolensk    | Retreat   | 24,000    | 16.55%\n",
       "30.4      | 54.4     | Orscha      | Retreat   | 20,000    | 13.79%\n",
       "26.8      | 54.3     | Moiodexno   | Retreat   | 12,000    | 8.28%"
      ]
     },
     "execution_count": 41,
     "metadata": {},
     "output_type": "execute_result"
    }
   ],
   "source": [
    "pcnt_survived = minard.column('Survivors')/minard.column('Survivors').item(0)\n",
    "new_minard = minard.with_columns('Pcnt Survived', pcnt_survived)\n",
    "new_minard.set_format('Pcnt Survived',PercentFormatter)\n",
    "new_minard.set_format('Survivors', NumberFormatter)"
   ]
  },
  {
   "cell_type": "code",
   "execution_count": 42,
   "id": "4e91e837-7fa9-4d37-8bfc-ebcc6137d7b5",
   "metadata": {},
   "outputs": [
    {
     "data": {
      "text/html": [
       "<table border=\"1\" class=\"dataframe\">\n",
       "    <thead>\n",
       "        <tr>\n",
       "            <th>Longitude</th> <th>Latitude</th> <th>City</th> <th>Direction</th> <th>Survivors</th> <th>Pcnt Survived</th>\n",
       "        </tr>\n",
       "    </thead>\n",
       "    <tbody>\n",
       "        <tr>\n",
       "            <td>32       </td> <td>54.8    </td> <td>Smolensk   </td> <td>Advance  </td> <td>145,000  </td> <td>100.00%      </td>\n",
       "        </tr>\n",
       "        <tr>\n",
       "            <td>33.2     </td> <td>54.9    </td> <td>Dorogobouge</td> <td>Advance  </td> <td>140,000  </td> <td>96.55%       </td>\n",
       "        </tr>\n",
       "        <tr>\n",
       "            <td>34.4     </td> <td>55.5    </td> <td>Chjat      </td> <td>Advance  </td> <td>127,100  </td> <td>87.66%       </td>\n",
       "        </tr>\n",
       "        <tr>\n",
       "            <td>37.6     </td> <td>55.8    </td> <td>Moscou     </td> <td>Advance  </td> <td>100,000  </td> <td>68.97%       </td>\n",
       "        </tr>\n",
       "    </tbody>\n",
       "</table>"
      ],
      "text/plain": [
       "Longitude | Latitude | City        | Direction | Survivors | Pcnt Survived\n",
       "32        | 54.8     | Smolensk    | Advance   | 145,000   | 100.00%\n",
       "33.2      | 54.9     | Dorogobouge | Advance   | 140,000   | 96.55%\n",
       "34.4      | 55.5     | Chjat       | Advance   | 127,100   | 87.66%\n",
       "37.6      | 55.8     | Moscou      | Advance   | 100,000   | 68.97%"
      ]
     },
     "execution_count": 42,
     "metadata": {},
     "output_type": "execute_result"
    }
   ],
   "source": [
    "new_minard.where('Direction', are.equal_to('Advance'))"
   ]
  },
  {
   "cell_type": "code",
   "execution_count": 43,
   "id": "67a60047-3e5f-4b67-a797-6dd4ee1802b3",
   "metadata": {},
   "outputs": [
    {
     "data": {
      "text/html": [
       "<table border=\"1\" class=\"dataframe\">\n",
       "    <thead>\n",
       "        <tr>\n",
       "            <th>rank</th> <th>name</th> <th>position</th> <th>team</th> <th>salary</th> <th>season</th>\n",
       "        </tr>\n",
       "    </thead>\n",
       "    <tbody>\n",
       "        <tr>\n",
       "            <td>1   </td> <td>Shaquille O'Neal</td> <td>C       </td> <td>Los Angeles Lakers    </td> <td>$17,142,000</td> <td>2000  </td>\n",
       "        </tr>\n",
       "        <tr>\n",
       "            <td>2   </td> <td>Kevin Garnett   </td> <td>PF      </td> <td>Minnesota Timberwolves</td> <td>$16,806,000</td> <td>2000  </td>\n",
       "        </tr>\n",
       "        <tr>\n",
       "            <td>3   </td> <td>Alonzo Mourning </td> <td>C       </td> <td>Miami Heat            </td> <td>$15,004,000</td> <td>2000  </td>\n",
       "        </tr>\n",
       "        <tr>\n",
       "            <td>4   </td> <td>Juwan Howard    </td> <td>PF      </td> <td>Washington Wizards    </td> <td>$15,000,000</td> <td>2000  </td>\n",
       "        </tr>\n",
       "        <tr>\n",
       "            <td>5   </td> <td>Scottie Pippen  </td> <td>SF      </td> <td>Portland Trail Blazers</td> <td>$14,795,000</td> <td>2000  </td>\n",
       "        </tr>\n",
       "        <tr>\n",
       "            <td>6   </td> <td>Karl Malone     </td> <td>PF      </td> <td>Utah Jazz             </td> <td>$14,000,000</td> <td>2000  </td>\n",
       "        </tr>\n",
       "        <tr>\n",
       "            <td>7   </td> <td>Larry Johnson   </td> <td>F       </td> <td>New York Knicks       </td> <td>$11,910,000</td> <td>2000  </td>\n",
       "        </tr>\n",
       "        <tr>\n",
       "            <td>8   </td> <td>Gary Payton     </td> <td>PG      </td> <td>Seattle SuperSonics   </td> <td>$11,020,000</td> <td>2000  </td>\n",
       "        </tr>\n",
       "        <tr>\n",
       "            <td>9   </td> <td>Rasheed Wallace </td> <td>PF      </td> <td>Portland Trail Blazers</td> <td>$10,800,000</td> <td>2000  </td>\n",
       "        </tr>\n",
       "        <tr>\n",
       "            <td>10  </td> <td>Shawn Kemp      </td> <td>C       </td> <td>Cleveland Cavaliers   </td> <td>$10,780,000</td> <td>2000  </td>\n",
       "        </tr>\n",
       "    </tbody>\n",
       "</table>\n",
       "<p>... (9446 rows omitted)</p>"
      ],
      "text/plain": [
       "rank | name             | position | team                   | salary      | season\n",
       "1    | Shaquille O'Neal | C        | Los Angeles Lakers     | $17,142,000 | 2000\n",
       "2    | Kevin Garnett    | PF       | Minnesota Timberwolves | $16,806,000 | 2000\n",
       "3    | Alonzo Mourning  | C        | Miami Heat             | $15,004,000 | 2000\n",
       "4    | Juwan Howard     | PF       | Washington Wizards     | $15,000,000 | 2000\n",
       "5    | Scottie Pippen   | SF       | Portland Trail Blazers | $14,795,000 | 2000\n",
       "6    | Karl Malone      | PF       | Utah Jazz              | $14,000,000 | 2000\n",
       "7    | Larry Johnson    | F        | New York Knicks        | $11,910,000 | 2000\n",
       "8    | Gary Payton      | PG       | Seattle SuperSonics    | $11,020,000 | 2000\n",
       "9    | Rasheed Wallace  | PF       | Portland Trail Blazers | $10,800,000 | 2000\n",
       "10   | Shawn Kemp       | C        | Cleveland Cavaliers    | $10,780,000 | 2000\n",
       "... (9446 rows omitted)"
      ]
     },
     "execution_count": 43,
     "metadata": {},
     "output_type": "execute_result"
    }
   ],
   "source": [
    "nba"
   ]
  },
  {
   "cell_type": "code",
   "execution_count": 44,
   "id": "e09bc51b-33dc-4c36-9c0c-4af2cdd4bcd5",
   "metadata": {},
   "outputs": [
    {
     "data": {
      "text/html": [
       "<table border=\"1\" class=\"dataframe\">\n",
       "    <thead>\n",
       "        <tr>\n",
       "            <th>rank</th> <th>name</th> <th>position</th> <th>team</th> <th>salary</th> <th>season</th>\n",
       "        </tr>\n",
       "    </thead>\n",
       "    <tbody>\n",
       "        <tr>\n",
       "            <td>1   </td> <td>Shaquille O'Neal</td> <td>C       </td> <td>Los Angeles Lakers    </td> <td>$17,142,000</td> <td>2000  </td>\n",
       "        </tr>\n",
       "        <tr>\n",
       "            <td>2   </td> <td>Kevin Garnett   </td> <td>PF      </td> <td>Minnesota Timberwolves</td> <td>$16,806,000</td> <td>2000  </td>\n",
       "        </tr>\n",
       "        <tr>\n",
       "            <td>3   </td> <td>Alonzo Mourning </td> <td>C       </td> <td>Miami Heat            </td> <td>$15,004,000</td> <td>2000  </td>\n",
       "        </tr>\n",
       "        <tr>\n",
       "            <td>4   </td> <td>Juwan Howard    </td> <td>PF      </td> <td>Washington Wizards    </td> <td>$15,000,000</td> <td>2000  </td>\n",
       "        </tr>\n",
       "        <tr>\n",
       "            <td>5   </td> <td>Scottie Pippen  </td> <td>SF      </td> <td>Portland Trail Blazers</td> <td>$14,795,000</td> <td>2000  </td>\n",
       "        </tr>\n",
       "        <tr>\n",
       "            <td>6   </td> <td>Karl Malone     </td> <td>PF      </td> <td>Utah Jazz             </td> <td>$14,000,000</td> <td>2000  </td>\n",
       "        </tr>\n",
       "        <tr>\n",
       "            <td>7   </td> <td>Larry Johnson   </td> <td>F       </td> <td>New York Knicks       </td> <td>$11,910,000</td> <td>2000  </td>\n",
       "        </tr>\n",
       "        <tr>\n",
       "            <td>8   </td> <td>Gary Payton     </td> <td>PG      </td> <td>Seattle SuperSonics   </td> <td>$11,020,000</td> <td>2000  </td>\n",
       "        </tr>\n",
       "        <tr>\n",
       "            <td>9   </td> <td>Rasheed Wallace </td> <td>PF      </td> <td>Portland Trail Blazers</td> <td>$10,800,000</td> <td>2000  </td>\n",
       "        </tr>\n",
       "        <tr>\n",
       "            <td>10  </td> <td>Shawn Kemp      </td> <td>C       </td> <td>Cleveland Cavaliers   </td> <td>$10,780,000</td> <td>2000  </td>\n",
       "        </tr>\n",
       "    </tbody>\n",
       "</table>\n",
       "<p>... (1245 rows omitted)</p>"
      ],
      "text/plain": [
       "rank | name             | position | team                   | salary      | season\n",
       "1    | Shaquille O'Neal | C        | Los Angeles Lakers     | $17,142,000 | 2000\n",
       "2    | Kevin Garnett    | PF       | Minnesota Timberwolves | $16,806,000 | 2000\n",
       "3    | Alonzo Mourning  | C        | Miami Heat             | $15,004,000 | 2000\n",
       "4    | Juwan Howard     | PF       | Washington Wizards     | $15,000,000 | 2000\n",
       "5    | Scottie Pippen   | SF       | Portland Trail Blazers | $14,795,000 | 2000\n",
       "6    | Karl Malone      | PF       | Utah Jazz              | $14,000,000 | 2000\n",
       "7    | Larry Johnson    | F        | New York Knicks        | $11,910,000 | 2000\n",
       "8    | Gary Payton      | PG       | Seattle SuperSonics    | $11,020,000 | 2000\n",
       "9    | Rasheed Wallace  | PF       | Portland Trail Blazers | $10,800,000 | 2000\n",
       "10   | Shawn Kemp       | C        | Cleveland Cavaliers    | $10,780,000 | 2000\n",
       "... (1245 rows omitted)"
      ]
     },
     "execution_count": 44,
     "metadata": {},
     "output_type": "execute_result"
    }
   ],
   "source": [
    "nba.where('salary', are.above(10000000))"
   ]
  },
  {
   "cell_type": "code",
   "execution_count": 49,
   "id": "f5b4122a-0d67-4696-a66d-bba7790ed767",
   "metadata": {},
   "outputs": [
    {
     "data": {
      "text/plain": [
       "array([ 4568071.,  3408207.,  3251984.,  3220008.,  3208343.,  3076977.,\n",
       "        2892878.,  2860125.,  2860125.,  2800950.,  2800265.,  2769920.,\n",
       "        2735750.,  2683340.,  2674894.,  2644903.,  2466225.,  2300000.,\n",
       "        2295000.,  2231700.,  2229078.,  2204086.,  2204086.,  2204086.,\n",
       "        2173125.,  2142577.,  2142577.,  2141250.,  2115081.,  2100000.,\n",
       "        2081700.,  2055188.,  2025000.,  2025000.,  1950000.,  1930295.,\n",
       "        1875000.,  1865060.,  1852500.,  1815000.,  1800000.,  1800000.,\n",
       "        1800000.,  1793182.,  1779375.,  1769437.,  1694288.,  1665000.,\n",
       "        1656900.,  1647982.,  1617978.,  1612500.,  1554217.,  1522039.,\n",
       "        1515878.])"
      ]
     },
     "execution_count": 49,
     "metadata": {},
     "output_type": "execute_result"
    }
   ],
   "source": [
    "\n",
    "agent = nba.where('season', are.equal_to(2014)).where('salary', are.above(10000000)).column('salary') * 0.15\n",
    "agent = np.round(agent,0)"
   ]
  },
  {
   "cell_type": "code",
   "execution_count": 53,
   "id": "bb28ca93-cbd0-43fc-ae27-78c57b18ec9e",
   "metadata": {},
   "outputs": [
    {
     "data": {
      "text/html": [
       "<table border=\"1\" class=\"dataframe\">\n",
       "    <thead>\n",
       "        <tr>\n",
       "            <th>rank</th> <th>name</th> <th>position</th> <th>team</th> <th>salary</th> <th>season</th> <th>Agent Pay</th>\n",
       "        </tr>\n",
       "    </thead>\n",
       "    <tbody>\n",
       "        <tr>\n",
       "            <td>1   </td> <td>Kobe Bryant      </td> <td>SF      </td> <td>Los Angeles Lakers</td> <td>$30,453,805</td> <td>2014  </td> <td>$4,568,070.75</td>\n",
       "        </tr>\n",
       "        <tr>\n",
       "            <td>2   </td> <td>Dirk Nowitzki    </td> <td>F       </td> <td>Dallas Mavericks  </td> <td>$22,721,381</td> <td>2014  </td> <td>$3,408,207.15</td>\n",
       "        </tr>\n",
       "        <tr>\n",
       "            <td>3   </td> <td>Amar'e Stoudemire</td> <td>C       </td> <td>New York Knicks   </td> <td>$21,679,893</td> <td>2014  </td> <td>$3,251,983.95</td>\n",
       "        </tr>\n",
       "        <tr>\n",
       "            <td>4   </td> <td>Joe Johnson      </td> <td>G       </td> <td>Brooklyn Nets     </td> <td>$21,466,718</td> <td>2014  </td> <td>$3,220,007.70</td>\n",
       "        </tr>\n",
       "        <tr>\n",
       "            <td>5   </td> <td>Carmelo Anthony  </td> <td>PF      </td> <td>New York Knicks   </td> <td>$21,388,953</td> <td>2014  </td> <td>$3,208,342.95</td>\n",
       "        </tr>\n",
       "        <tr>\n",
       "            <td>6   </td> <td>Dwight Howard    </td> <td>C       </td> <td>Houston Rockets   </td> <td>$20,513,178</td> <td>2014  </td> <td>$3,076,976.70</td>\n",
       "        </tr>\n",
       "        <tr>\n",
       "            <td>7   </td> <td>Pau Gasol        </td> <td>PF      </td> <td>Los Angeles Lakers</td> <td>$19,285,850</td> <td>2014  </td> <td>$2,892,877.50</td>\n",
       "        </tr>\n",
       "        <tr>\n",
       "            <td>8   </td> <td>Chris Bosh       </td> <td>PF      </td> <td>Miami Heat        </td> <td>$19,067,500</td> <td>2014  </td> <td>$2,860,125.00</td>\n",
       "        </tr>\n",
       "        <tr>\n",
       "            <td>9   </td> <td>LeBron James     </td> <td>SF      </td> <td>Miami Heat        </td> <td>$19,067,500</td> <td>2014  </td> <td>$2,860,125.00</td>\n",
       "        </tr>\n",
       "        <tr>\n",
       "            <td>10  </td> <td>Dwyane Wade      </td> <td>G       </td> <td>Miami Heat        </td> <td>$18,673,000</td> <td>2014  </td> <td>$2,800,950.00</td>\n",
       "        </tr>\n",
       "    </tbody>\n",
       "</table>\n",
       "<p>... (45 rows omitted)</p>"
      ],
      "text/plain": [
       "rank | name              | position | team               | salary      | season | Agent Pay\n",
       "1    | Kobe Bryant       | SF       | Los Angeles Lakers | $30,453,805 | 2014   | $4,568,070.75\n",
       "2    | Dirk Nowitzki     | F        | Dallas Mavericks   | $22,721,381 | 2014   | $3,408,207.15\n",
       "3    | Amar'e Stoudemire | C        | New York Knicks    | $21,679,893 | 2014   | $3,251,983.95\n",
       "4    | Joe Johnson       | G        | Brooklyn Nets      | $21,466,718 | 2014   | $3,220,007.70\n",
       "5    | Carmelo Anthony   | PF       | New York Knicks    | $21,388,953 | 2014   | $3,208,342.95\n",
       "6    | Dwight Howard     | C        | Houston Rockets    | $20,513,178 | 2014   | $3,076,976.70\n",
       "7    | Pau Gasol         | PF       | Los Angeles Lakers | $19,285,850 | 2014   | $2,892,877.50\n",
       "8    | Chris Bosh        | PF       | Miami Heat         | $19,067,500 | 2014   | $2,860,125.00\n",
       "9    | LeBron James      | SF       | Miami Heat         | $19,067,500 | 2014   | $2,860,125.00\n",
       "10   | Dwyane Wade       | G        | Miami Heat         | $18,673,000 | 2014   | $2,800,950.00\n",
       "... (45 rows omitted)"
      ]
     },
     "execution_count": 53,
     "metadata": {},
     "output_type": "execute_result"
    }
   ],
   "source": [
    "nba_1 = nba.where('season', are.equal_to(2014)).where('salary', are.above(10000000)).with_columns('Agent Pay', agent)\n",
    "nba_1.set_format('Agent Pay', CurrencyFormatter)"
   ]
  },
  {
   "cell_type": "code",
   "execution_count": 55,
   "id": "e3d5bed0-d7b4-4431-992f-9582cecfc406",
   "metadata": {},
   "outputs": [
    {
     "data": {
      "text/html": [
       "<table border=\"1\" class=\"dataframe\">\n",
       "    <thead>\n",
       "        <tr>\n",
       "            <th>rank</th> <th>name</th> <th>position</th> <th>team</th> <th>salary</th> <th>season</th> <th>Agent Pay</th> <th>Sal Payer</th> <th>Agent Sal</th>\n",
       "        </tr>\n",
       "    </thead>\n",
       "    <tbody>\n",
       "        <tr>\n",
       "            <td>1   </td> <td>Kobe Bryant      </td> <td>SF      </td> <td>Los Angeles Lakers</td> <td>$30,453,805</td> <td>2014  </td> <td>$4,568,070.75</td> <td>30.4538  </td> <td>4.56807  </td>\n",
       "        </tr>\n",
       "        <tr>\n",
       "            <td>2   </td> <td>Dirk Nowitzki    </td> <td>F       </td> <td>Dallas Mavericks  </td> <td>$22,721,381</td> <td>2014  </td> <td>$3,408,207.15</td> <td>22.7214  </td> <td>3.40821  </td>\n",
       "        </tr>\n",
       "        <tr>\n",
       "            <td>3   </td> <td>Amar'e Stoudemire</td> <td>C       </td> <td>New York Knicks   </td> <td>$21,679,893</td> <td>2014  </td> <td>$3,251,983.95</td> <td>21.6799  </td> <td>3.25198  </td>\n",
       "        </tr>\n",
       "        <tr>\n",
       "            <td>4   </td> <td>Joe Johnson      </td> <td>G       </td> <td>Brooklyn Nets     </td> <td>$21,466,718</td> <td>2014  </td> <td>$3,220,007.70</td> <td>21.4667  </td> <td>3.22001  </td>\n",
       "        </tr>\n",
       "        <tr>\n",
       "            <td>5   </td> <td>Carmelo Anthony  </td> <td>PF      </td> <td>New York Knicks   </td> <td>$21,388,953</td> <td>2014  </td> <td>$3,208,342.95</td> <td>21.389   </td> <td>3.20834  </td>\n",
       "        </tr>\n",
       "        <tr>\n",
       "            <td>6   </td> <td>Dwight Howard    </td> <td>C       </td> <td>Houston Rockets   </td> <td>$20,513,178</td> <td>2014  </td> <td>$3,076,976.70</td> <td>20.5132  </td> <td>3.07698  </td>\n",
       "        </tr>\n",
       "        <tr>\n",
       "            <td>7   </td> <td>Pau Gasol        </td> <td>PF      </td> <td>Los Angeles Lakers</td> <td>$19,285,850</td> <td>2014  </td> <td>$2,892,877.50</td> <td>19.2858  </td> <td>2.89288  </td>\n",
       "        </tr>\n",
       "        <tr>\n",
       "            <td>8   </td> <td>Chris Bosh       </td> <td>PF      </td> <td>Miami Heat        </td> <td>$19,067,500</td> <td>2014  </td> <td>$2,860,125.00</td> <td>19.0675  </td> <td>2.86013  </td>\n",
       "        </tr>\n",
       "        <tr>\n",
       "            <td>9   </td> <td>LeBron James     </td> <td>SF      </td> <td>Miami Heat        </td> <td>$19,067,500</td> <td>2014  </td> <td>$2,860,125.00</td> <td>19.0675  </td> <td>2.86013  </td>\n",
       "        </tr>\n",
       "        <tr>\n",
       "            <td>10  </td> <td>Dwyane Wade      </td> <td>G       </td> <td>Miami Heat        </td> <td>$18,673,000</td> <td>2014  </td> <td>$2,800,950.00</td> <td>18.673   </td> <td>2.80095  </td>\n",
       "        </tr>\n",
       "    </tbody>\n",
       "</table>\n",
       "<p>... (45 rows omitted)</p>"
      ],
      "text/plain": [
       "rank | name              | position | team               | salary      | season | Agent Pay     | Sal Payer | Agent Sal\n",
       "1    | Kobe Bryant       | SF       | Los Angeles Lakers | $30,453,805 | 2014   | $4,568,070.75 | 30.4538   | 4.56807\n",
       "2    | Dirk Nowitzki     | F        | Dallas Mavericks   | $22,721,381 | 2014   | $3,408,207.15 | 22.7214   | 3.40821\n",
       "3    | Amar'e Stoudemire | C        | New York Knicks    | $21,679,893 | 2014   | $3,251,983.95 | 21.6799   | 3.25198\n",
       "4    | Joe Johnson       | G        | Brooklyn Nets      | $21,466,718 | 2014   | $3,220,007.70 | 21.4667   | 3.22001\n",
       "5    | Carmelo Anthony   | PF       | New York Knicks    | $21,388,953 | 2014   | $3,208,342.95 | 21.389    | 3.20834\n",
       "6    | Dwight Howard     | C        | Houston Rockets    | $20,513,178 | 2014   | $3,076,976.70 | 20.5132   | 3.07698\n",
       "7    | Pau Gasol         | PF       | Los Angeles Lakers | $19,285,850 | 2014   | $2,892,877.50 | 19.2858   | 2.89288\n",
       "8    | Chris Bosh        | PF       | Miami Heat         | $19,067,500 | 2014   | $2,860,125.00 | 19.0675   | 2.86013\n",
       "9    | LeBron James      | SF       | Miami Heat         | $19,067,500 | 2014   | $2,860,125.00 | 19.0675   | 2.86013\n",
       "10   | Dwyane Wade       | G        | Miami Heat         | $18,673,000 | 2014   | $2,800,950.00 | 18.673    | 2.80095\n",
       "... (45 rows omitted)"
      ]
     },
     "execution_count": 55,
     "metadata": {},
     "output_type": "execute_result"
    }
   ],
   "source": [
    "nba_1 = nba_1.with_columns('Sal Payer', nba_1.column('salary')/1000000,\n",
    "                  'Agent Sal', nba_1.column('Agent Pay')/1000000)\n",
    "nba_1"
   ]
  },
  {
   "cell_type": "markdown",
   "id": "fc3b7a86-b865-4ab7-9cb4-e3eae8e9df04",
   "metadata": {},
   "source": [
    "# Scatter Plots\n",
    "Given two numeric values, the plot is a series of points on the graph.\n",
    "```\n",
    "actors.scatter('column_x', 'column_y')\n",
    "```"
   ]
  },
  {
   "cell_type": "code",
   "execution_count": 56,
   "id": "08bd520c-41c5-4761-b129-e06743e877c9",
   "metadata": {},
   "outputs": [
    {
     "data": {
      "image/png": "[encoded data removed]",
      "text/plain": [
       "<Figure size 500x500 with 1 Axes>"
      ]
     },
     "metadata": {},
     "output_type": "display_data"
    }
   ],
   "source": [
    "nba_1.scatter('Sal Payer', 'Agent Sal')"
   ]
  },
  {
   "cell_type": "code",
   "execution_count": 64,
   "id": "ce9a0b93-ebc2-4deb-8499-9a30319cf29c",
   "metadata": {},
   "outputs": [
    {
     "data": {
      "image/png": "[encoded data removed]",
      "text/plain": [
       "<Figure size 600x600 with 1 Axes>"
      ]
     },
     "metadata": {},
     "output_type": "display_data"
    }
   ],
   "source": [
    "nba.select('position', 'season', 'salary').group(['position', 'season'], np.mean).where('position',are.equal_to('C')).drop('position').plot('season', 'salary mean')"
   ]
  },
  {
   "cell_type": "markdown",
   "id": "73639fba-ed97-44c6-9cee-1263655d742e",
   "metadata": {},
   "source": [
    "# np.arange\n",
    "Creates an arrange of values that start at a specified value and increases by n steps until to reach the ending value.  It never includes the ending value.\n",
    "```\n",
    "np.arange(start, end, step)\n",
    "```"
   ]
  },
  {
   "cell_type": "code",
   "execution_count": 67,
   "id": "7ed144f0-5dbb-469d-b077-0b9729066a94",
   "metadata": {},
   "outputs": [
    {
     "data": {
      "text/plain": [
       "array([2000, 2003, 2006, 2009, 2012, 2015, 2018, 2021, 2024, 2027])"
      ]
     },
     "execution_count": 67,
     "metadata": {},
     "output_type": "execute_result"
    }
   ],
   "source": [
    "np.arange(2000, 2028, 3)"
   ]
  },
  {
   "cell_type": "code",
   "execution_count": 72,
   "id": "9dae9751-e81f-43ad-b131-e73abe16af13",
   "metadata": {},
   "outputs": [],
   "source": [
    "binx = np.arange(2000, 2021,5)"
   ]
  },
  {
   "cell_type": "code",
   "execution_count": 81,
   "id": "9874e5db-65f7-4ed5-8c47-b1f1736935f9",
   "metadata": {},
   "outputs": [
    {
     "data": {
      "image/png": "[encoded data removed]",
      "text/plain": [
       "<Figure size 600x400 with 1 Axes>"
      ]
     },
     "metadata": {},
     "output_type": "display_data"
    }
   ],
   "source": [
    "nba_1.where('season', are.equal_to(2014)).select('Sal Payer').hist()"
   ]
  },
  {
   "cell_type": "code",
   "execution_count": 85,
   "id": "c0e16af7-5730-4696-819b-2e16b2ab629c",
   "metadata": {},
   "outputs": [
    {
     "data": {
      "text/plain": [
       "array([  1,   7,  13,  19,  25,  31,  37,  43,  49,  55,  61,  67,  73,\n",
       "        79,  85,  91,  97, 103, 109, 115, 121, 127, 133, 139, 145])"
      ]
     },
     "execution_count": 85,
     "metadata": {},
     "output_type": "execute_result"
    }
   ],
   "source": [
    "np.arange(1, 150, 6)"
   ]
  },
  {
   "cell_type": "code",
   "execution_count": 86,
   "id": "b40dc63d-ab1a-4545-9ce5-e52c7a23dae3",
   "metadata": {},
   "outputs": [
    {
     "data": {
      "text/html": [
       "<table border=\"1\" class=\"dataframe\">\n",
       "    <thead>\n",
       "        <tr>\n",
       "            <th>rank</th> <th>name</th> <th>position</th> <th>team</th> <th>salary</th> <th>season</th>\n",
       "        </tr>\n",
       "    </thead>\n",
       "    <tbody>\n",
       "        <tr>\n",
       "            <td>1   </td> <td>Shaquille O'Neal </td> <td>C       </td> <td>Los Angeles Lakers</td> <td>$17,142,000</td> <td>2000  </td>\n",
       "        </tr>\n",
       "        <tr>\n",
       "            <td>7   </td> <td>Larry Johnson    </td> <td>F       </td> <td>New York Knicks   </td> <td>$11,910,000</td> <td>2000  </td>\n",
       "        </tr>\n",
       "        <tr>\n",
       "            <td>13  </td> <td>Antoine Walker   </td> <td>PF      </td> <td>Boston Celtics    </td> <td>$9,000,000 </td> <td>2000  </td>\n",
       "        </tr>\n",
       "        <tr>\n",
       "            <td>19  </td> <td>Kobe Bryant      </td> <td>SF      </td> <td>Los Angeles Lakers</td> <td>$9,000,000 </td> <td>2000  </td>\n",
       "        </tr>\n",
       "        <tr>\n",
       "            <td>25  </td> <td>Elden Campbell   </td> <td>C       </td> <td>Charlotte Hornets </td> <td>$7,975,000 </td> <td>2000  </td>\n",
       "        </tr>\n",
       "        <tr>\n",
       "            <td>31  </td> <td>Chris Dudley     </td> <td>C       </td> <td>New York Knicks   </td> <td>$7,100,000 </td> <td>2000  </td>\n",
       "        </tr>\n",
       "        <tr>\n",
       "            <td>37  </td> <td>Clifford Robinson</td> <td>PF      </td> <td>Phoenix Suns      </td> <td>$6,125,000 </td> <td>2000  </td>\n",
       "        </tr>\n",
       "        <tr>\n",
       "            <td>43  </td> <td>Greg Ostertag    </td> <td>C       </td> <td>Utah Jazz         </td> <td>$5,200,000 </td> <td>2000  </td>\n",
       "        </tr>\n",
       "        <tr>\n",
       "            <td>49  </td> <td>Isaac Austin     </td> <td>C       </td> <td>Washington Wizards</td> <td>$4,819,000 </td> <td>2000  </td>\n",
       "        </tr>\n",
       "        <tr>\n",
       "            <td>55  </td> <td>Charlie Ward     </td> <td>PG      </td> <td>New York Knicks   </td> <td>$4,540,000 </td> <td>2000  </td>\n",
       "        </tr>\n",
       "    </tbody>\n",
       "</table>\n",
       "<p>... (15 rows omitted)</p>"
      ],
      "text/plain": [
       "rank | name              | position | team               | salary      | season\n",
       "1    | Shaquille O'Neal  | C        | Los Angeles Lakers | $17,142,000 | 2000\n",
       "7    | Larry Johnson     | F        | New York Knicks    | $11,910,000 | 2000\n",
       "13   | Antoine Walker    | PF       | Boston Celtics     | $9,000,000  | 2000\n",
       "19   | Kobe Bryant       | SF       | Los Angeles Lakers | $9,000,000  | 2000\n",
       "25   | Elden Campbell    | C        | Charlotte Hornets  | $7,975,000  | 2000\n",
       "31   | Chris Dudley      | C        | New York Knicks    | $7,100,000  | 2000\n",
       "37   | Clifford Robinson | PF       | Phoenix Suns       | $6,125,000  | 2000\n",
       "43   | Greg Ostertag     | C        | Utah Jazz          | $5,200,000  | 2000\n",
       "49   | Isaac Austin      | C        | Washington Wizards | $4,819,000  | 2000\n",
       "55   | Charlie Ward      | PG       | New York Knicks    | $4,540,000  | 2000\n",
       "... (15 rows omitted)"
      ]
     },
     "execution_count": 86,
     "metadata": {},
     "output_type": "execute_result"
    }
   ],
   "source": [
    "nba.take(np.arange(0, 150, 6))"
   ]
  },
  {
   "cell_type": "code",
   "execution_count": 87,
   "id": "32a3b6f6-ec3f-47ed-bc00-4bb7d8d88f3c",
   "metadata": {},
   "outputs": [
    {
     "data": {
      "text/html": [
       "<table border=\"1\" class=\"dataframe\">\n",
       "    <thead>\n",
       "        <tr>\n",
       "            <th>rank</th> <th>name</th> <th>position</th> <th>team</th> <th>salary</th> <th>season</th>\n",
       "        </tr>\n",
       "    </thead>\n",
       "    <tbody>\n",
       "        <tr>\n",
       "            <td>1   </td> <td>Shaquille O'Neal</td> <td>C       </td> <td>Los Angeles Lakers    </td> <td>$17,142,000</td> <td>2000  </td>\n",
       "        </tr>\n",
       "        <tr>\n",
       "            <td>2   </td> <td>Kevin Garnett   </td> <td>PF      </td> <td>Minnesota Timberwolves</td> <td>$16,806,000</td> <td>2000  </td>\n",
       "        </tr>\n",
       "        <tr>\n",
       "            <td>3   </td> <td>Alonzo Mourning </td> <td>C       </td> <td>Miami Heat            </td> <td>$15,004,000</td> <td>2000  </td>\n",
       "        </tr>\n",
       "        <tr>\n",
       "            <td>4   </td> <td>Juwan Howard    </td> <td>PF      </td> <td>Washington Wizards    </td> <td>$15,000,000</td> <td>2000  </td>\n",
       "        </tr>\n",
       "        <tr>\n",
       "            <td>5   </td> <td>Scottie Pippen  </td> <td>SF      </td> <td>Portland Trail Blazers</td> <td>$14,795,000</td> <td>2000  </td>\n",
       "        </tr>\n",
       "        <tr>\n",
       "            <td>6   </td> <td>Karl Malone     </td> <td>PF      </td> <td>Utah Jazz             </td> <td>$14,000,000</td> <td>2000  </td>\n",
       "        </tr>\n",
       "        <tr>\n",
       "            <td>7   </td> <td>Larry Johnson   </td> <td>F       </td> <td>New York Knicks       </td> <td>$11,910,000</td> <td>2000  </td>\n",
       "        </tr>\n",
       "        <tr>\n",
       "            <td>8   </td> <td>Gary Payton     </td> <td>PG      </td> <td>Seattle SuperSonics   </td> <td>$11,020,000</td> <td>2000  </td>\n",
       "        </tr>\n",
       "        <tr>\n",
       "            <td>9   </td> <td>Rasheed Wallace </td> <td>PF      </td> <td>Portland Trail Blazers</td> <td>$10,800,000</td> <td>2000  </td>\n",
       "        </tr>\n",
       "        <tr>\n",
       "            <td>10  </td> <td>Shawn Kemp      </td> <td>C       </td> <td>Cleveland Cavaliers   </td> <td>$10,780,000</td> <td>2000  </td>\n",
       "        </tr>\n",
       "    </tbody>\n",
       "</table>\n",
       "<p>... (9446 rows omitted)</p>"
      ],
      "text/plain": [
       "rank | name             | position | team                   | salary      | season\n",
       "1    | Shaquille O'Neal | C        | Los Angeles Lakers     | $17,142,000 | 2000\n",
       "2    | Kevin Garnett    | PF       | Minnesota Timberwolves | $16,806,000 | 2000\n",
       "3    | Alonzo Mourning  | C        | Miami Heat             | $15,004,000 | 2000\n",
       "4    | Juwan Howard     | PF       | Washington Wizards     | $15,000,000 | 2000\n",
       "5    | Scottie Pippen   | SF       | Portland Trail Blazers | $14,795,000 | 2000\n",
       "6    | Karl Malone      | PF       | Utah Jazz              | $14,000,000 | 2000\n",
       "7    | Larry Johnson    | F        | New York Knicks        | $11,910,000 | 2000\n",
       "8    | Gary Payton      | PG       | Seattle SuperSonics    | $11,020,000 | 2000\n",
       "9    | Rasheed Wallace  | PF       | Portland Trail Blazers | $10,800,000 | 2000\n",
       "10   | Shawn Kemp       | C        | Cleveland Cavaliers    | $10,780,000 | 2000\n",
       "... (9446 rows omitted)"
      ]
     },
     "execution_count": 87,
     "metadata": {},
     "output_type": "execute_result"
    }
   ],
   "source": [
    "nba"
   ]
  },
  {
   "cell_type": "code",
   "execution_count": 88,
   "id": "954b2f68-18d1-47dc-a344-d574d13098e0",
   "metadata": {},
   "outputs": [
    {
     "data": {
      "text/plain": [
       "Row(rank=1, name=\"Shaquille O'Neal\", position='C', team='Los Angeles Lakers', salary=17142000, season=2000)"
      ]
     },
     "execution_count": 88,
     "metadata": {},
     "output_type": "execute_result"
    }
   ],
   "source": [
    "nba.row(0)"
   ]
  },
  {
   "cell_type": "code",
   "execution_count": null,
   "id": "2ea456f4-b180-4d08-aa9b-fc52ae450b99",
   "metadata": {},
   "outputs": [],
   "source": []
  }
 ],
 "metadata": {
  "kernelspec": {
   "display_name": "Python 3 (ipykernel)",
   "language": "python",
   "name": "python3"
  },
  "language_info": {
   "codemirror_mode": {
    "name": "ipython",
    "version": 3
   },
   "file_extension": ".py",
   "mimetype": "text/x-python",
   "name": "python",
   "nbconvert_exporter": "python",
   "pygments_lexer": "ipython3",
   "version": "3.11.13"
  }
 },
 "nbformat": 4,
 "nbformat_minor": 5
}
