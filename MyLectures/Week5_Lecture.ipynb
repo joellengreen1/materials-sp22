{
 "cells": [
  {
   "cell_type": "markdown",
   "id": "69744a86-e676-431e-84d3-15cf31c67a0f",
   "metadata": {},
   "source": [
    "# Week 5 Lecture \n",
    "This week we will cover the following topics\n",
    "- Histograms\n",
    "- Groups\n",
    "- Pivots and Joins\n",
    "- Functions\n",
    "- Application to a column\n",
    "\n",
    "First run the code cell below."
   ]
  },
  {
   "cell_type": "code",
   "execution_count": 1,
   "id": "976867f0-21a4-4ea5-914c-f2908e757084",
   "metadata": {},
   "outputs": [],
   "source": [
    "from datascience import *\n",
    "import numpy as np\n",
    "%matplotlib inline\n",
    "import matplotlib.pyplot as plots\n",
    "plots.style.use('fivethirtyeight')\n",
    "import warnings\n",
    "warnings.simplefilter(action=\"ignore\", category=FutureWarning)\n",
    "\n",
    "from urllib.request import urlopen \n",
    "import re\n",
    "def read_url(url): \n",
    "    return re.sub('\\\\s+', ' ', urlopen(url).read().decode())"
   ]
  },
  {
   "cell_type": "code",
   "execution_count": 41,
   "id": "c0a21074-e28b-46e8-a6e9-1bddf7e7a102",
   "metadata": {},
   "outputs": [
    {
     "data": {
      "text/html": [
       "<table border=\"1\" class=\"dataframe\">\n",
       "    <thead>\n",
       "        <tr>\n",
       "            <th>rank</th> <th>name</th> <th>position</th> <th>team</th> <th>salary</th> <th>season</th>\n",
       "        </tr>\n",
       "    </thead>\n",
       "    <tbody>\n",
       "        <tr>\n",
       "            <td>1   </td> <td>Kobe Bryant    </td> <td>SF      </td> <td>Los Angeles Lakers   </td> <td>23500000</td> <td>2015  </td>\n",
       "        </tr>\n",
       "        <tr>\n",
       "            <td>2   </td> <td>Joe Johnson    </td> <td>G       </td> <td>Brooklyn Nets        </td> <td>23180790</td> <td>2015  </td>\n",
       "        </tr>\n",
       "        <tr>\n",
       "            <td>3   </td> <td>Carmelo Anthony</td> <td>PF      </td> <td>New York Knicks      </td> <td>22458401</td> <td>2015  </td>\n",
       "        </tr>\n",
       "        <tr>\n",
       "            <td>4   </td> <td>Dwight Howard  </td> <td>C       </td> <td>Houston Rockets      </td> <td>21436271</td> <td>2015  </td>\n",
       "        </tr>\n",
       "        <tr>\n",
       "            <td>5   </td> <td>Chris Bosh     </td> <td>PF      </td> <td>Miami Heat           </td> <td>20644400</td> <td>2015  </td>\n",
       "        </tr>\n",
       "        <tr>\n",
       "            <td>6   </td> <td>LeBron James   </td> <td>SF      </td> <td>Cleveland Cavaliers  </td> <td>20644400</td> <td>2015  </td>\n",
       "        </tr>\n",
       "        <tr>\n",
       "            <td>7   </td> <td>Chris Paul     </td> <td>PG      </td> <td>LA Clippers          </td> <td>20068563</td> <td>2015  </td>\n",
       "        </tr>\n",
       "        <tr>\n",
       "            <td>8   </td> <td>Deron Williams </td> <td>PG      </td> <td>Brooklyn Nets        </td> <td>19754465</td> <td>2015  </td>\n",
       "        </tr>\n",
       "        <tr>\n",
       "            <td>9   </td> <td>Rudy Gay       </td> <td>SF      </td> <td>Sacramento Kings     </td> <td>19317326</td> <td>2015  </td>\n",
       "        </tr>\n",
       "        <tr>\n",
       "            <td>10  </td> <td>Kevin Durant   </td> <td>SF      </td> <td>Oklahoma City Thunder</td> <td>18995624</td> <td>2015  </td>\n",
       "        </tr>\n",
       "    </tbody>\n",
       "</table>\n",
       "<p>... (517 rows omitted)</p>"
      ],
      "text/plain": [
       "rank | name            | position | team                  | salary   | season\n",
       "1    | Kobe Bryant     | SF       | Los Angeles Lakers    | 23500000 | 2015\n",
       "2    | Joe Johnson     | G        | Brooklyn Nets         | 23180790 | 2015\n",
       "3    | Carmelo Anthony | PF       | New York Knicks       | 22458401 | 2015\n",
       "4    | Dwight Howard   | C        | Houston Rockets       | 21436271 | 2015\n",
       "5    | Chris Bosh      | PF       | Miami Heat            | 20644400 | 2015\n",
       "6    | LeBron James    | SF       | Cleveland Cavaliers   | 20644400 | 2015\n",
       "7    | Chris Paul      | PG       | LA Clippers           | 20068563 | 2015\n",
       "8    | Deron Williams  | PG       | Brooklyn Nets         | 19754465 | 2015\n",
       "9    | Rudy Gay        | SF       | Sacramento Kings      | 19317326 | 2015\n",
       "10   | Kevin Durant    | SF       | Oklahoma City Thunder | 18995624 | 2015\n",
       "... (517 rows omitted)"
      ]
     },
     "execution_count": 41,
     "metadata": {},
     "output_type": "execute_result"
    }
   ],
   "source": [
    "# read in data\n",
    "nba = Table.read_table('nba_salaries.csv').where('season',are.equal_to(2015))\n",
    "nba\n"
   ]
  },
  {
   "cell_type": "markdown",
   "id": "200f518b-3780-4579-a94b-9293606d2221",
   "metadata": {},
   "source": [
    "# Functions\n",
    "A small snippet of code that can be used over and over again.  \n",
    "\n",
    "```\n",
    "def function_name(x):\n",
    "    \"\"\"Description of function\"\"\"\n",
    "    return y\n",
    "```\n",
    "You must first define the function before you use it.  Give it a name that describes what it does then within the function describe what it does.  This helps others who view your function understand what it does or you forget it is a reminder.<br>\n",
    "\n",
    "Write a function that multiples a number by 7 and return that value in one code cell.  Then run it for the x values of 3, 6, 9 in other code cell."
   ]
  },
  {
   "cell_type": "code",
   "execution_count": 9,
   "id": "809ef8ed-fb22-4569-907d-8baca30f0a4e",
   "metadata": {},
   "outputs": [],
   "source": [
    "# define a function calculate the agent pay\n",
    "    "
   ]
  },
  {
   "cell_type": "code",
   "execution_count": 10,
   "id": "a6376349-509e-4487-928e-be1277d20ed8",
   "metadata": {},
   "outputs": [
    {
     "data": {
      "text/plain": [
       "21"
      ]
     },
     "execution_count": 10,
     "metadata": {},
     "output_type": "execute_result"
    }
   ],
   "source": []
  },
  {
   "cell_type": "code",
   "execution_count": 11,
   "id": "f5c74186-718b-4558-8c65-9f91a046928b",
   "metadata": {},
   "outputs": [
    {
     "data": {
      "text/plain": [
       "42"
      ]
     },
     "execution_count": 11,
     "metadata": {},
     "output_type": "execute_result"
    }
   ],
   "source": []
  },
  {
   "cell_type": "code",
   "execution_count": 12,
   "id": "8699ed8d-8374-4221-ad11-6ee0d8f263c1",
   "metadata": {},
   "outputs": [
    {
     "data": {
      "text/plain": [
       "63"
      ]
     },
     "execution_count": 12,
     "metadata": {},
     "output_type": "execute_result"
    }
   ],
   "source": []
  },
  {
   "cell_type": "markdown",
   "id": "b1bacd4e-1ea5-4642-afc2-7405b3f7131d",
   "metadata": {},
   "source": [
    "# Applying a function to a column of a Table\n",
    "Sometimes we need apply a function to each value of a column of a table.  You would use the method apply.  Suppose you have a function called scale_it.  You want to apply it to a column of the table this would be the format.\n",
    "```\n",
    "table_name.apply(function_name, 'column_name')\n",
    "```\n",
    "Create a table calle ages like the one in the textbook.  Then create a function call project_years to determine years of service to retirement.  Apply it to the Age column and display it."
   ]
  },
  {
   "cell_type": "code",
   "execution_count": null,
   "id": "45684797-cb16-4620-9238-f9f70f984d1c",
   "metadata": {},
   "outputs": [],
   "source": []
  },
  {
   "cell_type": "markdown",
   "id": "a780b619-706b-4b0b-9864-cc5fd52cc912",
   "metadata": {},
   "source": [
    "# Single Grouping\n",
    "To group by a single variable you use the group method and one the functions to summarize the data.\n",
    "```\n",
    "table_name.group('column_name')  # displays the counts in each group\n",
    "    \n",
    "table_name.group('column_name', sum)        # built-in function\n",
    "    \n",
    "table_name.group('column_name', len)        # built-in function\n",
    "    \n",
    "table_name.group('column_name', min)        # built-in function\n",
    "    \n",
    "table_name.group('column_name', max)        # built-in function\n",
    "    \n",
    "table_name.group('column_name', np.average)  # numpy function\n",
    "    \n",
    "table_name.group('column_name', np.mean)     # numpy function\n",
    "    \n",
    "table_name.group('column_name', np.std)      # numpy function\n",
    "    \n",
    "table_name.group('column_name', np.median)   # numpy function\n",
    "```\n"
   ]
  },
  {
   "cell_type": "code",
   "execution_count": 43,
   "id": "78be4a84-8dde-449e-a6e9-52105b15c33d",
   "metadata": {},
   "outputs": [
    {
     "data": {
      "text/html": [
       "<table border=\"1\" class=\"dataframe\">\n",
       "    <thead>\n",
       "        <tr>\n",
       "            <th>team</th> <th>salary</th>\n",
       "        </tr>\n",
       "    </thead>\n",
       "    <tbody>\n",
       "        <tr>\n",
       "            <td>Los Angeles Lakers   </td> <td>23500000</td>\n",
       "        </tr>\n",
       "        <tr>\n",
       "            <td>Brooklyn Nets        </td> <td>23180790</td>\n",
       "        </tr>\n",
       "        <tr>\n",
       "            <td>New York Knicks      </td> <td>22458401</td>\n",
       "        </tr>\n",
       "        <tr>\n",
       "            <td>Houston Rockets      </td> <td>21436271</td>\n",
       "        </tr>\n",
       "        <tr>\n",
       "            <td>Miami Heat           </td> <td>20644400</td>\n",
       "        </tr>\n",
       "        <tr>\n",
       "            <td>Cleveland Cavaliers  </td> <td>20644400</td>\n",
       "        </tr>\n",
       "        <tr>\n",
       "            <td>LA Clippers          </td> <td>20068563</td>\n",
       "        </tr>\n",
       "        <tr>\n",
       "            <td>Brooklyn Nets        </td> <td>19754465</td>\n",
       "        </tr>\n",
       "        <tr>\n",
       "            <td>Sacramento Kings     </td> <td>19317326</td>\n",
       "        </tr>\n",
       "        <tr>\n",
       "            <td>Oklahoma City Thunder</td> <td>18995624</td>\n",
       "        </tr>\n",
       "    </tbody>\n",
       "</table>\n",
       "<p>... (517 rows omitted)</p>"
      ],
      "text/plain": [
       "team                  | salary\n",
       "Los Angeles Lakers    | 23500000\n",
       "Brooklyn Nets         | 23180790\n",
       "New York Knicks       | 22458401\n",
       "Houston Rockets       | 21436271\n",
       "Miami Heat            | 20644400\n",
       "Cleveland Cavaliers   | 20644400\n",
       "LA Clippers           | 20068563\n",
       "Brooklyn Nets         | 19754465\n",
       "Sacramento Kings      | 19317326\n",
       "Oklahoma City Thunder | 18995624\n",
       "... (517 rows omitted)"
      ]
     },
     "execution_count": 43,
     "metadata": {},
     "output_type": "execute_result"
    }
   ],
   "source": [
    "teams_and_money = nba.select('team', 'salary')\n",
    "teams_and_money"
   ]
  },
  {
   "cell_type": "code",
   "execution_count": 47,
   "id": "96f98ee4-8548-4c53-9362-ef18bda125bf",
   "metadata": {},
   "outputs": [
    {
     "data": {
      "text/html": [
       "<table border=\"1\" class=\"dataframe\">\n",
       "    <thead>\n",
       "        <tr>\n",
       "            <th>team</th> <th>salary sum</th>\n",
       "        </tr>\n",
       "    </thead>\n",
       "    <tbody>\n",
       "        <tr>\n",
       "            <td>Atlanta Hawks        </td> <td>57,182,724 </td>\n",
       "        </tr>\n",
       "        <tr>\n",
       "            <td>Boston Celtics       </td> <td>41,359,670 </td>\n",
       "        </tr>\n",
       "        <tr>\n",
       "            <td>Brooklyn Nets        </td> <td>103,134,468</td>\n",
       "        </tr>\n",
       "        <tr>\n",
       "            <td>Charlotte Hornets    </td> <td>68,876,214 </td>\n",
       "        </tr>\n",
       "        <tr>\n",
       "            <td>Chicago Bulls        </td> <td>69,857,980 </td>\n",
       "        </tr>\n",
       "        <tr>\n",
       "            <td>Cleveland Cavaliers  </td> <td>67,757,418 </td>\n",
       "        </tr>\n",
       "        <tr>\n",
       "            <td>Dallas Mavericks     </td> <td>76,045,171 </td>\n",
       "        </tr>\n",
       "        <tr>\n",
       "            <td>Denver Nuggets       </td> <td>57,074,915 </td>\n",
       "        </tr>\n",
       "        <tr>\n",
       "            <td>Detroit Pistons      </td> <td>43,963,633 </td>\n",
       "        </tr>\n",
       "        <tr>\n",
       "            <td>Golden State Warriors</td> <td>74,947,574 </td>\n",
       "        </tr>\n",
       "    </tbody>\n",
       "</table>\n",
       "<p>... (22 rows omitted)</p>"
      ],
      "text/plain": [
       "team                  | salary sum\n",
       "Atlanta Hawks         | 57,182,724\n",
       "Boston Celtics        | 41,359,670\n",
       "Brooklyn Nets         | 103,134,468\n",
       "Charlotte Hornets     | 68,876,214\n",
       "Chicago Bulls         | 69,857,980\n",
       "Cleveland Cavaliers   | 67,757,418\n",
       "Dallas Mavericks      | 76,045,171\n",
       "Denver Nuggets        | 57,074,915\n",
       "Detroit Pistons       | 43,963,633\n",
       "Golden State Warriors | 74,947,574\n",
       "... (22 rows omitted)"
      ]
     },
     "execution_count": 47,
     "metadata": {},
     "output_type": "execute_result"
    }
   ],
   "source": [
    "# select team and salary from the nba table and call it teams_and_money\n",
    "# group salaries by teams\n",
    "teams_and_money = nba.select('team', 'salary')\n",
    "x = teams_and_money.group('team', sum)\n",
    "x.set_format([1], NumberFormatter)"
   ]
  },
  {
   "cell_type": "code",
   "execution_count": 48,
   "id": "28262b8a-b1b9-434a-b9ce-9c99badfcad1",
   "metadata": {},
   "outputs": [
    {
     "data": {
      "text/html": [
       "<table border=\"1\" class=\"dataframe\">\n",
       "    <thead>\n",
       "        <tr>\n",
       "            <th>position</th> <th>count</th>\n",
       "        </tr>\n",
       "    </thead>\n",
       "    <tbody>\n",
       "        <tr>\n",
       "            <td>C       </td> <td>97   </td>\n",
       "        </tr>\n",
       "        <tr>\n",
       "            <td>F       </td> <td>43   </td>\n",
       "        </tr>\n",
       "        <tr>\n",
       "            <td>G       </td> <td>49   </td>\n",
       "        </tr>\n",
       "        <tr>\n",
       "            <td>PF      </td> <td>93   </td>\n",
       "        </tr>\n",
       "        <tr>\n",
       "            <td>PG      </td> <td>78   </td>\n",
       "        </tr>\n",
       "        <tr>\n",
       "            <td>SF      </td> <td>79   </td>\n",
       "        </tr>\n",
       "        <tr>\n",
       "            <td>SG      </td> <td>88   </td>\n",
       "        </tr>\n",
       "    </tbody>\n",
       "</table>"
      ],
      "text/plain": [
       "position | count\n",
       "C        | 97\n",
       "F        | 43\n",
       "G        | 49\n",
       "PF       | 93\n",
       "PG       | 78\n",
       "SF       | 79\n",
       "SG       | 88"
      ]
     },
     "execution_count": 48,
     "metadata": {},
     "output_type": "execute_result"
    }
   ],
   "source": [
    "#How many NBA players were there in each of the five positions?\n",
    "nba.select('position').group('position')\n",
    "\n"
   ]
  },
  {
   "cell_type": "code",
   "execution_count": 49,
   "id": "20e54bf0-8960-4239-82e7-a65d073ed9a1",
   "metadata": {},
   "outputs": [
    {
     "data": {
      "text/html": [
       "<table border=\"1\" class=\"dataframe\">\n",
       "    <thead>\n",
       "        <tr>\n",
       "            <th>position</th> <th>salary mean</th>\n",
       "        </tr>\n",
       "    </thead>\n",
       "    <tbody>\n",
       "        <tr>\n",
       "            <td>C       </td> <td>4.52468e+06</td>\n",
       "        </tr>\n",
       "        <tr>\n",
       "            <td>F       </td> <td>3.10895e+06</td>\n",
       "        </tr>\n",
       "        <tr>\n",
       "            <td>G       </td> <td>4.13679e+06</td>\n",
       "        </tr>\n",
       "        <tr>\n",
       "            <td>PF      </td> <td>4.15431e+06</td>\n",
       "        </tr>\n",
       "        <tr>\n",
       "            <td>PG      </td> <td>3.96889e+06</td>\n",
       "        </tr>\n",
       "        <tr>\n",
       "            <td>SF      </td> <td>3.65802e+06</td>\n",
       "        </tr>\n",
       "        <tr>\n",
       "            <td>SG      </td> <td>3.37298e+06</td>\n",
       "        </tr>\n",
       "    </tbody>\n",
       "</table>"
      ],
      "text/plain": [
       "position | salary mean\n",
       "C        | 4.52468e+06\n",
       "F        | 3.10895e+06\n",
       "G        | 4.13679e+06\n",
       "PF       | 4.15431e+06\n",
       "PG       | 3.96889e+06\n",
       "SF       | 3.65802e+06\n",
       "SG       | 3.37298e+06"
      ]
     },
     "execution_count": 49,
     "metadata": {},
     "output_type": "execute_result"
    }
   ],
   "source": [
    "#  What was the average salary of the players at each of the five positions?\n",
    "positions_and_money = nba.select('position', 'salary')\n",
    "positions_and_money.group('position', np.mean)"
   ]
  },
  {
   "cell_type": "markdown",
   "id": "d2d1ab93-fe56-4607-9834-44251f11f3d9",
   "metadata": {},
   "source": [
    "# Grouping more than one column\n",
    "You can group the elements of two columns using the group method.\n",
    "```\n",
    "table.group(['column1', 'column2'])  # result in counts for unique combinations\n",
    "table.group(['column1', 'column2'], function) # finds the function of each unique combination\n",
    "```\n",
    "There is another method to create a contingency table of two columns it is called Pivot.  To find the pivot use the code below.  The pivot always takes two column labels, one to determine the columns and one to determine the rows.\n",
    "```\n",
    "table_name.pivot('column1', 'column2', values = 'column3', collect = function)\n",
    "```\n",
    "The functions are the same ones mentioned for the group method."
   ]
  },
  {
   "cell_type": "code",
   "execution_count": 50,
   "id": "b53f85a8-920f-45a2-867f-043be0571bd3",
   "metadata": {},
   "outputs": [
    {
     "data": {
      "text/html": [
       "<table border=\"1\" class=\"dataframe\">\n",
       "    <thead>\n",
       "        <tr>\n",
       "            <th>Flavor</th> <th>Color</th> <th>Price</th>\n",
       "        </tr>\n",
       "    </thead>\n",
       "    <tbody>\n",
       "        <tr>\n",
       "            <td>strawberry</td> <td>pink       </td> <td>3.55 </td>\n",
       "        </tr>\n",
       "        <tr>\n",
       "            <td>chocolate </td> <td>light brown</td> <td>4.75 </td>\n",
       "        </tr>\n",
       "        <tr>\n",
       "            <td>chocolate </td> <td>dark brown </td> <td>5.25 </td>\n",
       "        </tr>\n",
       "        <tr>\n",
       "            <td>strawberry</td> <td>pink       </td> <td>5.25 </td>\n",
       "        </tr>\n",
       "        <tr>\n",
       "            <td>chocolate </td> <td>dark brown </td> <td>5.25 </td>\n",
       "        </tr>\n",
       "        <tr>\n",
       "            <td>bubblegum </td> <td>pink       </td> <td>4.75 </td>\n",
       "        </tr>\n",
       "    </tbody>\n",
       "</table>"
      ],
      "text/plain": [
       "Flavor     | Color       | Price\n",
       "strawberry | pink        | 3.55\n",
       "chocolate  | light brown | 4.75\n",
       "chocolate  | dark brown  | 5.25\n",
       "strawberry | pink        | 5.25\n",
       "chocolate  | dark brown  | 5.25\n",
       "bubblegum  | pink        | 4.75"
      ]
     },
     "execution_count": 50,
     "metadata": {},
     "output_type": "execute_result"
    }
   ],
   "source": [
    "# create a table\n",
    "more_cones = Table().with_columns(\n",
    "    'Flavor', make_array('strawberry', 'chocolate', 'chocolate', 'strawberry', 'chocolate', 'bubblegum'),\n",
    "    'Color', make_array('pink', 'light brown', 'dark brown', 'pink', 'dark brown', 'pink'),\n",
    "    'Price', make_array(3.55, 4.75, 5.25, 5.25, 5.25, 4.75)\n",
    ")\n",
    "\n",
    "more_cones\n"
   ]
  },
  {
   "cell_type": "code",
   "execution_count": 51,
   "id": "87069282-d64c-49e7-ba1b-fc59ab4c8dfc",
   "metadata": {},
   "outputs": [
    {
     "data": {
      "text/html": [
       "<table border=\"1\" class=\"dataframe\">\n",
       "    <thead>\n",
       "        <tr>\n",
       "            <th>Flavor</th> <th>Color</th> <th>count</th>\n",
       "        </tr>\n",
       "    </thead>\n",
       "    <tbody>\n",
       "        <tr>\n",
       "            <td>bubblegum </td> <td>pink       </td> <td>1    </td>\n",
       "        </tr>\n",
       "        <tr>\n",
       "            <td>chocolate </td> <td>dark brown </td> <td>2    </td>\n",
       "        </tr>\n",
       "        <tr>\n",
       "            <td>chocolate </td> <td>light brown</td> <td>1    </td>\n",
       "        </tr>\n",
       "        <tr>\n",
       "            <td>strawberry</td> <td>pink       </td> <td>2    </td>\n",
       "        </tr>\n",
       "    </tbody>\n",
       "</table>"
      ],
      "text/plain": [
       "Flavor     | Color       | count\n",
       "bubblegum  | pink        | 1\n",
       "chocolate  | dark brown  | 2\n",
       "chocolate  | light brown | 1\n",
       "strawberry | pink        | 2"
      ]
     },
     "execution_count": 51,
     "metadata": {},
     "output_type": "execute_result"
    }
   ],
   "source": [
    "# group and show the count\n",
    "more_cones.group(['Flavor', 'Color'])"
   ]
  },
  {
   "cell_type": "code",
   "execution_count": 53,
   "id": "0ff3d204-572b-492d-858a-5c5e9b4b114a",
   "metadata": {},
   "outputs": [
    {
     "data": {
      "text/html": [
       "<table border=\"1\" class=\"dataframe\">\n",
       "    <thead>\n",
       "        <tr>\n",
       "            <th>Flavor</th> <th>Color</th> <th>Price sum</th>\n",
       "        </tr>\n",
       "    </thead>\n",
       "    <tbody>\n",
       "        <tr>\n",
       "            <td>bubblegum </td> <td>pink       </td> <td>4.75     </td>\n",
       "        </tr>\n",
       "        <tr>\n",
       "            <td>chocolate </td> <td>dark brown </td> <td>10.5     </td>\n",
       "        </tr>\n",
       "        <tr>\n",
       "            <td>chocolate </td> <td>light brown</td> <td>4.75     </td>\n",
       "        </tr>\n",
       "        <tr>\n",
       "            <td>strawberry</td> <td>pink       </td> <td>8.8      </td>\n",
       "        </tr>\n",
       "    </tbody>\n",
       "</table>"
      ],
      "text/plain": [
       "Flavor     | Color       | Price sum\n",
       "bubblegum  | pink        | 4.75\n",
       "chocolate  | dark brown  | 10.5\n",
       "chocolate  | light brown | 4.75\n",
       "strawberry | pink        | 8.8"
      ]
     },
     "execution_count": 53,
     "metadata": {},
     "output_type": "execute_result"
    }
   ],
   "source": [
    "# group and show the sum\n",
    "more_cones.group(['Flavor', 'Color'],sum)"
   ]
  },
  {
   "cell_type": "code",
   "execution_count": 54,
   "id": "817d1330-f733-4f1f-bda1-3ef3f8c747d0",
   "metadata": {},
   "outputs": [
    {
     "data": {
      "text/html": [
       "<table border=\"1\" class=\"dataframe\">\n",
       "    <thead>\n",
       "        <tr>\n",
       "            <th>Flavor</th> <th>Color</th> <th>Price mean</th>\n",
       "        </tr>\n",
       "    </thead>\n",
       "    <tbody>\n",
       "        <tr>\n",
       "            <td>bubblegum </td> <td>pink       </td> <td>4.75      </td>\n",
       "        </tr>\n",
       "        <tr>\n",
       "            <td>chocolate </td> <td>dark brown </td> <td>5.25      </td>\n",
       "        </tr>\n",
       "        <tr>\n",
       "            <td>chocolate </td> <td>light brown</td> <td>4.75      </td>\n",
       "        </tr>\n",
       "        <tr>\n",
       "            <td>strawberry</td> <td>pink       </td> <td>4.4       </td>\n",
       "        </tr>\n",
       "    </tbody>\n",
       "</table>"
      ],
      "text/plain": [
       "Flavor     | Color       | Price mean\n",
       "bubblegum  | pink        | 4.75\n",
       "chocolate  | dark brown  | 5.25\n",
       "chocolate  | light brown | 4.75\n",
       "strawberry | pink        | 4.4"
      ]
     },
     "execution_count": 54,
     "metadata": {},
     "output_type": "execute_result"
    }
   ],
   "source": [
    "# group and show the mean price\n",
    "more_cones.group(['Flavor', 'Color'],np.mean)"
   ]
  },
  {
   "cell_type": "code",
   "execution_count": 55,
   "id": "ee046694-039c-4729-8d72-46d09b2bafce",
   "metadata": {},
   "outputs": [
    {
     "data": {
      "text/html": [
       "<table border=\"1\" class=\"dataframe\">\n",
       "    <thead>\n",
       "        <tr>\n",
       "            <th>Color</th> <th>bubblegum</th> <th>chocolate</th> <th>strawberry</th>\n",
       "        </tr>\n",
       "    </thead>\n",
       "    <tbody>\n",
       "        <tr>\n",
       "            <td>dark brown </td> <td>0        </td> <td>10.5     </td> <td>0         </td>\n",
       "        </tr>\n",
       "        <tr>\n",
       "            <td>light brown</td> <td>0        </td> <td>4.75     </td> <td>0         </td>\n",
       "        </tr>\n",
       "        <tr>\n",
       "            <td>pink       </td> <td>4.75     </td> <td>0        </td> <td>8.8       </td>\n",
       "        </tr>\n",
       "    </tbody>\n",
       "</table>"
      ],
      "text/plain": [
       "Color       | bubblegum | chocolate | strawberry\n",
       "dark brown  | 0         | 10.5      | 0\n",
       "light brown | 0         | 4.75      | 0\n",
       "pink        | 4.75      | 0         | 8.8"
      ]
     },
     "execution_count": 55,
     "metadata": {},
     "output_type": "execute_result"
    }
   ],
   "source": [
    "# Pivot and show sum of price in contingency table\n",
    "more_cones.pivot('Flavor', 'Color', values='Price', collect =sum)"
   ]
  },
  {
   "cell_type": "code",
   "execution_count": 56,
   "id": "00a2381b-36ea-48b3-bda4-405b6fdb5264",
   "metadata": {},
   "outputs": [
    {
     "data": {
      "text/html": [
       "<table border=\"1\" class=\"dataframe\">\n",
       "    <thead>\n",
       "        <tr>\n",
       "            <th>Color</th> <th>bubblegum</th> <th>chocolate</th> <th>strawberry</th>\n",
       "        </tr>\n",
       "    </thead>\n",
       "    <tbody>\n",
       "        <tr>\n",
       "            <td>dark brown </td> <td>0        </td> <td>5.25     </td> <td>0         </td>\n",
       "        </tr>\n",
       "        <tr>\n",
       "            <td>light brown</td> <td>0        </td> <td>4.75     </td> <td>0         </td>\n",
       "        </tr>\n",
       "        <tr>\n",
       "            <td>pink       </td> <td>4.75     </td> <td>0        </td> <td>4.4       </td>\n",
       "        </tr>\n",
       "    </tbody>\n",
       "</table>"
      ],
      "text/plain": [
       "Color       | bubblegum | chocolate | strawberry\n",
       "dark brown  | 0         | 5.25      | 0\n",
       "light brown | 0         | 4.75      | 0\n",
       "pink        | 4.75      | 0         | 4.4"
      ]
     },
     "execution_count": 56,
     "metadata": {},
     "output_type": "execute_result"
    }
   ],
   "source": [
    "# Pivot and show mean price\n",
    "more_cones.pivot('Flavor', 'Color', values='Price', collect =np.mean)"
   ]
  },
  {
   "cell_type": "code",
   "execution_count": 58,
   "id": "efb1490e-edb4-4b65-8bf4-7ce41d29218c",
   "metadata": {},
   "outputs": [
    {
     "data": {
      "text/html": [
       "<table border=\"1\" class=\"dataframe\">\n",
       "    <thead>\n",
       "        <tr>\n",
       "            <th>Year</th> <th>Age</th> <th>Gender</th> <th>Educational Attainment</th> <th>Personal Income</th> <th>Population Count</th>\n",
       "        </tr>\n",
       "    </thead>\n",
       "    <tbody>\n",
       "        <tr>\n",
       "            <td>1/1/08 0:00</td> <td>00 to 17 </td> <td>Male  </td> <td>College, less than 4-yr degree</td> <td>C: 10,000 to 14,999</td> <td>1304            </td>\n",
       "        </tr>\n",
       "        <tr>\n",
       "            <td>1/1/08 0:00</td> <td>00 to 17 </td> <td>Female</td> <td>College, less than 4-yr degree</td> <td>B: 5,000 to 9,999  </td> <td>1565            </td>\n",
       "        </tr>\n",
       "        <tr>\n",
       "            <td>1/1/08 0:00</td> <td>65 to 80+</td> <td>Male  </td> <td>College, less than 4-yr degree</td> <td>A: 0 to 4,999      </td> <td>1923            </td>\n",
       "        </tr>\n",
       "        <tr>\n",
       "            <td>1/1/08 0:00</td> <td>65 to 80+</td> <td>Female</td> <td>No high school diploma        </td> <td>H: 75,000 and over </td> <td>1981            </td>\n",
       "        </tr>\n",
       "        <tr>\n",
       "            <td>1/1/08 0:00</td> <td>00 to 17 </td> <td>Female</td> <td>No high school diploma        </td> <td>D: 15,000 to 24,999</td> <td>2009            </td>\n",
       "        </tr>\n",
       "        <tr>\n",
       "            <td>1/1/08 0:00</td> <td>00 to 17 </td> <td>Male  </td> <td>No high school diploma        </td> <td>F: 35,000 to 49,999</td> <td>2227            </td>\n",
       "        </tr>\n",
       "        <tr>\n",
       "            <td>1/1/08 0:00</td> <td>00 to 17 </td> <td>Male  </td> <td>No high school diploma        </td> <td>E: 25,000 to 34,999</td> <td>2606            </td>\n",
       "        </tr>\n",
       "        <tr>\n",
       "            <td>1/1/08 0:00</td> <td>00 to 17 </td> <td>Male  </td> <td>College, less than 4-yr degree</td> <td>D: 15,000 to 24,999</td> <td>3465            </td>\n",
       "        </tr>\n",
       "        <tr>\n",
       "            <td>1/1/08 0:00</td> <td>00 to 17 </td> <td>Male  </td> <td>No high school diploma        </td> <td>D: 15,000 to 24,999</td> <td>3974            </td>\n",
       "        </tr>\n",
       "        <tr>\n",
       "            <td>1/1/08 0:00</td> <td>18 to 64 </td> <td>Female</td> <td>No high school diploma        </td> <td>H: 75,000 and over </td> <td>4233            </td>\n",
       "        </tr>\n",
       "    </tbody>\n",
       "</table>\n",
       "<p>... (1016 rows omitted)</p>"
      ],
      "text/plain": [
       "Year        | Age       | Gender | Educational Attainment         | Personal Income     | Population Count\n",
       "1/1/08 0:00 | 00 to 17  | Male   | College, less than 4-yr degree | C: 10,000 to 14,999 | 1304\n",
       "1/1/08 0:00 | 00 to 17  | Female | College, less than 4-yr degree | B: 5,000 to 9,999   | 1565\n",
       "1/1/08 0:00 | 65 to 80+ | Male   | College, less than 4-yr degree | A: 0 to 4,999       | 1923\n",
       "1/1/08 0:00 | 65 to 80+ | Female | No high school diploma         | H: 75,000 and over  | 1981\n",
       "1/1/08 0:00 | 00 to 17  | Female | No high school diploma         | D: 15,000 to 24,999 | 2009\n",
       "1/1/08 0:00 | 00 to 17  | Male   | No high school diploma         | F: 35,000 to 49,999 | 2227\n",
       "1/1/08 0:00 | 00 to 17  | Male   | No high school diploma         | E: 25,000 to 34,999 | 2606\n",
       "1/1/08 0:00 | 00 to 17  | Male   | College, less than 4-yr degree | D: 15,000 to 24,999 | 3465\n",
       "1/1/08 0:00 | 00 to 17  | Male   | No high school diploma         | D: 15,000 to 24,999 | 3974\n",
       "1/1/08 0:00 | 18 to 64  | Female | No high school diploma         | H: 75,000 and over  | 4233\n",
       "... (1016 rows omitted)"
      ]
     },
     "execution_count": 58,
     "metadata": {},
     "output_type": "execute_result"
    }
   ],
   "source": [
    "#  Read in educ_inc.ccsv to table full_table variable and display it \n",
    "full_table = Table.read_table('educ_inc.csv')\n",
    "full_table"
   ]
  },
  {
   "cell_type": "code",
   "execution_count": 59,
   "id": "0ee9f8a2-9d59-4a58-905c-818e328d9ca8",
   "metadata": {},
   "outputs": [
    {
     "data": {
      "text/html": [
       "<table border=\"1\" class=\"dataframe\">\n",
       "    <thead>\n",
       "        <tr>\n",
       "            <th>Year</th> <th>Age</th> <th>Gender</th> <th>Educational Attainment</th> <th>Personal Income</th> <th>Population Count</th>\n",
       "        </tr>\n",
       "    </thead>\n",
       "    <tbody>\n",
       "        <tr>\n",
       "            <td>1/1/14 0:00</td> <td>18 to 64 </td> <td>Female</td> <td>No high school diploma        </td> <td>H: 75,000 and over </td> <td>2058            </td>\n",
       "        </tr>\n",
       "        <tr>\n",
       "            <td>1/1/14 0:00</td> <td>65 to 80+</td> <td>Male  </td> <td>No high school diploma        </td> <td>H: 75,000 and over </td> <td>2153            </td>\n",
       "        </tr>\n",
       "        <tr>\n",
       "            <td>1/1/14 0:00</td> <td>65 to 80+</td> <td>Female</td> <td>No high school diploma        </td> <td>G: 50,000 to 74,999</td> <td>4666            </td>\n",
       "        </tr>\n",
       "        <tr>\n",
       "            <td>1/1/14 0:00</td> <td>65 to 80+</td> <td>Female</td> <td>High school or equivalent     </td> <td>H: 75,000 and over </td> <td>7122            </td>\n",
       "        </tr>\n",
       "        <tr>\n",
       "            <td>1/1/14 0:00</td> <td>65 to 80+</td> <td>Female</td> <td>No high school diploma        </td> <td>F: 35,000 to 49,999</td> <td>7261            </td>\n",
       "        </tr>\n",
       "        <tr>\n",
       "            <td>1/1/14 0:00</td> <td>65 to 80+</td> <td>Male  </td> <td>No high school diploma        </td> <td>G: 50,000 to 74,999</td> <td>8569            </td>\n",
       "        </tr>\n",
       "        <tr>\n",
       "            <td>1/1/14 0:00</td> <td>18 to 64 </td> <td>Female</td> <td>No high school diploma        </td> <td>G: 50,000 to 74,999</td> <td>14635           </td>\n",
       "        </tr>\n",
       "        <tr>\n",
       "            <td>1/1/14 0:00</td> <td>65 to 80+</td> <td>Male  </td> <td>No high school diploma        </td> <td>F: 35,000 to 49,999</td> <td>15212           </td>\n",
       "        </tr>\n",
       "        <tr>\n",
       "            <td>1/1/14 0:00</td> <td>65 to 80+</td> <td>Male  </td> <td>College, less than 4-yr degree</td> <td>B: 5,000 to 9,999  </td> <td>15423           </td>\n",
       "        </tr>\n",
       "        <tr>\n",
       "            <td>1/1/14 0:00</td> <td>65 to 80+</td> <td>Female</td> <td>Bachelor's degree or higher   </td> <td>A: 0 to 4,999      </td> <td>15459           </td>\n",
       "        </tr>\n",
       "    </tbody>\n",
       "</table>\n",
       "<p>... (117 rows omitted)</p>"
      ],
      "text/plain": [
       "Year        | Age       | Gender | Educational Attainment         | Personal Income     | Population Count\n",
       "1/1/14 0:00 | 18 to 64  | Female | No high school diploma         | H: 75,000 and over  | 2058\n",
       "1/1/14 0:00 | 65 to 80+ | Male   | No high school diploma         | H: 75,000 and over  | 2153\n",
       "1/1/14 0:00 | 65 to 80+ | Female | No high school diploma         | G: 50,000 to 74,999 | 4666\n",
       "1/1/14 0:00 | 65 to 80+ | Female | High school or equivalent      | H: 75,000 and over  | 7122\n",
       "1/1/14 0:00 | 65 to 80+ | Female | No high school diploma         | F: 35,000 to 49,999 | 7261\n",
       "1/1/14 0:00 | 65 to 80+ | Male   | No high school diploma         | G: 50,000 to 74,999 | 8569\n",
       "1/1/14 0:00 | 18 to 64  | Female | No high school diploma         | G: 50,000 to 74,999 | 14635\n",
       "1/1/14 0:00 | 65 to 80+ | Male   | No high school diploma         | F: 35,000 to 49,999 | 15212\n",
       "1/1/14 0:00 | 65 to 80+ | Male   | College, less than 4-yr degree | B: 5,000 to 9,999   | 15423\n",
       "1/1/14 0:00 | 65 to 80+ | Female | Bachelor's degree or higher    | A: 0 to 4,999       | 15459\n",
       "... (117 rows omitted)"
      ]
     },
     "execution_count": 59,
     "metadata": {},
     "output_type": "execute_result"
    }
   ],
   "source": [
    "#  Read educ_inc.csv table into full_table variable \n",
    "# Select Year equal to '1/1/14 0:00'\n",
    "# Age not equal to  '00 to 17'\n",
    "# Assign it to variable ca_2014\n",
    "#\n",
    "ca_2014 = full_table.where('Year', are.equal_to('1/1/14 0:00')).where('Age', are.not_equal_to('00 to 17'))\n",
    "ca_2014"
   ]
  },
  {
   "cell_type": "markdown",
   "id": "0a5ff705-71df-45e0-92ed-d18c75e688ab",
   "metadata": {},
   "source": [
    "# Joining Tables\n",
    "Some times you come across data that is stored in two tables.  One table has some of the information you want and another table has other information you want.  In tha case you must connect the table to get the information from both tables.  Each table has a column in common.  It may or may not have the same name.  Use the format below to join the tables.\n",
    "```\n",
    "table1.join(table1_column_for_joining, table2, table2_column_for_joining)\n",
    "```\n",
    "\n"
   ]
  },
  {
   "cell_type": "code",
   "execution_count": 67,
   "id": "f25dad51-66a0-4c14-889e-bc884c40e06f",
   "metadata": {},
   "outputs": [
    {
     "data": {
      "text/html": [
       "<table border=\"1\" class=\"dataframe\">\n",
       "    <thead>\n",
       "        <tr>\n",
       "            <th>Flavor</th> <th>Price</th>\n",
       "        </tr>\n",
       "    </thead>\n",
       "    <tbody>\n",
       "        <tr>\n",
       "            <td>strawberry</td> <td>3.55 </td>\n",
       "        </tr>\n",
       "        <tr>\n",
       "            <td>vanilla   </td> <td>4.75 </td>\n",
       "        </tr>\n",
       "        <tr>\n",
       "            <td>chocolate </td> <td>6.55 </td>\n",
       "        </tr>\n",
       "        <tr>\n",
       "            <td>strawberry</td> <td>5.25 </td>\n",
       "        </tr>\n",
       "        <tr>\n",
       "            <td>chocolate </td> <td>5.75 </td>\n",
       "        </tr>\n",
       "    </tbody>\n",
       "</table>"
      ],
      "text/plain": [
       "Flavor     | Price\n",
       "strawberry | 3.55\n",
       "vanilla    | 4.75\n",
       "chocolate  | 6.55\n",
       "strawberry | 5.25\n",
       "chocolate  | 5.75"
      ]
     },
     "execution_count": 67,
     "metadata": {},
     "output_type": "execute_result"
    }
   ],
   "source": [
    "# Create a table of ice creams called cones\n",
    "cones = Table().with_columns(\n",
    "    'Flavor', make_array('strawberry', 'vanilla', 'chocolate', 'strawberry', 'chocolate'),\n",
    "    'Price', make_array(3.55, 4.75, 6.55, 5.25, 5.75)\n",
    ")\n",
    "cones"
   ]
  },
  {
   "cell_type": "code",
   "execution_count": 68,
   "id": "26e39842-a2f5-442e-b815-70ff621f3460",
   "metadata": {},
   "outputs": [
    {
     "data": {
      "text/html": [
       "<table border=\"1\" class=\"dataframe\">\n",
       "    <thead>\n",
       "        <tr>\n",
       "            <th>Kind</th> <th>Stars</th>\n",
       "        </tr>\n",
       "    </thead>\n",
       "    <tbody>\n",
       "        <tr>\n",
       "            <td>strawberry</td> <td>2.5  </td>\n",
       "        </tr>\n",
       "        <tr>\n",
       "            <td>chocolate </td> <td>3.5  </td>\n",
       "        </tr>\n",
       "        <tr>\n",
       "            <td>vanilla   </td> <td>4    </td>\n",
       "        </tr>\n",
       "    </tbody>\n",
       "</table>"
      ],
      "text/plain": [
       "Kind       | Stars\n",
       "strawberry | 2.5\n",
       "chocolate  | 3.5\n",
       "vanilla    | 4"
      ]
     },
     "execution_count": 68,
     "metadata": {},
     "output_type": "execute_result"
    }
   ],
   "source": [
    "ratings = Table().with_columns(\n",
    "    'Kind', make_array('strawberry', 'chocolate', 'vanilla'),\n",
    "    'Stars', make_array(2.5, 3.5, 4)\n",
    ")\n",
    "ratings"
   ]
  },
  {
   "cell_type": "code",
   "execution_count": 69,
   "id": "c8a7608b-5ff1-426a-8289-4262726a546f",
   "metadata": {
    "scrolled": true
   },
   "outputs": [
    {
     "data": {
      "text/html": [
       "<table border=\"1\" class=\"dataframe\">\n",
       "    <thead>\n",
       "        <tr>\n",
       "            <th>Flavor</th> <th>Price</th> <th>Stars</th>\n",
       "        </tr>\n",
       "    </thead>\n",
       "    <tbody>\n",
       "        <tr>\n",
       "            <td>chocolate </td> <td>6.55 </td> <td>3.5  </td>\n",
       "        </tr>\n",
       "        <tr>\n",
       "            <td>chocolate </td> <td>5.75 </td> <td>3.5  </td>\n",
       "        </tr>\n",
       "        <tr>\n",
       "            <td>strawberry</td> <td>3.55 </td> <td>2.5  </td>\n",
       "        </tr>\n",
       "        <tr>\n",
       "            <td>strawberry</td> <td>5.25 </td> <td>2.5  </td>\n",
       "        </tr>\n",
       "        <tr>\n",
       "            <td>vanilla   </td> <td>4.75 </td> <td>4    </td>\n",
       "        </tr>\n",
       "    </tbody>\n",
       "</table>"
      ],
      "text/plain": [
       "Flavor     | Price | Stars\n",
       "chocolate  | 6.55  | 3.5\n",
       "chocolate  | 5.75  | 3.5\n",
       "strawberry | 3.55  | 2.5\n",
       "strawberry | 5.25  | 2.5\n",
       "vanilla    | 4.75  | 4"
      ]
     },
     "execution_count": 69,
     "metadata": {},
     "output_type": "execute_result"
    }
   ],
   "source": [
    "rated = cones.join('Flavor', ratings, 'Kind')\n",
    "rated"
   ]
  },
  {
   "cell_type": "code",
   "execution_count": 70,
   "id": "3cd8d852-3365-482f-82b6-4454f443cf80",
   "metadata": {},
   "outputs": [
    {
     "data": {
      "text/html": [
       "<table border=\"1\" class=\"dataframe\">\n",
       "    <thead>\n",
       "        <tr>\n",
       "            <th>Flavor</th> <th>Price</th> <th>Stars</th> <th>$/Star</th>\n",
       "        </tr>\n",
       "    </thead>\n",
       "    <tbody>\n",
       "        <tr>\n",
       "            <td>vanilla   </td> <td>4.75 </td> <td>4    </td> <td>1.1875 </td>\n",
       "        </tr>\n",
       "        <tr>\n",
       "            <td>strawberry</td> <td>3.55 </td> <td>2.5  </td> <td>1.42   </td>\n",
       "        </tr>\n",
       "        <tr>\n",
       "            <td>chocolate </td> <td>5.75 </td> <td>3.5  </td> <td>1.64286</td>\n",
       "        </tr>\n",
       "        <tr>\n",
       "            <td>chocolate </td> <td>6.55 </td> <td>3.5  </td> <td>1.87143</td>\n",
       "        </tr>\n",
       "        <tr>\n",
       "            <td>strawberry</td> <td>5.25 </td> <td>2.5  </td> <td>2.1    </td>\n",
       "        </tr>\n",
       "    </tbody>\n",
       "</table>"
      ],
      "text/plain": [
       "Flavor     | Price | Stars | $/Star\n",
       "vanilla    | 4.75  | 4     | 1.1875\n",
       "strawberry | 3.55  | 2.5   | 1.42\n",
       "chocolate  | 5.75  | 3.5   | 1.64286\n",
       "chocolate  | 6.55  | 3.5   | 1.87143\n",
       "strawberry | 5.25  | 2.5   | 2.1"
      ]
     },
     "execution_count": 70,
     "metadata": {},
     "output_type": "execute_result"
    }
   ],
   "source": [
    "rated.with_column('$/Star', rated.column('Price')/rated.column('Stars')).sort(3)"
   ]
  },
  {
   "cell_type": "code",
   "execution_count": 71,
   "id": "8527fd30-7c1b-47d5-8b8b-41aa2be54125",
   "metadata": {},
   "outputs": [
    {
     "data": {
      "text/html": [
       "<table border=\"1\" class=\"dataframe\">\n",
       "    <thead>\n",
       "        <tr>\n",
       "            <th>Kind</th> <th>Stars</th>\n",
       "        </tr>\n",
       "    </thead>\n",
       "    <tbody>\n",
       "        <tr>\n",
       "            <td>strawberry</td> <td>2.5  </td>\n",
       "        </tr>\n",
       "        <tr>\n",
       "            <td>chocolate </td> <td>3.5  </td>\n",
       "        </tr>\n",
       "        <tr>\n",
       "            <td>vanilla   </td> <td>4    </td>\n",
       "        </tr>\n",
       "    </tbody>\n",
       "</table>"
      ],
      "text/plain": [
       "Kind       | Stars\n",
       "strawberry | 2.5\n",
       "chocolate  | 3.5\n",
       "vanilla    | 4"
      ]
     },
     "execution_count": 71,
     "metadata": {},
     "output_type": "execute_result"
    }
   ],
   "source": [
    "ratings"
   ]
  },
  {
   "cell_type": "code",
   "execution_count": 72,
   "id": "14ea81db-9b6c-419b-b5f9-a15900034b41",
   "metadata": {},
   "outputs": [
    {
     "data": {
      "text/html": [
       "<table border=\"1\" class=\"dataframe\">\n",
       "    <thead>\n",
       "        <tr>\n",
       "            <th>Kind</th> <th>Stars</th> <th>Price</th>\n",
       "        </tr>\n",
       "    </thead>\n",
       "    <tbody>\n",
       "        <tr>\n",
       "            <td>chocolate </td> <td>3.5  </td> <td>6.55 </td>\n",
       "        </tr>\n",
       "        <tr>\n",
       "            <td>chocolate </td> <td>3.5  </td> <td>5.75 </td>\n",
       "        </tr>\n",
       "        <tr>\n",
       "            <td>strawberry</td> <td>2.5  </td> <td>3.55 </td>\n",
       "        </tr>\n",
       "        <tr>\n",
       "            <td>strawberry</td> <td>2.5  </td> <td>5.25 </td>\n",
       "        </tr>\n",
       "        <tr>\n",
       "            <td>vanilla   </td> <td>4    </td> <td>4.75 </td>\n",
       "        </tr>\n",
       "    </tbody>\n",
       "</table>"
      ],
      "text/plain": [
       "Kind       | Stars | Price\n",
       "chocolate  | 3.5   | 6.55\n",
       "chocolate  | 3.5   | 5.75\n",
       "strawberry | 2.5   | 3.55\n",
       "strawberry | 2.5   | 5.25\n",
       "vanilla    | 4     | 4.75"
      ]
     },
     "execution_count": 72,
     "metadata": {},
     "output_type": "execute_result"
    }
   ],
   "source": [
    "ratings.join('Kind', cones, 'Flavor')"
   ]
  },
  {
   "cell_type": "code",
   "execution_count": 73,
   "id": "9f6c19f8-a565-4783-bbf9-092b08f26d7f",
   "metadata": {},
   "outputs": [
    {
     "data": {
      "text/html": [
       "<table border=\"1\" class=\"dataframe\">\n",
       "    <thead>\n",
       "        <tr>\n",
       "            <th>Flavor</th> <th>Stars</th>\n",
       "        </tr>\n",
       "    </thead>\n",
       "    <tbody>\n",
       "        <tr>\n",
       "            <td>vanilla  </td> <td>5    </td>\n",
       "        </tr>\n",
       "        <tr>\n",
       "            <td>chocolate</td> <td>3    </td>\n",
       "        </tr>\n",
       "        <tr>\n",
       "            <td>vanilla  </td> <td>5    </td>\n",
       "        </tr>\n",
       "        <tr>\n",
       "            <td>chocolate</td> <td>4    </td>\n",
       "        </tr>\n",
       "    </tbody>\n",
       "</table>"
      ],
      "text/plain": [
       "Flavor    | Stars\n",
       "vanilla   | 5\n",
       "chocolate | 3\n",
       "vanilla   | 5\n",
       "chocolate | 4"
      ]
     },
     "execution_count": 73,
     "metadata": {},
     "output_type": "execute_result"
    }
   ],
   "source": [
    "reviews = Table().with_columns(\n",
    "    'Flavor', make_array('vanilla', 'chocolate', 'vanilla', 'chocolate'),\n",
    "    'Stars', make_array(5, 3, 5, 4)\n",
    ")\n",
    "reviews"
   ]
  },
  {
   "cell_type": "code",
   "execution_count": 74,
   "id": "8b628ee0-2c40-4e98-8be2-2feb62a1aed5",
   "metadata": {},
   "outputs": [
    {
     "data": {
      "text/html": [
       "<table border=\"1\" class=\"dataframe\">\n",
       "    <thead>\n",
       "        <tr>\n",
       "            <th>Flavor</th> <th>Stars average</th>\n",
       "        </tr>\n",
       "    </thead>\n",
       "    <tbody>\n",
       "        <tr>\n",
       "            <td>chocolate</td> <td>3.5          </td>\n",
       "        </tr>\n",
       "        <tr>\n",
       "            <td>vanilla  </td> <td>5            </td>\n",
       "        </tr>\n",
       "    </tbody>\n",
       "</table>"
      ],
      "text/plain": [
       "Flavor    | Stars average\n",
       "chocolate | 3.5\n",
       "vanilla   | 5"
      ]
     },
     "execution_count": 74,
     "metadata": {},
     "output_type": "execute_result"
    }
   ],
   "source": [
    "average_review = reviews.group('Flavor', np.average)\n",
    "average_review"
   ]
  },
  {
   "cell_type": "code",
   "execution_count": 75,
   "id": "565118a6-d3c0-4348-93a1-258ce3f04009",
   "metadata": {},
   "outputs": [
    {
     "data": {
      "text/html": [
       "<table border=\"1\" class=\"dataframe\">\n",
       "    <thead>\n",
       "        <tr>\n",
       "            <th>Flavor</th> <th>Price</th> <th>Stars average</th>\n",
       "        </tr>\n",
       "    </thead>\n",
       "    <tbody>\n",
       "        <tr>\n",
       "            <td>chocolate</td> <td>6.55 </td> <td>3.5          </td>\n",
       "        </tr>\n",
       "        <tr>\n",
       "            <td>chocolate</td> <td>5.75 </td> <td>3.5          </td>\n",
       "        </tr>\n",
       "        <tr>\n",
       "            <td>vanilla  </td> <td>4.75 </td> <td>5            </td>\n",
       "        </tr>\n",
       "    </tbody>\n",
       "</table>"
      ],
      "text/plain": [
       "Flavor    | Price | Stars average\n",
       "chocolate | 6.55  | 3.5\n",
       "chocolate | 5.75  | 3.5\n",
       "vanilla   | 4.75  | 5"
      ]
     },
     "execution_count": 75,
     "metadata": {},
     "output_type": "execute_result"
    }
   ],
   "source": [
    "cones.join('Flavor', average_review, 'Flavor')"
   ]
  },
  {
   "cell_type": "markdown",
   "id": "b423c1bd-d683-4a1a-8a7f-dd8dcf016319",
   "metadata": {},
   "source": [
    "# Iterations\n",
    "Sometimes we want to repeat the same code a number of times.  When we want to do this we can use a for loop.\n",
    "                                                                                                   \n",
    "```\n",
    "for x in np.arange(5):\n",
    "    print (x,\"squared is\", x**2)\n",
    "```\n"
   ]
  },
  {
   "cell_type": "code",
   "execution_count": null,
   "id": "0b5db6de-b666-4c63-a9ec-c8fc70eba68b",
   "metadata": {},
   "outputs": [],
   "source": []
  },
  {
   "cell_type": "code",
   "execution_count": null,
   "id": "a3811786-47b0-4776-99eb-1488e7690c2d",
   "metadata": {},
   "outputs": [],
   "source": []
  },
  {
   "cell_type": "code",
   "execution_count": null,
   "id": "cefda45b-d630-4d00-83f1-f2d4f7daf47d",
   "metadata": {},
   "outputs": [],
   "source": []
  },
  {
   "cell_type": "code",
   "execution_count": null,
   "id": "fe6c235c-cad5-45c7-a600-649e887a828e",
   "metadata": {},
   "outputs": [],
   "source": []
  }
 ],
 "metadata": {
  "kernelspec": {
   "display_name": "Python 3 (ipykernel)",
   "language": "python",
   "name": "python3"
  },
  "language_info": {
   "codemirror_mode": {
    "name": "ipython",
    "version": 3
   },
   "file_extension": ".py",
   "mimetype": "text/x-python",
   "name": "python",
   "nbconvert_exporter": "python",
   "pygments_lexer": "ipython3",
   "version": "3.11.13"
  }
 },
 "nbformat": 4,
 "nbformat_minor": 5
}
