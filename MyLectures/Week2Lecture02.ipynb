{
 "cells": [
  {
   "cell_type": "markdown",
   "id": "86e0af7e-c84c-4841-83d9-a68e9180a6d3",
   "metadata": {},
   "source": [
    "# Week 2 - Lecture #2\n",
    "This is the second lecture for Week 2.  We will work start where we left off.\n",
    "First, run the code cell below.\n",
    "                           "
   ]
  },
  {
   "cell_type": "code",
   "execution_count": null,
   "id": "af6ee24c-a7f5-4d98-9609-59b2b04d7243",
   "metadata": {},
   "outputs": [],
   "source": [
    "from datascience import *\n",
    "import numpy as np\n",
    "%matplotlib inline\n",
    "import matplotlib.pyplot as plots\n",
    "plots.style.use('fivethirtyeight')\n",
    "import warnings\n",
    "warnings.simplefilter(action=\"ignore\", category=FutureWarning)\n",
    "\n",
    "from urllib.request import urlopen \n",
    "import re\n",
    "def read_url(url): \n",
    "    return re.sub('\\\\s+', ' ', urlopen(url).read().decode())"
   ]
  },
  {
   "cell_type": "markdown",
   "id": "3f5f59bb-05ce-49d5-b902-354b49041870",
   "metadata": {},
   "source": [
    "# String Method\n",
    "```\n",
    "# lowercase\n",
    "string.lower()\n",
    "\n",
    "# uppercase\n",
    "string.upper()\n",
    "\n",
    "# Capitalize the first string\n",
    "string.capitalize()\n",
    "\n",
    "# Capitalize each word\n",
    "string.title()\n",
    "```"
   ]
  },
  {
   "cell_type": "code",
   "execution_count": null,
   "id": "9ec4da35-ca3f-4519-b895-163c1ae74c81",
   "metadata": {},
   "outputs": [],
   "source": []
  },
  {
   "cell_type": "code",
   "execution_count": null,
   "id": "ce42f2aa-71af-4181-8b35-66c9a8fdf57b",
   "metadata": {},
   "outputs": [],
   "source": []
  },
  {
   "cell_type": "code",
   "execution_count": null,
   "id": "8ea4dea4-8082-4757-9e52-cd54fa76e728",
   "metadata": {},
   "outputs": [],
   "source": []
  },
  {
   "cell_type": "code",
   "execution_count": null,
   "id": "af5193d1-e175-4abe-a4c2-cbc51113b74d",
   "metadata": {},
   "outputs": [],
   "source": []
  },
  {
   "cell_type": "code",
   "execution_count": null,
   "id": "c23a8e10-98df-4662-81e3-fb2f929b2846",
   "metadata": {},
   "outputs": [],
   "source": []
  },
  {
   "cell_type": "markdown",
   "id": "576d27ed-d673-4c0c-b78f-f3b93d698544",
   "metadata": {},
   "source": [
    "# Making an Array\n",
    "You can create a series of values called an array.  They must be the same data type.<br>\n",
    "\n",
    "```\n",
    "variable_name = make_array(...list of items...)\n",
    "```\n",
    "\n",
    "**For example**<br>\n",
    "```\n",
    "female_names = make_array(\"Mary\", \"Patricia\", \"Jennifer\", \"Linda\", \"Elizabeth\", \"Barbara\", \"Susan\", \"Jessica\")\n",
    "male_names = make_array(\"James\", \"Michael\", \"John\", \"Robert\", \"David\", \"William\", \"Richard\", \"Joseph\")\n",
    "\n",
    "daily_minutes = make_array(10, 25, 60, 15, 35, 66, 34)  # of minutes on cellphone\n",
    "\n",
    "```\n"
   ]
  },
  {
   "cell_type": "code",
   "execution_count": null,
   "id": "240f4ab5-8321-434b-8130-eeed9f5a567f",
   "metadata": {},
   "outputs": [],
   "source": []
  },
  {
   "cell_type": "code",
   "execution_count": null,
   "id": "9cf529c3-2a31-4c18-8a38-aed1681a8618",
   "metadata": {},
   "outputs": [],
   "source": []
  },
  {
   "cell_type": "code",
   "execution_count": null,
   "id": "089f46ce-df66-45a3-b5fe-bd1ac649606d",
   "metadata": {},
   "outputs": [],
   "source": []
  },
  {
   "cell_type": "markdown",
   "id": "a8dd55da-afe3-40d9-808e-fb8df89a43da",
   "metadata": {},
   "source": [
    "# Sequences/Array \n",
    "Values can be grouped together into collections, which allows programmers to organize those values and refer to all of them with a single name. By grouping values together, we can write code that performs a computation on many pieces of data at once.\n",
    "<br>\n",
    "\n",
    "The function to create an array, make_array( list of elements separated by comma).\n",
    "## Numeric Arrays\n",
    "```\n",
    "baseline_high = 14.48\n",
    "highs = make_array(baseline_high - 0.880, baseline_high - 0.093,\n",
    "                   baseline_high + 0.105, baseline_high + 0.684)\n",
    "highs\n",
    "```\n",
    "\n",
    "## String Arrays\n",
    "```\n",
    "english_parts_of_speech = make_array(\"noun\", \"pronoun\", \"verb\", \"adverb\", \"adjective\", \"conjunction\", \"preposition\", \"interjection\")\n",
    "english_parts_of_speech\n",
    "```"
   ]
  },
  {
   "cell_type": "code",
   "execution_count": null,
   "id": "4e6110c1-15f6-492c-bf53-00fd2983101d",
   "metadata": {},
   "outputs": [],
   "source": []
  },
  {
   "cell_type": "code",
   "execution_count": null,
   "id": "f77c3c30-11d3-4fbd-9241-bc52be77861f",
   "metadata": {},
   "outputs": [],
   "source": []
  },
  {
   "cell_type": "markdown",
   "id": "158f7d0f-2c17-45ca-a3b7-9e7e0788c20c",
   "metadata": {},
   "source": [
    "# String join\n",
    "Sometimes you want to combine strings with various characters.  You can do this by using the join function.\n",
    "\n",
    "```\n",
    "\"phrase\".join(array_name)\n",
    "```\n",
    "For example if I had an array with my first, middle, and last name I can join them with a ❤️ using the code below.\n",
    "```\n",
    "namex = make_array(\"JoEllen\", \"Denise\", \"Green\")\n",
    "\"❤️\".join(namex)\n",
    "```"
   ]
  },
  {
   "cell_type": "code",
   "execution_count": null,
   "id": "9010e0eb-765a-49b7-97ca-663885ab08e4",
   "metadata": {},
   "outputs": [],
   "source": []
  },
  {
   "cell_type": "markdown",
   "id": "e5222379-2dec-4671-a97e-6665f6cf7b1a",
   "metadata": {},
   "source": [
    "# Using sequences/arrays in calculations\n",
    "Collections allow us to pass multiple values into a function using a single name. For instance, the sum function computes the sum of all values in a collection, and the len function computes its length. \n",
    "<br>\n",
    "F = (9/5)C + 32"
   ]
  },
  {
   "cell_type": "code",
   "execution_count": null,
   "id": "d778da35-08b1-4b20-b965-293875337cf0",
   "metadata": {},
   "outputs": [],
   "source": []
  },
  {
   "cell_type": "markdown",
   "id": "a772a925-8f1e-4bdf-9581-3cb8e5046c2c",
   "metadata": {},
   "source": [
    "# Array/Sequence computations\n",
    "```\n",
    "array_name.size    # Number in the array\n",
    "array_name.sum()   # Sum of the values in the array\n",
    "array_name.mean()  # Mean of the values in the array\n",
    "```"
   ]
  },
  {
   "cell_type": "code",
   "execution_count": null,
   "id": "116aafb0-3e62-422d-a3dc-4a8991c76b80",
   "metadata": {},
   "outputs": [],
   "source": []
  },
  {
   "cell_type": "code",
   "execution_count": null,
   "id": "89e3bc2a-d7e0-4d6e-838a-70cb6e02c8f5",
   "metadata": {},
   "outputs": [],
   "source": []
  },
  {
   "cell_type": "code",
   "execution_count": null,
   "id": "a5c567a7-0069-43a2-9bef-8b611c049dc1",
   "metadata": {},
   "outputs": [],
   "source": []
  },
  {
   "cell_type": "markdown",
   "id": "ece11d5d-adad-4499-8d3b-e1933e157be9",
   "metadata": {},
   "source": [
    "# Functions on Arrays\n",
    "## Section 5.1\n",
    "In **section 5.1** of the textbook are a list of functions.<br>\n",
    "There is a library called numpy that has many mathematical functions.  It takes an array as the parameter. <br>\n",
    "\n",
    "| Function           | Description                                                           |\n",
    "|--------------------|-----------------------------------------------------------------------|\n",
    "| np.prod            | Multiply all elements together                                        |\n",
    "| np.sum             | Add all elements togeter                                              |\n",
    "| np.all             | Test whether all elements are true values (non-zero numbers are true) |\n",
    "| np.any             | Test whether any elements are true values (non-zero number are true)  |\n",
    "| np.count_nonzero   | Count the number of non-zero elements                                 |\n",
    "| np.diff            | Difference between adjacent elements                                  |\n",
    "| no.round           | Round each number to the nearest integer (whole number)               |\n",
    "| np.cumprod         | A cumulative product: for each element, multiply all elements so far  |\n",
    "| np.cumsum          | A cumulative sum: for each element, all all elements so far           |\n",
    "| np.exp             | Exponentiate each element                                             |\n",
    "| np.log             | Take the natural logarithm of each element                            |\n",
    "| np.sqrt            | Take the square root of each element                                  |\n",
    "| np.sort            | Sort the elements                                                     |\n",
    "| np.char.lower      | Lowercase each elements                                               |\n",
    "| np.char.upper      | Uppercase each element                                                |\n",
    "| np.char.strip      | Removes spaces at the beginning or end of each element                |\n",
    "| np.char.isalpha    | Whether each element is only letters (no numbers or symbols)          |\n",
    "| np.char.isnumeric  | Whether each element is only numeric (no letters)                     |\n",
    "| np.char.count      | Count the number of times a search string appears among               |\n",
    "| np.char.find       | The position within each element that a search string is found first  |\n",
    "| np.char.rfind      | The position within each element that a search string is found last   |\n",
    "| np.char.startswith | Whether each element starts with the search string                    |\n"
   ]
  },
  {
   "cell_type": "code",
   "execution_count": null,
   "id": "95b5a797-1e83-43d8-b2a6-cbd64d26428c",
   "metadata": {},
   "outputs": [],
   "source": []
  },
  {
   "cell_type": "code",
   "execution_count": null,
   "id": "790491fb-5517-4007-a5d3-3b68b1f55bb8",
   "metadata": {},
   "outputs": [],
   "source": []
  },
  {
   "cell_type": "code",
   "execution_count": null,
   "id": "a44c2132-5fe3-4b66-8a50-c921e7f5048e",
   "metadata": {},
   "outputs": [],
   "source": []
  },
  {
   "cell_type": "code",
   "execution_count": null,
   "id": "3bac9169-0b0c-43c7-a027-6f289c8588d2",
   "metadata": {},
   "outputs": [],
   "source": []
  },
  {
   "cell_type": "code",
   "execution_count": null,
   "id": "dbb08292-8bde-4c55-8bac-0a4ff0f2b704",
   "metadata": {},
   "outputs": [],
   "source": []
  },
  {
   "cell_type": "code",
   "execution_count": null,
   "id": "8309a8aa-b47a-4e4a-a616-f14e0d294a17",
   "metadata": {},
   "outputs": [],
   "source": []
  },
  {
   "cell_type": "code",
   "execution_count": null,
   "id": "9d53c854-1a25-4c4f-9514-0dd75fbd4d9f",
   "metadata": {},
   "outputs": [],
   "source": []
  },
  {
   "cell_type": "code",
   "execution_count": null,
   "id": "53f9821b-b7bf-45be-b53e-da926b7ba86c",
   "metadata": {},
   "outputs": [],
   "source": []
  },
  {
   "cell_type": "code",
   "execution_count": null,
   "id": "0d7ef4cd-d13c-4ed0-a592-8e1aa11f1036",
   "metadata": {},
   "outputs": [],
   "source": []
  },
  {
   "cell_type": "code",
   "execution_count": null,
   "id": "aec3bce5-5c29-49e3-bb60-89e75a584cd4",
   "metadata": {},
   "outputs": [],
   "source": []
  },
  {
   "cell_type": "code",
   "execution_count": null,
   "id": "7ab2779e-0e89-4b0f-8233-9a1a11a92f32",
   "metadata": {},
   "outputs": [],
   "source": []
  },
  {
   "cell_type": "code",
   "execution_count": null,
   "id": "0f940b8f-3226-402e-8fd0-fd20f5842bb6",
   "metadata": {},
   "outputs": [],
   "source": []
  },
  {
   "cell_type": "code",
   "execution_count": null,
   "id": "f268a22c-4821-4e48-9afb-a2622efb22c3",
   "metadata": {},
   "outputs": [],
   "source": []
  },
  {
   "cell_type": "code",
   "execution_count": null,
   "id": "309aa1f7-d4a4-4257-8d3c-c61ebcfc84b7",
   "metadata": {},
   "outputs": [],
   "source": []
  },
  {
   "cell_type": "code",
   "execution_count": null,
   "id": "bbe1f427-c5af-4ec9-9c49-cbd80ef052eb",
   "metadata": {},
   "outputs": [],
   "source": []
  },
  {
   "cell_type": "code",
   "execution_count": null,
   "id": "6f8e0661-77ee-43df-9237-b3050fb2a03c",
   "metadata": {},
   "outputs": [],
   "source": []
  },
  {
   "cell_type": "code",
   "execution_count": null,
   "id": "e63722bb-d2cb-4de6-8f4d-b3608027bd06",
   "metadata": {},
   "outputs": [],
   "source": []
  },
  {
   "cell_type": "code",
   "execution_count": null,
   "id": "0872f132-95a2-4a96-9ec7-a8acd5b5b7d3",
   "metadata": {},
   "outputs": [],
   "source": []
  },
  {
   "cell_type": "code",
   "execution_count": null,
   "id": "1d2160e1-e65a-4fa9-9c8b-fbdebb84e547",
   "metadata": {},
   "outputs": [],
   "source": []
  },
  {
   "cell_type": "code",
   "execution_count": null,
   "id": "a3db40c5-cddc-4227-97aa-75b01ae41155",
   "metadata": {},
   "outputs": [],
   "source": []
  },
  {
   "cell_type": "code",
   "execution_count": null,
   "id": "38cc4c85-2148-471e-97f0-8368776ee85d",
   "metadata": {},
   "outputs": [],
   "source": []
  },
  {
   "cell_type": "code",
   "execution_count": null,
   "id": "2293f4ff-1c57-47fc-9086-876927d8dd76",
   "metadata": {},
   "outputs": [],
   "source": []
  },
  {
   "cell_type": "code",
   "execution_count": null,
   "id": "25c97afb-a7be-4273-9759-10372035d37c",
   "metadata": {},
   "outputs": [],
   "source": []
  },
  {
   "cell_type": "code",
   "execution_count": null,
   "id": "52fac66c-3ed7-410c-8536-674d414eb5f6",
   "metadata": {},
   "outputs": [],
   "source": []
  },
  {
   "cell_type": "code",
   "execution_count": null,
   "id": "18f34494-2424-44f7-a9ed-ebe5281d2a26",
   "metadata": {},
   "outputs": [],
   "source": []
  },
  {
   "cell_type": "code",
   "execution_count": null,
   "id": "b50f0b9e-e7d7-484b-bf4f-df2af1de314c",
   "metadata": {},
   "outputs": [],
   "source": []
  },
  {
   "cell_type": "code",
   "execution_count": null,
   "id": "3db1635f-b927-4ecc-af7c-13bef798a4c0",
   "metadata": {},
   "outputs": [],
   "source": []
  },
  {
   "cell_type": "markdown",
   "id": "1d50cd9e-1d42-45bd-93fb-7c8e7d56eaa0",
   "metadata": {},
   "source": [
    "# Ranges\n",
    "A range is an array of numbers in increasing or decreasing order, each separated by a regular interval.\n",
    "```\n",
    "np.arange(end)  # starts at 0 and ends at end - 1\n",
    "np.arange(start, end)  # starts at start and ends at end- 1\n",
    "np.arange(start, end, step) # starts at start and end at end -1 increasing by step\n",
    "```"
   ]
  },
  {
   "cell_type": "code",
   "execution_count": null,
   "id": "0417e8ff-b6c0-446a-946f-72bd4f54e289",
   "metadata": {},
   "outputs": [],
   "source": [
    "# print 10 elements starting with 0\n"
   ]
  },
  {
   "cell_type": "code",
   "execution_count": null,
   "id": "29af04a9-0716-4d6a-a408-c4b0ae0f2eca",
   "metadata": {},
   "outputs": [],
   "source": [
    "# list array from 3 to 20\n"
   ]
  },
  {
   "cell_type": "code",
   "execution_count": null,
   "id": "61c8c73a-ea0f-40f1-a9dd-ef8116351d2f",
   "metadata": {},
   "outputs": [],
   "source": [
    "# list array from 5 to 30 in steps 4\n"
   ]
  },
  {
   "attachments": {
    "16322e5f-65ba-4592-be81-0032475e55af.png": {
     "image/png": "[encoded data removed]"
    }
   },
   "cell_type": "markdown",
   "id": "54d9a452-dfe7-4381-a1d2-d70be7a3ba9f",
   "metadata": {},
   "source": [
    "# Leibniz's formula for π\n",
    "**Section 5.2.1.**\n",
    "<br>\n",
    "![{4AD40500-C0F8-4982-A772-AB417A2D2EC7}.png](attachment:16322e5f-65ba-4592-be81-0032475e55af.png)\n"
   ]
  },
  {
   "cell_type": "code",
   "execution_count": null,
   "id": "ead85de7-eac3-4dfb-932b-baaad70144e1",
   "metadata": {},
   "outputs": [],
   "source": [
    "# an array starting at 1 and ending at 10000 by step of 4\n"
   ]
  },
  {
   "cell_type": "code",
   "execution_count": null,
   "id": "65f01794-235c-411e-b72a-c39b4e780993",
   "metadata": {},
   "outputs": [],
   "source": [
    "# fractions of the pattern\n"
   ]
  },
  {
   "cell_type": "code",
   "execution_count": null,
   "id": "1b5c3b58-ad45-42fd-8b4f-86363c5657bc",
   "metadata": {},
   "outputs": [],
   "source": [
    "# an array starting at 3 and ending at 10000 by step of 4\n"
   ]
  },
  {
   "cell_type": "code",
   "execution_count": null,
   "id": "1270dbad-1c82-47f4-a04f-2576ad6abc5a",
   "metadata": {},
   "outputs": [],
   "source": [
    "# fraction of the pattern\n"
   ]
  },
  {
   "cell_type": "code",
   "execution_count": null,
   "id": "8603f556-0cdc-414e-a833-bb2a5a95dc7d",
   "metadata": {},
   "outputs": [],
   "source": [
    "# pi estimate\n"
   ]
  },
  {
   "attachments": {
    "58d1458f-63c1-4a9c-8be4-5817fa9ca262.png": {
     "image/png": "[encoded data removed]"
    }
   },
   "cell_type": "markdown",
   "id": "bfbbe3d3-1ca7-4bb4-97f6-fe391787f23b",
   "metadata": {},
   "source": [
    "![{6F3EBC29-1BCB-4DE0-B99A-EAB0FD6A9FC3}.png](attachment:58d1458f-63c1-4a9c-8be4-5817fa9ca262.png)"
   ]
  },
  {
   "cell_type": "code",
   "execution_count": null,
   "id": "c3269ab1-9128-49b4-bd1f-9243307fbe87",
   "metadata": {},
   "outputs": [],
   "source": [
    "# pattern array starting at 2 to 1,000,000 step 2\n"
   ]
  },
  {
   "cell_type": "code",
   "execution_count": null,
   "id": "4cf084fe-c7af-4f8f-846f-fb310bba49ef",
   "metadata": {},
   "outputs": [],
   "source": [
    "# pattern array starting at 1 to 1,000,000 step 2\n"
   ]
  },
  {
   "cell_type": "code",
   "execution_count": null,
   "id": "8ab6fbe0-2d27-4881-8965-4a9efb05285b",
   "metadata": {},
   "outputs": [],
   "source": [
    "# pattern array starting at 3 and ending at 1,000,001\n"
   ]
  },
  {
   "cell_type": "code",
   "execution_count": null,
   "id": "0cd02d51-99b8-4b14-9316-65874b9a17dd",
   "metadata": {},
   "outputs": [],
   "source": [
    "# pi estimate\n"
   ]
  },
  {
   "cell_type": "markdown",
   "id": "d3749e51-007d-43b2-a194-09b8b6f3daa8",
   "metadata": {},
   "source": [
    "# Tables \n",
    "An organized method of seeing data in row and columns.\n",
    "\n",
    "| **Flavor** |   **Color** | **Price** |\n",
    "|-----------:|------------:|----------:|\n",
    "| strawberry |        pink |      3.55 |\n",
    "|  chocolate | light brown |      4.75 |\n",
    "|  chocolate |  dark brown |      5.25 |\n",
    "| strawberry |        pink |      5.25 |\n",
    "|  chocolate |  dark brown |      5.25 |\n",
    "|  bubblegum |        pink |      4.75 |\n",
    "|  chocolate |  dark brown |      5.25 |\n",
    "|    vanilla |       white |      4.20 |\n",
    "| Mint Chocolate |   green |      3.95 |\n",
    "| Fancy Mint Chocolate |  green | 5.95 |\n",
    "\n",
    "\n",
    "```\n",
    "# Introduction to Tables\n",
    "cones = Table().with_columns(\n",
    "                       'Flavor', make_array('strawberry', 'chocolate', 'chocolate', 'strawberry', 'chocolate', 'bubblegum'),\n",
    "                        'Color', make_array('pink', 'light brown', 'dark brown', 'pink', 'dark brown', 'pink'),\n",
    "                        'Price', make_array(3.55, 4.75, 5.25, 5.25, 5.25, 4.75)\n",
    ")\n",
    "```\n"
   ]
  },
  {
   "cell_type": "code",
   "execution_count": null,
   "id": "4accd6b5-e01a-4fc9-8dda-ef2cdc5aef8e",
   "metadata": {},
   "outputs": [],
   "source": [
    "# Introduction to Tables\n"
   ]
  },
  {
   "cell_type": "code",
   "execution_count": null,
   "id": "993ff281-7160-42bc-93ab-97b20080e5df",
   "metadata": {},
   "outputs": [],
   "source": [
    "# display Table\n"
   ]
  },
  {
   "cell_type": "code",
   "execution_count": null,
   "id": "fcbe26d0-b1a4-4a56-bdc8-5c0c6af295d8",
   "metadata": {},
   "outputs": [],
   "source": [
    "# display the first three records\n"
   ]
  },
  {
   "cell_type": "code",
   "execution_count": null,
   "id": "8bcf604d-14de-42bd-8990-bd7f62046d72",
   "metadata": {},
   "outputs": [],
   "source": [
    "# show all the cones records\n"
   ]
  },
  {
   "cell_type": "code",
   "execution_count": null,
   "id": "a9cbfeba-d6df-4c1d-aba3-04a06ebcaa40",
   "metadata": {},
   "outputs": [],
   "source": [
    "# select Flavor column as Table\n"
   ]
  },
  {
   "cell_type": "code",
   "execution_count": null,
   "id": "2aeb22f2-8cad-4e09-883e-5eba7ba63c58",
   "metadata": {},
   "outputs": [],
   "source": [
    "# create array with values in the Flavor column\n"
   ]
  },
  {
   "cell_type": "code",
   "execution_count": null,
   "id": "daa9d883-ad91-4bbb-94fc-a59a979caf07",
   "metadata": {},
   "outputs": [],
   "source": [
    "# Capitalize the first letter in each value\n"
   ]
  },
  {
   "cell_type": "markdown",
   "id": "3e2b7419-d818-46dc-943a-d46ab19ffd81",
   "metadata": {},
   "source": [
    "# Creating a new Table\n",
    "To create a new table we can  use the with_column method\n",
    "\n",
    "```\n",
    "table_name = Table().with_column('column1', array1,\n",
    "                                 'column2', array2,\n",
    "                                 'column3', array3\n",
    "                                )\n",
    "```\n"
   ]
  },
  {
   "cell_type": "code",
   "execution_count": null,
   "id": "e2c82fce-20b6-4d70-ad4d-427167f3d65a",
   "metadata": {},
   "outputs": [],
   "source": [
    "# create new table with Flavor (capitalized), Color, and Price\n"
   ]
  },
  {
   "cell_type": "code",
   "execution_count": null,
   "id": "9745c941-ba0e-42f7-a711-d1514f4b8242",
   "metadata": {},
   "outputs": [],
   "source": [
    "# create new table with Flavor, Color and Price\n",
    "new_cones = Table().with_column('Flavor', cf)\n",
    "\n",
    "new_cones = new_cones.with_columns('Color', cones.column('Color'), 'Price', cones.column('Price'))\n",
    "new_cones"
   ]
  },
  {
   "cell_type": "code",
   "execution_count": null,
   "id": "0e33d625-0778-4583-a946-ddcd738bd79e",
   "metadata": {},
   "outputs": [],
   "source": [
    "# does not change original table\n"
   ]
  },
  {
   "cell_type": "markdown",
   "id": "114376ef-9b8c-48af-ba5a-c16a8a288412",
   "metadata": {},
   "source": [
    "# Read a csv file into a Table\n",
    "\n",
    "```\n",
    "nba = Table().read_table('nba.csv')\n",
    "```"
   ]
  },
  {
   "cell_type": "code",
   "execution_count": null,
   "id": "07e90025-74ce-42bc-aeaf-77f352099dc3",
   "metadata": {},
   "outputs": [],
   "source": []
  },
  {
   "cell_type": "code",
   "execution_count": null,
   "id": "ca366c75-baca-4caf-ad79-f50c6ab396f0",
   "metadata": {},
   "outputs": [],
   "source": []
  },
  {
   "cell_type": "markdown",
   "id": "857be996-b14e-4ff5-85e1-f4c5eef00d3f",
   "metadata": {},
   "source": [
    "# Table functions\n",
    "The functions for a table are listed in the link below called Table Functions.\n",
    "\n",
    "name_of_table.method(arguments)\n",
    "\n",
    "__[Table Functions](https://www.data8.org/datascience/reference-nb/datascience-reference.html#Table-Functions-and-Methods)__\n"
   ]
  },
  {
   "cell_type": "code",
   "execution_count": null,
   "id": "b217414c-2abb-430a-8191-8db10903b774",
   "metadata": {},
   "outputs": [],
   "source": [
    "# show first 15 records in nba table\n"
   ]
  },
  {
   "cell_type": "markdown",
   "id": "7c88691f-194a-4661-99e2-c0834791bdae",
   "metadata": {},
   "source": [
    "# Table Row selection using Where\n",
    "```\n",
    "table_name.where('column_name', 'value')\n",
    "```\n"
   ]
  },
  {
   "cell_type": "code",
   "execution_count": null,
   "id": "b63ee3a8-8bbc-44ef-a656-6afc61859952",
   "metadata": {},
   "outputs": [],
   "source": [
    "# select the 2020 season \n"
   ]
  },
  {
   "cell_type": "code",
   "execution_count": null,
   "id": "22280c3e-f5a4-43f4-bbd1-0ca665e9e5d9",
   "metadata": {},
   "outputs": [],
   "source": [
    "# select the salary column in the 2020 season\n"
   ]
  },
  {
   "cell_type": "code",
   "execution_count": null,
   "id": "fcd8956b-2a10-4b4b-831e-0ba5b3ddd827",
   "metadata": {},
   "outputs": [],
   "source": [
    "# you can combine both statements in to one line code\n"
   ]
  },
  {
   "cell_type": "code",
   "execution_count": null,
   "id": "a1668d45-01b5-4e0d-8cf7-9d2286a84f34",
   "metadata": {},
   "outputs": [],
   "source": [
    "# The salaries is what type of data\n"
   ]
  },
  {
   "cell_type": "code",
   "execution_count": null,
   "id": "2482bfcd-9dd5-4f88-94d7-bd8a25fc3885",
   "metadata": {},
   "outputs": [],
   "source": [
    "# Suppose Agents get 10% of the salaries for players let's add it to the table\n"
   ]
  },
  {
   "cell_type": "code",
   "execution_count": null,
   "id": "b2af97b4-bbcd-4fa7-b53b-5a8a7fcd12be",
   "metadata": {},
   "outputs": [],
   "source": [
    "# Add Agents Pay to the table\n"
   ]
  },
  {
   "cell_type": "markdown",
   "id": "fdb5abc1-4262-40d3-99aa-75b908651fdf",
   "metadata": {},
   "source": [
    "# Table Row selection using Where\n",
    "```\n",
    "table_name.where('column_name', 'value')\n",
    "```"
   ]
  },
  {
   "cell_type": "code",
   "execution_count": null,
   "id": "e54a514b-7401-4063-a4fc-bf043b5cdb1c",
   "metadata": {},
   "outputs": [],
   "source": [
    "# select Flavor equal to strawberry\n"
   ]
  },
  {
   "cell_type": "markdown",
   "id": "df3cd0ed-ddd6-416a-9efd-6aec40dd1fbc",
   "metadata": {},
   "source": [
    "So far we've only been using `where` with the predicate that requires finding the values in a column to be *exactly* equal to a certain value. However, there are many other predicates. Here are a few:\n",
    "\n",
    "|Predicate|Example|Result|\n",
    "|-|-|-|\n",
    "|`are.equal_to`|`are.equal_to(50)`|Find rows with values equal to 50|\n",
    "|`are.not_equal_to`|`are.not_equal_to(50)`|Find rows with values not equal to 50|\n",
    "|`are.above`|`are.above(50)`|Find rows with values above (and not equal to) 50|\n",
    "|`are.above_or_equal_to`|`are.above_or_equal_to(50)`|Find rows with values above 50 or equal to 50|\n",
    "|`are.below`|`are.below(50)`|Find rows with values below 50|\n",
    "|`are.between`|`are.between(2, 10)`|Find rows with values above or equal to 2 and below 10|\n",
    "|`are.between_or_equal_to`|`are.between_or_equal_to(2, 10)`|Find rows with values above or equal to 2 and below or equal to 10|"
   ]
  },
  {
   "cell_type": "code",
   "execution_count": null,
   "id": "5bbe4cdb-63c0-4865-9306-d747687025ce",
   "metadata": {},
   "outputs": [],
   "source": [
    "# Create a table called warrior with Gold State Warriors\n"
   ]
  },
  {
   "cell_type": "code",
   "execution_count": null,
   "id": "c419b918-0d8d-4a4c-8b2e-f2f8665404c0",
   "metadata": {},
   "outputs": [],
   "source": [
    "# Display the warrior table\n"
   ]
  },
  {
   "cell_type": "code",
   "execution_count": null,
   "id": "2224a9c2-2a9f-4876-bec5-58d62e1d3406",
   "metadata": {},
   "outputs": [],
   "source": [
    "# select PF whose salary is between 3,000,000 and 10,000,000 inclusive.  Sort the table in descending order by salary and format the salary column\n"
   ]
  },
  {
   "cell_type": "code",
   "execution_count": null,
   "id": "a58d29e2-1ca4-41d7-b1e4-8f8e90087e61",
   "metadata": {},
   "outputs": [],
   "source": [
    "# Sort warrior table by salary and format salary to CurrencyFormatter(\"$\") store in variable name dollars\n"
   ]
  },
  {
   "cell_type": "code",
   "execution_count": null,
   "id": "a1592384-5f32-418a-928b-f83ed2f3cf2f",
   "metadata": {},
   "outputs": [],
   "source": [
    "# Select Rows for position equal to C (Center)\n"
   ]
  },
  {
   "cell_type": "code",
   "execution_count": null,
   "id": "cd4bc5c5-4159-4096-a2e1-c1f690de23cd",
   "metadata": {},
   "outputs": [],
   "source": [
    "# Choose rows from warrior table where the position is anything but center.\n"
   ]
  },
  {
   "cell_type": "code",
   "execution_count": null,
   "id": "244b9ed2-f0db-46df-8d57-8a04d408d8a9",
   "metadata": {},
   "outputs": [],
   "source": [
    "# Choose rows of warrior table where salary is above 10,000,000\n"
   ]
  },
  {
   "cell_type": "code",
   "execution_count": null,
   "id": "f5f398bc-b2d3-48c8-b048-4fcf0d11f1c9",
   "metadata": {},
   "outputs": [],
   "source": [
    "# Select from warrior table where\n",
    "warriors.where('salary', are.above_or_equal_to(12000000))"
   ]
  },
  {
   "cell_type": "code",
   "execution_count": null,
   "id": "d39b11cf-8b10-4244-afc7-f7304ef83e95",
   "metadata": {},
   "outputs": [],
   "source": [
    "# warriors with salary below 1,000,000\n"
   ]
  },
  {
   "cell_type": "code",
   "execution_count": null,
   "id": "24ae2c58-8646-4ec1-a116-a898cf7d4e45",
   "metadata": {},
   "outputs": [],
   "source": [
    "# warriors with salary between 2,500,000 and 6,000,000\n"
   ]
  },
  {
   "cell_type": "code",
   "execution_count": null,
   "id": "364ff56e-0f76-46b0-9e81-44c26f951472",
   "metadata": {},
   "outputs": [],
   "source": [
    "# warriors with salary between 3,000,000 and 15,000,000 inclusive\n"
   ]
  }
 ],
 "metadata": {
  "kernelspec": {
   "display_name": "Python 3 (ipykernel)",
   "language": "python",
   "name": "python3"
  },
  "language_info": {
   "codemirror_mode": {
    "name": "ipython",
    "version": 3
   },
   "file_extension": ".py",
   "mimetype": "text/x-python",
   "name": "python",
   "nbconvert_exporter": "python",
   "pygments_lexer": "ipython3",
   "version": "3.11.13"
  }
 },
 "nbformat": 4,
 "nbformat_minor": 5
}
