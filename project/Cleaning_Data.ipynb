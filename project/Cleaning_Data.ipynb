{
 "cells": [
  {
   "cell_type": "markdown",
   "id": "8723fb62",
   "metadata": {},
   "source": [
    "# Cleaning Data - Midterm\n",
    "## The Midterm is due by midnight on 10/16/2023.  The python skills you learned you can use to clean a dataset.  If you get a job in Data science you will need to clean the data.  If you have any questions, please email me through Canvas or joellen.green@fresnocitycollege.edu. "
   ]
  },
  {
   "cell_type": "markdown",
   "id": "ce1914dd",
   "metadata": {},
   "source": [
    "### One the basic data science tasks is cleaning data.  In this assignment you will learn to clean a data set.  This is the midterm for the DS 10 Introduction to Data Science course.\n"
   ]
  },
  {
   "cell_type": "markdown",
   "id": "0fb2fe28",
   "metadata": {},
   "source": [
    "You will use the chronic kidney disease dataset from the University of California, Irvine data science repositary. You will run the code cell below to use the Table functions to help you out."
   ]
  },
  {
   "cell_type": "code",
   "execution_count": 1,
   "id": "b40a84b1",
   "metadata": {},
   "outputs": [
    {
     "ename": "ModuleNotFoundError",
     "evalue": "No module named 'datascience'",
     "output_type": "error",
     "traceback": [
      "\u001b[1;31m---------------------------------------------------------------------------\u001b[0m",
      "\u001b[1;31mModuleNotFoundError\u001b[0m                       Traceback (most recent call last)",
      "Cell \u001b[1;32mIn[1], line 2\u001b[0m\n\u001b[0;32m      1\u001b[0m \u001b[38;5;28;01mimport\u001b[39;00m \u001b[38;5;21;01mnumpy\u001b[39;00m \u001b[38;5;28;01mas\u001b[39;00m \u001b[38;5;21;01mnp\u001b[39;00m\n\u001b[1;32m----> 2\u001b[0m \u001b[38;5;28;01mfrom\u001b[39;00m \u001b[38;5;21;01mdatascience\u001b[39;00m \u001b[38;5;28;01mimport\u001b[39;00m \u001b[38;5;241m*\u001b[39m\n\u001b[0;32m      4\u001b[0m \u001b[38;5;66;03m# These lines set up graphing capabilities.\u001b[39;00m\n\u001b[0;32m      5\u001b[0m \u001b[38;5;28;01mimport\u001b[39;00m \u001b[38;5;21;01mmatplotlib\u001b[39;00m\n",
      "\u001b[1;31mModuleNotFoundError\u001b[0m: No module named 'datascience'"
     ]
    }
   ],
   "source": [
    "import numpy as np\n",
    "from datascience import *\n",
    "\n",
    "# These lines set up graphing capabilities.\n",
    "import matplotlib\n",
    "%matplotlib inline\n",
    "import matplotlib.pyplot as plt\n",
    "plt.style.use('fivethirtyeight')\n",
    "import pandas as pd"
   ]
  },
  {
   "cell_type": "markdown",
   "id": "d8e598d9",
   "metadata": {},
   "source": [
    "## In this assignment you will clean a dataset using the Python tools learn thus far.\n",
    "<br>\n",
    "Attribute Information:<br>\n",
    "We use the following representation to collect the dataset<br>\n",
    "- age - age in years (numerical)<br>\n",
    "- bp - blood pressure in mm/Hg (numerical)<br>\n",
    "- sg - specific gravity sg (1.005, 1.010, 1.020, 1.025) (nominal)<br>\n",
    "- al - albumin (0, 1, 2, 3, 4, 5) (ordinal)<br>\n",
    "- su - sugar (0, 1, 2, 3, 4, 5) (ordinal)<br>\n",
    "- rbc - red blood cells (normal, abnormal)(nominal)<br>\n",
    "- pc - pus cell (normal, abnormal) (nominal)<br>\n",
    "- pcc - pus cell clumps (present, notpresent) (nominal)<br>\n",
    "- ba - bacteria (present, notpresent) (nominal)<br>\n",
    "- bgr - blood glucose random mgs/dl (numerical)<br>\n",
    "- bu - blood urea mgs/dl (numerical)<br>\n",
    "- sc - serum creatinine mgs/dl (numerical)<br>\n",
    "- sod - sodium mEq/L (numerical)<br>\n",
    "- pot - potassium mEq/L (numerical)<br>\n",
    "- hemo - hemoglobin gms (numerical)<br>\n",
    "- pcv - packed cell volume (numerical)<br>\n",
    "- wc - white blood cell count (cells/cumm) (numerical)<br>\n",
    "- rc - red blood cell count millions/cmm (numerical)<br>\n",
    "- htn - hypertension (yes, no) (nominal)<br>\n",
    "- dm - diabetes mellitus (yes, no) (nominal)<br>\n",
    "- cad - coronary artery disease (yes, no) (nominal)<br>\n",
    "- appet - appetite (good, poor) (nominal)<br>\n",
    "- pe - pedal edema (yes, no) (nominal)<br>\n",
    "- ane - anemia (yes, no) (nominal)<br>\n",
    "- classification - class (ckd, notckd) (nominal)<br>\n",
    "<br>\n",
    "**Knowing the data types is very important**<br>\n",
    "- (nominal) - label with no numerical order<br>\n",
    "- (ordinal) - label with numberical order<br>\n",
    "- (interval) - numerical with no real 0 (0 means nothing)<br>\n",
    "- (ratio) - numerical with a real 0 (0 means nothing)<br>"
   ]
  },
  {
   "cell_type": "code",
   "execution_count": null,
   "id": "a79ab2a8",
   "metadata": {},
   "outputs": [],
   "source": [
    "filename = 'kidney_disease.csv'\n",
    "kidney_disease = Table.read_table(filename)\n",
    "kidney_disease"
   ]
  },
  {
   "cell_type": "markdown",
   "id": "41743e8b",
   "metadata": {},
   "source": [
    "**Question 1** Change the labels to the full name<br>\n",
    "Hint: change bp to blood pressure.  Use kidney_disease.relabel"
   ]
  },
  {
   "cell_type": "code",
   "execution_count": null,
   "id": "0df5629e",
   "metadata": {},
   "outputs": [],
   "source": [
    "kidney_diseae = kidney_disease.relabel(make_array('bp', 'sg'),\n",
    "  make_array('blood_pressure', 'specific_gravity'))\n",
    "kidney_disease"
   ]
  },
  {
   "cell_type": "markdown",
   "id": "9d0e12aa",
   "metadata": {},
   "source": [
    "### Create an array called old_names of variables names from al to ane.  Then created an array called new_names.  Finally use the relabel method to change the variable names.\n",
    "\n"
   ]
  },
  {
   "cell_type": "code",
   "execution_count": null,
   "id": "09063e18",
   "metadata": {},
   "outputs": [],
   "source": [
    "old_names = ...\n",
    "new_names = ...\n",
    "kidney_disease =\n",
    "kidney_disease"
   ]
  },
  {
   "cell_type": "markdown",
   "id": "12578203",
   "metadata": {},
   "source": [
    "### To get additional information about the data we will convert the data to a Pandas dataframe and apply the info() method."
   ]
  },
  {
   "cell_type": "code",
   "execution_count": null,
   "id": "cef5a484",
   "metadata": {},
   "outputs": [],
   "source": [
    "chronic_kidney_disease = kidney_disease.to_df()  # pandas dataframe\n",
    "chronic_kidney_disease.info()  "
   ]
  },
  {
   "cell_type": "markdown",
   "id": "89c6e592",
   "metadata": {},
   "source": [
    "## the info method gives you information about the dataset\n",
    "- There are missing values nan indicates a missing value\n",
    "- Also notice the type of data that python has set each variables\n",
    "- Age has 400 - 391 = 9 missing values\n",
    "- blood_pressure has 400 - 388 = 12 missing values\n",
    "- specific_gravity has 400 - 353 = 47 missing values\n"
   ]
  },
  {
   "cell_type": "markdown",
   "id": "72afe812",
   "metadata": {},
   "source": [
    "**Question 2** Determine the missing values for each variable based on the values above. Create an array called no_of_missing_values and list the number of missing values starting from variable age to anemia."
   ]
  },
  {
   "cell_type": "code",
   "execution_count": null,
   "id": "4ccd1072",
   "metadata": {},
   "outputs": [],
   "source": [
    "no_of_missing_values = ..."
   ]
  },
  {
   "cell_type": "markdown",
   "id": "14b04da6",
   "metadata": {},
   "source": [
    "### We will change the nan to a numpy missing value NaN"
   ]
  },
  {
   "cell_type": "code",
   "execution_count": null,
   "id": "da748616",
   "metadata": {},
   "outputs": [],
   "source": [
    "#Change the nan to missing values np.nan\n",
    "chronic_kidney_disease = chronic_kidney_disease.replace([\"nan\"], np.nan)\n",
    "chronic_kidney_disease"
   ]
  },
  {
   "cell_type": "markdown",
   "id": "5574c93c",
   "metadata": {},
   "source": [
    "**Question 3** Change the packed cell volume to float\n",
    "Hinit: Use the following code"
   ]
  },
  {
   "cell_type": "code",
   "execution_count": null,
   "id": "9d776689",
   "metadata": {},
   "outputs": [],
   "source": [
    "chronic_kidney_disease['packed_cell_volume'] = chronic_kidney_disease['packed_cell_volume'].astype(float)\n",
    "chronic_kidney_disease.info()"
   ]
  },
  {
   "cell_type": "code",
   "execution_count": null,
   "id": "03bb9112",
   "metadata": {},
   "outputs": [],
   "source": [
    "## The error indicates that there is '\\t?' in one of the fields find the record and then replace it with np.nan.\n",
    "Use the kidney_disease Table and where method to locate the record where packed_cell_volume is equal to '\\t?'"
   ]
  },
  {
   "cell_type": "code",
   "execution_count": null,
   "id": "3ace0015",
   "metadata": {},
   "outputs": [],
   "source": [
    "kidney_disease.where('packed_cell_volume', are.equal_to('\\t?'))\n"
   ]
  },
  {
   "cell_type": "markdown",
   "id": "9c498d4b",
   "metadata": {},
   "source": [
    "### Use the chronic_kidney_disease dataframe to replace the '\\t?' with np.nan \n",
    "### Hint: Use replace code above in Question 2"
   ]
  },
  {
   "cell_type": "code",
   "execution_count": null,
   "id": "63754f15",
   "metadata": {},
   "outputs": [],
   "source": [
    "...."
   ]
  },
  {
   "cell_type": "markdown",
   "id": "aec5f536",
   "metadata": {},
   "source": [
    "**Question 3** Continue to change the packed_cell_volume, white_blood_cell_count, and red_blood_cell_count to float datatypes.  If there is a problem fix it by changing the str to a np.nan."
   ]
  },
  {
   "cell_type": "code",
   "execution_count": null,
   "id": "36b152f9",
   "metadata": {},
   "outputs": [],
   "source": []
  },
  {
   "cell_type": "code",
   "execution_count": null,
   "id": "3450dca1",
   "metadata": {},
   "outputs": [],
   "source": []
  },
  {
   "cell_type": "code",
   "execution_count": null,
   "id": "32a97fe6",
   "metadata": {},
   "outputs": [],
   "source": []
  },
  {
   "cell_type": "code",
   "execution_count": null,
   "id": "906b6ff9",
   "metadata": {},
   "outputs": [],
   "source": []
  },
  {
   "cell_type": "markdown",
   "id": "1bc3facd",
   "metadata": {},
   "source": []
  }
 ],
 "metadata": {
  "kernelspec": {
   "display_name": "Python 3 (ipykernel)",
   "language": "python",
   "name": "python3"
  },
  "language_info": {
   "codemirror_mode": {
    "name": "ipython",
    "version": 3
   },
   "file_extension": ".py",
   "mimetype": "text/x-python",
   "name": "python",
   "nbconvert_exporter": "python",
   "pygments_lexer": "ipython3",
   "version": "3.11.5"
  }
 },
 "nbformat": 4,
 "nbformat_minor": 5
}
