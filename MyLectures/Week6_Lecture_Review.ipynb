{
 "cells": [
  {
   "cell_type": "markdown",
   "id": "24c42006-8d8e-4af7-968c-9d46f443be42",
   "metadata": {},
   "source": [
    "# Week 6 Lecture\n",
    "Review of what we learned over the last five weeks.\n",
    "Looking back on what was learned in the last 5 weeks\n",
    "- PEMDAS\n",
    "- Calculations using Growth Rate\n",
    "- Creating a table with_columns method\n",
    "- Reading data into a table\n",
    "- Selecting columns form the table\n",
    "- Relabelling a column of a table\n",
    "- sorting a column\n",
    "- dropping a columm\n",
    "- Formatting a column \n",
    "- Selecting rows from a table using where\n",
    "- Creating an array from a table\n",
    "- Accessing elements of an array\n",
    "- Performing calculations using an array\n",
    "- Creating a scatterplot\n",
    "- Creating a lineplot\n",
    "- Creating a histogram\n",
    "- np.arange(start, end, step)  # end not included\n",
    "- selecting row using take\n",
    "- selecting a row using row method\n",
    "\n",
    "First, run the code cell below\n"
   ]
  },
  {
   "cell_type": "code",
   "execution_count": null,
   "id": "0c7af470-e0a0-45e5-827b-46674015a1f3",
   "metadata": {},
   "outputs": [],
   "source": []
  }
 ],
 "metadata": {
  "kernelspec": {
   "display_name": "Python 3 (ipykernel)",
   "language": "python",
   "name": "python3"
  },
  "language_info": {
   "codemirror_mode": {
    "name": "ipython",
    "version": 3
   },
   "file_extension": ".py",
   "mimetype": "text/x-python",
   "name": "python",
   "nbconvert_exporter": "python",
   "pygments_lexer": "ipython3",
   "version": "3.11.13"
  }
 },
 "nbformat": 4,
 "nbformat_minor": 5
}
