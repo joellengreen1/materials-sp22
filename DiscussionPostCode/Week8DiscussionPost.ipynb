{
 "cells": [
  {
   "cell_type": "markdown",
   "id": "f426a1d0-4311-49dc-9e0c-f06f66f7694e",
   "metadata": {},
   "source": [
    "# Week 8 Discussion Post\n",
    "This week we discuss probability distributions.  Characteristics of probability distributions are are follows.\n",
    "- All probabilitities are between 0 and 1\n",
    "- The sum of the probabilities is equal to 1.\n",
    "- Each distribution has a mean and standard deviation<br>\n",
    "Run first cell"
   ]
  },
  {
   "cell_type": "code",
   "execution_count": null,
   "id": "9b939dd2-b84c-4b21-a5be-0ec88e3bbeee",
   "metadata": {},
   "outputs": [],
   "source": [
    "# Run this cell to set up the notebook, but please don't change it.\n",
    "\n",
    "# These lines import the Numpy and Datascience modules.\n",
    "import numpy as np\n",
    "from datascience import *\n",
    "\n",
    "\n",
    "# These lines do some fancy plotting magic.\n",
    "import matplotlib\n",
    "%matplotlib inline\n",
    "import matplotlib.pyplot as plt\n",
    "plt.style.use('fivethirtyeight')\n",
    "import warnings\n",
    "warnings.simplefilter('ignore', FutureWarning)"
   ]
  },
  {
   "cell_type": "code",
   "execution_count": null,
   "id": "ca9e9a84-ee43-4774-9919-62e3ea40d2a3",
   "metadata": {},
   "outputs": [],
   "source": [
    "# Create a table with each outcomes outlined for you in your discussion post\n"
   ]
  },
  {
   "cell_type": "code",
   "execution_count": null,
   "id": "b257ac8f-f042-4817-82ad-20c6caf65dab",
   "metadata": {},
   "outputs": [],
   "source": [
    "# Add the frequency of the outcomes to the table\n",
    "\n"
   ]
  },
  {
   "cell_type": "code",
   "execution_count": null,
   "id": "f745895e-bcdc-43f7-a395-59a61f26119d",
   "metadata": {},
   "outputs": [],
   "source": [
    "# Total the frequency column and add a column that takes the frequency and divide it by the total add a new column called  P(X)\n"
   ]
  },
  {
   "cell_type": "code",
   "execution_count": null,
   "id": "7ee2c884-2bef-47f6-ba95-10d9a6b7b810",
   "metadata": {},
   "outputs": [],
   "source": [
    "# Multiply the X column and the P(X) column and add a new column called mean\n",
    "\n"
   ]
  },
  {
   "cell_type": "code",
   "execution_count": null,
   "id": "26ede8bf-4071-4d75-8ab8-a54c71b8d04b",
   "metadata": {},
   "outputs": [],
   "source": [
    "# Sum the mean column and put in variable called mean\n"
   ]
  },
  {
   "cell_type": "code",
   "execution_count": null,
   "id": "9fa8287d-ef29-447e-b96e-e8df3c1d3808",
   "metadata": {},
   "outputs": [],
   "source": [
    "# Multiply P(X) column by (X - mean)**2 and put in column called variance\n"
   ]
  },
  {
   "cell_type": "code",
   "execution_count": null,
   "id": "93971fd7-036e-4453-9753-cf8915912fd5",
   "metadata": {},
   "outputs": [],
   "source": [
    "# sum the variance column and put in variable call var\n"
   ]
  },
  {
   "cell_type": "code",
   "execution_count": null,
   "id": "98ee1281-c7f9-4129-8111-178f77e0ffac",
   "metadata": {},
   "outputs": [],
   "source": [
    "# Take the square root of var and put in variable called stddev\n"
   ]
  },
  {
   "cell_type": "code",
   "execution_count": null,
   "id": "2d41e536-1ff8-429b-bf7c-3b3e4c453882",
   "metadata": {},
   "outputs": [],
   "source": [
    "# display table\n"
   ]
  },
  {
   "cell_type": "code",
   "execution_count": null,
   "id": "662c0b06-9e76-4404-9432-2aef6ef36686",
   "metadata": {},
   "outputs": [],
   "source": [
    "# print out the mean and standard deviation (stddev)\n"
   ]
  }
 ],
 "metadata": {
  "kernelspec": {
   "display_name": "Python 3 (ipykernel)",
   "language": "python",
   "name": "python3"
  },
  "language_info": {
   "codemirror_mode": {
    "name": "ipython",
    "version": 3
   },
   "file_extension": ".py",
   "mimetype": "text/x-python",
   "name": "python",
   "nbconvert_exporter": "python",
   "pygments_lexer": "ipython3",
   "version": "3.11.13"
  }
 },
 "nbformat": 4,
 "nbformat_minor": 5
}
