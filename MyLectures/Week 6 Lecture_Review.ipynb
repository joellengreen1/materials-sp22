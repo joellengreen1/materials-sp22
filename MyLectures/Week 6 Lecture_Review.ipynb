{
 "cells": [
  {
   "cell_type": "markdown",
   "id": "a6899710-dc5b-4aa6-9fb0-63f35f72fddf",
   "metadata": {},
   "source": [
    "# Project Review\n",
    "Looking back on what was learned in the last 5 weeks\n",
    "- PEMDAS\n",
    "- Calculations using Growth Rate\n",
    "- Creating a table with_columns method\n",
    "- Reading data into a table\n",
    "- Selecting columns form the table\n",
    "- Relabelling a column of a table\n",
    "- sorting a column\n",
    "- dropping a columm\n",
    "- Formatting a column \n",
    "- Selecting rows from a table using where\n",
    "- Creating an array from a table\n",
    "- Accessing elements of an array\n",
    "- Performing calculations using an array\n",
    "- Creating a scatterplot\n",
    "- Creating a lineplot\n",
    "- Creating a histogram\n",
    "- np.arange(start, end, step)  # end not included\n",
    "- selecting row using take\n",
    "- selecting a row using row method\n",
    "\n",
    "First, run the code cell below\n"
   ]
  },
  {
   "cell_type": "code",
   "execution_count": 1,
   "id": "88e27843-1bcb-43d5-9941-c54bfaf4c15d",
   "metadata": {},
   "outputs": [],
   "source": [
    "from datascience import *\n",
    "import numpy as np\n",
    "%matplotlib inline\n",
    "import matplotlib.pyplot as plots\n",
    "plots.style.use('fivethirtyeight')\n",
    "import warnings\n",
    "warnings.simplefilter(action=\"ignore\", category=FutureWarning)\n",
    "\n",
    "from urllib.request import urlopen \n",
    "import re\n",
    "def read_url(url): \n",
    "    return re.sub('\\\\s+', ' ', urlopen(url).read().decode())"
   ]
  },
  {
   "cell_type": "markdown",
   "id": "dbf24e2a-b6db-4870-85ee-4b0a369aa218",
   "metadata": {},
   "source": [
    "# Expression\n",
    "We will review expressions from Chapter 3.1\n",
    "\n",
    "| Expression Type | Operator | Example  | Value   |\n",
    "|-----------------|----------|----------|---------|\n",
    "| Addition        | +        | 2 + 3    | 5       |\n",
    "| Subtraction     | -        | 2 - 3    | -1      |\n",
    "| Multiplication  | *        | 2 * 3    | 6       |\n",
    "| Division        | /        | 7/3      | 2.66667 |\n",
    "| Remainder       | %        | 7 % 3    | 1       |\n",
    "| Exponentiation  | **       | 2 ** 0.5 | 1.41421 |\n",
    "\n",
    "## PEMDAS - Order of Operations\n",
    "- Paretheses\n",
    "- Exponents\n",
    "- Multiplication and Division left to right\n",
    "- Addition and Subtraction left to right\n",
    "\n",
    "```\n",
    "1 + 2 * 3 * 4 * 5 / 6 ** 3 + 7 + 8 - 9 + 10\n",
    "1 + 2 * 3 * 4 * 5 / 216 + 7 + 8 - 9 + 10\n",
    "1 + 6 * 4 * 5 / 216 + 7 + 8 - 9 + 10\n",
    "1 + 24 * 5 / 216 + 7 + 8 - 9 + 10\n",
    "1 + 120 / 216 + 7 + 8 - 9 + 10\n",
    "1 + 0.555555555555557 + 7 + 8 - 9 + 10\n",
    "1.555555555555557 + 7 + 8 - 9 + 10\n",
    "8.555555555555557 + 8 - 9 + 10\n",
    "16.555555555555557 - 9 + 10\n",
    "7.555555555555557 + 10\n",
    "17.555555555555557\n",
    "```"
   ]
  },
  {
   "cell_type": "code",
   "execution_count": null,
   "id": "0a30d6ab-c0ec-45ce-9251-6a50adc77b88",
   "metadata": {},
   "outputs": [],
   "source": [
    "# run the statement above\n"
   ]
  },
  {
   "cell_type": "code",
   "execution_count": null,
   "id": "8662f6d8-9861-41ec-872c-5cc90de12130",
   "metadata": {},
   "outputs": [],
   "source": [
    "# run 4+6*(9-6)**2\n"
   ]
  },
  {
   "cell_type": "markdown",
   "id": "2efa715e-446a-405f-963e-92dca1983262",
   "metadata": {},
   "source": [
    "# Growth Rate give constant growth rate\n",
    "```\n",
    "annual_growth_rate = 0.05\n",
    "ten_year_growth_rate = (1 + annual_growth_rate)**10 - 1\n",
    "print(\"Ten year rate = \", ten_year_growth_rate)\n",
    "print(\"Ten year growth rate\", GrowthRate)\n",
    "```\n",
    "Like wise if I look at an initial amount and then the changed amount you can figure out the annual growth rate by knowing the number of years in between.\n",
    "```\n",
    "initial = 80000\n",
    "changed = 130312\n",
    "n = 10\n",
    "annual_Growth_Rate = (changed/initial)**(1/n) - 1\n",
    "annual_Growth_rate\n",
    "```"
   ]
  },
  {
   "cell_type": "code",
   "execution_count": null,
   "id": "a8f1d8ab-45ce-4283-a85c-6c1646de7d03",
   "metadata": {},
   "outputs": [],
   "source": []
  },
  {
   "cell_type": "code",
   "execution_count": null,
   "id": "dff9f386-f692-4dbd-908b-cbdc5871270a",
   "metadata": {},
   "outputs": [],
   "source": [
    "# Creating an array\n",
    "```\n",
    "initial = make_array(80000, 65000, 19000)\n",
    "changed = make_array(130312, 85000, 36000)\n",
    "n = 10\n",
    "annual_Growth_Rates = (changed/initia)**(1/n) - 1"
   ]
  },
  {
   "cell_type": "code",
   "execution_count": null,
   "id": "aa80c0c1-c897-460c-9c59-606f28a12ac5",
   "metadata": {},
   "outputs": [],
   "source": []
  },
  {
   "cell_type": "markdown",
   "id": "8e505dd9-5fcd-4c78-b2c3-a182b95e40a7",
   "metadata": {},
   "source": [
    "# Tables\n",
    "Tables is like a spreadsheet of data with each column having a name and data in each column.  The data can be numeric or string (Text).<br>\n",
    "Below I am creating a table with three columns Flavor, Color, and Price. \n",
    "```\n",
    "cones = Table().with_columns(\n",
    "                       'Flavor', make_array('strawberry', 'chocolate', 'chocolate', 'strawberry', 'chocolate', 'bubblegum'),\n",
    "                        'Color_all', make_array('pink', 'light brown', 'dark brown', 'pink', 'dark brown', 'pink'),\n",
    "                        'Price', make_array(3.55, 4.75, 5.25, 5.25, 5.25, 4.75)\n",
    ")\n",
    "\n",
    "```"
   ]
  },
  {
   "cell_type": "code",
   "execution_count": null,
   "id": "510319c0-1398-46eb-9609-f6cc9a921e36",
   "metadata": {},
   "outputs": [],
   "source": []
  },
  {
   "cell_type": "code",
   "execution_count": null,
   "id": "65d0f931-4937-4a2a-8aa6-2e259a0b7b77",
   "metadata": {},
   "outputs": [],
   "source": []
  },
  {
   "cell_type": "markdown",
   "id": "e80a88d9-9728-482b-aab9-9144d6cadf6e",
   "metadata": {},
   "source": [
    "# Reading Data into a Table from CSV file\n",
    "\n",
    "```\n",
    "nba = Table().read_table('nba.csv')\n",
    "nba\n",
    "```"
   ]
  },
  {
   "cell_type": "code",
   "execution_count": null,
   "id": "d1a2ca23-e392-47f2-9d37-882aa5231432",
   "metadata": {},
   "outputs": [],
   "source": []
  },
  {
   "cell_type": "code",
   "execution_count": null,
   "id": "3bac574c-e64a-49bb-bbf1-cd044438c8bc",
   "metadata": {},
   "outputs": [],
   "source": []
  },
  {
   "cell_type": "markdown",
   "id": "d593476d-36ea-446e-823b-4a4a9a9b68aa",
   "metadata": {},
   "source": [
    "# Select columns in a table\n",
    "\n",
    "```\n",
    "table_name.select('column1', 'column2')\n",
    "```"
   ]
  },
  {
   "cell_type": "code",
   "execution_count": null,
   "id": "e72e7acb-4a12-4a62-9d01-eb0612dacb35",
   "metadata": {},
   "outputs": [],
   "source": []
  },
  {
   "cell_type": "code",
   "execution_count": null,
   "id": "e479b8c8-86e6-4cbe-8491-831a61736078",
   "metadata": {},
   "outputs": [],
   "source": []
  },
  {
   "cell_type": "markdown",
   "id": "f7a625a7-e0bd-40a8-9562-245ab07bac95",
   "metadata": {},
   "source": [
    "# Relabeling a Column of a Table\n",
    "```\n",
    "table_name.relabeled('New column name', 'old column name')\n",
    "```"
   ]
  },
  {
   "cell_type": "code",
   "execution_count": null,
   "id": "5f38a410-df53-4121-a9b2-e9dfe26de99e",
   "metadata": {},
   "outputs": [],
   "source": []
  },
  {
   "cell_type": "code",
   "execution_count": null,
   "id": "dfab61a4-4ad4-44d5-a259-653f4adf302f",
   "metadata": {},
   "outputs": [],
   "source": []
  },
  {
   "cell_type": "markdown",
   "id": "ce7e1515-a5d3-404a-9102-78a2874665d4",
   "metadata": {},
   "source": [
    "# Sort by data column in Table\n",
    "```\n",
    "Table.sort('column') # ascending smallest to largest\n",
    "Table.sort('column', descending=True) # largest to smallest\n",
    "```"
   ]
  },
  {
   "cell_type": "code",
   "execution_count": null,
   "id": "8ee18649-0e84-4bcc-862a-becf1aba363f",
   "metadata": {},
   "outputs": [],
   "source": []
  },
  {
   "cell_type": "code",
   "execution_count": null,
   "id": "388931af-fd1c-4ef7-9e15-2af3cd1ff3d8",
   "metadata": {},
   "outputs": [],
   "source": []
  },
  {
   "cell_type": "code",
   "execution_count": null,
   "id": "9f8b2dba-7dee-49d1-a925-79839ea67766",
   "metadata": {},
   "outputs": [],
   "source": []
  },
  {
   "cell_type": "code",
   "execution_count": null,
   "id": "e4498274-197f-4a4e-8446-6e2ecc59282c",
   "metadata": {},
   "outputs": [],
   "source": []
  },
  {
   "cell_type": "code",
   "execution_count": null,
   "id": "9366b8e9-6888-4c5f-9da9-d4437ff8e842",
   "metadata": {},
   "outputs": [],
   "source": []
  },
  {
   "cell_type": "code",
   "execution_count": null,
   "id": "c5f4e440-0908-47e2-ad01-2fdbaea3e579",
   "metadata": {},
   "outputs": [],
   "source": []
  }
 ],
 "metadata": {
  "kernelspec": {
   "display_name": "Python 3 (ipykernel)",
   "language": "python",
   "name": "python3"
  },
  "language_info": {
   "codemirror_mode": {
    "name": "ipython",
    "version": 3
   },
   "file_extension": ".py",
   "mimetype": "text/x-python",
   "name": "python",
   "nbconvert_exporter": "python",
   "pygments_lexer": "ipython3",
   "version": "3.11.13"
  }
 },
 "nbformat": 4,
 "nbformat_minor": 5
}
