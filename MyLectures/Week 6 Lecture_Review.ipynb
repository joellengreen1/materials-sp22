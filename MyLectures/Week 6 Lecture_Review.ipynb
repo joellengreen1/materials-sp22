{
 "cells": [
  {
   "cell_type": "markdown",
   "id": "a6899710-dc5b-4aa6-9fb0-63f35f72fddf",
   "metadata": {},
   "source": [
    "# Project Review\n",
    "Looking back on what was learned in the last 5 weeks\n",
    "- *PEMDAS*<br>\n",
    "- **Calculations using Growth Rate**<br>\n",
    "- *Make an array using make_array method*<br>\n",
    "- **Creating a table with_columns method**<br>\n",
    "- *Reading data into a table*<br>\n",
    "- **Selecting columns form the table**<br>\n",
    "- *Relabelling a column of a table*<br>\n",
    "- **sorting a column**<br>\n",
    "- *dropping a columm*<br>\n",
    "- **Formatting a column** <br>\n",
    "- *Selecting rows from a table using where*<br>\n",
    "- **Creating an array from a table**<br>\n",
    "- *Accessing elements of an array*<br>\n",
    "- **Performing calculations using an array**<br>\n",
    "- *Creating a scatterplot*<br>\n",
    "- **Creating a lineplot**<br>\n",
    "- *Creating a histogram*<br>\n",
    "- **np.arange(start, end, step)**  # end not included<br>\n",
    "- *Creating a histogram with specific bins*<br>\n",
    "- **selecting row using take**<br>\n",
    "- *selecting a row using row method*<br>\n",
    "\n",
    "First, run the code cell below\n"
   ]
  },
  {
   "cell_type": "code",
   "execution_count": 1,
   "id": "88e27843-1bcb-43d5-9941-c54bfaf4c15d",
   "metadata": {},
   "outputs": [],
   "source": [
    "from datascience import *\n",
    "import numpy as np\n",
    "%matplotlib inline\n",
    "import matplotlib.pyplot as plots\n",
    "plots.style.use('fivethirtyeight')\n",
    "import warnings\n",
    "warnings.simplefilter(action=\"ignore\", category=FutureWarning)\n",
    "\n",
    "from urllib.request import urlopen \n",
    "import re\n",
    "def read_url(url): \n",
    "    return re.sub('\\\\s+', ' ', urlopen(url).read().decode())"
   ]
  },
  {
   "cell_type": "markdown",
   "id": "dbf24e2a-b6db-4870-85ee-4b0a369aa218",
   "metadata": {},
   "source": [
    "# Expression\n",
    "We will review expressions from Chapter 3.1\n",
    "\n",
    "| Expression Type | Operator | Example  | Value   |\n",
    "|-----------------|----------|----------|---------|\n",
    "| Addition        | +        | 2 + 3    | 5       |\n",
    "| Subtraction     | -        | 2 - 3    | -1      |\n",
    "| Multiplication  | *        | 2 * 3    | 6       |\n",
    "| Division        | /        | 7/3      | 2.66667 |\n",
    "| Remainder       | %        | 7 % 3    | 1       |\n",
    "| Exponentiation  | **       | 2 ** 0.5 | 1.41421 |\n",
    "\n",
    "## PEMDAS - Order of Operations\n",
    "- Paretheses\n",
    "- Exponents\n",
    "- Multiplication and Division left to right\n",
    "- Addition and Subtraction left to right\n",
    "\n",
    "```\n",
    "1 + 2 * 3 * 4 * 5 / 6 ** 3 + 7 + 8 - 9 + 10\n",
    "1 + 2 * 3 * 4 * 5 / 216 + 7 + 8 - 9 + 10\n",
    "1 + 6 * 4 * 5 / 216 + 7 + 8 - 9 + 10\n",
    "1 + 24 * 5 / 216 + 7 + 8 - 9 + 10\n",
    "1 + 120 / 216 + 7 + 8 - 9 + 10\n",
    "1 + 0.555555555555557 + 7 + 8 - 9 + 10\n",
    "1.555555555555557 + 7 + 8 - 9 + 10\n",
    "8.555555555555557 + 8 - 9 + 10\n",
    "16.555555555555557 - 9 + 10\n",
    "7.555555555555557 + 10\n",
    "17.555555555555557\n",
    "```"
   ]
  },
  {
   "cell_type": "code",
   "execution_count": 2,
   "id": "ef0e5855-5b4c-474b-a149-cd3bc7698193",
   "metadata": {},
   "outputs": [
    {
     "data": {
      "text/plain": [
       "17.555555555555557"
      ]
     },
     "execution_count": 2,
     "metadata": {},
     "output_type": "execute_result"
    }
   ],
   "source": [
    "1 + 2 * 3 * 4 * 5 / 6 ** 3 + 7 + 8 - 9 + 10"
   ]
  },
  {
   "cell_type": "code",
   "execution_count": 3,
   "id": "8662f6d8-9861-41ec-872c-5cc90de12130",
   "metadata": {},
   "outputs": [
    {
     "data": {
      "text/plain": [
       "58"
      ]
     },
     "execution_count": 3,
     "metadata": {},
     "output_type": "execute_result"
    }
   ],
   "source": [
    "# run 4+6*(9-6)**2\n",
    "4+6*(9-6)**2"
   ]
  },
  {
   "cell_type": "markdown",
   "id": "2efa715e-446a-405f-963e-92dca1983262",
   "metadata": {},
   "source": [
    "# Growth Rate give constant growth rate\n",
    "```\n",
    "annual_growth_rate = 0.05\n",
    "ten_year_growth_rate = (1 + annual_growth_rate)**10 - 1\n",
    "print(\"Ten year rate = \", ten_year_growth_rate)\n",
    "print(\"Ten year growth rate\", GrowthRate)\n",
    "```\n",
    "Like wise if I look at an initial amount and then the changed amount you can figure out the annual growth rate by knowing the number of years in between.\n",
    "```\n",
    "initial = 80000\n",
    "changed = 130312\n",
    "n = 10\n",
    "annual_Growth_Rate = (changed/initial)**(1/n) - 1\n",
    "annual_Growth_rate\n",
    "```"
   ]
  },
  {
   "cell_type": "code",
   "execution_count": 4,
   "id": "a8f1d8ab-45ce-4283-a85c-6c1646de7d03",
   "metadata": {},
   "outputs": [
    {
     "name": "stdout",
     "output_type": "stream",
     "text": [
      "Ten year rate =  0.628894626777442\n",
      "Ten year growth rate 62.89 %\n"
     ]
    }
   ],
   "source": [
    "annual_growth_rate = 0.05\n",
    "ten_year_growth_rate = (1 + annual_growth_rate)**10 - 1\n",
    "print(\"Ten year rate = \", ten_year_growth_rate)\n",
    "GrowthRate = np.round(ten_year_growth_rate * 100, 2)\n",
    "print(\"Ten year growth rate\", GrowthRate,\"%\")"
   ]
  },
  {
   "cell_type": "raw",
   "id": "9ea59d53-0fec-4450-a178-bfd0a0485558",
   "metadata": {},
   "source": []
  },
  {
   "cell_type": "markdown",
   "id": "b3e9fe21-9214-486c-801f-87d6359f8eaf",
   "metadata": {},
   "source": [
    "# Creating an array\n",
    "You can create an array by using the make_array.\n",
    "    \n",
    "```\n",
    "array_name = make_array(value1, value2, value3,...)\n",
    "array_name = make_array('string1', 'string2', 'string3', ...)\n",
    "```"
   ]
  },
  {
   "cell_type": "code",
   "execution_count": 5,
   "id": "aa80c0c1-c897-460c-9c59-606f28a12ac5",
   "metadata": {},
   "outputs": [],
   "source": [
    "# create an array with the following values 80000, 65000, and 19000.\n",
    "# Store the array in initial.\n",
    "# create an array with the following value 938551, 562619, and 407488.\n",
    "# Store the array in change.\n",
    "# determine the change percentage (change/initial) - 1\n",
    "# determine the percentage change if the values are 5 years apart.\n"
   ]
  },
  {
   "cell_type": "markdown",
   "id": "8e505dd9-5fcd-4c78-b2c3-a182b95e40a7",
   "metadata": {},
   "source": [
    "# Tables\n",
    "Tables is like a spreadsheet of data with each column having a name and data in each column.  The data can be numeric or string (Text).<br>\n",
    "Below I am creating a table with three columns Flavor, Color, and Price. \n",
    "```\n",
    "cones = Table().with_columns(\n",
    "                       'Flavor', make_array('strawberry', 'chocolate', 'chocolate', 'strawberry', 'chocolate', 'bubblegum'),\n",
    "                        'Color_all', make_array('pink', 'light brown', 'dark brown', 'pink', 'dark brown', 'pink'),\n",
    "                        'Price', make_array(3.55, 4.75, 5.25, 5.25, 5.25, 4.75)\n",
    ")\n",
    "\n",
    "```"
   ]
  },
  {
   "cell_type": "code",
   "execution_count": 6,
   "id": "510319c0-1398-46eb-9609-f6cc9a921e36",
   "metadata": {},
   "outputs": [
    {
     "data": {
      "text/html": [
       "<table border=\"1\" class=\"dataframe\">\n",
       "    <thead>\n",
       "        <tr>\n",
       "            <th>Flavor</th> <th>Color_all</th> <th>Price</th>\n",
       "        </tr>\n",
       "    </thead>\n",
       "    <tbody>\n",
       "        <tr>\n",
       "            <td>strawberry</td> <td>pink       </td> <td>3.55 </td>\n",
       "        </tr>\n",
       "        <tr>\n",
       "            <td>chocolate </td> <td>light brown</td> <td>4.75 </td>\n",
       "        </tr>\n",
       "        <tr>\n",
       "            <td>chocolate </td> <td>dark brown </td> <td>5.25 </td>\n",
       "        </tr>\n",
       "        <tr>\n",
       "            <td>strawberry</td> <td>pink       </td> <td>5.25 </td>\n",
       "        </tr>\n",
       "        <tr>\n",
       "            <td>chocolate </td> <td>dark brown </td> <td>5.25 </td>\n",
       "        </tr>\n",
       "        <tr>\n",
       "            <td>bubblegum </td> <td>pink       </td> <td>4.75 </td>\n",
       "        </tr>\n",
       "    </tbody>\n",
       "</table>"
      ],
      "text/plain": [
       "Flavor     | Color_all   | Price\n",
       "strawberry | pink        | 3.55\n",
       "chocolate  | light brown | 4.75\n",
       "chocolate  | dark brown  | 5.25\n",
       "strawberry | pink        | 5.25\n",
       "chocolate  | dark brown  | 5.25\n",
       "bubblegum  | pink        | 4.75"
      ]
     },
     "execution_count": 6,
     "metadata": {},
     "output_type": "execute_result"
    }
   ],
   "source": [
    "cones = Table().with_columns(\n",
    "                       'Flavor', make_array('strawberry', 'chocolate', 'chocolate', 'strawberry', 'chocolate', 'bubblegum'),\n",
    "                        'Color_all', make_array('pink', 'light brown', 'dark brown', 'pink', 'dark brown', 'pink'),\n",
    "                        'Price', make_array(3.55, 4.75, 5.25, 5.25, 5.25, 4.75)\n",
    ")\n",
    "cones"
   ]
  },
  {
   "cell_type": "markdown",
   "id": "e80a88d9-9728-482b-aab9-9144d6cadf6e",
   "metadata": {},
   "source": [
    "# Reading Data into a Table from CSV file\n",
    "\n",
    "```\n",
    "nba = Table().read_table('nba.csv')\n",
    "nba\n",
    "```"
   ]
  },
  {
   "cell_type": "code",
   "execution_count": 7,
   "id": "d1a2ca23-e392-47f2-9d37-882aa5231432",
   "metadata": {},
   "outputs": [],
   "source": [
    "# read data into table called nba from nba.csv.  Display the nba\n"
   ]
  },
  {
   "cell_type": "code",
   "execution_count": null,
   "id": "3bac574c-e64a-49bb-bbf1-cd044438c8bc",
   "metadata": {},
   "outputs": [],
   "source": []
  },
  {
   "cell_type": "markdown",
   "id": "d593476d-36ea-446e-823b-4a4a9a9b68aa",
   "metadata": {},
   "source": [
    "# Select columns in a table\n",
    "\n",
    "```\n",
    "table_name.select('column1', 'column2')\n",
    "```"
   ]
  },
  {
   "cell_type": "code",
   "execution_count": 8,
   "id": "e72e7acb-4a12-4a62-9d01-eb0612dacb35",
   "metadata": {},
   "outputs": [],
   "source": [
    "# select columns 'name' and 'salary'\n"
   ]
  },
  {
   "cell_type": "code",
   "execution_count": 9,
   "id": "e479b8c8-86e6-4cbe-8491-831a61736078",
   "metadata": {},
   "outputs": [],
   "source": [
    "# display nba table\n"
   ]
  },
  {
   "cell_type": "markdown",
   "id": "f7a625a7-e0bd-40a8-9562-245ab07bac95",
   "metadata": {},
   "source": [
    "# Relabeling a Column of a Table\n",
    "```\n",
    "table_name.relabeled('New column name', 'old column name')\n",
    "```"
   ]
  },
  {
   "cell_type": "code",
   "execution_count": 10,
   "id": "5f38a410-df53-4121-a9b2-e9dfe26de99e",
   "metadata": {},
   "outputs": [],
   "source": [
    "# Relabel colum name Color_all to Color in cones table\n",
    "\n"
   ]
  },
  {
   "cell_type": "code",
   "execution_count": 11,
   "id": "dfab61a4-4ad4-44d5-a259-653f4adf302f",
   "metadata": {},
   "outputs": [],
   "source": [
    "# display cones table\n"
   ]
  },
  {
   "cell_type": "markdown",
   "id": "ce7e1515-a5d3-404a-9102-78a2874665d4",
   "metadata": {},
   "source": [
    "# Sort by data column in Table\n",
    "```\n",
    "Table.sort('column') # ascending smallest to largest\n",
    "Table.sort('column', descending=True) # largest to smallest\n",
    "```"
   ]
  },
  {
   "cell_type": "code",
   "execution_count": 12,
   "id": "8ee18649-0e84-4bcc-862a-becf1aba363f",
   "metadata": {},
   "outputs": [],
   "source": [
    "# Sort cones table by price small to large\n"
   ]
  },
  {
   "cell_type": "code",
   "execution_count": 13,
   "id": "388931af-fd1c-4ef7-9e15-2af3cd1ff3d8",
   "metadata": {},
   "outputs": [],
   "source": [
    "# Sort Price in descending order \n"
   ]
  },
  {
   "cell_type": "code",
   "execution_count": 14,
   "id": "9f8b2dba-7dee-49d1-a925-79839ea67766",
   "metadata": {},
   "outputs": [],
   "source": [
    "# drop the column Color\n"
   ]
  },
  {
   "cell_type": "code",
   "execution_count": 15,
   "id": "e4498274-197f-4a4e-8446-6e2ecc59282c",
   "metadata": {},
   "outputs": [
    {
     "data": {
      "text/html": [
       "<table border=\"1\" class=\"dataframe\">\n",
       "    <thead>\n",
       "        <tr>\n",
       "            <th>Flavor</th> <th>Color_all</th> <th>Price</th>\n",
       "        </tr>\n",
       "    </thead>\n",
       "    <tbody>\n",
       "        <tr>\n",
       "            <td>strawberry</td> <td>pink       </td> <td>3.55 </td>\n",
       "        </tr>\n",
       "        <tr>\n",
       "            <td>chocolate </td> <td>light brown</td> <td>4.75 </td>\n",
       "        </tr>\n",
       "        <tr>\n",
       "            <td>chocolate </td> <td>dark brown </td> <td>5.25 </td>\n",
       "        </tr>\n",
       "        <tr>\n",
       "            <td>strawberry</td> <td>pink       </td> <td>5.25 </td>\n",
       "        </tr>\n",
       "        <tr>\n",
       "            <td>chocolate </td> <td>dark brown </td> <td>5.25 </td>\n",
       "        </tr>\n",
       "        <tr>\n",
       "            <td>bubblegum </td> <td>pink       </td> <td>4.75 </td>\n",
       "        </tr>\n",
       "    </tbody>\n",
       "</table>"
      ],
      "text/plain": [
       "Flavor     | Color_all   | Price\n",
       "strawberry | pink        | 3.55\n",
       "chocolate  | light brown | 4.75\n",
       "chocolate  | dark brown  | 5.25\n",
       "strawberry | pink        | 5.25\n",
       "chocolate  | dark brown  | 5.25\n",
       "bubblegum  | pink        | 4.75"
      ]
     },
     "execution_count": 15,
     "metadata": {},
     "output_type": "execute_result"
    }
   ],
   "source": [
    "# Display the contents of the cones table\n",
    "cones"
   ]
  },
  {
   "cell_type": "markdown",
   "id": "2dae17bf-cf54-441d-bab0-2adcc48032d6",
   "metadata": {},
   "source": [
    "# **Types of Column Formatter**\n",
    "- PercentFormatter\n",
    "- DateFormatter\n",
    "- CurrencyFormatter\n",
    "- NumberFormatter\n",
    "\n",
    "```\n",
    "table_name.set_format('column name', type of Column Formatter)\n",
    "```"
   ]
  },
  {
   "cell_type": "code",
   "execution_count": 16,
   "id": "c5f4e440-0908-47e2-ad01-2fdbaea3e579",
   "metadata": {},
   "outputs": [
    {
     "data": {
      "text/html": [
       "<table border=\"1\" class=\"dataframe\">\n",
       "    <thead>\n",
       "        <tr>\n",
       "            <th>Flavor</th> <th>Color_all</th> <th>Price</th>\n",
       "        </tr>\n",
       "    </thead>\n",
       "    <tbody>\n",
       "        <tr>\n",
       "            <td>strawberry</td> <td>pink       </td> <td>$3.55</td>\n",
       "        </tr>\n",
       "        <tr>\n",
       "            <td>chocolate </td> <td>light brown</td> <td>$4.75</td>\n",
       "        </tr>\n",
       "        <tr>\n",
       "            <td>chocolate </td> <td>dark brown </td> <td>$5.25</td>\n",
       "        </tr>\n",
       "        <tr>\n",
       "            <td>strawberry</td> <td>pink       </td> <td>$5.25</td>\n",
       "        </tr>\n",
       "        <tr>\n",
       "            <td>chocolate </td> <td>dark brown </td> <td>$5.25</td>\n",
       "        </tr>\n",
       "        <tr>\n",
       "            <td>bubblegum </td> <td>pink       </td> <td>$4.75</td>\n",
       "        </tr>\n",
       "    </tbody>\n",
       "</table>"
      ],
      "text/plain": [
       "Flavor     | Color_all   | Price\n",
       "strawberry | pink        | $3.55\n",
       "chocolate  | light brown | $4.75\n",
       "chocolate  | dark brown  | $5.25\n",
       "strawberry | pink        | $5.25\n",
       "chocolate  | dark brown  | $5.25\n",
       "bubblegum  | pink        | $4.75"
      ]
     },
     "execution_count": 16,
     "metadata": {},
     "output_type": "execute_result"
    }
   ],
   "source": [
    "# format the column Price to CurrencyFormatter\n",
    "cones.set_format('Price', CurrencyFormatter)"
   ]
  },
  {
   "cell_type": "code",
   "execution_count": 17,
   "id": "f224534f-f50f-4360-a721-ce00d474949b",
   "metadata": {},
   "outputs": [],
   "source": [
    "# format the salary column with CurrencyFormatter\n",
    "\n"
   ]
  },
  {
   "cell_type": "code",
   "execution_count": 18,
   "id": "cdfecf24-d9ab-4e44-8f25-d953011b9655",
   "metadata": {},
   "outputs": [],
   "source": [
    "# Read in the filename minard.csv into variable minard\n"
   ]
  },
  {
   "cell_type": "code",
   "execution_count": 19,
   "id": "70ebe073-02fc-41bb-b736-6bcf97c3e6cc",
   "metadata": {},
   "outputs": [],
   "source": [
    "# create an array of the Survivor column\n"
   ]
  },
  {
   "cell_type": "code",
   "execution_count": 20,
   "id": "586b5670-7fb0-4ebc-b41b-f512a439c578",
   "metadata": {},
   "outputs": [],
   "source": [
    "# create an array of Survivors/beginning first item in the Survivors column named pcnt_survived.\n",
    "# add Pcnt Survived to the minard table \n",
    "# format the Percent Survived\n",
    "# format the Survivors column using NumberFormatter put it in new_minard table and display it.\n",
    "\n",
    "\n",
    "\n"
   ]
  },
  {
   "attachments": {
    "abfeebce-e061-429e-bd89-b783b4a5faa1.png": {
     "image/png": "[encoded data removed]"
    }
   },
   "cell_type": "markdown",
   "id": "ff3335b1-6dda-45b4-aaab-54379e584896",
   "metadata": {},
   "source": [
    "# Where to make selection in Tables\n",
    "![{1E1A8C02-399B-4B9F-BD80-100B9F35A759}.png](attachment:abfeebce-e061-429e-bd89-b783b4a5faa1.png)"
   ]
  },
  {
   "cell_type": "code",
   "execution_count": 21,
   "id": "4e91e837-7fa9-4d37-8bfc-ebcc6137d7b5",
   "metadata": {},
   "outputs": [
    {
     "ename": "NameError",
     "evalue": "name 'new_minard' is not defined",
     "output_type": "error",
     "traceback": [
      "\u001b[0;31m---------------------------------------------------------------------------\u001b[0m",
      "\u001b[0;31mNameError\u001b[0m                                 Traceback (most recent call last)",
      "Cell \u001b[0;32mIn[21], line 2\u001b[0m\n\u001b[1;32m      1\u001b[0m \u001b[38;5;66;03m# Select 'Direction' equal to 'Advance' from new_minard table\u001b[39;00m\n\u001b[0;32m----> 2\u001b[0m \u001b[43mnew_minard\u001b[49m\u001b[38;5;241m.\u001b[39mwhere(\u001b[38;5;124m'\u001b[39m\u001b[38;5;124mDirection\u001b[39m\u001b[38;5;124m'\u001b[39m, are\u001b[38;5;241m.\u001b[39mequal_to(\u001b[38;5;124m'\u001b[39m\u001b[38;5;124mAdvance\u001b[39m\u001b[38;5;124m'\u001b[39m))\n",
      "\u001b[0;31mNameError\u001b[0m: name 'new_minard' is not defined"
     ]
    }
   ],
   "source": [
    "# Select 'Direction' equal to 'Advance' from new_minard table\n",
    "new_minard.where('Direction', are.equal_to('Advance'))"
   ]
  },
  {
   "cell_type": "code",
   "execution_count": null,
   "id": "67a60047-3e5f-4b67-a797-6dd4ee1802b3",
   "metadata": {},
   "outputs": [],
   "source": [
    "# display nba table\n"
   ]
  },
  {
   "cell_type": "code",
   "execution_count": null,
   "id": "e09bc51b-33dc-4c36-9c0c-4af2cdd4bcd5",
   "metadata": {},
   "outputs": [],
   "source": [
    "# select records with salary above 10,000,000\n"
   ]
  },
  {
   "cell_type": "code",
   "execution_count": null,
   "id": "f5b4122a-0d67-4696-a66d-bba7790ed767",
   "metadata": {},
   "outputs": [],
   "source": [
    "# Create an array of nba players during the 2014 season with salaries aboe 10,000,000 and multiply it by 15% and store\n",
    "# the results in a variable named agent.  Round the value to the nearest whole number.\n"
   ]
  },
  {
   "cell_type": "code",
   "execution_count": null,
   "id": "bb28ca93-cbd0-43fc-ae27-78c57b18ec9e",
   "metadata": {},
   "outputs": [],
   "source": [
    "# Create a new table called nba_1 adding the agent pay in a column called 'Agent Pay' format the Agent Pay as Currency.\n"
   ]
  },
  {
   "cell_type": "code",
   "execution_count": null,
   "id": "e3d5bed0-d7b4-4431-992f-9582cecfc406",
   "metadata": {},
   "outputs": [],
   "source": [
    "# create a new column called Sal Payer from the salary column divided by 1,000,000 and a new column Agent Sal by dividing\n",
    "# the Agent Pay by 1,000,000.  Display nba_1 table.\n"
   ]
  },
  {
   "cell_type": "markdown",
   "id": "fc3b7a86-b865-4ab7-9cb4-e3eae8e9df04",
   "metadata": {},
   "source": [
    "# Scatter Plots\n",
    "Given two numeric values, the plot is a series of points on the graph.\n",
    "```\n",
    "actors.scatter('column_x', 'column_y')\n",
    "```"
   ]
  },
  {
   "cell_type": "code",
   "execution_count": null,
   "id": "08bd520c-41c5-4761-b129-e06743e877c9",
   "metadata": {},
   "outputs": [],
   "source": [
    "# create a scatterplot of Sal Payer, and Agent Sal from nba_1 table\n"
   ]
  },
  {
   "cell_type": "code",
   "execution_count": null,
   "id": "ce9a0b93-ebc2-4deb-8499-9a30319cf29c",
   "metadata": {},
   "outputs": [],
   "source": [
    "# start with the nba table select position, season and salary columns.  Group by position and season and mean of salary then select Centers\n",
    "# drop the position column and create a line plot season and salary mean.\n"
   ]
  },
  {
   "cell_type": "markdown",
   "id": "73639fba-ed97-44c6-9cee-1263655d742e",
   "metadata": {},
   "source": [
    "# np.arange\n",
    "Creates an arrange of values that start at a specified value and increases by n steps until to reach the ending value.  It never includes the ending value.\n",
    "```\n",
    "np.arange(start, end, step)\n",
    "```"
   ]
  },
  {
   "cell_type": "code",
   "execution_count": null,
   "id": "7ed144f0-5dbb-469d-b077-0b9729066a94",
   "metadata": {},
   "outputs": [],
   "source": [
    "# starting with year 2000 create an array of 2000, 2003, 2006, 2009, 2012, 2015, 2018, 2021, 2024, 2027\n"
   ]
  },
  {
   "cell_type": "code",
   "execution_count": null,
   "id": "9dae9751-e81f-43ad-b131-e73abe16af13",
   "metadata": {},
   "outputs": [],
   "source": [
    "#Create bins starting with 2000 and ending at 2020 by 5 store in binx\n"
   ]
  },
  {
   "cell_type": "code",
   "execution_count": null,
   "id": "9874e5db-65f7-4ed5-8c47-b1f1736935f9",
   "metadata": {},
   "outputs": [],
   "source": [
    "# create a histogram of the season 2014 and Sal Payer \n"
   ]
  },
  {
   "cell_type": "code",
   "execution_count": null,
   "id": "c0e16af7-5730-4696-819b-2e16b2ab629c",
   "metadata": {},
   "outputs": [],
   "source": [
    "# create an array from np.arange to start at 1 increase by 6 and for values less than 150\n",
    "np.arange(1, 150, 6)"
   ]
  },
  {
   "cell_type": "markdown",
   "id": "fabc9dd1-1201-445f-b610-d58b865a3c42",
   "metadata": {},
   "source": [
    "# Select rows using the take method\n",
    "\n",
    "```\n",
    "rc = np.arange(0, 30, 2)\n",
    "table_name.take(rc)\n",
    "```"
   ]
  },
  {
   "cell_type": "code",
   "execution_count": null,
   "id": "b40dc63d-ab1a-4545-9ce5-e52c7a23dae3",
   "metadata": {},
   "outputs": [],
   "source": [
    "# take records starting with 0, 6, 12, 18,... ending with no value greater than 150 from the nba table.\n"
   ]
  },
  {
   "cell_type": "markdown",
   "id": "b6d2ab92-6a1c-4c23-b963-a50e2defab3f",
   "metadata": {},
   "source": [
    "# Selecting a Record(s) from the table\n",
    "```\n",
    "table_name.row(i)  # i is the index of the record starts at 0\n",
    "```\n"
   ]
  },
  {
   "cell_type": "code",
   "execution_count": null,
   "id": "954b2f68-18d1-47dc-a344-d574d13098e0",
   "metadata": {},
   "outputs": [],
   "source": [
    "# Take the first row to the nba table\n"
   ]
  },
  {
   "cell_type": "code",
   "execution_count": null,
   "id": "b9f96d67-e800-4544-9046-8adf78dfaaa3",
   "metadata": {},
   "outputs": [],
   "source": []
  }
 ],
 "metadata": {
  "kernelspec": {
   "display_name": "Python 3 (ipykernel)",
   "language": "python",
   "name": "python3"
  },
  "language_info": {
   "codemirror_mode": {
    "name": "ipython",
    "version": 3
   },
   "file_extension": ".py",
   "mimetype": "text/x-python",
   "name": "python",
   "nbconvert_exporter": "python",
   "pygments_lexer": "ipython3",
   "version": "3.11.13"
  }
 },
 "nbformat": 4,
 "nbformat_minor": 5
}
