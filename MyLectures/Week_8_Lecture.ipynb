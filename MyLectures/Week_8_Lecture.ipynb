{
 "cells": [
  {
   "cell_type": "markdown",
   "id": "4edd340e-df46-415f-95c4-5c52fb49094f",
   "metadata": {},
   "source": [
    "# Week 8 Lecture \n",
    "This week you will learn about Sampling. \n",
    "\n"
   ]
  },
  {
   "cell_type": "code",
   "execution_count": null,
   "id": "8b3364ca-6559-4aef-a882-8c33c3b17453",
   "metadata": {},
   "outputs": [],
   "source": [
    "# Run this cell to set up the notebook, but please don't change it.\n",
    "\n",
    "# These lines import the Numpy and Datascience modules.\n",
    "import numpy as np\n",
    "from datascience import *\n",
    "\n",
    "\n",
    "# These lines do some fancy plotting magic.\n",
    "import matplotlib\n",
    "%matplotlib inline\n",
    "import matplotlib.pyplot as plt\n",
    "plt.style.use('fivethirtyeight')\n",
    "import warnings\n",
    "warnings.simplefilter('ignore', FutureWarning)"
   ]
  },
  {
   "attachments": {
    "d3a8006d-7197-464b-99dd-c5a7662ba46e.png": {
     "image/png": "[encoded data removed]"
    }
   },
   "cell_type": "markdown",
   "id": "800ccf39-95bf-4c89-b667-8aebd317677d",
   "metadata": {},
   "source": [
    "# Rolling two dice\n",
    "\n",
    "![{55B924C9-C435-4E3D-9E24-CCB4206CEFA8}.png](attachment:d3a8006d-7197-464b-99dd-c5a7662ba46e.png)\n",
    "\n",
    "Create a table with the results of rolling two 6 sided dice"
   ]
  },
  {
   "cell_type": "code",
   "execution_count": null,
   "id": "52cd1ff4-5a5a-413d-8230-a4cda8f9b4d6",
   "metadata": {},
   "outputs": [],
   "source": []
  },
  {
   "cell_type": "code",
   "execution_count": null,
   "id": "4e6a0cf8-fcd0-4069-88c2-5f1a7e40d541",
   "metadata": {},
   "outputs": [],
   "source": [
    "# Create a histogram of the outcomes with Theorectical Probability (outcomes are equally likely)\n"
   ]
  },
  {
   "cell_type": "markdown",
   "id": "ed690d57-4747-499b-99d3-849dbbb02c3e",
   "metadata": {},
   "source": [
    "# Probability Distribution Function\n",
    "\n",
    "- Each Probability Distribution Function has probabilities (percentages) between 0 and 1.\n",
    "- The sum of the probabilities is 1.\n",
    "- Each probability distribution has a mean.\n",
    "- Each probability distribution has a standard deviation."
   ]
  },
  {
   "cell_type": "code",
   "execution_count": null,
   "id": "3590100e-c29a-447e-b002-53b4c88a95be",
   "metadata": {},
   "outputs": [],
   "source": [
    "# Group the data by Throw to see the frequency fo \n"
   ]
  },
  {
   "cell_type": "code",
   "execution_count": null,
   "id": "804d184d-0b8a-473f-8162-dd325d91c00f",
   "metadata": {},
   "outputs": [],
   "source": [
    "# Compute the P(x) probability as count/total of count put in column called P(X) in table\n",
    "# table_p\n"
   ]
  },
  {
   "cell_type": "code",
   "execution_count": null,
   "id": "1ec959bb-662e-4aa7-a146-13a58e8f5188",
   "metadata": {},
   "outputs": [],
   "source": [
    "# compute the mean column as Throw * P(X)\n"
   ]
  },
  {
   "cell_type": "code",
   "execution_count": null,
   "id": "653b5667-b87a-4d1d-a568-66d70cf8a113",
   "metadata": {},
   "outputs": [],
   "source": [
    "#Compute the Mean of the distribution as the sum of mean_column round to 4 decimal places\n"
   ]
  },
  {
   "cell_type": "code",
   "execution_count": null,
   "id": "50a13759-d2d1-44fc-864f-bea30041695f",
   "metadata": {},
   "outputs": [],
   "source": [
    "# Compute the standard deviation of the probability distribution.  This tells how spread out\n",
    "# the data is about the mean.  You must first compute the variance.\n",
    "# var_column =  P(X) * (Throw - mean)**2\n",
    "# add the column to the table_p\n",
    "# display the table\n",
    "\n",
    "\n"
   ]
  },
  {
   "cell_type": "code",
   "execution_count": null,
   "id": "4eae2d94-1849-4d2f-ae7d-9e4d16b01437",
   "metadata": {},
   "outputs": [],
   "source": [
    "# standard deviation is the sum of the Variance column then take the square root\n",
    "# round to four decimal places\n"
   ]
  },
  {
   "cell_type": "markdown",
   "id": "42844934-c300-4754-a202-e6a36bb00d88",
   "metadata": {},
   "source": [
    "# Empirical Distribution\n",
    "A new method for taking a sample of n rolls of two dice is\n",
    "```\n",
    "table_name_outcomes.sample(n)  # n is number of samples \n",
    "```\n"
   ]
  },
  {
   "cell_type": "code",
   "execution_count": null,
   "id": "93a1b453-1700-40f7-b228-dbbf5e28ad06",
   "metadata": {},
   "outputs": [],
   "source": [
    "# start with die table and take a sample of 10 rolls of the dice display the results\n"
   ]
  },
  {
   "cell_type": "code",
   "execution_count": null,
   "id": "07c46e43-3240-4dde-a0cc-fb93b1cd291f",
   "metadata": {},
   "outputs": [],
   "source": [
    "# create a function to display the result in a histogram using bins defined in die_bins\n"
   ]
  },
  {
   "cell_type": "markdown",
   "id": "c4d173bb-0726-4a89-9267-916a1e74c1e2",
   "metadata": {},
   "source": [
    "# Empirical Distribution\n",
    "If we conduct a number of experiments or simulations of taking the sample as the number of times we conduct the experiment will lead to a histogram that resembles the one above based on theorectical probability.\n",
    "<br>\n",
    "\n",
    "# Law of Averages\n",
    "If a chance experiment is repeated independently and under identical conditions, then in the long run, the proportion of times that an event occurs gets closer and closer to the theorectical probability of the event.\n"
   ]
  },
  {
   "cell_type": "code",
   "execution_count": null,
   "id": "af0316b3-cf0a-4028-9df6-f6899bcf7066",
   "metadata": {},
   "outputs": [],
   "source": [
    "# run the empirical_hist_die function 10 times\n"
   ]
  },
  {
   "cell_type": "code",
   "execution_count": null,
   "id": "a74201ac-781a-4c1e-97eb-fc51929fc745",
   "metadata": {},
   "outputs": [],
   "source": [
    "# run function 100 times\n"
   ]
  },
  {
   "cell_type": "code",
   "execution_count": null,
   "id": "6c39c205-c134-4025-8e66-8b0f73c47a1c",
   "metadata": {},
   "outputs": [],
   "source": [
    "# run function 1000 times"
   ]
  },
  {
   "cell_type": "code",
   "execution_count": null,
   "id": "fc764482-2a51-42a5-a984-009d81988271",
   "metadata": {},
   "outputs": [],
   "source": [
    "# run function 5000 times"
   ]
  },
  {
   "cell_type": "code",
   "execution_count": null,
   "id": "289b4b8e-8b3a-4ac1-a70a-0ded5286376b",
   "metadata": {},
   "outputs": [],
   "source": [
    "# run function 10000 times"
   ]
  },
  {
   "cell_type": "code",
   "execution_count": null,
   "id": "6206713c-643b-4d6f-8a51-0b228cfb8812",
   "metadata": {},
   "outputs": [],
   "source": [
    "# run function 15000 times"
   ]
  },
  {
   "cell_type": "code",
   "execution_count": null,
   "id": "32a42001-f401-4e2c-82a7-66d3e20f158a",
   "metadata": {},
   "outputs": [],
   "source": [
    "# run function 50000 times"
   ]
  },
  {
   "cell_type": "markdown",
   "id": "21947840-4f45-42fd-9514-7c7009d098dd",
   "metadata": {},
   "source": [
    "# Sampling from a Population\n"
   ]
  },
  {
   "cell_type": "code",
   "execution_count": null,
   "id": "4244415f-2e5f-4d04-acce-4d5eb6675346",
   "metadata": {},
   "outputs": [],
   "source": [
    "# Read in the Population for United Airline plane departures\n",
    "\n",
    "united = Table.read_table('united.csv')\n",
    "united"
   ]
  },
  {
   "cell_type": "code",
   "execution_count": null,
   "id": "eddfa05d-28ba-42d3-8373-80144657b866",
   "metadata": {},
   "outputs": [],
   "source": [
    "# minimum minutes\n",
    "\n",
    "united.column('Delay').min()"
   ]
  },
  {
   "cell_type": "code",
   "execution_count": null,
   "id": "e40e02f9-53ab-454c-91f3-312e2de5dbf4",
   "metadata": {},
   "outputs": [],
   "source": [
    "united.column('Delay').max()"
   ]
  },
  {
   "cell_type": "code",
   "execution_count": null,
   "id": "2b09023a-bb52-4ec7-b106-4470e649025e",
   "metadata": {},
   "outputs": [],
   "source": []
  },
  {
   "cell_type": "code",
   "execution_count": null,
   "id": "914a91cd-d53b-4383-915c-75fc551d6155",
   "metadata": {},
   "outputs": [],
   "source": [
    "delay_bins = np.append(np.arange(-20, 301, 10), 600)\n",
    "united.hist('Delay', bins = delay_bins, unit='minutes')"
   ]
  },
  {
   "cell_type": "code",
   "execution_count": null,
   "id": "8866a857-e321-4f12-b197-3984c5bd4efc",
   "metadata": {},
   "outputs": [],
   "source": [
    "united.where('Delay', are.above(200)).num_rows/united.num_rows"
   ]
  },
  {
   "cell_type": "code",
   "execution_count": null,
   "id": "6c97a9fc-f78b-4d2c-9e9d-d001ecd4e583",
   "metadata": {},
   "outputs": [],
   "source": [
    "delay_bins = np.arange(-20, 201, 10)\n",
    "united.hist('Delay', bins = delay_bins, unit='minute')"
   ]
  },
  {
   "cell_type": "code",
   "execution_count": null,
   "id": "fe7767dd-9043-4ce9-9ccc-d7e4b62d7b79",
   "metadata": {},
   "outputs": [],
   "source": [
    "united.where('Delay', are.between(0, 10)).num_rows/united.num_rows"
   ]
  },
  {
   "cell_type": "code",
   "execution_count": null,
   "id": "d35be7e2-1a42-40a6-87ac-7b13eb6f80ee",
   "metadata": {},
   "outputs": [],
   "source": [
    "def empirical_hist_delay(n):\n",
    "    united.sample(n).hist('Delay', bins = delay_bins, unit = 'minute')"
   ]
  },
  {
   "cell_type": "code",
   "execution_count": null,
   "id": "4f24e39a-14dd-4d8b-a6d3-baab650b96bf",
   "metadata": {},
   "outputs": [],
   "source": [
    "empirical_hist_delay(10)"
   ]
  },
  {
   "cell_type": "code",
   "execution_count": null,
   "id": "796a7e0e-ad82-448c-bfa1-d4bfd53771e2",
   "metadata": {},
   "outputs": [],
   "source": [
    "empirical_hist_delay(100)"
   ]
  },
  {
   "cell_type": "code",
   "execution_count": null,
   "id": "2fc8197d-2a85-48e7-926b-1f75d24d9036",
   "metadata": {},
   "outputs": [],
   "source": [
    "empirical_hist_delay(1000)"
   ]
  },
  {
   "cell_type": "code",
   "execution_count": null,
   "id": "e2842939-da27-4fdb-88d5-05eaffbb5632",
   "metadata": {},
   "outputs": [],
   "source": [
    "sample_1000 = united.sample(1000)\n",
    "sample_1000.hist('Delay', bins = delay_bins, unit = 'minute')\n",
    "plt.title('Sample of Size 1000');"
   ]
  },
  {
   "cell_type": "markdown",
   "id": "b87f5a09-3140-4215-8b9d-50a8bf55f33d",
   "metadata": {},
   "source": [
    "# Parameter\n",
    "Values from the population."
   ]
  },
  {
   "cell_type": "code",
   "execution_count": null,
   "id": "cc4a30cf-9756-4972-968f-62febab0b89e",
   "metadata": {},
   "outputs": [],
   "source": [
    "np.median(united.column('Delay'))"
   ]
  },
  {
   "cell_type": "code",
   "execution_count": null,
   "id": "c15b45c3-b4eb-41a4-8d74-aa8f03801229",
   "metadata": {},
   "outputs": [],
   "source": [
    "united.where('Delay', are.below_or_equal_to(2)).num_rows/united.num_rows"
   ]
  },
  {
   "cell_type": "code",
   "execution_count": null,
   "id": "5d48e26d-88fd-4def-b9da-49810bb1d8b0",
   "metadata": {},
   "outputs": [],
   "source": [
    "united.where('Delay', are.equal_to(2)).num_rows"
   ]
  },
  {
   "cell_type": "markdown",
   "id": "206a29d8-2ca4-4c6f-808f-0cf1f27f8dac",
   "metadata": {},
   "source": [
    "# Statistic\n",
    "np.median(sample_1000.column('Delay'))"
   ]
  },
  {
   "cell_type": "markdown",
   "id": "3668ca62-1ace-49ca-9ab3-3dc4383aad3f",
   "metadata": {},
   "source": [
    "# Simulating a Statistic\n",
    "**Step 1: Decide which statistic to simulate.**  Simulate the median of a random sample of size 1000 drawn from the population of flight delays.<br>\n",
    "**Step 2: Define a function that returns one simulated value of the statistic.** Draw a random sample of size 1000 and compute the median of the sample.  We did this in the code cell above.<br>\n",
    "**Step 3: Decide how many simulated values to generate.**  Let's do 5,000 repetitions.<br>\n",
    "**Step 4: Use a for loop to generate an array of simulated values.** Create a empty array in which to collect our results.  We will then set up a for loop for generating all the simulated values.  The body of the loop with consist of generating one simulated value of the sample median, and appending it to our collection array."
   ]
  },
  {
   "cell_type": "code",
   "execution_count": null,
   "id": "fbeb4873-c5e5-49c5-a512-edb8bc6b5be2",
   "metadata": {},
   "outputs": [],
   "source": [
    "def random_sample_median():\n",
    "    return np.median(united.sample(1000).column('Delay'))"
   ]
  },
  {
   "cell_type": "code",
   "execution_count": null,
   "id": "a6bcd7f3-4508-4d25-b620-b8e257601456",
   "metadata": {},
   "outputs": [],
   "source": [
    "medians = make_array()\n",
    "\n",
    "for i in np.arange(5000):\n",
    "    medians = np.append(medians, random_sample_median())"
   ]
  },
  {
   "cell_type": "markdown",
   "id": "11c9395f-c827-4648-a139-0c5eebe4d96a",
   "metadata": {},
   "source": [
    "# Visualization"
   ]
  },
  {
   "cell_type": "code",
   "execution_count": null,
   "id": "34b0c5f4-7389-494c-89f8-bef374691f48",
   "metadata": {},
   "outputs": [],
   "source": [
    "simulated_medians = Table().with_column('Sample Median', medians)\n",
    "simulated_medians"
   ]
  },
  {
   "cell_type": "code",
   "execution_count": null,
   "id": "f9c4d0a4-e5e7-445f-bce0-fda5bdb7af18",
   "metadata": {},
   "outputs": [],
   "source": [
    "simulated_medians.column('Sample Median').min()"
   ]
  },
  {
   "cell_type": "code",
   "execution_count": null,
   "id": "765bba3d-853c-49ab-abc8-e22ad663f83e",
   "metadata": {},
   "outputs": [],
   "source": [
    "simulated_medians.column('Sample Median').max()"
   ]
  },
  {
   "cell_type": "code",
   "execution_count": null,
   "id": "c2d43fd5-ca7d-4f13-96d4-155b9ed4b665",
   "metadata": {},
   "outputs": [],
   "source": [
    "simulated_medians.hist(bins = np.arange(0.5, 5, 1))"
   ]
  },
  {
   "cell_type": "markdown",
   "id": "adc9c593-1a0d-49cb-9493-495377eaa54e",
   "metadata": {},
   "source": [
    "# Sampling from a Population in a Table\n"
   ]
  },
  {
   "cell_type": "code",
   "execution_count": null,
   "id": "57570ee6-aa6c-4b32-8440-91122aa6988f",
   "metadata": {},
   "outputs": [],
   "source": [
    "\n",
    "faces = np.arange(1,7)\n",
    "die = Table().with_columns('Face', faces)\n",
    "die\n"
   ]
  },
  {
   "cell_type": "code",
   "execution_count": null,
   "id": "db541ba3-1583-40e4-a175-7d0cb178d981",
   "metadata": {},
   "outputs": [],
   "source": [
    "# Simulate 7 rolls\n",
    "die.sample(7)"
   ]
  },
  {
   "cell_type": "code",
   "execution_count": null,
   "id": "9d1179e5-1fd7-4b19-9d1a-a6913703ab44",
   "metadata": {},
   "outputs": [],
   "source": [
    "actors = Table.read_table('actors.csv')\n",
    "actors"
   ]
  },
  {
   "cell_type": "code",
   "execution_count": null,
   "id": "0b56b56c-f163-4d37-b002-175cba2e75d1",
   "metadata": {},
   "outputs": [],
   "source": [
    "# Simple random sample of 5 rows\n",
    "actors.sample(5, with_replacement=False)"
   ]
  },
  {
   "cell_type": "markdown",
   "id": "a064e70d-33cc-46a1-9814-64994e529db3",
   "metadata": {},
   "source": [
    "# Sampling from a Population in an Array"
   ]
  },
  {
   "cell_type": "code",
   "execution_count": null,
   "id": "977717e9-bde1-426f-9143-65ae3c0a162b",
   "metadata": {},
   "outputs": [],
   "source": [
    "# The faces of a die, as an array\n",
    "faces"
   ]
  },
  {
   "cell_type": "code",
   "execution_count": null,
   "id": "ed410d0e-1142-475d-a3cc-6465867d50e8",
   "metadata": {},
   "outputs": [],
   "source": [
    "# 7 rolls of the die\n",
    "np.random.choice(faces, 7)"
   ]
  },
  {
   "cell_type": "code",
   "execution_count": null,
   "id": "94f269cd-733d-4a65-8ae0-8d781ad60809",
   "metadata": {},
   "outputs": [],
   "source": [
    "# Array of actor names\n",
    "actor_names = actors.column('Actor')"
   ]
  },
  {
   "cell_type": "code",
   "execution_count": null,
   "id": "5c7b7c0e-97ef-4a67-b1eb-ba0c47de805a",
   "metadata": {},
   "outputs": [],
   "source": [
    "# Simple random sample of 5 actor names\n",
    "np.random.choice(actor_names, 5, replace=False)"
   ]
  },
  {
   "cell_type": "code",
   "execution_count": null,
   "id": "65c558fa-5e82-4f53-b3f3-fa5d0040f3d7",
   "metadata": {},
   "outputs": [],
   "source": [
    "# Sampling from a Categorical Distribution\n"
   ]
  }
 ],
 "metadata": {
  "kernelspec": {
   "display_name": "Python 3 (ipykernel)",
   "language": "python",
   "name": "python3"
  },
  "language_info": {
   "codemirror_mode": {
    "name": "ipython",
    "version": 3
   },
   "file_extension": ".py",
   "mimetype": "text/x-python",
   "name": "python",
   "nbconvert_exporter": "python",
   "pygments_lexer": "ipython3",
   "version": "3.11.13"
  }
 },
 "nbformat": 4,
 "nbformat_minor": 5
}
