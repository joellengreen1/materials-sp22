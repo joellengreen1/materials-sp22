{
 "cells": [
  {
   "cell_type": "markdown",
   "id": "12a34f28-1c60-45d7-afa3-553678695501",
   "metadata": {},
   "source": [
    "# Week 7 - Randomness, Conditional Statements, and Iteration\n",
    "This week you will learn to select values randomly."
   ]
  },
  {
   "cell_type": "code",
   "execution_count": null,
   "id": "4ad71de2-a4e1-4ef2-b46d-2cc954d01291",
   "metadata": {},
   "outputs": [],
   "source": [
    "# Run this cell, but please don't change it.\n",
    "\n",
    "# These lines import the Numpy and Datascience modules.\n",
    "import numpy as np\n",
    "from datascience import *\n",
    "\n",
    "# These lines do some fancy plotting magic\n",
    "import matplotlib\n",
    "%matplotlib inline\n",
    "import matplotlib.pyplot as plt\n",
    "plt.style.use('fivethirtyeight')\n"
   ]
  },
  {
   "cell_type": "markdown",
   "id": "50f4f9d6-1193-42c3-af6f-4040974dd20b",
   "metadata": {},
   "source": [
    "# Random selection\n",
    "Within Data Science you may want to divide of group individual for a research project into a control and treatment.  The syntax for performing random assignment.\n",
    "```\n",
    "three_groups = make_array('group1', 'group2', 'group3')\n",
    "np.random.choice(three_groups)\n",
    "np.random.choice(three_groups, n) # n = number of assignments\n",
    "```"
   ]
  },
  {
   "cell_type": "code",
   "execution_count": null,
   "id": "8b22f8c9-779a-43ce-b953-e8a602f85620",
   "metadata": {},
   "outputs": [],
   "source": [
    "# create the variable three_groups and assign an array of group1, group2, and group3\n",
    "# use the random.choice to randomly select a value\n"
   ]
  },
  {
   "cell_type": "code",
   "execution_count": null,
   "id": "0d0426ab-f6c9-42e5-affc-f2c18e1e3e6e",
   "metadata": {},
   "outputs": [],
   "source": [
    "# assign 10 individuals to the three groups\n"
   ]
  },
  {
   "attachments": {
    "24517450-cc45-4f8d-bc98-18cad6de96c4.png": {
     "image/png": "[encoded data removed]"
    }
   },
   "cell_type": "markdown",
   "id": "70043b20-636f-4646-aac2-36da3859f645",
   "metadata": {},
   "source": [
    "# Booleans and Comparison\n",
    "Comparison of data that will take two values True and False.\n",
    "![{B73722FA-71A6-4CA6-B7CE-CA8E23CF890C}.png](attachment:24517450-cc45-4f8d-bc98-18cad6de96c4.png)\n",
    "\n",
    "Notice = is the assignment statement and == determines if what is on the left of the symbol and the right of the symbol."
   ]
  },
  {
   "cell_type": "code",
   "execution_count": null,
   "id": "62e5b702-e4c0-4999-813a-f4e257da8e3d",
   "metadata": {},
   "outputs": [],
   "source": [
    "# compare 6 and 18/3\n"
   ]
  },
  {
   "cell_type": "code",
   "execution_count": null,
   "id": "24f3fcac-03f5-4264-9ae1-faae16a7e43f",
   "metadata": {},
   "outputs": [],
   "source": [
    "# compare three values\n"
   ]
  },
  {
   "cell_type": "code",
   "execution_count": null,
   "id": "d4966996-bea1-4f93-a114-ed32b969a9a5",
   "metadata": {},
   "outputs": [],
   "source": [
    "# use variables to compare three values\n",
    "\n",
    "\n"
   ]
  },
  {
   "cell_type": "markdown",
   "id": "de70ef90-9856-4645-a1c0-275beeba99d6",
   "metadata": {},
   "source": [
    "# Comparing Strings\n",
    "Strings are compared alphabetically and by length.  Lower case values is greater than capital values.\n"
   ]
  },
  {
   "cell_type": "code",
   "execution_count": null,
   "id": "ad372984-3f04-4b26-99cd-ccf6c219a38d",
   "metadata": {},
   "outputs": [],
   "source": [
    "# assign variables and compare the strings\n",
    "x = 'James'\n",
    "y = 'JoEllen'\n",
    "z = 'Joellen'\n",
    "u = 'joellen'\n",
    "z==u"
   ]
  },
  {
   "cell_type": "code",
   "execution_count": null,
   "id": "b801b787-4c07-44c4-82e9-56b035389597",
   "metadata": {},
   "outputs": [],
   "source": [
    "# compare z and y\n"
   ]
  },
  {
   "cell_type": "code",
   "execution_count": null,
   "id": "8342d914-4d07-454a-85db-a20c153099a3",
   "metadata": {},
   "outputs": [],
   "source": [
    "# compare u and y\n"
   ]
  },
  {
   "cell_type": "code",
   "execution_count": null,
   "id": "5384dea3-adae-4f90-ad2a-8e6e0b07f60f",
   "metadata": {},
   "outputs": [],
   "source": [
    "# randomly select from the three_group see if it is equal to group1\n"
   ]
  },
  {
   "cell_type": "markdown",
   "id": "f08be544-50c7-4079-aa5e-56ac86d789ce",
   "metadata": {},
   "source": [
    "# Comparing an Array and a Value\n",
    "Sometimes you need to compare each element in array with a value.  This can be done using the comparison operation above.\n",
    "\n",
    "```\n",
    "x = make_array(element1, element2, ....)\n",
    "y = elementx\n",
    "x == y  # results is an array of True and False comparing each element to y\n",
    "```"
   ]
  },
  {
   "cell_type": "code",
   "execution_count": null,
   "id": "eb57b72f-8ec2-47f6-80d7-e09a2c3be420",
   "metadata": {},
   "outputs": [],
   "source": [
    "# create an array of heads and tails and see if it is equal to Heads\n",
    "\n"
   ]
  },
  {
   "cell_type": "markdown",
   "id": "179cb9bd-6ef0-480a-b217-79ec3e0175d4",
   "metadata": {},
   "source": [
    "# Conditional Statements\n",
    "Multi-line statement that allows Python to choose among different alternatives based on the truth value of an expression.  The format of a conditional statement is as follows.\n",
    "```\n",
    "if x > 0:\n",
    "   statements\n",
    "elif x < 0:\n",
    "   statements\n",
    "else:\n",
    "   statements\n",
    "\n",
    "```"
   ]
  },
  {
   "cell_type": "code",
   "execution_count": null,
   "id": "75c8cf21-92e9-4517-a8e5-7eb9762dd0c1",
   "metadata": {},
   "outputs": [],
   "source": [
    "# create if statement to evaluate if value negative, zero, or positive then print out the results\n"
   ]
  },
  {
   "cell_type": "code",
   "execution_count": null,
   "id": "260e98e4-ef5c-411c-ac4b-f1f92d1989b8",
   "metadata": {},
   "outputs": [],
   "source": [
    "# create a function to pass a value and uses the if statement above\n"
   ]
  },
  {
   "cell_type": "code",
   "execution_count": null,
   "id": "1908871c-c786-4e75-a2f5-d939cea746be",
   "metadata": {},
   "outputs": [],
   "source": [
    "# run the function\n"
   ]
  },
  {
   "cell_type": "code",
   "execution_count": null,
   "id": "dfeb9d18-3dd7-417c-8b92-b6a785b1d1ed",
   "metadata": {},
   "outputs": [],
   "source": [
    "# create a function that defines the sign of a number\n"
   ]
  },
  {
   "cell_type": "code",
   "execution_count": null,
   "id": "e27845e0-b0d5-4512-bfb3-cb947998c642",
   "metadata": {},
   "outputs": [],
   "source": [
    "# run the function\n"
   ]
  },
  {
   "cell_type": "code",
   "execution_count": null,
   "id": "00e9f531-2c1e-4d40-ba3c-6bab257d35f5",
   "metadata": {},
   "outputs": [],
   "source": [
    "# run the function\n"
   ]
  },
  {
   "cell_type": "code",
   "execution_count": null,
   "id": "1777d5b9-1608-4329-a50a-c27c23ab74dc",
   "metadata": {},
   "outputs": [],
   "source": [
    "# run the function\n"
   ]
  },
  {
   "attachments": {},
   "cell_type": "markdown",
   "id": "8f023586-c20d-40f0-9c9a-9fae5fe07c86",
   "metadata": {},
   "source": [
    "# Write a function to determine betting on a Die\n",
    "\n",
    "Suppose I bet on a roll of a fair die. The rules of the game:<br>\n",
    "\n",
    "- If the die shows 1 spot or 2 spots, I lose a dollar.\n",
    "\n",
    "- If the die shows 3 spots or 4 spots, I neither lose money nor gain money.\n",
    "\n",
    "- If the die shows 5 spots or 6 spots, I gain a dollar.\n",
    "\n",
    "We will now use conditional statements to define a function one_bet that takes the number of spots on the roll and returns my net gain."
   ]
  },
  {
   "cell_type": "code",
   "execution_count": null,
   "id": "4c4a1472-2c0a-4d76-91de-547b5dffc73d",
   "metadata": {},
   "outputs": [],
   "source": [
    "# create an if statement to find the amount of playing the game\n"
   ]
  },
  {
   "cell_type": "code",
   "execution_count": null,
   "id": "7e9d8951-d618-45f3-9946-ea1909802c5e",
   "metadata": {},
   "outputs": [],
   "source": [
    "# create the function for playing the game\n",
    "\n"
   ]
  },
  {
   "cell_type": "code",
   "execution_count": null,
   "id": "270ee0e5-b5b2-4837-8875-1c6f8c2c51e9",
   "metadata": {},
   "outputs": [],
   "source": [
    "# run function\n"
   ]
  },
  {
   "cell_type": "code",
   "execution_count": null,
   "id": "f675ad2f-3c10-4b64-85c0-2c7876873563",
   "metadata": {},
   "outputs": [],
   "source": [
    "# run function\n"
   ]
  },
  {
   "cell_type": "code",
   "execution_count": null,
   "id": "ff8014d1-a120-498e-99f2-2b40f7071a73",
   "metadata": {},
   "outputs": [],
   "source": [
    "# create an array of values 1 thru 6\n"
   ]
  },
  {
   "cell_type": "code",
   "execution_count": null,
   "id": "a0c41668-a1a6-41b4-99f3-a37f0ede619f",
   "metadata": {},
   "outputs": [],
   "source": [
    "# randomly selects the value from 1 through 6\n"
   ]
  },
  {
   "cell_type": "code",
   "execution_count": null,
   "id": "9019b868-d066-4ac1-a650-f8dffa56c6be",
   "metadata": {},
   "outputs": [],
   "source": [
    "# take the value selected from 1 thru 6 and sends that value to the one_bet\n"
   ]
  },
  {
   "cell_type": "markdown",
   "id": "6d887317-e44a-4d4f-a33d-94da927c193c",
   "metadata": {},
   "source": [
    "# Iteration\n",
    "Repeating a process multiple times.\n",
    "```\n",
    "for i in make_array(element1, element2, element3, ...):\n",
    "    statements\n",
    "```"
   ]
  },
  {
   "cell_type": "code",
   "execution_count": null,
   "id": "a8c02d60-86d9-4eec-8983-33635b0f46ba",
   "metadata": {},
   "outputs": [],
   "source": [
    "# create the function above without passing it a value\n"
   ]
  },
  {
   "cell_type": "code",
   "execution_count": null,
   "id": "a5df6419-bb48-43b8-8489-1c79ff65a2a4",
   "metadata": {},
   "outputs": [],
   "source": [
    "# run the bet_on_one_roll 10 times\n"
   ]
  },
  {
   "cell_type": "code",
   "execution_count": null,
   "id": "518cbac9-7455-4d2b-901e-22d77f5be8de",
   "metadata": {},
   "outputs": [],
   "source": [
    "# if they bet 10 times how much did they make\n"
   ]
  },
  {
   "cell_type": "markdown",
   "id": "191f6c22-f7a3-4fdd-a920-d8f93c5488c4",
   "metadata": {},
   "source": [
    "# Add to Arrays\n",
    "We have already learned to create an array also to find the individual values of an array. Now we will learn to add elements to an array.\n",
    "```\n",
    "c = make_array(element1, element2, element3...)\n",
    "np.append(c, 'new element')\n",
    "```"
   ]
  },
  {
   "cell_type": "code",
   "execution_count": null,
   "id": "4e65dcb6-136e-4f96-9623-66ca1b2699d6",
   "metadata": {},
   "outputs": [],
   "source": [
    "# Suppose we wanted to create an array of winning from each bet.\n"
   ]
  },
  {
   "cell_type": "code",
   "execution_count": null,
   "id": "fe94c575-b29d-4b64-8ed2-3ac16ff1dffa",
   "metadata": {},
   "outputs": [],
   "source": [
    "# Run the function 10 times\n"
   ]
  },
  {
   "cell_type": "markdown",
   "id": "70fe8710-4fcc-42be-a194-f9b01012c60c",
   "metadata": {},
   "source": [
    "# We can also count the numb of nonzero values using the following syntax\n",
    "```\n",
    "np.count_nonzero(array)\n",
    "```"
   ]
  },
  {
   "cell_type": "code",
   "execution_count": null,
   "id": "ee00aef7-c712-4324-b197-a8b4aeb03c1f",
   "metadata": {},
   "outputs": [],
   "source": [
    "# how many time did you bet and earn or loss money?\n"
   ]
  },
  {
   "cell_type": "code",
   "execution_count": null,
   "id": "ed6ed79d-ba9f-4ade-9b87-1fcf960961cd",
   "metadata": {},
   "outputs": [],
   "source": [
    "# bet 500 times\n"
   ]
  },
  {
   "cell_type": "code",
   "execution_count": null,
   "id": "3263a1cf-6802-4ea2-9226-6b8d8077312e",
   "metadata": {},
   "outputs": [],
   "source": [
    "# create table called outcome_table and create bar chart\n"
   ]
  },
  {
   "cell_type": "markdown",
   "id": "257aa00a-fea1-4b5d-8f17-09aadad02654",
   "metadata": {},
   "source": [
    "# Simulations\n",
    "Sometimes instead of flipping a coin or rolling a die, you can use the computer to simulate the process.\n",
    "\n",
    "- Step 1: Determine what to Simulate\n",
    "- Step 2: Simulating One Value\n",
    "- Step 3: Number of Repetitions\n",
    "- Step 4: Simulating Multiple Values\n",
    "\n",
    "```\n",
    "np.random.choice(np.arange(0, 2), n)  # flip a coin n times\n",
    "np.random.choice(['Treatment', 'Control'], n) # determine an assignment to either group n times\n",
    "np.random.choice(np.arange(1, 7), n) # roll of a die n times\n",
    "np.random.choice(array_name, n)  # randomly select elements of an array n times\n",
    "```\n"
   ]
  },
  {
   "cell_type": "code",
   "execution_count": null,
   "id": "d76c9438-68b2-4492-96b8-bb9d31cb7a94",
   "metadata": {},
   "outputs": [],
   "source": [
    "# run each of the simulation roll of dices 10 times\n"
   ]
  },
  {
   "cell_type": "code",
   "execution_count": null,
   "id": "058b8b34-c09b-4acf-8c5a-afbba91b5409",
   "metadata": {},
   "outputs": [],
   "source": [
    "# Randomly assign 10 people to Treatment and Control groups\n"
   ]
  },
  {
   "cell_type": "code",
   "execution_count": null,
   "id": "1a0bfc7a-5960-41df-b1ef-3d8ad9427456",
   "metadata": {},
   "outputs": [],
   "source": [
    "# Roll die 10 times\n"
   ]
  },
  {
   "cell_type": "code",
   "execution_count": null,
   "id": "2bda1f41-666b-46fb-b54c-4cdaee42deec",
   "metadata": {},
   "outputs": [],
   "source": [
    "# randomly select elements of an array 10 times\n"
   ]
  },
  {
   "cell_type": "code",
   "execution_count": null,
   "id": "4c77c1d5-6a72-4fc3-ba44-2ab129c7f33d",
   "metadata": {},
   "outputs": [],
   "source": [
    "# Simulate the toss of 100 coin tosses\n"
   ]
  },
  {
   "cell_type": "code",
   "execution_count": null,
   "id": "6127a776-0154-439b-a569-9a2441b647b2",
   "metadata": {},
   "outputs": [],
   "source": [
    "# how many heads did you get?\n"
   ]
  },
  {
   "cell_type": "code",
   "execution_count": null,
   "id": "61181197-39c7-433f-ab5c-8da5bf522c70",
   "metadata": {},
   "outputs": [],
   "source": [
    "# how many Heads are there?\n"
   ]
  },
  {
   "cell_type": "markdown",
   "id": "abec3747-3317-47fb-936e-881bfd1681b8",
   "metadata": {},
   "source": [
    "\n",
    "# Step 1: Flip a coin 100 times\n",
    "\n",
    "# Step 2: Simulate on value\n",
    "\n",
    "# Step 3: Repeat the process n times\n",
    "\n",
    "# Step 4: Simulating Multiple times\n"
   ]
  },
  {
   "cell_type": "code",
   "execution_count": null,
   "id": "0601c342-ba19-4840-b2fc-f18260987ff7",
   "metadata": {},
   "outputs": [],
   "source": [
    "# you decide to flip a 100 coins multiple times\n",
    "# create a function to flip a coin 100 times and determine the number of heads\n",
    "\n"
   ]
  },
  {
   "cell_type": "code",
   "execution_count": null,
   "id": "eb47a561-4202-462f-a647-07739c50e5c4",
   "metadata": {},
   "outputs": [],
   "source": [
    "# repeat the process 15000 times\n",
    "\n",
    "    "
   ]
  },
  {
   "cell_type": "code",
   "execution_count": null,
   "id": "2649e6a2-fbd0-4b21-880d-66ef7b4c2193",
   "metadata": {},
   "outputs": [],
   "source": [
    "# display the number of heads\n"
   ]
  },
  {
   "cell_type": "code",
   "execution_count": null,
   "id": "c8f060c4-496e-4405-9d82-04c7763c07d0",
   "metadata": {},
   "outputs": [],
   "source": [
    "# the number of heads\n"
   ]
  },
  {
   "cell_type": "code",
   "execution_count": null,
   "id": "3713ca69-63b8-4658-9f4d-8593e36d8a57",
   "metadata": {},
   "outputs": [],
   "source": [
    "# Create a Table\n"
   ]
  },
  {
   "cell_type": "code",
   "execution_count": null,
   "id": "8b7ffea4-3eee-4d64-911c-9c0ab1def8d2",
   "metadata": {},
   "outputs": [],
   "source": [
    "# Histogram of number of heads\n",
    "simulation_results.hist(\"Number of Heads\", bins = np.arange(30.5, 69.6, 1))\n"
   ]
  },
  {
   "cell_type": "code",
   "execution_count": null,
   "id": "39bc1b3f-a1a1-422d-90cf-f5806a7aa1c8",
   "metadata": {},
   "outputs": [],
   "source": [
    "# Simulate rolling two dice.  Repeat the process 10000 times\n"
   ]
  },
  {
   "cell_type": "code",
   "execution_count": null,
   "id": "817f3b52-05b4-40b1-9b25-766854f569a6",
   "metadata": {},
   "outputs": [],
   "source": [
    "# random number of die results\n"
   ]
  },
  {
   "cell_type": "code",
   "execution_count": null,
   "id": "e26a0476-bd47-49e4-b13d-9cb171b4915b",
   "metadata": {},
   "outputs": [],
   "source": [
    "# total the die toss for tossing two die\n"
   ]
  },
  {
   "cell_type": "code",
   "execution_count": null,
   "id": "18d82081-e184-4c8f-a2cb-bf454a833e50",
   "metadata": {},
   "outputs": [],
   "source": [
    "# create a function to roll two dice and return the results\n"
   ]
  },
  {
   "cell_type": "code",
   "execution_count": null,
   "id": "b6692a5a-3264-4e7e-81e7-ea58082c7050",
   "metadata": {},
   "outputs": [],
   "source": [
    "# run the simulation function\n",
    "one_simulation()"
   ]
  },
  {
   "cell_type": "code",
   "execution_count": null,
   "id": "de87060f-c86a-4fa3-b632-e51f7845ad1c",
   "metadata": {},
   "outputs": [],
   "source": [
    "# Repeat the simulation 10,000 times and create the histogram\n"
   ]
  }
 ],
 "metadata": {
  "kernelspec": {
   "display_name": "Python 3 (ipykernel)",
   "language": "python",
   "name": "python3"
  },
  "language_info": {
   "codemirror_mode": {
    "name": "ipython",
    "version": 3
   },
   "file_extension": ".py",
   "mimetype": "text/x-python",
   "name": "python",
   "nbconvert_exporter": "python",
   "pygments_lexer": "ipython3",
   "version": "3.11.13"
  }
 },
 "nbformat": 4,
 "nbformat_minor": 5
}
