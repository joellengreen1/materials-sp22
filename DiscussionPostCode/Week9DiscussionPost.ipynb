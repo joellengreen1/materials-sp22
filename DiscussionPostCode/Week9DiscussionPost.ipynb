{
 "cells": [
  {
   "cell_type": "markdown",
   "id": "f426a1d0-4311-49dc-9e0c-f06f66f7694e",
   "metadata": {},
   "source": [
    "# Week 9 Discussion Post\n",
    "This week we discuss Hypothesis Testing by creating a histogram from .  Characteristics of probability distributions are are follows.\n",
    "- Compute the probability of getting a four.\n",
    "- The sample size is 100.\n",
    "- Create a funtion to process 100 dice toss.\n",
    "- Repeat the process for 5000 times.\n",
    "- Create an array of die tosses.\n",
    "- Create a Table with the results and then a histogram of the random results."
   ]
  },
  {
   "cell_type": "code",
   "execution_count": 1,
   "id": "9b939dd2-b84c-4b21-a5be-0ec88e3bbeee",
   "metadata": {},
   "outputs": [],
   "source": [
    "# Run this cell to set up the notebook, but please don't change it.\n",
    "\n",
    "# These lines import the Numpy and Datascience modules.\n",
    "import numpy as np\n",
    "from datascience import *\n",
    "\n",
    "\n",
    "# These lines do some fancy plotting magic.\n",
    "import matplotlib\n",
    "%matplotlib inline\n",
    "import matplotlib.pyplot as plt\n",
    "plt.style.use('fivethirtyeight')\n",
    "import warnings\n",
    "warnings.simplefilter('ignore', FutureWarning)"
   ]
  },
  {
   "cell_type": "code",
   "execution_count": null,
   "id": "5fb48f0e-e5e9-48bd-b413-8a30df80560f",
   "metadata": {},
   "outputs": [],
   "source": []
  },
  {
   "cell_type": "code",
   "execution_count": null,
   "id": "62b0b193-bbe6-4fd1-9c27-7e03487f2b1a",
   "metadata": {},
   "outputs": [],
   "source": []
  },
  {
   "cell_type": "code",
   "execution_count": null,
   "id": "1f9c14d3-c408-4671-a578-81064393fd79",
   "metadata": {},
   "outputs": [],
   "source": []
  },
  {
   "cell_type": "code",
   "execution_count": null,
   "id": "7335a24d-ca89-402c-b542-7b4a33883578",
   "metadata": {},
   "outputs": [],
   "source": []
  },
  {
   "cell_type": "code",
   "execution_count": null,
   "id": "32507873-8167-4865-90de-69447649f282",
   "metadata": {},
   "outputs": [],
   "source": []
  },
  {
   "cell_type": "code",
   "execution_count": null,
   "id": "829ef6f4-0d7b-490c-aea6-2f78f43db40d",
   "metadata": {},
   "outputs": [],
   "source": []
  },
  {
   "cell_type": "code",
   "execution_count": null,
   "id": "54c27358-1b90-4fe2-b39c-f6eb61503a64",
   "metadata": {},
   "outputs": [],
   "source": []
  },
  {
   "cell_type": "code",
   "execution_count": null,
   "id": "b0c411d7-3aca-4cc1-93b3-1c62c35db5ba",
   "metadata": {},
   "outputs": [],
   "source": []
  }
 ],
 "metadata": {
  "kernelspec": {
   "display_name": "Python 3 (ipykernel)",
   "language": "python",
   "name": "python3"
  },
  "language_info": {
   "codemirror_mode": {
    "name": "ipython",
    "version": 3
   },
   "file_extension": ".py",
   "mimetype": "text/x-python",
   "name": "python",
   "nbconvert_exporter": "python",
   "pygments_lexer": "ipython3",
   "version": "3.11.13"
  }
 },
 "nbformat": 4,
 "nbformat_minor": 5
}
