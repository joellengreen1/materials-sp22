{
 "cells": [
  {
   "cell_type": "markdown",
   "id": "9df8884a-de70-4d89-bcfa-ab5a1cdd15b4",
   "metadata": {},
   "source": [
    "# Chapter 14 - Why the Mean Matters?\n",
    "the empirical distribution of the sample mean has almost always turned out close to bell-shaped, regardless of the population being studied.  If a property of random samples is true regardless of the population, it becomes a powerful tool for inference because we rarely know much about the data in the entire population. The distribution of the mean of a large random sample falls into this category of properties. That is why random sample means are extensively used in data science.\n",
    "<br>\n",
    "Questions we will address are as following.\n",
    "- What exactly does the mean measure?\n",
    "- How close to the mean are most of the data?\n",
    "- How is the sample size related to the variability of the sample mean?\n",
    "- Why do empirical distributions of random sample means come out bell shaped?\n",
    "- How can we use sample means effectively for inference?\n"
   ]
  },
  {
   "cell_type": "code",
   "execution_count": 1,
   "id": "e851292c-a490-4874-863d-19c3940ecfd8",
   "metadata": {},
   "outputs": [],
   "source": [
    "# Run this cell to set up the notebook, but please don't change it.\n",
    "\n",
    "# These lines import the Numpy and Datascience modules.\n",
    "import numpy as np\n",
    "from datascience import *\n",
    "\n",
    "# These lines do some fancy plotting magic.\n",
    "import matplotlib\n",
    "%matplotlib inline\n",
    "import matplotlib.pyplot as plots\n",
    "plots.style.use('fivethirtyeight')\n",
    "import warnings\n",
    "warnings.simplefilter('ignore')"
   ]
  },
  {
   "cell_type": "markdown",
   "id": "7e4436d1-8c74-4e3e-9f75-8b83933773d8",
   "metadata": {},
   "source": [
    "# Properties of the Mean\n",
    "- Mean and Average are words used interchangeably.  The average or mean is **the sum of all the elements of the collection, divided by the number of elements in the collection.**\n",
    "\n",
    "```\n",
    "# Both represents mean or average\n",
    "np.average(array)\n",
    "np.mean(array)\n",
    "```\n"
   ]
  },
  {
   "cell_type": "code",
   "execution_count": 2,
   "id": "938f61f9-df8d-4e99-98d6-7dab94e54505",
   "metadata": {},
   "outputs": [
    {
     "data": {
      "text/plain": [
       "4.25"
      ]
     },
     "execution_count": 2,
     "metadata": {},
     "output_type": "execute_result"
    }
   ],
   "source": [
    "not_symmetric = make_array(2, 3, 3, 9)\n",
    "np.average(not_symmetric)"
   ]
  },
  {
   "cell_type": "code",
   "execution_count": 3,
   "id": "702e04e3-7eb3-4155-a782-79ec944ae24f",
   "metadata": {},
   "outputs": [
    {
     "data": {
      "text/plain": [
       "4.25"
      ]
     },
     "execution_count": 3,
     "metadata": {},
     "output_type": "execute_result"
    }
   ],
   "source": [
    "np.mean(not_symmetric)"
   ]
  },
  {
   "cell_type": "markdown",
   "id": "5017fa9d-b4d7-464d-9dcd-62dac8d1ae35",
   "metadata": {},
   "source": [
    "# Basic Properties\n",
    "- It need not be an element of the collection.\n",
    "- It need not be an integer even if all the elements of the collection are integers.\n",
    "- It is somewhere between the smallest and largest values in the collection.\n",
    "- It need not be halfway between the two extremes; it is not in general true that half the elements in a collection are above the mean.\n",
    "- If the collection consists of values of a variable measured in specified units, then the mean has the same units too.\n",
    "\n",
    "The **Mean is a \"Smoother\" or \"Equalizing\"**<br>\n",
    "The not_symmetric array is the amount of money four individuals have in their pocket or purse.  When we take the average we combine what everyone has and divide it equally among the individuals.  So each person gets $4.25."
   ]
  },
  {
   "cell_type": "markdown",
   "id": "7fda1b81-fedb-443d-809a-971a9e294a0d",
   "metadata": {},
   "source": [
    "# Proportions are Means\n",
    "If I am looking at a characteristic that is either present or not, I can define the presence of the characteristic as 1 and the absence of the characteristic as 0.  If the values are 0 and 1 the sum of the array is number of ones in it.  Therefore, the average or mean is the percent that the characteristic is present in the population.  Percents can also be determined if the results in the column is True or False.  True will be treated as an 1 and False treated as an 0."
   ]
  },
  {
   "cell_type": "code",
   "execution_count": 4,
   "id": "865a23d8-7644-447c-afbf-ca4303193e2d",
   "metadata": {},
   "outputs": [
    {
     "data": {
      "text/plain": [
       "3"
      ]
     },
     "execution_count": 4,
     "metadata": {},
     "output_type": "execute_result"
    }
   ],
   "source": [
    "zero_one = make_array(1, 1, 1, 0)\n",
    "sum(zero_one)"
   ]
  },
  {
   "cell_type": "code",
   "execution_count": 5,
   "id": "2050352d-f9d2-4dfe-a7e9-1a34afbd2a22",
   "metadata": {},
   "outputs": [
    {
     "data": {
      "text/plain": [
       "0.75"
      ]
     },
     "execution_count": 5,
     "metadata": {},
     "output_type": "execute_result"
    }
   ],
   "source": [
    "np.mean(zero_one)"
   ]
  },
  {
   "cell_type": "code",
   "execution_count": 6,
   "id": "a5dc353c-4263-46ed-84e8-2e5c1e36c1c0",
   "metadata": {},
   "outputs": [
    {
     "data": {
      "text/plain": [
       "0.75"
      ]
     },
     "execution_count": 6,
     "metadata": {},
     "output_type": "execute_result"
    }
   ],
   "source": [
    "np.mean(make_array(True, True, True, False))"
   ]
  },
  {
   "cell_type": "code",
   "execution_count": 7,
   "id": "97e50c53-6c48-4715-a7b9-6aba1beba097",
   "metadata": {},
   "outputs": [
    {
     "data": {
      "text/plain": [
       "4.25"
      ]
     },
     "execution_count": 7,
     "metadata": {},
     "output_type": "execute_result"
    }
   ],
   "source": [
    "same_distribution = make_array(2, 2, 3, 3, 3, 3, 9, 9)\n",
    "np.mean(same_distribution)"
   ]
  },
  {
   "cell_type": "code",
   "execution_count": 8,
   "id": "81830800-6a68-4d6c-b9e3-bb2b3891a7e3",
   "metadata": {},
   "outputs": [],
   "source": [
    "example = Table().with_columns('same_distribution', same_distribution)"
   ]
  },
  {
   "cell_type": "markdown",
   "id": "57e47536-7d64-4f50-96ad-2bdd78cb50e8",
   "metadata": {},
   "source": [
    "The mean is the center of gravity or balance point of the histogram."
   ]
  },
  {
   "cell_type": "code",
   "execution_count": 17,
   "id": "e12a8f9b-5d37-4c4a-bba0-1a3f9760636c",
   "metadata": {},
   "outputs": [
    {
     "data": {
      "image/png": "[encoded data removed]",
      "text/plain": [
       "<Figure size 600x400 with 1 Axes>"
      ]
     },
     "metadata": {},
     "output_type": "display_data"
    }
   ],
   "source": [
    "example.hist()\n",
    "\n",
    "# Plotting parameters; you can ignore this code\n",
    "\n",
    "plots.plot([2, 9], [0.01, 0.01], color='yellow', lw=3, zorder=1)\n",
    "plots.scatter(4.25, 0.01, color='green', s=40, zorder=2);"
   ]
  },
  {
   "cell_type": "markdown",
   "id": "b01ddedd-fc5a-488f-aa41-fd867f643ab4",
   "metadata": {},
   "source": [
    "# The Mean and the Median\n",
    "Unlike the median, the mean does not indicate that 50% of the data is to the left of the mean and 50% of the data is to right of the mean.  Large values in the data set will move the mean to the right of the median for a non-symmetric dataset.  If the data is symmetric then the mean and median will be close or the same.\n"
   ]
  },
  {
   "cell_type": "code",
   "execution_count": 19,
   "id": "02d752f6-97a2-4883-9b25-edd1dc3b53cc",
   "metadata": {},
   "outputs": [],
   "source": [
    "symmetric = make_array(2, 3, 3, 4)"
   ]
  },
  {
   "cell_type": "code",
   "execution_count": 20,
   "id": "fe975d42-5e1a-4140-ae6f-37eb889b126e",
   "metadata": {},
   "outputs": [
    {
     "data": {
      "text/plain": [
       "3.0"
      ]
     },
     "execution_count": 20,
     "metadata": {},
     "output_type": "execute_result"
    }
   ],
   "source": [
    "np.average(symmetric)"
   ]
  },
  {
   "cell_type": "code",
   "execution_count": 21,
   "id": "b827ffa7-6025-4205-852d-1a4487655707",
   "metadata": {},
   "outputs": [
    {
     "data": {
      "text/plain": [
       "3.0"
      ]
     },
     "execution_count": 21,
     "metadata": {},
     "output_type": "execute_result"
    }
   ],
   "source": [
    "np.median(symmetric)"
   ]
  },
  {
   "cell_type": "code",
   "execution_count": 25,
   "id": "109162df-7702-467b-9e0b-398aea615046",
   "metadata": {},
   "outputs": [],
   "source": [
    "two_distributions = Table().with_columns('Symmetric', make_array(2, 2, 3, 3, 3, 3, 4, 4),\n",
    "                                        'Not Symmetric', make_array(2, 2, 3, 3, 3, 3, 9, 9),\n",
    "                                         )"
   ]
  },
  {
   "cell_type": "code",
   "execution_count": 29,
   "id": "635f3b11-8e43-46ea-b9dd-a91836373dc1",
   "metadata": {},
   "outputs": [
    {
     "data": {
      "image/png": "[encoded data removed]",
      "text/plain": [
       "<Figure size 600x400 with 1 Axes>"
      ]
     },
     "metadata": {},
     "output_type": "display_data"
    }
   ],
   "source": [
    "two_distributions.hist()\n",
    "plots.scatter(3.0, -0.01, color='navy', s=40, zorder=2);\n",
    "plots.scatter(4.25, -0.01, color='gold', s=40, zorder=2);"
   ]
  },
  {
   "cell_type": "code",
   "execution_count": 31,
   "id": "5f9450d7-42a5-4bc7-a9c4-6743c8cc9a6f",
   "metadata": {},
   "outputs": [
    {
     "data": {
      "text/plain": [
       "3.0"
      ]
     },
     "execution_count": 31,
     "metadata": {},
     "output_type": "execute_result"
    }
   ],
   "source": [
    "np.median(not_symmetric)"
   ]
  },
  {
   "cell_type": "code",
   "execution_count": 32,
   "id": "10b6d8b7-b30a-4628-addb-b28a78025461",
   "metadata": {},
   "outputs": [
    {
     "data": {
      "text/plain": [
       "3.0"
      ]
     },
     "execution_count": 32,
     "metadata": {},
     "output_type": "execute_result"
    }
   ],
   "source": [
    "np.median(same_distribution)"
   ]
  },
  {
   "cell_type": "markdown",
   "id": "8f9e210d-470e-4ccd-8f9a-10b3b85269d9",
   "metadata": {},
   "source": [
    "# Comparing Mean and Median\n",
    "The median of the symmetric and non-symmetric distribution is 3.0.  However, the mean of the non-symmetric distribution is 4.25 and the mean of the symmetric distribution is 3.0.<br>\n",
    "<br>\n",
    "In general, if the histogram has a tail on one side (the formal term is “skewed”), then the mean is pulled away from the median in the direction of the tail.\n"
   ]
  },
  {
   "cell_type": "code",
   "execution_count": 40,
   "id": "7b55f368-522a-4d4d-b3ca-c7055a77c99e",
   "metadata": {},
   "outputs": [
    {
     "data": {
      "text/html": [
       "<table border=\"1\" class=\"dataframe\">\n",
       "    <thead>\n",
       "        <tr>\n",
       "            <th>Organization Group</th> <th>Department</th> <th>Job Family</th> <th>Job</th> <th>Salary</th> <th>Overtime</th> <th>Benefits</th> <th>Total Compensation</th>\n",
       "        </tr>\n",
       "    </thead>\n",
       "    <tbody>\n",
       "        <tr>\n",
       "            <td>Public Protection </td> <td>Adult Probation</td> <td>Information Systems          </td> <td>IS Trainer-Journey            </td> <td>91332 </td> <td>0       </td> <td>40059   </td> <td>131391            </td>\n",
       "        </tr>\n",
       "        <tr>\n",
       "            <td>Public Protection </td> <td>Adult Probation</td> <td>Information Systems          </td> <td>IS Engineer-Assistant         </td> <td>123241</td> <td>0       </td> <td>49279   </td> <td>172520            </td>\n",
       "        </tr>\n",
       "        <tr>\n",
       "            <td>Public Protection </td> <td>Adult Probation</td> <td>Information Systems          </td> <td>IS Business Analyst-Senior    </td> <td>115715</td> <td>0       </td> <td>46752   </td> <td>162468            </td>\n",
       "        </tr>\n",
       "        <tr>\n",
       "            <td>Public Protection </td> <td>Adult Probation</td> <td>Information Systems          </td> <td>IS Business Analyst-Principal </td> <td>159394</td> <td>0       </td> <td>57312   </td> <td>216706            </td>\n",
       "        </tr>\n",
       "        <tr>\n",
       "            <td>Public Protection </td> <td>Adult Probation</td> <td>Information Systems          </td> <td>IS Programmer Analyst         </td> <td>70035 </td> <td>0       </td> <td>28671   </td> <td>98706             </td>\n",
       "        </tr>\n",
       "        <tr>\n",
       "            <td>Public Protection </td> <td>Adult Probation</td> <td>Information Systems          </td> <td>IS Project Director           </td> <td>175742</td> <td>0       </td> <td>60830   </td> <td>236572            </td>\n",
       "        </tr>\n",
       "        <tr>\n",
       "            <td>Public Protection </td> <td>Adult Probation</td> <td>Information Systems          </td> <td>IT Operations Support Admin IV</td> <td>123840</td> <td>0       </td> <td>49429   </td> <td>173269            </td>\n",
       "        </tr>\n",
       "        <tr>\n",
       "            <td>Public Protection </td> <td>Adult Probation</td> <td>Payroll, Billing & Accounting</td> <td>Accountant III                </td> <td>111816</td> <td>0       </td> <td>46319   </td> <td>158135            </td>\n",
       "        </tr>\n",
       "        <tr>\n",
       "            <td>Public Protection </td> <td>Adult Probation</td> <td>Budget, Admn & Stats Analysis</td> <td>Statistician                  </td> <td>87725 </td> <td>0       </td> <td>38899   </td> <td>126624            </td>\n",
       "        </tr>\n",
       "        <tr>\n",
       "            <td>Public Protection </td> <td>Adult Probation</td> <td>Budget, Admn & Stats Analysis</td> <td>Senior Administrative Analyst </td> <td>116192</td> <td>0       </td> <td>47651   </td> <td>163843            </td>\n",
       "        </tr>\n",
       "    </tbody>\n",
       "</table>\n",
       "<p>... (44515 rows omitted)</p>"
      ],
      "text/plain": [
       "Organization Group | Department      | Job Family                    | Job                            | Salary | Overtime | Benefits | Total Compensation\n",
       "Public Protection  | Adult Probation | Information Systems           | IS Trainer-Journey             | 91332  | 0        | 40059    | 131391\n",
       "Public Protection  | Adult Probation | Information Systems           | IS Engineer-Assistant          | 123241 | 0        | 49279    | 172520\n",
       "Public Protection  | Adult Probation | Information Systems           | IS Business Analyst-Senior     | 115715 | 0        | 46752    | 162468\n",
       "Public Protection  | Adult Probation | Information Systems           | IS Business Analyst-Principal  | 159394 | 0        | 57312    | 216706\n",
       "Public Protection  | Adult Probation | Information Systems           | IS Programmer Analyst          | 70035  | 0        | 28671    | 98706\n",
       "Public Protection  | Adult Probation | Information Systems           | IS Project Director            | 175742 | 0        | 60830    | 236572\n",
       "Public Protection  | Adult Probation | Information Systems           | IT Operations Support Admin IV | 123840 | 0        | 49429    | 173269\n",
       "Public Protection  | Adult Probation | Payroll, Billing & Accounting | Accountant III                 | 111816 | 0        | 46319    | 158135\n",
       "Public Protection  | Adult Probation | Budget, Admn & Stats Analysis | Statistician                   | 87725  | 0        | 38899    | 126624\n",
       "Public Protection  | Adult Probation | Budget, Admn & Stats Analysis | Senior Administrative Analyst  | 116192 | 0        | 47651    | 163843\n",
       "... (44515 rows omitted)"
      ]
     },
     "execution_count": 40,
     "metadata": {},
     "output_type": "execute_result"
    }
   ],
   "source": [
    "# We go back to the 2019 San Francisco Salary table\n",
    "sf2019 = Table.read_table('san_francisco_2019.csv')\n",
    "sf2019"
   ]
  },
  {
   "cell_type": "code",
   "execution_count": 41,
   "id": "1800e1cf-83cb-4fe1-a4c5-fbe489670815",
   "metadata": {},
   "outputs": [
    {
     "data": {
      "text/html": [
       "<table border=\"1\" class=\"dataframe\">\n",
       "    <thead>\n",
       "        <tr>\n",
       "            <th>Organization Group</th> <th>Department</th> <th>Job Family</th> <th>Job</th> <th>Salary</th> <th>Overtime</th> <th>Benefits</th> <th>Total Compensation</th>\n",
       "        </tr>\n",
       "    </thead>\n",
       "    <tbody>\n",
       "        <tr>\n",
       "            <td>Public Protection </td> <td>Adult Probation</td> <td>Information Systems          </td> <td>IS Trainer-Journey            </td> <td>91332 </td> <td>0       </td> <td>40059   </td> <td>131391            </td>\n",
       "        </tr>\n",
       "        <tr>\n",
       "            <td>Public Protection </td> <td>Adult Probation</td> <td>Information Systems          </td> <td>IS Engineer-Assistant         </td> <td>123241</td> <td>0       </td> <td>49279   </td> <td>172520            </td>\n",
       "        </tr>\n",
       "        <tr>\n",
       "            <td>Public Protection </td> <td>Adult Probation</td> <td>Information Systems          </td> <td>IS Business Analyst-Senior    </td> <td>115715</td> <td>0       </td> <td>46752   </td> <td>162468            </td>\n",
       "        </tr>\n",
       "        <tr>\n",
       "            <td>Public Protection </td> <td>Adult Probation</td> <td>Information Systems          </td> <td>IS Business Analyst-Principal </td> <td>159394</td> <td>0       </td> <td>57312   </td> <td>216706            </td>\n",
       "        </tr>\n",
       "        <tr>\n",
       "            <td>Public Protection </td> <td>Adult Probation</td> <td>Information Systems          </td> <td>IS Programmer Analyst         </td> <td>70035 </td> <td>0       </td> <td>28671   </td> <td>98706             </td>\n",
       "        </tr>\n",
       "        <tr>\n",
       "            <td>Public Protection </td> <td>Adult Probation</td> <td>Information Systems          </td> <td>IS Project Director           </td> <td>175742</td> <td>0       </td> <td>60830   </td> <td>236572            </td>\n",
       "        </tr>\n",
       "        <tr>\n",
       "            <td>Public Protection </td> <td>Adult Probation</td> <td>Information Systems          </td> <td>IT Operations Support Admin IV</td> <td>123840</td> <td>0       </td> <td>49429   </td> <td>173269            </td>\n",
       "        </tr>\n",
       "        <tr>\n",
       "            <td>Public Protection </td> <td>Adult Probation</td> <td>Payroll, Billing & Accounting</td> <td>Accountant III                </td> <td>111816</td> <td>0       </td> <td>46319   </td> <td>158135            </td>\n",
       "        </tr>\n",
       "        <tr>\n",
       "            <td>Public Protection </td> <td>Adult Probation</td> <td>Budget, Admn & Stats Analysis</td> <td>Statistician                  </td> <td>87725 </td> <td>0       </td> <td>38899   </td> <td>126624            </td>\n",
       "        </tr>\n",
       "        <tr>\n",
       "            <td>Public Protection </td> <td>Adult Probation</td> <td>Budget, Admn & Stats Analysis</td> <td>Senior Administrative Analyst </td> <td>116192</td> <td>0       </td> <td>47651   </td> <td>163843            </td>\n",
       "        </tr>\n",
       "    </tbody>\n",
       "</table>\n",
       "<p>... (36921 rows omitted)</p>"
      ],
      "text/plain": [
       "Organization Group | Department      | Job Family                    | Job                            | Salary | Overtime | Benefits | Total Compensation\n",
       "Public Protection  | Adult Probation | Information Systems           | IS Trainer-Journey             | 91332  | 0        | 40059    | 131391\n",
       "Public Protection  | Adult Probation | Information Systems           | IS Engineer-Assistant          | 123241 | 0        | 49279    | 172520\n",
       "Public Protection  | Adult Probation | Information Systems           | IS Business Analyst-Senior     | 115715 | 0        | 46752    | 162468\n",
       "Public Protection  | Adult Probation | Information Systems           | IS Business Analyst-Principal  | 159394 | 0        | 57312    | 216706\n",
       "Public Protection  | Adult Probation | Information Systems           | IS Programmer Analyst          | 70035  | 0        | 28671    | 98706\n",
       "Public Protection  | Adult Probation | Information Systems           | IS Project Director            | 175742 | 0        | 60830    | 236572\n",
       "Public Protection  | Adult Probation | Information Systems           | IT Operations Support Admin IV | 123840 | 0        | 49429    | 173269\n",
       "Public Protection  | Adult Probation | Payroll, Billing & Accounting | Accountant III                 | 111816 | 0        | 46319    | 158135\n",
       "Public Protection  | Adult Probation | Budget, Admn & Stats Analysis | Statistician                   | 87725  | 0        | 38899    | 126624\n",
       "Public Protection  | Adult Probation | Budget, Admn & Stats Analysis | Senior Administrative Analyst  | 116192 | 0        | 47651    | 163843\n",
       "... (36921 rows omitted)"
      ]
     },
     "execution_count": 41,
     "metadata": {},
     "output_type": "execute_result"
    }
   ],
   "source": [
    "# make sure the salary information includes Part-Times making $15,600 or more\n",
    "sf2019=sf2019.where('Salary', are.above(15600))\n",
    "sf2019"
   ]
  },
  {
   "cell_type": "code",
   "execution_count": 42,
   "id": "fbcfa009-8dfc-4a0f-8cc2-59cfa3b798cb",
   "metadata": {},
   "outputs": [
    {
     "data": {
      "text/plain": [
       "(16702.0, 724031.0)"
      ]
     },
     "execution_count": 42,
     "metadata": {},
     "output_type": "execute_result"
    }
   ],
   "source": [
    "sf2019.column('Total Compensation').min(), sf2019.column('Total Compensation').max()"
   ]
  },
  {
   "cell_type": "code",
   "execution_count": 43,
   "id": "67c17c62-9d2a-4a93-a005-6c6d27ef5a67",
   "metadata": {},
   "outputs": [
    {
     "data": {
      "image/png": "[encoded data removed]",
      "text/plain": [
       "<Figure size 600x400 with 1 Axes>"
      ]
     },
     "metadata": {},
     "output_type": "display_data"
    }
   ],
   "source": [
    "sf2019.select('Total Compensation').hist(bins = np.arange(15000,726000, 25000)) "
   ]
  },
  {
   "cell_type": "code",
   "execution_count": 45,
   "id": "f676f2bb-48c6-414c-ad6c-7f32dc151d95",
   "metadata": {},
   "outputs": [
    {
     "data": {
      "text/plain": [
       "136164.0"
      ]
     },
     "execution_count": 45,
     "metadata": {},
     "output_type": "execute_result"
    }
   ],
   "source": [
    "np.median(sf2019.column('Total Compensation'))"
   ]
  },
  {
   "cell_type": "code",
   "execution_count": 46,
   "id": "f62f3474-4945-4ff1-9376-614ce60d039d",
   "metadata": {},
   "outputs": [
    {
     "data": {
      "text/plain": [
       "143246.77885787009"
      ]
     },
     "execution_count": 46,
     "metadata": {},
     "output_type": "execute_result"
    }
   ],
   "source": [
    "np.mean(sf2019.column('Total Compensation'))"
   ]
  },
  {
   "cell_type": "markdown",
   "id": "91a23ab5-db05-4f48-93e7-63798eae663f",
   "metadata": {},
   "source": [
    "The mean is affected by the higher compensation values.  While the median is not affected by the higher compensation values."
   ]
  },
  {
   "cell_type": "markdown",
   "id": "328a1e82-a271-4e98-8393-2804c50f3f19",
   "metadata": {},
   "source": [
    "# Variability\n",
    "How spread out a data set is a characteristic of the distribution.  Looking a histograms above we see that Total Compensation is between $16.702 to $724,031.  We want to know if how far the values are from the mean.  Let explore the computation of the variability."
   ]
  },
  {
   "cell_type": "code",
   "execution_count": 47,
   "id": "0ac24af1-2173-4def-ab8a-21f63cd5e05f",
   "metadata": {},
   "outputs": [],
   "source": [
    "any_numbers = make_array(1, 2, 2, 10)"
   ]
  },
  {
   "cell_type": "code",
   "execution_count": 48,
   "id": "a05d4882-f4e5-4629-805f-8d6d6e60d741",
   "metadata": {},
   "outputs": [
    {
     "data": {
      "text/plain": [
       "3.75"
      ]
     },
     "execution_count": 48,
     "metadata": {},
     "output_type": "execute_result"
    }
   ],
   "source": [
    "# Step 1: Compute the mean\n",
    "mean = np.mean(any_numbers)\n",
    "mean"
   ]
  },
  {
   "cell_type": "code",
   "execution_count": 51,
   "id": "3d8fb678-acc5-40a0-84c7-a9b37ac58c3f",
   "metadata": {},
   "outputs": [
    {
     "data": {
      "text/html": [
       "<table border=\"1\" class=\"dataframe\">\n",
       "    <thead>\n",
       "        <tr>\n",
       "            <th>Value</th> <th>Deviation from Mean</th>\n",
       "        </tr>\n",
       "    </thead>\n",
       "    <tbody>\n",
       "        <tr>\n",
       "            <td>1    </td> <td>-2.75              </td>\n",
       "        </tr>\n",
       "        <tr>\n",
       "            <td>2    </td> <td>-1.75              </td>\n",
       "        </tr>\n",
       "        <tr>\n",
       "            <td>2    </td> <td>-1.75              </td>\n",
       "        </tr>\n",
       "        <tr>\n",
       "            <td>10   </td> <td>6.25               </td>\n",
       "        </tr>\n",
       "    </tbody>\n",
       "</table>"
      ],
      "text/plain": [
       "Value | Deviation from Mean\n",
       "1     | -2.75\n",
       "2     | -1.75\n",
       "2     | -1.75\n",
       "10    | 6.25"
      ]
     },
     "execution_count": 51,
     "metadata": {},
     "output_type": "execute_result"
    }
   ],
   "source": [
    "# Step 2: Compute the distance each point is from the mean\n",
    "deviations = any_numbers - mean\n",
    "calculation_steps = Table().with_columns(\n",
    "        'Value', any_numbers,\n",
    "        'Deviation from Mean', deviations)\n",
    "calculation_steps"
   ]
  },
  {
   "cell_type": "code",
   "execution_count": 52,
   "id": "072d73f9-ad40-48a3-9c75-4e626c618b71",
   "metadata": {},
   "outputs": [
    {
     "data": {
      "text/plain": [
       "0.0"
      ]
     },
     "execution_count": 52,
     "metadata": {},
     "output_type": "execute_result"
    }
   ],
   "source": [
    "sum(deviations)"
   ]
  },
  {
   "cell_type": "code",
   "execution_count": 53,
   "id": "0f980555-150b-43af-9bf9-0d3bc1ce116a",
   "metadata": {},
   "outputs": [
    {
     "data": {
      "text/plain": [
       "0.0"
      ]
     },
     "execution_count": 53,
     "metadata": {},
     "output_type": "execute_result"
    }
   ],
   "source": [
    "np.mean(deviations)"
   ]
  },
  {
   "cell_type": "code",
   "execution_count": 54,
   "id": "b2abf4b4-1093-4a2a-a89e-8a1aae552232",
   "metadata": {},
   "outputs": [
    {
     "data": {
      "text/html": [
       "<table border=\"1\" class=\"dataframe\">\n",
       "    <thead>\n",
       "        <tr>\n",
       "            <th>Value</th> <th>Deviation from Mean</th> <th>Squared Deviations from Average</th>\n",
       "        </tr>\n",
       "    </thead>\n",
       "    <tbody>\n",
       "        <tr>\n",
       "            <td>1    </td> <td>-2.75              </td> <td>7.5625                         </td>\n",
       "        </tr>\n",
       "        <tr>\n",
       "            <td>2    </td> <td>-1.75              </td> <td>3.0625                         </td>\n",
       "        </tr>\n",
       "        <tr>\n",
       "            <td>2    </td> <td>-1.75              </td> <td>3.0625                         </td>\n",
       "        </tr>\n",
       "        <tr>\n",
       "            <td>10   </td> <td>6.25               </td> <td>39.0625                        </td>\n",
       "        </tr>\n",
       "    </tbody>\n",
       "</table>"
      ],
      "text/plain": [
       "Value | Deviation from Mean | Squared Deviations from Average\n",
       "1     | -2.75               | 7.5625\n",
       "2     | -1.75               | 3.0625\n",
       "2     | -1.75               | 3.0625\n",
       "10    | 6.25                | 39.0625"
      ]
     },
     "execution_count": 54,
     "metadata": {},
     "output_type": "execute_result"
    }
   ],
   "source": [
    "# Step 3. The squared deviations from average\n",
    "\n",
    "squared_deviations = deviations ** 2\n",
    "calculation_steps = calculation_steps.with_column(\n",
    "   'Squared Deviations from Average', squared_deviations\n",
    "    )\n",
    "calculation_steps"
   ]
  },
  {
   "cell_type": "code",
   "execution_count": 56,
   "id": "700975c1-b3d3-44b9-b1ba-f312b35f5f9b",
   "metadata": {},
   "outputs": [
    {
     "data": {
      "text/plain": [
       "13.1875"
      ]
     },
     "execution_count": 56,
     "metadata": {},
     "output_type": "execute_result"
    }
   ],
   "source": [
    "# Step 4. Variance = the mean squared deviation from average\n",
    "\n",
    "variance = np.mean(squared_deviations)\n",
    "variance"
   ]
  },
  {
   "cell_type": "markdown",
   "id": "69a1e755-62db-41ef-91a4-9f449837f8dd",
   "metadata": {},
   "source": [
    "**Variance:** The mean squared deviation calculated above is called the variance of the values.\n",
    "\n",
    "While the variance does give us an idea of spread, it is not on the same scale as the original variable as its units are the square of the original. This makes interpretation very difficult.<br>\n",
    "So we return to the original scale by taking the positive square root of the variance."
   ]
  },
  {
   "cell_type": "code",
   "execution_count": 57,
   "id": "38fcf297-f90c-4d17-8edf-bd8af35b8f4e",
   "metadata": {},
   "outputs": [
    {
     "data": {
      "text/plain": [
       "3.6314597615834874"
      ]
     },
     "execution_count": 57,
     "metadata": {},
     "output_type": "execute_result"
    }
   ],
   "source": [
    "# Step 5.\n",
    "# Standard Deviation:    root mean squared deviation from average\n",
    "# Steps of calculation:   5    4      3       2             1\n",
    "\n",
    "sd = variance ** 0.5\n",
    "sd"
   ]
  },
  {
   "cell_type": "markdown",
   "id": "659df146-99a8-4b9b-9864-dd7c67570249",
   "metadata": {},
   "source": [
    "# Standard Deviation\n",
    "The quantity that we have just computed is called the standard deviation of the list, and is abbreviated as SD. It measures roughly how far the numbers on the list are from their average.\n",
    "\n",
    "**Definition.** The SD of a list is defined as the root mean square of deviations from average. That’s a mouthful. But read it from right to left and you have the sequence of steps in the calculation.\n",
    "\n",
    "**Computation.** The five steps described above result in the SD. You can also use the function np.std to compute the SD of values in an array:\n",
    "\n",
    "```\n",
    "np.std(array)\n",
    "```\n",
    "You can use this function instead of doing the 5 steps above."
   ]
  },
  {
   "cell_type": "code",
   "execution_count": 58,
   "id": "a993043d-39db-48d6-a589-90c7bc8c4a86",
   "metadata": {},
   "outputs": [
    {
     "data": {
      "text/plain": [
       "3.6314597615834874"
      ]
     },
     "execution_count": 58,
     "metadata": {},
     "output_type": "execute_result"
    }
   ],
   "source": [
    "np.std(calculation_steps.column('Value'))"
   ]
  },
  {
   "cell_type": "markdown",
   "id": "096861e9-2d22-4453-ad72-9beef687a900",
   "metadata": {},
   "source": [
    "# Working with the Standard Deviation\n",
    "Let's take the 2013 season of the nba table with players who earned $543,471 the lowest paid salary of a player in the NBA.  If salaries are reported lower those players sign with the team late in the season so we will ignore those salaries."
   ]
  },
  {
   "cell_type": "code",
   "execution_count": 91,
   "id": "1af9c8ac-f3f2-45a5-8dc2-55986566ed2f",
   "metadata": {},
   "outputs": [
    {
     "data": {
      "text/html": [
       "<table border=\"1\" class=\"dataframe\">\n",
       "    <thead>\n",
       "        <tr>\n",
       "            <th>rank</th> <th>name</th> <th>position</th> <th>team</th> <th>salary</th> <th>season</th>\n",
       "        </tr>\n",
       "    </thead>\n",
       "    <tbody>\n",
       "        <tr>\n",
       "            <td>1   </td> <td>Kobe Bryant      </td> <td>SF      </td> <td>Los Angeles Lakers</td> <td>30453805</td> <td>2013  </td>\n",
       "        </tr>\n",
       "        <tr>\n",
       "            <td>2   </td> <td>Dirk Nowitzki    </td> <td>F       </td> <td>Dallas Mavericks  </td> <td>20907128</td> <td>2013  </td>\n",
       "        </tr>\n",
       "        <tr>\n",
       "            <td>3   </td> <td>Amar'e Stoudemire</td> <td>C       </td> <td>New York Knicks   </td> <td>19948799</td> <td>2013  </td>\n",
       "        </tr>\n",
       "        <tr>\n",
       "            <td>4   </td> <td>Joe Johnson      </td> <td>G       </td> <td>Brooklyn Nets     </td> <td>19752645</td> <td>2013  </td>\n",
       "        </tr>\n",
       "        <tr>\n",
       "            <td>5   </td> <td>Carmelo Anthony  </td> <td>PF      </td> <td>New York Knicks   </td> <td>19444503</td> <td>2013  </td>\n",
       "        </tr>\n",
       "        <tr>\n",
       "            <td>6   </td> <td>Pau Gasol        </td> <td>PF      </td> <td>Los Angeles Lakers</td> <td>19285850</td> <td>2013  </td>\n",
       "        </tr>\n",
       "        <tr>\n",
       "            <td>7   </td> <td>Chris Bosh       </td> <td>PF      </td> <td>Miami Heat        </td> <td>19067500</td> <td>2013  </td>\n",
       "        </tr>\n",
       "        <tr>\n",
       "            <td>8   </td> <td>LeBron James     </td> <td>SF      </td> <td>Miami Heat        </td> <td>19067500</td> <td>2013  </td>\n",
       "        </tr>\n",
       "        <tr>\n",
       "            <td>9   </td> <td>Dwyane Wade      </td> <td>G       </td> <td>Miami Heat        </td> <td>18673000</td> <td>2013  </td>\n",
       "        </tr>\n",
       "        <tr>\n",
       "            <td>10  </td> <td>Chris Paul       </td> <td>PG      </td> <td>LA Clippers       </td> <td>18668431</td> <td>2013  </td>\n",
       "        </tr>\n",
       "    </tbody>\n",
       "</table>\n",
       "<p>... (580 rows omitted)</p>"
      ],
      "text/plain": [
       "rank | name              | position | team               | salary   | season\n",
       "1    | Kobe Bryant       | SF       | Los Angeles Lakers | 30453805 | 2013\n",
       "2    | Dirk Nowitzki     | F        | Dallas Mavericks   | 20907128 | 2013\n",
       "3    | Amar'e Stoudemire | C        | New York Knicks    | 19948799 | 2013\n",
       "4    | Joe Johnson       | G        | Brooklyn Nets      | 19752645 | 2013\n",
       "5    | Carmelo Anthony   | PF       | New York Knicks    | 19444503 | 2013\n",
       "6    | Pau Gasol         | PF       | Los Angeles Lakers | 19285850 | 2013\n",
       "7    | Chris Bosh        | PF       | Miami Heat         | 19067500 | 2013\n",
       "8    | LeBron James      | SF       | Miami Heat         | 19067500 | 2013\n",
       "9    | Dwyane Wade       | G        | Miami Heat         | 18673000 | 2013\n",
       "10   | Chris Paul        | PG       | LA Clippers        | 18668431 | 2013\n",
       "... (580 rows omitted)"
      ]
     },
     "execution_count": 91,
     "metadata": {},
     "output_type": "execute_result"
    }
   ],
   "source": [
    "nba13 = Table.read_table(\"nba.csv\").where('season', 2013).where('salary', are.above(543471))\n",
    "nba13 "
   ]
  },
  {
   "cell_type": "code",
   "execution_count": 92,
   "id": "e3e91b6e-067b-4608-93d2-b5b145e909f1",
   "metadata": {},
   "outputs": [
    {
     "data": {
      "text/plain": [
       "(0.55000000000000004, 30.453804999999999)"
      ]
     },
     "execution_count": 92,
     "metadata": {},
     "output_type": "execute_result"
    }
   ],
   "source": [
    "nba13 = nba13.with_columns('salary per million', nba13.column('salary')/1000000)\n",
    "nba13.column('salary per million').min(), nba13.column('salary per million').max()"
   ]
  },
  {
   "cell_type": "code",
   "execution_count": 93,
   "id": "e0d2f640-8ad3-4600-b112-382f5ce85e27",
   "metadata": {},
   "outputs": [
    {
     "data": {
      "image/png": "[encoded data removed]",
      "text/plain": [
       "<Figure size 600x400 with 1 Axes>"
      ]
     },
     "metadata": {},
     "output_type": "display_data"
    }
   ],
   "source": [
    "# Create the histogram of the player's salaries\n",
    "nba13.select('salary per million').hist(bins = np.arange(0, 35, 1))"
   ]
  },
  {
   "cell_type": "code",
   "execution_count": 94,
   "id": "b4f9a6a9-032a-464c-bd68-5d62e1b0ce99",
   "metadata": {},
   "outputs": [
    {
     "data": {
      "text/plain": [
       "3.7790272711864401"
      ]
     },
     "execution_count": 94,
     "metadata": {},
     "output_type": "execute_result"
    }
   ],
   "source": [
    "mean_salary = np.mean(nba13.column('salary per million'))\n",
    "mean_salary"
   ]
  },
  {
   "cell_type": "code",
   "execution_count": 95,
   "id": "731a707f-9913-4cf8-9c94-d238c4186369",
   "metadata": {},
   "outputs": [
    {
     "data": {
      "text/plain": [
       "4.2816135185151234"
      ]
     },
     "execution_count": 95,
     "metadata": {},
     "output_type": "execute_result"
    }
   ],
   "source": [
    "sd_salary = np.std(nba13.column('salary per million'))\n",
    "sd_salary"
   ]
  },
  {
   "cell_type": "code",
   "execution_count": 96,
   "id": "a77d96e8-99ba-499e-abdb-cdda0f5d99d3",
   "metadata": {},
   "outputs": [
    {
     "data": {
      "text/html": [
       "<table border=\"1\" class=\"dataframe\">\n",
       "    <thead>\n",
       "        <tr>\n",
       "            <th>rank</th> <th>name</th> <th>position</th> <th>team</th> <th>salary</th> <th>season</th> <th>salary per million</th>\n",
       "        </tr>\n",
       "    </thead>\n",
       "    <tbody>\n",
       "        <tr>\n",
       "            <td>1   </td> <td>Kobe Bryant      </td> <td>SF      </td> <td>Los Angeles Lakers</td> <td>30453805</td> <td>2013  </td> <td>30.4538           </td>\n",
       "        </tr>\n",
       "        <tr>\n",
       "            <td>2   </td> <td>Dirk Nowitzki    </td> <td>F       </td> <td>Dallas Mavericks  </td> <td>20907128</td> <td>2013  </td> <td>20.9071           </td>\n",
       "        </tr>\n",
       "        <tr>\n",
       "            <td>3   </td> <td>Amar'e Stoudemire</td> <td>C       </td> <td>New York Knicks   </td> <td>19948799</td> <td>2013  </td> <td>19.9488           </td>\n",
       "        </tr>\n",
       "    </tbody>\n",
       "</table>\n",
       "<p>... (587 rows omitted)</p>"
      ],
      "text/plain": [
       "<IPython.core.display.HTML object>"
      ]
     },
     "metadata": {},
     "output_type": "display_data"
    }
   ],
   "source": [
    "nba13.sort('salary per million', descending=True).show(3)"
   ]
  },
  {
   "cell_type": "code",
   "execution_count": 97,
   "id": "ce6e9818-881f-42e4-90a0-79c40cb6846f",
   "metadata": {},
   "outputs": [
    {
     "data": {
      "text/plain": [
       "26.22097272881356"
      ]
     },
     "execution_count": 97,
     "metadata": {},
     "output_type": "execute_result"
    }
   ],
   "source": [
    "30 - mean_salary"
   ]
  },
  {
   "cell_type": "code",
   "execution_count": 98,
   "id": "abdba863-ace0-4d5c-b40d-21f4f982df93",
   "metadata": {},
   "outputs": [
    {
     "data": {
      "text/plain": [
       "6.1240867760308904"
      ]
     },
     "execution_count": 98,
     "metadata": {},
     "output_type": "execute_result"
    }
   ],
   "source": [
    "(30 - mean_salary)/sd_salary"
   ]
  },
  {
   "cell_type": "markdown",
   "id": "57cdd98f-7015-477c-bd2f-9bd526c44807",
   "metadata": {},
   "source": [
    "The highest paid player, Kobe Bryant, earned 6.12 standard deviations above the average."
   ]
  },
  {
   "cell_type": "code",
   "execution_count": 99,
   "id": "14ff201c-bda0-40b7-a093-ff49cc773a63",
   "metadata": {},
   "outputs": [
    {
     "data": {
      "text/html": [
       "<table border=\"1\" class=\"dataframe\">\n",
       "    <thead>\n",
       "        <tr>\n",
       "            <th>rank</th> <th>name</th> <th>position</th> <th>team</th> <th>salary</th> <th>season</th> <th>salary per million</th>\n",
       "        </tr>\n",
       "    </thead>\n",
       "    <tbody>\n",
       "        <tr>\n",
       "            <td>589 </td> <td>Orlando Johnson      </td> <td>SG      </td> <td>Indiana Pacers        </td> <td>550000</td> <td>2013  </td> <td>0.55              </td>\n",
       "        </tr>\n",
       "        <tr>\n",
       "            <td>590 </td> <td>Will Barton          </td> <td>SF      </td> <td>Portland Trail Blazers</td> <td>550000</td> <td>2013  </td> <td>0.55              </td>\n",
       "        </tr>\n",
       "        <tr>\n",
       "            <td>588 </td> <td>Chris Douglas-Roberts</td> <td>SG      </td> <td>Dallas Mavericks      </td> <td>582995</td> <td>2013  </td> <td>0.582995          </td>\n",
       "        </tr>\n",
       "    </tbody>\n",
       "</table>\n",
       "<p>... (587 rows omitted)</p>"
      ],
      "text/plain": [
       "<IPython.core.display.HTML object>"
      ]
     },
     "metadata": {},
     "output_type": "display_data"
    }
   ],
   "source": [
    "nba13.sort('salary per million').show(3)"
   ]
  },
  {
   "cell_type": "code",
   "execution_count": 100,
   "id": "da6e5ab2-19b3-45bc-ad80-e32e05b370b7",
   "metadata": {},
   "outputs": [
    {
     "data": {
      "text/plain": [
       "-0.7541613126040102"
      ]
     },
     "execution_count": 100,
     "metadata": {},
     "output_type": "execute_result"
    }
   ],
   "source": [
    "(0.55 - mean_salary)/sd_salary"
   ]
  },
  {
   "cell_type": "code",
   "execution_count": 101,
   "id": "1d18b270-774b-43da-bd76-d9fbd8bb2544",
   "metadata": {},
   "outputs": [],
   "source": [
    "lower_limt = mean_salary - 2 * sd_salary"
   ]
  },
  {
   "cell_type": "code",
   "execution_count": 102,
   "id": "85f438c2-d3d0-40bd-95c2-1928fde20242",
   "metadata": {},
   "outputs": [],
   "source": [
    "upper_limit = mean_salary + 2 * sd_salary"
   ]
  },
  {
   "cell_type": "code",
   "execution_count": 103,
   "id": "700cd290-c92f-4ca8-9cfe-2b0c8e420d02",
   "metadata": {},
   "outputs": [
    {
     "data": {
      "text/plain": [
       "0.9305084745762712"
      ]
     },
     "execution_count": 103,
     "metadata": {},
     "output_type": "execute_result"
    }
   ],
   "source": [
    "nba13.where('salary per million', are.between(lower_limt, upper_limit)).num_rows/nba13.num_rows"
   ]
  },
  {
   "attachments": {
    "4271d623-1064-49ab-805e-30d6dfdae8de.png": {
     "image/png": "[encoded data removed]"
    }
   },
   "cell_type": "markdown",
   "id": "8ab579a4-6900-47e8-a369-a20ccb676470",
   "metadata": {},
   "source": [
    "# When the Data is not Symmetric  - Chebychev's bounds\n",
    "![{B56CAC7A-E8F9-4779-9331-C6AC50BA3FE6}.png](attachment:4271d623-1064-49ab-805e-30d6dfdae8de.png)"
   ]
  },
  {
   "attachments": {
    "8c1fac20-043a-427f-b113-ba27fadeb3bc.png": {
     "image/png": "[encoded data removed]"
    }
   },
   "cell_type": "markdown",
   "id": "a043a6fa-d93f-4e7a-a679-29155bd37044",
   "metadata": {},
   "source": [
    "# Z Score\n",
    "To determine the distance a value is from the mean we use the Z-score\n",
    "![image.png](attachment:8c1fac20-043a-427f-b113-ba27fadeb3bc.png)"
   ]
  },
  {
   "cell_type": "code",
   "execution_count": 104,
   "id": "1b770624-689a-4d32-9942-70ff417f78c3",
   "metadata": {},
   "outputs": [
    {
     "data": {
      "text/html": [
       "<table border=\"1\" class=\"dataframe\">\n",
       "    <thead>\n",
       "        <tr>\n",
       "            <th>Birth Weight</th> <th>Gestational Days</th> <th>Maternal Age</th> <th>Maternal Height</th> <th>Maternal Pregnancy Weight</th> <th>Maternal Smoker</th>\n",
       "        </tr>\n",
       "    </thead>\n",
       "    <tbody>\n",
       "        <tr>\n",
       "            <td>120         </td> <td>284             </td> <td>27          </td> <td>62             </td> <td>100                      </td> <td>False          </td>\n",
       "        </tr>\n",
       "        <tr>\n",
       "            <td>113         </td> <td>282             </td> <td>33          </td> <td>64             </td> <td>135                      </td> <td>False          </td>\n",
       "        </tr>\n",
       "        <tr>\n",
       "            <td>128         </td> <td>279             </td> <td>28          </td> <td>64             </td> <td>115                      </td> <td>True           </td>\n",
       "        </tr>\n",
       "        <tr>\n",
       "            <td>108         </td> <td>282             </td> <td>23          </td> <td>67             </td> <td>125                      </td> <td>True           </td>\n",
       "        </tr>\n",
       "        <tr>\n",
       "            <td>136         </td> <td>286             </td> <td>25          </td> <td>62             </td> <td>93                       </td> <td>False          </td>\n",
       "        </tr>\n",
       "        <tr>\n",
       "            <td>138         </td> <td>244             </td> <td>33          </td> <td>62             </td> <td>178                      </td> <td>False          </td>\n",
       "        </tr>\n",
       "        <tr>\n",
       "            <td>132         </td> <td>245             </td> <td>23          </td> <td>65             </td> <td>140                      </td> <td>False          </td>\n",
       "        </tr>\n",
       "        <tr>\n",
       "            <td>120         </td> <td>289             </td> <td>25          </td> <td>62             </td> <td>125                      </td> <td>False          </td>\n",
       "        </tr>\n",
       "        <tr>\n",
       "            <td>143         </td> <td>299             </td> <td>30          </td> <td>66             </td> <td>136                      </td> <td>True           </td>\n",
       "        </tr>\n",
       "        <tr>\n",
       "            <td>140         </td> <td>351             </td> <td>27          </td> <td>68             </td> <td>120                      </td> <td>False          </td>\n",
       "        </tr>\n",
       "    </tbody>\n",
       "</table>\n",
       "<p>... (1164 rows omitted)</p>"
      ],
      "text/plain": [
       "Birth Weight | Gestational Days | Maternal Age | Maternal Height | Maternal Pregnancy Weight | Maternal Smoker\n",
       "120          | 284              | 27           | 62              | 100                       | False\n",
       "113          | 282              | 33           | 64              | 135                       | False\n",
       "128          | 279              | 28           | 64              | 115                       | True\n",
       "108          | 282              | 23           | 67              | 125                       | True\n",
       "136          | 286              | 25           | 62              | 93                        | False\n",
       "138          | 244              | 33           | 62              | 178                       | False\n",
       "132          | 245              | 23           | 65              | 140                       | False\n",
       "120          | 289              | 25           | 62              | 125                       | False\n",
       "143          | 299              | 30           | 66              | 136                       | True\n",
       "140          | 351              | 27           | 68              | 120                       | False\n",
       "... (1164 rows omitted)"
      ]
     },
     "execution_count": 104,
     "metadata": {},
     "output_type": "execute_result"
    }
   ],
   "source": [
    "births = Table.read_table('baby.csv')\n",
    "births"
   ]
  },
  {
   "cell_type": "code",
   "execution_count": 105,
   "id": "d3f7120b-f366-4c57-a091-93072c35c7df",
   "metadata": {},
   "outputs": [],
   "source": [
    "mh_mean = np.mean(births.column('Maternal Height'))\n",
    "mh_std = np.std(births.column('Maternal Height'))"
   ]
  },
  {
   "cell_type": "code",
   "execution_count": 107,
   "id": "ea10d04c-4773-4a0c-9c63-be864ccf4db8",
   "metadata": {},
   "outputs": [
    {
     "data": {
      "text/html": [
       "<table border=\"1\" class=\"dataframe\">\n",
       "    <thead>\n",
       "        <tr>\n",
       "            <th>Birth Weight</th> <th>Gestational Days</th> <th>Maternal Age</th> <th>Maternal Height</th> <th>Maternal Pregnancy Weight</th> <th>Maternal Smoker</th> <th>Height Z-scores</th>\n",
       "        </tr>\n",
       "    </thead>\n",
       "    <tbody>\n",
       "        <tr>\n",
       "            <td>120         </td> <td>284             </td> <td>27          </td> <td>62             </td> <td>100                      </td> <td>False          </td> <td>-0.811637      </td>\n",
       "        </tr>\n",
       "        <tr>\n",
       "            <td>113         </td> <td>282             </td> <td>33          </td> <td>64             </td> <td>135                      </td> <td>False          </td> <td>-0.0195656     </td>\n",
       "        </tr>\n",
       "        <tr>\n",
       "            <td>128         </td> <td>279             </td> <td>28          </td> <td>64             </td> <td>115                      </td> <td>True           </td> <td>-0.0195656     </td>\n",
       "        </tr>\n",
       "        <tr>\n",
       "            <td>108         </td> <td>282             </td> <td>23          </td> <td>67             </td> <td>125                      </td> <td>True           </td> <td>1.16854        </td>\n",
       "        </tr>\n",
       "        <tr>\n",
       "            <td>136         </td> <td>286             </td> <td>25          </td> <td>62             </td> <td>93                       </td> <td>False          </td> <td>-0.811637      </td>\n",
       "        </tr>\n",
       "        <tr>\n",
       "            <td>138         </td> <td>244             </td> <td>33          </td> <td>62             </td> <td>178                      </td> <td>False          </td> <td>-0.811637      </td>\n",
       "        </tr>\n",
       "        <tr>\n",
       "            <td>132         </td> <td>245             </td> <td>23          </td> <td>65             </td> <td>140                      </td> <td>False          </td> <td>0.37647        </td>\n",
       "        </tr>\n",
       "        <tr>\n",
       "            <td>120         </td> <td>289             </td> <td>25          </td> <td>62             </td> <td>125                      </td> <td>False          </td> <td>-0.811637      </td>\n",
       "        </tr>\n",
       "        <tr>\n",
       "            <td>143         </td> <td>299             </td> <td>30          </td> <td>66             </td> <td>136                      </td> <td>True           </td> <td>0.772506       </td>\n",
       "        </tr>\n",
       "        <tr>\n",
       "            <td>140         </td> <td>351             </td> <td>27          </td> <td>68             </td> <td>120                      </td> <td>False          </td> <td>1.56458        </td>\n",
       "        </tr>\n",
       "    </tbody>\n",
       "</table>\n",
       "<p>... (1164 rows omitted)</p>"
      ],
      "text/plain": [
       "Birth Weight | Gestational Days | Maternal Age | Maternal Height | Maternal Pregnancy Weight | Maternal Smoker | Height Z-scores\n",
       "120          | 284              | 27           | 62              | 100                       | False           | -0.811637\n",
       "113          | 282              | 33           | 64              | 135                       | False           | -0.0195656\n",
       "128          | 279              | 28           | 64              | 115                       | True            | -0.0195656\n",
       "108          | 282              | 23           | 67              | 125                       | True            | 1.16854\n",
       "136          | 286              | 25           | 62              | 93                        | False           | -0.811637\n",
       "138          | 244              | 33           | 62              | 178                       | False           | -0.811637\n",
       "132          | 245              | 23           | 65              | 140                       | False           | 0.37647\n",
       "120          | 289              | 25           | 62              | 125                       | False           | -0.811637\n",
       "143          | 299              | 30           | 66              | 136                       | True            | 0.772506\n",
       "140          | 351              | 27           | 68              | 120                       | False           | 1.56458\n",
       "... (1164 rows omitted)"
      ]
     },
     "execution_count": 107,
     "metadata": {},
     "output_type": "execute_result"
    }
   ],
   "source": [
    "births = births.with_columns('Height Z-scores', (births.column('Maternal Height') - mh_mean)/mh_std)\n",
    "births"
   ]
  },
  {
   "cell_type": "code",
   "execution_count": 110,
   "id": "16fbf9f4-c66e-44d3-aaa2-b3ef2cc885bb",
   "metadata": {},
   "outputs": [
    {
     "data": {
      "text/plain": [
       "0.9965928449744463"
      ]
     },
     "execution_count": 110,
     "metadata": {},
     "output_type": "execute_result"
    }
   ],
   "source": [
    "within_3stds = births.where('Height Z-scores', are.between(-3, 3))\n",
    "within_3stds.num_rows/births.num_rows"
   ]
  },
  {
   "cell_type": "code",
   "execution_count": null,
   "id": "909d5ac8-77d9-4a21-8177-46fd67d0d74a",
   "metadata": {},
   "outputs": [],
   "source": []
  }
 ],
 "metadata": {
  "kernelspec": {
   "display_name": "Python 3 (ipykernel)",
   "language": "python",
   "name": "python3"
  },
  "language_info": {
   "codemirror_mode": {
    "name": "ipython",
    "version": 3
   },
   "file_extension": ".py",
   "mimetype": "text/x-python",
   "name": "python",
   "nbconvert_exporter": "python",
   "pygments_lexer": "ipython3",
   "version": "3.11.13"
  }
 },
 "nbformat": 4,
 "nbformat_minor": 5
}
