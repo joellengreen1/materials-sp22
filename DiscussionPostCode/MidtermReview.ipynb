{
 "cells": [
  {
   "cell_type": "markdown",
   "id": "9b1dfc04-1a34-481a-9533-8004184adf18",
   "metadata": {},
   "source": [
    "# Midterm Jupyter Notebook Worksheet\n",
    "This is a review for the Midterm exam that will open 10/13/2025 and closes 10/20/2025."
   ]
  },
  {
   "cell_type": "code",
   "execution_count": 1,
   "id": "bac1a54d-698d-4b58-81ba-87368884d314",
   "metadata": {},
   "outputs": [],
   "source": [
    "# Run this cell to set up the notebook, but please don't change it.\n",
    "\n",
    "# These lines import the Numpy and Datascience modules.\n",
    "import numpy as np\n",
    "from datascience import *\n",
    "\n",
    "\n",
    "# These lines do some fancy plotting magic.\n",
    "import matplotlib\n",
    "%matplotlib inline\n",
    "import matplotlib.pyplot as plt\n",
    "plt.style.use('fivethirtyeight')\n",
    "import warnings\n",
    "warnings.simplefilter('ignore', FutureWarning)"
   ]
  },
  {
   "cell_type": "code",
   "execution_count": null,
   "id": "779a3ce1-f734-4efd-b410-7b9347770032",
   "metadata": {},
   "outputs": [],
   "source": []
  }
 ],
 "metadata": {
  "kernelspec": {
   "display_name": "Python 3 (ipykernel)",
   "language": "python",
   "name": "python3"
  },
  "language_info": {
   "codemirror_mode": {
    "name": "ipython",
    "version": 3
   },
   "file_extension": ".py",
   "mimetype": "text/x-python",
   "name": "python",
   "nbconvert_exporter": "python",
   "pygments_lexer": "ipython3",
   "version": "3.11.13"
  }
 },
 "nbformat": 4,
 "nbformat_minor": 5
}
