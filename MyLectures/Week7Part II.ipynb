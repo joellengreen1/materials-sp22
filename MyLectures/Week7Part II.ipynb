{
 "cells": [
  {
   "cell_type": "markdown",
   "id": "aed967ca-313e-4495-9598-4cfb656b299e",
   "metadata": {},
   "source": [
    "# Week 7 Lecture Part II\n",
    "In this lecture we will apply the random sampling method to a table."
   ]
  },
  {
   "cell_type": "code",
   "execution_count": null,
   "id": "cdc73dd6-9145-492b-aefe-ff2b9afda39d",
   "metadata": {},
   "outputs": [],
   "source": [
    "from datascience import *\n",
    "import numpy as np\n",
    "%matplotlib inline\n",
    "import matplotlib.pyplot as plots\n",
    "plots.style.use('fivethirtyeight')\n",
    "import warnings\n",
    "warnings.simplefilter(action=\"ignore\", category=FutureWarning)\n",
    "\n",
    "from urllib.request import urlopen \n",
    "import re\n",
    "def read_url(url): \n",
    "    return re.sub('\\\\s+', ' ', urlopen(url).read().decode())"
   ]
  },
  {
   "cell_type": "code",
   "execution_count": null,
   "id": "7cfc1fa5-7eba-483d-a828-3ed9e3228e54",
   "metadata": {},
   "outputs": [],
   "source": [
    "# read the file NB_SALARIES2015.csv into a table\n"
   ]
  },
  {
   "cell_type": "code",
   "execution_count": null,
   "id": "4fa5af21-f24c-4ef5-aa09-1fea1ebe68ad",
   "metadata": {},
   "outputs": [],
   "source": [
    "# there at 417 player take a simple random sample of 20 records.\n"
   ]
  },
  {
   "cell_type": "code",
   "execution_count": null,
   "id": "3d3b673e-f3ef-46b6-9938-51a30198a1c3",
   "metadata": {},
   "outputs": [],
   "source": [
    "#Take a simple random sample of 20 players in the nba dataset.\n"
   ]
  },
  {
   "cell_type": "code",
   "execution_count": null,
   "id": "162b5ec4-202b-4ca6-b23e-53e3962aaae8",
   "metadata": {},
   "outputs": [],
   "source": []
  },
  {
   "cell_type": "code",
   "execution_count": null,
   "id": "1438d566-9208-491e-b706-19da87405326",
   "metadata": {},
   "outputs": [],
   "source": [
    "# get systematic random sample\n"
   ]
  },
  {
   "cell_type": "code",
   "execution_count": null,
   "id": "670947ab-cdc5-41e9-a35b-a26bcd904df1",
   "metadata": {},
   "outputs": [],
   "source": []
  }
 ],
 "metadata": {
  "kernelspec": {
   "display_name": "Python 3 (ipykernel)",
   "language": "python",
   "name": "python3"
  },
  "language_info": {
   "codemirror_mode": {
    "name": "ipython",
    "version": 3
   },
   "file_extension": ".py",
   "mimetype": "text/x-python",
   "name": "python",
   "nbconvert_exporter": "python",
   "pygments_lexer": "ipython3",
   "version": "3.11.13"
  }
 },
 "nbformat": 4,
 "nbformat_minor": 5
}
