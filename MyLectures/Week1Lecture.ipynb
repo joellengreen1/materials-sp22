{
 "cells": [
  {
   "cell_type": "markdown",
   "id": "4e0a3fad",
   "metadata": {},
   "source": [
    "# Chapter 1\n",
    "\n",
    "This Jupyter Notebook is to be used to following the code in Chapter 1 of the textbook.  Add new cells by clicking the + sign and enter code to test out what you entered.  The first code cell below should be run in order to run all the other code in the textbook.\n",
    "\n",
    "__[Section 1.3](https://inferentialthinking.com/chapters/01/3/Plotting_the_Classics.html)__\n"
   ]
  },
  {
   "cell_type": "code",
   "execution_count": 1,
   "id": "1a30558f",
   "metadata": {},
   "outputs": [],
   "source": [
    "from datascience import *\n",
    "import numpy as np\n",
    "%matplotlib inline\n",
    "import matplotlib.pyplot as plots\n",
    "plots.style.use('fivethirtyeight')\n",
    "import warnings\n",
    "warnings.simplefilter(action=\"ignore\", category=FutureWarning)\n",
    "\n",
    "from urllib.request import urlopen \n",
    "import re\n",
    "def read_url(url): \n",
    "    return re.sub('\\\\s+', ' ', urlopen(url).read().decode())"
   ]
  },
  {
   "cell_type": "markdown",
   "id": "5c3b8558-09bd-471a-8ef2-7a699a108dba",
   "metadata": {},
   "source": [
    "# Section 1.3\n",
    "First, run the code cell below.  The analysis is about The Adventures of Huckleberry Finn."
   ]
  },
  {
   "cell_type": "code",
   "execution_count": null,
   "id": "31b5ec7c",
   "metadata": {},
   "outputs": [],
   "source": []
  },
  {
   "cell_type": "code",
   "execution_count": null,
   "id": "635e6ba7",
   "metadata": {},
   "outputs": [],
   "source": []
  },
  {
   "cell_type": "markdown",
   "id": "f8d2aef7-d574-4f23-aba9-9e6fd64444fd",
   "metadata": {},
   "source": [
    "# Section 1.3.1 Literary Characters"
   ]
  },
  {
   "cell_type": "code",
   "execution_count": null,
   "id": "e1c59155",
   "metadata": {},
   "outputs": [],
   "source": []
  },
  {
   "cell_type": "markdown",
   "id": "2bdb1207-9ae3-4157-9301-7d9c738c3a72",
   "metadata": {},
   "source": [
    "# Analysis about Little Women"
   ]
  },
  {
   "cell_type": "code",
   "execution_count": null,
   "id": "561e78c5",
   "metadata": {},
   "outputs": [],
   "source": []
  },
  {
   "cell_type": "code",
   "execution_count": null,
   "id": "1d687e1d",
   "metadata": {},
   "outputs": [],
   "source": []
  },
  {
   "cell_type": "markdown",
   "id": "0c65bf4f-406c-4378-b043-208cba0b305d",
   "metadata": {},
   "source": [
    "# Section 1.3.2"
   ]
  },
  {
   "cell_type": "code",
   "execution_count": null,
   "id": "3f5b101e-aa61-4eab-b551-43e1661da1f1",
   "metadata": {},
   "outputs": [],
   "source": []
  },
  {
   "cell_type": "code",
   "execution_count": 2,
   "id": "2eae3ed8-70b4-474a-9eca-78e2caf8bf9d",
   "metadata": {},
   "outputs": [
    {
     "ename": "NameError",
     "evalue": "name 'chars_periods_huck_finn' is not defined",
     "output_type": "error",
     "traceback": [
      "\u001b[0;31m---------------------------------------------------------------------------\u001b[0m",
      "\u001b[0;31mNameError\u001b[0m                                 Traceback (most recent call last)",
      "Cell \u001b[0;32mIn[2], line 1\u001b[0m\n\u001b[0;32m----> 1\u001b[0m \u001b[43mchars_periods_huck_finn\u001b[49m\n",
      "\u001b[0;31mNameError\u001b[0m: name 'chars_periods_huck_finn' is not defined"
     ]
    }
   ],
   "source": [
    "chars_periods_huck_finn"
   ]
  },
  {
   "cell_type": "code",
   "execution_count": null,
   "id": "220a62a5-cacd-42d7-8f78-553c77ee4f79",
   "metadata": {},
   "outputs": [],
   "source": []
  },
  {
   "cell_type": "code",
   "execution_count": null,
   "id": "988183eb-2b27-406f-abbc-0f25c39a9d3a",
   "metadata": {},
   "outputs": [],
   "source": []
  },
  {
   "cell_type": "markdown",
   "id": "5ab0021c-040f-4e19-b1fd-45150d664acb",
   "metadata": {},
   "source": [
    "# Python Code Basics\n",
    "We will start with the print command.  It will print out is in quotation marks."
   ]
  },
  {
   "cell_type": "code",
   "execution_count": null,
   "id": "abc5435e-78d8-4296-9530-9d806d29658a",
   "metadata": {},
   "outputs": [],
   "source": []
  },
  {
   "cell_type": "code",
   "execution_count": null,
   "id": "dec57175-84a9-4c9c-9051-94f194bd199d",
   "metadata": {},
   "outputs": [],
   "source": []
  },
  {
   "cell_type": "code",
   "execution_count": null,
   "id": "12d3199a-06a0-4ffd-a823-b6492d1ed635",
   "metadata": {},
   "outputs": [],
   "source": []
  },
  {
   "cell_type": "code",
   "execution_count": null,
   "id": "d06d93ea-3527-44ac-a6a9-4e93b8aa3723",
   "metadata": {},
   "outputs": [],
   "source": []
  },
  {
   "cell_type": "markdown",
   "id": "9b4b034c-1507-4068-a15e-084b61b45180",
   "metadata": {},
   "source": [
    "# Errors\n",
    "Not every piece of code you enter will be correct sometimes, it result in an error.  Then tat appends we need to find what happened.\n"
   ]
  },
  {
   "cell_type": "code",
   "execution_count": null,
   "id": "7b6cd842-e6bf-413e-b519-38dedc5e83c5",
   "metadata": {},
   "outputs": [],
   "source": []
  },
  {
   "cell_type": "code",
   "execution_count": null,
   "id": "173a3d38-7546-4b69-9d89-a0de9261acee",
   "metadata": {},
   "outputs": [],
   "source": [
    "print(\"My name is JoEllen.\")"
   ]
  },
  {
   "cell_type": "markdown",
   "id": "e3b5c5e1-2aa4-4b46-a1b1-0904829b1d6f",
   "metadata": {},
   "source": [
    "# Arithmetic Operations ans Comments\n",
    "\n",
    "- Multiplication *<br>\n",
    "- Exponential **<br>\n",
    "- Divide /<br>\n",
    "- Addition + <br>\n",
    "- Subtraction -\n",
    "- Comments #\n",
    "\n",
    "**Examples**\n",
    "```\n",
    "# Exponential\n",
    "2**4  # 16 is the answer\n",
    "# Multiplication\n",
    "2*4  # 8 is the anwser\n",
    "# Division\n",
    "16/8  # 2 is the anwser\n",
    "# Addition\n",
    "10 + 2  # 12 is the answer\n",
    "# Subtraction\n",
    "20-4  #16 is the answer\n",
    "```\n"
   ]
  },
  {
   "cell_type": "code",
   "execution_count": null,
   "id": "86f3177b-b491-43d4-94b5-8e25b6c73bd6",
   "metadata": {},
   "outputs": [],
   "source": []
  },
  {
   "cell_type": "code",
   "execution_count": null,
   "id": "d00c3bbf-97e7-4927-ab92-4b988ed9164e",
   "metadata": {},
   "outputs": [],
   "source": []
  },
  {
   "cell_type": "code",
   "execution_count": null,
   "id": "6880f1d1-bae4-4b49-bbb1-086e42f1e7b5",
   "metadata": {},
   "outputs": [],
   "source": []
  },
  {
   "cell_type": "code",
   "execution_count": null,
   "id": "e75ad894-d3c1-4a5a-a3f1-5610f5613be9",
   "metadata": {},
   "outputs": [],
   "source": []
  },
  {
   "cell_type": "code",
   "execution_count": null,
   "id": "e47af734-7295-40e0-977a-f7442a45242c",
   "metadata": {},
   "outputs": [],
   "source": []
  },
  {
   "cell_type": "markdown",
   "id": "b9ec4081-ba7a-4cbf-a54c-2b85087a6dcf",
   "metadata": {},
   "source": [
    "# Order of Operations\n",
    "**PEMDAS**\n",
    "- Parentheses\n",
    "- Exponents\n",
    "- Multiplication and Division from left to right\n",
    "- Addition and subtraction from left to right\n",
    "\n",
    "4**2 + 8 + 3**2 / 3\n",
    "[[(3 + 2) - 7]*5 + 2*([6 *3] - 13)"
   ]
  },
  {
   "cell_type": "code",
   "execution_count": null,
   "id": "f7931ab1-52c9-4aa2-ab28-105e5f771f17",
   "metadata": {},
   "outputs": [],
   "source": []
  },
  {
   "cell_type": "code",
   "execution_count": null,
   "id": "03883834-b920-418d-b82a-0290b93fb99d",
   "metadata": {},
   "outputs": [],
   "source": []
  },
  {
   "cell_type": "markdown",
   "id": "0153bb9f-2497-4c6a-a9bd-cdf07e680396",
   "metadata": {},
   "source": [
    "# PEMDAS - Order of operations\n",
    "The computer will use the math order of operations to do the calculations<br>\n",
    "- Parentheses\n",
    "- Exponents\n",
    "- Multiplication and Division from left to right\n",
    "- Addition and Subtraction from left to right\n",
    "\n",
    "**Example**\n",
    "[(3+2) - 7]*5 + 2([6 * 3) - 13)"
   ]
  },
  {
   "cell_type": "code",
   "execution_count": null,
   "id": "97563961-49f2-4654-8ddf-c2febb28b22d",
   "metadata": {},
   "outputs": [],
   "source": []
  },
  {
   "cell_type": "code",
   "execution_count": null,
   "id": "4b229fe8-5d3e-4c46-abde-ef2f5bd337be",
   "metadata": {},
   "outputs": [],
   "source": []
  },
  {
   "cell_type": "markdown",
   "id": "bfd0240a-c0f8-4668-9c60-624704abb39e",
   "metadata": {},
   "source": [
    "# Variable Names\n",
    "Starts with a letter not a number.  It can take the form of camel case myName or myname both of theses variable are okay but not the same.\n",
    "- myName = \"JoEllen\"\n",
    "- myname = \"Amy\"\n",
    "- my_name = \"Will\"\n",
    "\n",
    "```\n",
    "print(myName)\n",
    "print(myname)\n",
    "print(my_name)\n",
    "```"
   ]
  },
  {
   "cell_type": "code",
   "execution_count": null,
   "id": "cf111cec-dd10-4fbe-8500-1e34452e5259",
   "metadata": {},
   "outputs": [],
   "source": []
  },
  {
   "cell_type": "code",
   "execution_count": null,
   "id": "0c1c8140-01ea-4209-869e-9db193e220e5",
   "metadata": {},
   "outputs": [],
   "source": []
  },
  {
   "cell_type": "markdown",
   "id": "11a709c9-bc64-4970-9538-8febde78364f",
   "metadata": {},
   "source": [
    "# Payroll Calculations\n",
    "```\n",
    "hours = 40\n",
    "rate = 25.50\n",
    "week = hours * rate\n",
    "print(\"She earned $\",week,\"this week.\")\n",
    "```"
   ]
  },
  {
   "cell_type": "code",
   "execution_count": null,
   "id": "597b09a1-8f94-4d6d-b952-ba39666a251d",
   "metadata": {},
   "outputs": [],
   "source": []
  },
  {
   "cell_type": "markdown",
   "id": "a1298f45-4ea9-4d6e-a803-8eb563eae8e6",
   "metadata": {},
   "source": [
    "# Nested Expression\n",
    "Where you have more than one operation in one of code.  Suppose you had two students with 3 exam scores.  Amy scored the following {89, 77, 93}.<br>\n",
    "Eloise scored {99, 100, 65}.  In one line of code you want to find the maximum score for the two students.\n",
    "\n",
    "```\n",
    "max_score = max(max(89, 77, 93), max(99, 100, 65))\n",
    "max_score\n",
    "```\n"
   ]
  },
  {
   "cell_type": "code",
   "execution_count": null,
   "id": "2b64c6bc-1103-48cf-9a87-447cdd702800",
   "metadata": {},
   "outputs": [],
   "source": []
  },
  {
   "cell_type": "markdown",
   "id": "677ad795-53b0-4dac-87e1-4eaf76a47b47",
   "metadata": {},
   "source": [
    "#  What if you wanted to find the minimum score for the two students"
   ]
  },
  {
   "cell_type": "code",
   "execution_count": null,
   "id": "d8b9ef4e-86cd-465e-bc3d-50d545efcee5",
   "metadata": {},
   "outputs": [],
   "source": []
  },
  {
   "cell_type": "markdown",
   "id": "a2a60dbc-164e-44d0-8055-0245432c63b2",
   "metadata": {},
   "source": [
    "In your lab and homework assignment you will see the following.\n",
    "```\n",
    "min_score = ...\n",
    "```\n",
    "This indicates you need to replace the three dots with code.  You will also see code with the following.\n",
    "```\n",
    "grader.check(\"q3_1_2\")\n",
    "```\n",
    "run the code cell to check if you are doing the problem correctly.  It will tell you if you in the right direction; but note there is a hidden test that you do not see that can be wrong.  So even if you pass some of the test you can still get the answer incorrect.  I know this can be flustrating.  Use the hints if given and take time to read the question carefully. Do not wait until the last minute to do your Lab and Homework assignment.  You can work with a classmate on the Lab assignment but not the Homework assignment."
   ]
  },
  {
   "cell_type": "code",
   "execution_count": null,
   "id": "5cfe2021-b251-4ddb-8556-be245abfb09d",
   "metadata": {},
   "outputs": [],
   "source": []
  }
 ],
 "metadata": {
  "kernelspec": {
   "display_name": "Python 3 (ipykernel)",
   "language": "python",
   "name": "python3"
  },
  "language_info": {
   "codemirror_mode": {
    "name": "ipython",
    "version": 3
   },
   "file_extension": ".py",
   "mimetype": "text/x-python",
   "name": "python",
   "nbconvert_exporter": "python",
   "pygments_lexer": "ipython3",
   "version": "3.11.13"
  }
 },
 "nbformat": 4,
 "nbformat_minor": 5
}
