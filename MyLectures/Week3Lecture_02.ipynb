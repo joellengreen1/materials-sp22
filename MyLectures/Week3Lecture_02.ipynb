{
 "cells": [
  {
   "cell_type": "markdown",
   "id": "0c965460-355b-4fd9-90a6-cab938ac1ebb",
   "metadata": {},
   "source": [
    "# Week 3 Lecture - Visualizations\n",
    "During this week's lecture you will learn to create data visualizations.  First, run the code cell below."
   ]
  },
  {
   "cell_type": "code",
   "execution_count": 1,
   "id": "5919f839-a4fc-4213-bb3b-a5dc8c0a86d5",
   "metadata": {},
   "outputs": [],
   "source": [
    "from datascience import *\n",
    "import numpy as np\n",
    "%matplotlib inline\n",
    "import matplotlib.pyplot as plots\n",
    "plots.style.use('fivethirtyeight')\n",
    "import warnings\n",
    "warnings.simplefilter(action=\"ignore\", category=FutureWarning)\n",
    "\n",
    "from urllib.request import urlopen \n",
    "import re\n",
    "def read_url(url): \n",
    "    return re.sub('\\\\s+', ' ', urlopen(url).read().decode())"
   ]
  },
  {
   "cell_type": "code",
   "execution_count": 3,
   "id": "924c6ec6-2356-4d52-8850-aed469100c2c",
   "metadata": {},
   "outputs": [
    {
     "data": {
      "text/html": [
       "<table border=\"1\" class=\"dataframe\">\n",
       "    <thead>\n",
       "        <tr>\n",
       "            <th>Actor</th> <th>Total Gross</th> <th>Number of Movies</th> <th>Average per Movie</th> <th>#1 Movie</th> <th>Gross</th>\n",
       "        </tr>\n",
       "    </thead>\n",
       "    <tbody>\n",
       "        <tr>\n",
       "            <td>Harrison Ford     </td> <td>4871.7     </td> <td>41              </td> <td>118.8            </td> <td>Star Wars: The Force Awakens</td> <td>936.7</td>\n",
       "        </tr>\n",
       "        <tr>\n",
       "            <td>Samuel L. Jackson </td> <td>4772.8     </td> <td>69              </td> <td>69.2             </td> <td>The Avengers                </td> <td>623.4</td>\n",
       "        </tr>\n",
       "        <tr>\n",
       "            <td>Morgan Freeman    </td> <td>4468.3     </td> <td>61              </td> <td>73.3             </td> <td>The Dark Knight             </td> <td>534.9</td>\n",
       "        </tr>\n",
       "        <tr>\n",
       "            <td>Tom Hanks         </td> <td>4340.8     </td> <td>44              </td> <td>98.7             </td> <td>Toy Story 3                 </td> <td>415  </td>\n",
       "        </tr>\n",
       "        <tr>\n",
       "            <td>Robert Downey, Jr.</td> <td>3947.3     </td> <td>53              </td> <td>74.5             </td> <td>The Avengers                </td> <td>623.4</td>\n",
       "        </tr>\n",
       "        <tr>\n",
       "            <td>Eddie Murphy      </td> <td>3810.4     </td> <td>38              </td> <td>100.3            </td> <td>Shrek 2                     </td> <td>441.2</td>\n",
       "        </tr>\n",
       "        <tr>\n",
       "            <td>Tom Cruise        </td> <td>3587.2     </td> <td>36              </td> <td>99.6             </td> <td>War of the Worlds           </td> <td>234.3</td>\n",
       "        </tr>\n",
       "        <tr>\n",
       "            <td>Johnny Depp       </td> <td>3368.6     </td> <td>45              </td> <td>74.9             </td> <td>Dead Man's Chest            </td> <td>423.3</td>\n",
       "        </tr>\n",
       "        <tr>\n",
       "            <td>Michael Caine     </td> <td>3351.5     </td> <td>58              </td> <td>57.8             </td> <td>The Dark Knight             </td> <td>534.9</td>\n",
       "        </tr>\n",
       "        <tr>\n",
       "            <td>Scarlett Johansson</td> <td>3341.2     </td> <td>37              </td> <td>90.3             </td> <td>The Avengers                </td> <td>623.4</td>\n",
       "        </tr>\n",
       "    </tbody>\n",
       "</table>\n",
       "<p>... (40 rows omitted)</p>"
      ],
      "text/plain": [
       "Actor              | Total Gross | Number of Movies | Average per Movie | #1 Movie                     | Gross\n",
       "Harrison Ford      | 4871.7      | 41               | 118.8             | Star Wars: The Force Awakens | 936.7\n",
       "Samuel L. Jackson  | 4772.8      | 69               | 69.2              | The Avengers                 | 623.4\n",
       "Morgan Freeman     | 4468.3      | 61               | 73.3              | The Dark Knight              | 534.9\n",
       "Tom Hanks          | 4340.8      | 44               | 98.7              | Toy Story 3                  | 415\n",
       "Robert Downey, Jr. | 3947.3      | 53               | 74.5              | The Avengers                 | 623.4\n",
       "Eddie Murphy       | 3810.4      | 38               | 100.3             | Shrek 2                      | 441.2\n",
       "Tom Cruise         | 3587.2      | 36               | 99.6              | War of the Worlds            | 234.3\n",
       "Johnny Depp        | 3368.6      | 45               | 74.9              | Dead Man's Chest             | 423.3\n",
       "Michael Caine      | 3351.5      | 58               | 57.8              | The Dark Knight              | 534.9\n",
       "Scarlett Johansson | 3341.2      | 37               | 90.3              | The Avengers                 | 623.4\n",
       "... (40 rows omitted)"
      ]
     },
     "execution_count": 3,
     "metadata": {},
     "output_type": "execute_result"
    }
   ],
   "source": [
    "# read in the table called actors.csv and display the table\n",
    "actors = Table.read_table('actors.csv')\n",
    "actors"
   ]
  },
  {
   "cell_type": "markdown",
   "id": "1fa80828-60c4-47ed-9a59-aa324005079f",
   "metadata": {},
   "source": [
    "# Key concept\n",
    "Variables = columns = features = attributes<br>\n",
    "Variables indicates that the features can have different values for different values.\n"
   ]
  },
  {
   "cell_type": "markdown",
   "id": "a1f1b3be-7173-4aee-baf7-f5e1a2c2fbe9",
   "metadata": {},
   "source": [
    "# Scatter Plots\n",
    "Given two numeric values, the plot is a series of points on the graph.\n",
    "```\n",
    "actors.scatter('column_x', 'column_y')\n",
    "```"
   ]
  },
  {
   "cell_type": "code",
   "execution_count": null,
   "id": "698db4f6-eb85-4352-ba20-5ffb1a2e13d7",
   "metadata": {},
   "outputs": [],
   "source": [
    "# graph Number of Movies vs Total Gross\n"
   ]
  },
  {
   "cell_type": "code",
   "execution_count": null,
   "id": "d73692a7-9128-4832-8c08-15a49cbd2702",
   "metadata": {},
   "outputs": [],
   "source": [
    "# graph Number of Movies vs Average per Movie\n"
   ]
  },
  {
   "cell_type": "code",
   "execution_count": null,
   "id": "156f7be7-8dd5-416b-8157-4973ffc38f11",
   "metadata": {},
   "outputs": [],
   "source": [
    "# remove create a table called outlier that has Number of Movies greater than 20\n"
   ]
  },
  {
   "cell_type": "code",
   "execution_count": null,
   "id": "d1746cfb-32cf-4ae5-abfd-045d0db5ccbf",
   "metadata": {},
   "outputs": [],
   "source": [
    "# graph the Number of Movies vs Average per Movie for the outlier table\n"
   ]
  },
  {
   "cell_type": "markdown",
   "id": "50307c50-75a0-403e-b140-60129c2556e9",
   "metadata": {},
   "source": [
    "# Line Plots\n",
    "\n",
    "To create line plot use the code below.\n",
    "\n",
    "```\n",
    "table_name.plot(column_x, colum_y)\n",
    "```"
   ]
  },
  {
   "cell_type": "code",
   "execution_count": null,
   "id": "04a347fb-bdde-4f39-a09d-d5596ef54607",
   "metadata": {},
   "outputs": [],
   "source": [
    "# create a table from movies_by_year.csv named movies_by_year and display it\n"
   ]
  },
  {
   "cell_type": "code",
   "execution_count": null,
   "id": "322c385c-0408-4e8e-aae0-c3465bc35f13",
   "metadata": {},
   "outputs": [],
   "source": [
    "# create a  line plot of Years vs Number of Movies from movies_by_year table\n"
   ]
  },
  {
   "cell_type": "code",
   "execution_count": null,
   "id": "9fd64378-b27e-4a54-87f9-2581ca612034",
   "metadata": {},
   "outputs": [],
   "source": [
    "# create a table called century_21 which are movies with Year 1999 or above\n"
   ]
  },
  {
   "cell_type": "code",
   "execution_count": null,
   "id": "9876b02f-4141-469a-878c-4f8c79fb7445",
   "metadata": {},
   "outputs": [],
   "source": [
    "# create a line graph of Year and Number of Movies\n"
   ]
  },
  {
   "cell_type": "code",
   "execution_count": null,
   "id": "6a7913f2-e4ea-4db9-9b79-e9a260c26516",
   "metadata": {},
   "outputs": [],
   "source": [
    "# create a line graph of Year and Total Gross\n"
   ]
  },
  {
   "cell_type": "code",
   "execution_count": null,
   "id": "de7e6bc7-5d8e-4a29-923d-a2b6ba5771bc",
   "metadata": {},
   "outputs": [],
   "source": [
    "# using the century_21 table the top movie in 2009\n"
   ]
  },
  {
   "cell_type": "markdown",
   "id": "ce053b1f-3854-43f8-a436-c332fcdb8e03",
   "metadata": {},
   "source": [
    "# Categorical Distributions Plots\n",
    "The scatter and line plot are great if you have numerical values you want to visualize.  However, there are charts for categorical data.  First, we will read in some categorical data.\n",
    "                                                                                                                   "
   ]
  },
  {
   "cell_type": "code",
   "execution_count": null,
   "id": "43555231-b8e7-4fa7-8aec-01175aa9baf8",
   "metadata": {},
   "outputs": [],
   "source": [
    "# Create a table called ice cream with columns Flavor with values ('Chocolate', 'Strawberry',  and 'Vanilla'.\n",
    "# create another column called 'Number of Cartons' with values 16, 5, and 9.  Finally, display the data.\n"
   ]
  },
  {
   "cell_type": "markdown",
   "id": "b4b88a08-b17e-4bd4-9cc5-686dac72f73a",
   "metadata": {},
   "source": [
    "# Bar charts\n",
    "To create a horizontal bar chart use the code below.\n",
    "```\n",
    "#if you have more columns than categorical variable and frequency\n",
    "table_name.barh(cat_column, num_colum_of_frequencies) \n",
    "\n",
    "# if your table is categorical values and frequencies.\n",
    "table_name.barh(cat_column) \n",
    "```\n"
   ]
  },
  {
   "cell_type": "code",
   "execution_count": null,
   "id": "32e14ca0-5fd0-4db1-af27-5af848386427",
   "metadata": {},
   "outputs": [],
   "source": [
    "# create a bar chart for the icecream table you created\n"
   ]
  },
  {
   "cell_type": "code",
   "execution_count": null,
   "id": "f470aaf9-d4b6-473b-9562-711728e8c086",
   "metadata": {},
   "outputs": [],
   "source": [
    "# First sort the icecream table by Cartons and then create the horizontal bar chart\n"
   ]
  },
  {
   "cell_type": "code",
   "execution_count": null,
   "id": "587b923d-c128-44fb-a2a4-2153dbed2119",
   "metadata": {},
   "outputs": [],
   "source": [
    "# First sort the icecream table by Cartons descending and then create the horizontal bar chart\n"
   ]
  },
  {
   "cell_type": "markdown",
   "id": "7cc1dbb3-81e2-4ffb-88d3-9bc9cf9afa4a",
   "metadata": {},
   "source": [
    "# Grouping Data\n",
    "When we don't have the number of categorical values in a data set, we have to create them.    "
   ]
  },
  {
   "cell_type": "code",
   "execution_count": null,
   "id": "f3b5cfcd-f0e2-4897-a03e-d83e3bd1ca24",
   "metadata": {},
   "outputs": [],
   "source": []
  },
  {
   "cell_type": "code",
   "execution_count": null,
   "id": "a383ea95-122b-4fc8-8373-22c20fc37678",
   "metadata": {},
   "outputs": [],
   "source": []
  }
 ],
 "metadata": {
  "kernelspec": {
   "display_name": "Python 3 (ipykernel)",
   "language": "python",
   "name": "python3"
  },
  "language_info": {
   "codemirror_mode": {
    "name": "ipython",
    "version": 3
   },
   "file_extension": ".py",
   "mimetype": "text/x-python",
   "name": "python",
   "nbconvert_exporter": "python",
   "pygments_lexer": "ipython3",
   "version": "3.11.13"
  }
 },
 "nbformat": 4,
 "nbformat_minor": 5
}
